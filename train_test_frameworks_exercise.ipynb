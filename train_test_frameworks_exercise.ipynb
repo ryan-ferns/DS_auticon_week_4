{
 "cells": [
  {
   "cell_type": "markdown",
   "metadata": {},
   "source": [
    "# Train Test Frameworks\n",
    "These are simple exercises for practicing syntax of various functions from sklearn that split data into the train and test sets. The goal is to get familiar with these methods prior to the more complex challenge at the end of the day."
   ]
  },
  {
   "cell_type": "code",
   "execution_count": 1,
   "metadata": {
    "ExecuteTime": {
     "end_time": "2020-04-27T07:17:19.733929Z",
     "start_time": "2020-04-27T07:17:19.730983Z"
    }
   },
   "outputs": [],
   "source": [
    "# import numpy\n",
    "import numpy as np"
   ]
  },
  {
   "cell_type": "code",
   "execution_count": 2,
   "metadata": {
    "ExecuteTime": {
     "end_time": "2020-04-27T07:17:20.442277Z",
     "start_time": "2020-04-27T07:17:20.436036Z"
    }
   },
   "outputs": [],
   "source": [
    "X = np.random.normal(0,1,20).reshape(10,2)\n",
    "y = np.random.normal(0,1,10)"
   ]
  },
  {
   "cell_type": "markdown",
   "metadata": {},
   "source": [
    "* print X"
   ]
  },
  {
   "cell_type": "code",
   "execution_count": 3,
   "metadata": {
    "ExecuteTime": {
     "end_time": "2020-02-25T10:10:05.516072Z",
     "start_time": "2020-02-25T10:10:05.507842Z"
    }
   },
   "outputs": [
    {
     "name": "stdout",
     "output_type": "stream",
     "text": [
      "[[-0.13142006 -1.103624  ]\n",
      " [ 1.61355157 -0.85648298]\n",
      " [-0.33949855 -1.81100534]\n",
      " [ 0.09398976 -1.44216527]\n",
      " [-0.61928145 -0.03120723]\n",
      " [-2.40913437  1.07881622]\n",
      " [ 0.74034353 -0.74790364]\n",
      " [-0.13310375  0.9710488 ]\n",
      " [ 0.28362705 -0.68705541]\n",
      " [-0.97800963 -0.86702107]]\n"
     ]
    }
   ],
   "source": [
    "print(X)"
   ]
  },
  {
   "cell_type": "markdown",
   "metadata": {},
   "source": [
    "* print y"
   ]
  },
  {
   "cell_type": "code",
   "execution_count": 4,
   "metadata": {
    "ExecuteTime": {
     "end_time": "2020-02-25T10:10:06.238921Z",
     "start_time": "2020-02-25T10:10:06.228202Z"
    }
   },
   "outputs": [
    {
     "name": "stdout",
     "output_type": "stream",
     "text": [
      "[ 1.55206656 -0.97541507  1.42336933 -0.96985024  1.23425518 -1.7446092\n",
      " -0.59256053 -0.86067531  1.42658778 -1.27378158]\n"
     ]
    }
   ],
   "source": [
    "print(y)"
   ]
  },
  {
   "cell_type": "markdown",
   "metadata": {},
   "source": [
    "## HOLDOUT split"
   ]
  },
  {
   "cell_type": "markdown",
   "metadata": {},
   "source": [
    "* import train_test_split function from sklearn"
   ]
  },
  {
   "cell_type": "code",
   "execution_count": 5,
   "metadata": {
    "ExecuteTime": {
     "end_time": "2020-04-27T07:19:36.229754Z",
     "start_time": "2020-04-27T07:19:36.224380Z"
    }
   },
   "outputs": [],
   "source": [
    "from sklearn.model_selection import train_test_split"
   ]
  },
  {
   "cell_type": "markdown",
   "metadata": {},
   "source": [
    "* split the data to train set (70%) and test set (30%)"
   ]
  },
  {
   "cell_type": "code",
   "execution_count": 15,
   "metadata": {
    "ExecuteTime": {
     "end_time": "2020-04-27T07:19:36.690033Z",
     "start_time": "2020-04-27T07:19:36.679323Z"
    }
   },
   "outputs": [],
   "source": [
    "X_train, X_test, y_train, y_test = train_test_split(X, y, train_size=0.7,\n",
    "                                                    test_size=0.3)"
   ]
  },
  {
   "cell_type": "markdown",
   "metadata": {},
   "source": [
    "* print X_train"
   ]
  },
  {
   "cell_type": "code",
   "execution_count": 16,
   "metadata": {
    "ExecuteTime": {
     "end_time": "2020-04-27T07:19:37.410555Z",
     "start_time": "2020-04-27T07:19:37.384346Z"
    }
   },
   "outputs": [
    {
     "name": "stdout",
     "output_type": "stream",
     "text": [
      "X_train:  [[-0.13310375  0.9710488 ]\n",
      " [ 1.61355157 -0.85648298]\n",
      " [-0.13142006 -1.103624  ]\n",
      " [-0.61928145 -0.03120723]\n",
      " [ 0.28362705 -0.68705541]\n",
      " [ 0.74034353 -0.74790364]\n",
      " [-2.40913437  1.07881622]]\n"
     ]
    }
   ],
   "source": [
    "print (\"X_train: \", X_train)"
   ]
  },
  {
   "cell_type": "markdown",
   "metadata": {},
   "source": [
    "* split the data again but now with  shuttle=False"
   ]
  },
  {
   "cell_type": "code",
   "execution_count": 18,
   "metadata": {
    "ExecuteTime": {
     "end_time": "2020-04-27T07:19:38.392368Z",
     "start_time": "2020-04-27T07:19:38.387406Z"
    }
   },
   "outputs": [],
   "source": [
    "X_train, X_test, y_train, y_test = train_test_split(X, y, train_size=0.7, test_size=0.3, \n",
    "                                                    shuffle=False)"
   ]
  },
  {
   "cell_type": "markdown",
   "metadata": {},
   "source": [
    "* print X_train"
   ]
  },
  {
   "cell_type": "code",
   "execution_count": 19,
   "metadata": {
    "ExecuteTime": {
     "end_time": "2020-04-27T07:19:56.965372Z",
     "start_time": "2020-04-27T07:19:56.954696Z"
    }
   },
   "outputs": [
    {
     "name": "stdout",
     "output_type": "stream",
     "text": [
      "X_train:  [[-0.13142006 -1.103624  ]\n",
      " [ 1.61355157 -0.85648298]\n",
      " [-0.33949855 -1.81100534]\n",
      " [ 0.09398976 -1.44216527]\n",
      " [-0.61928145 -0.03120723]\n",
      " [-2.40913437  1.07881622]\n",
      " [ 0.74034353 -0.74790364]]\n"
     ]
    }
   ],
   "source": [
    "print (\"X_train: \", X_train)"
   ]
  },
  {
   "cell_type": "markdown",
   "metadata": {},
   "source": [
    "* print shape of X_train and X_test"
   ]
  },
  {
   "cell_type": "code",
   "execution_count": 20,
   "metadata": {},
   "outputs": [
    {
     "name": "stdout",
     "output_type": "stream",
     "text": [
      "Shape of X_train: (7, 2)\n",
      "Shape of X_test: (3, 2)\n"
     ]
    }
   ],
   "source": [
    "print(\"Shape of X_train:\", X_train.shape)\n",
    "print(\"Shape of X_test:\", X_test.shape)"
   ]
  },
  {
   "cell_type": "markdown",
   "metadata": {},
   "source": [
    "## K-FOLD split "
   ]
  },
  {
   "cell_type": "code",
   "execution_count": null,
   "metadata": {},
   "outputs": [],
   "source": []
  },
  {
   "cell_type": "markdown",
   "metadata": {},
   "source": [
    "* import KFold from sklearn"
   ]
  },
  {
   "cell_type": "code",
   "execution_count": 21,
   "metadata": {
    "ExecuteTime": {
     "end_time": "2020-04-27T07:20:20.040524Z",
     "start_time": "2020-04-27T07:20:20.034774Z"
    }
   },
   "outputs": [],
   "source": [
    "from sklearn.model_selection import KFold"
   ]
  },
  {
   "cell_type": "markdown",
   "metadata": {},
   "source": [
    "* instantiate KFold with k=5"
   ]
  },
  {
   "cell_type": "code",
   "execution_count": 22,
   "metadata": {
    "ExecuteTime": {
     "end_time": "2020-04-27T07:21:02.886273Z",
     "start_time": "2020-04-27T07:21:02.882100Z"
    }
   },
   "outputs": [],
   "source": [
    "kf = KFold(n_splits=5)"
   ]
  },
  {
   "cell_type": "markdown",
   "metadata": {},
   "source": [
    "* iterate over train_index and test_index in kf.split(X) and print them"
   ]
  },
  {
   "cell_type": "code",
   "execution_count": 25,
   "metadata": {
    "ExecuteTime": {
     "end_time": "2020-04-27T07:21:30.570119Z",
     "start_time": "2020-04-27T07:21:30.560118Z"
    }
   },
   "outputs": [
    {
     "name": "stdout",
     "output_type": "stream",
     "text": [
      "train_index: [2 3 4 5 6 7 8 9], test_index: [0 1]\n",
      "X_train: [[-0.33949855 -1.81100534]\n",
      " [ 0.09398976 -1.44216527]\n",
      " [-0.61928145 -0.03120723]\n",
      " [-2.40913437  1.07881622]\n",
      " [ 0.74034353 -0.74790364]\n",
      " [-0.13310375  0.9710488 ]\n",
      " [ 0.28362705 -0.68705541]\n",
      " [-0.97800963 -0.86702107]]\n",
      "X_test: [[-0.13142006 -1.103624  ]\n",
      " [ 1.61355157 -0.85648298]]\n",
      "y_train: [ 1.42336933 -0.96985024  1.23425518 -1.7446092  -0.59256053 -0.86067531\n",
      "  1.42658778 -1.27378158]\n",
      "y_test: [ 1.55206656 -0.97541507]\n",
      "\n",
      "train_index: [0 1 4 5 6 7 8 9], test_index: [2 3]\n",
      "X_train: [[-0.13142006 -1.103624  ]\n",
      " [ 1.61355157 -0.85648298]\n",
      " [-0.61928145 -0.03120723]\n",
      " [-2.40913437  1.07881622]\n",
      " [ 0.74034353 -0.74790364]\n",
      " [-0.13310375  0.9710488 ]\n",
      " [ 0.28362705 -0.68705541]\n",
      " [-0.97800963 -0.86702107]]\n",
      "X_test: [[-0.33949855 -1.81100534]\n",
      " [ 0.09398976 -1.44216527]]\n",
      "y_train: [ 1.55206656 -0.97541507  1.23425518 -1.7446092  -0.59256053 -0.86067531\n",
      "  1.42658778 -1.27378158]\n",
      "y_test: [ 1.42336933 -0.96985024]\n",
      "\n",
      "train_index: [0 1 2 3 6 7 8 9], test_index: [4 5]\n",
      "X_train: [[-0.13142006 -1.103624  ]\n",
      " [ 1.61355157 -0.85648298]\n",
      " [-0.33949855 -1.81100534]\n",
      " [ 0.09398976 -1.44216527]\n",
      " [ 0.74034353 -0.74790364]\n",
      " [-0.13310375  0.9710488 ]\n",
      " [ 0.28362705 -0.68705541]\n",
      " [-0.97800963 -0.86702107]]\n",
      "X_test: [[-0.61928145 -0.03120723]\n",
      " [-2.40913437  1.07881622]]\n",
      "y_train: [ 1.55206656 -0.97541507  1.42336933 -0.96985024 -0.59256053 -0.86067531\n",
      "  1.42658778 -1.27378158]\n",
      "y_test: [ 1.23425518 -1.7446092 ]\n",
      "\n",
      "train_index: [0 1 2 3 4 5 8 9], test_index: [6 7]\n",
      "X_train: [[-0.13142006 -1.103624  ]\n",
      " [ 1.61355157 -0.85648298]\n",
      " [-0.33949855 -1.81100534]\n",
      " [ 0.09398976 -1.44216527]\n",
      " [-0.61928145 -0.03120723]\n",
      " [-2.40913437  1.07881622]\n",
      " [ 0.28362705 -0.68705541]\n",
      " [-0.97800963 -0.86702107]]\n",
      "X_test: [[ 0.74034353 -0.74790364]\n",
      " [-0.13310375  0.9710488 ]]\n",
      "y_train: [ 1.55206656 -0.97541507  1.42336933 -0.96985024  1.23425518 -1.7446092\n",
      "  1.42658778 -1.27378158]\n",
      "y_test: [-0.59256053 -0.86067531]\n",
      "\n",
      "train_index: [0 1 2 3 4 5 6 7], test_index: [8 9]\n",
      "X_train: [[-0.13142006 -1.103624  ]\n",
      " [ 1.61355157 -0.85648298]\n",
      " [-0.33949855 -1.81100534]\n",
      " [ 0.09398976 -1.44216527]\n",
      " [-0.61928145 -0.03120723]\n",
      " [-2.40913437  1.07881622]\n",
      " [ 0.74034353 -0.74790364]\n",
      " [-0.13310375  0.9710488 ]]\n",
      "X_test: [[ 0.28362705 -0.68705541]\n",
      " [-0.97800963 -0.86702107]]\n",
      "y_train: [ 1.55206656 -0.97541507  1.42336933 -0.96985024  1.23425518 -1.7446092\n",
      " -0.59256053 -0.86067531]\n",
      "y_test: [ 1.42658778 -1.27378158]\n",
      "\n"
     ]
    }
   ],
   "source": [
    "for train_index, test_index in kf.split(X):\n",
    "    X_train, X_test = X[train_index], X[test_index]\n",
    "    y_train, y_test = y[train_index], y[test_index]\n",
    "    print(f\"train_index: {train_index}, test_index: {test_index}\")\n",
    "    print(f\"X_train: {X_train}\") \n",
    "    print(f\"X_test: {X_test}\") \n",
    "    print(f\"y_train: {y_train}\") \n",
    "    print(f\"y_test: {y_test}\\n\")      "
   ]
  },
  {
   "cell_type": "markdown",
   "metadata": {},
   "source": [
    "* instantiate KFold with k=5 and shuffle=True"
   ]
  },
  {
   "cell_type": "code",
   "execution_count": 26,
   "metadata": {
    "ExecuteTime": {
     "end_time": "2020-04-27T07:21:52.693825Z",
     "start_time": "2020-04-27T07:21:52.687089Z"
    }
   },
   "outputs": [],
   "source": [
    "kf2 = KFold(n_splits=5, shuffle=True)"
   ]
  },
  {
   "cell_type": "markdown",
   "metadata": {},
   "source": [
    "* iterate over train_index and test_index in kf.split(X) and print them"
   ]
  },
  {
   "cell_type": "code",
   "execution_count": 27,
   "metadata": {
    "ExecuteTime": {
     "end_time": "2020-02-25T10:19:37.219179Z",
     "start_time": "2020-02-25T10:19:37.210814Z"
    }
   },
   "outputs": [
    {
     "name": "stdout",
     "output_type": "stream",
     "text": [
      "train_index: [2 3 4 5 6 7 8 9], test_index: [0 1]\n",
      "X_train: [[-0.33949855 -1.81100534]\n",
      " [ 0.09398976 -1.44216527]\n",
      " [-0.61928145 -0.03120723]\n",
      " [-2.40913437  1.07881622]\n",
      " [ 0.74034353 -0.74790364]\n",
      " [-0.13310375  0.9710488 ]\n",
      " [ 0.28362705 -0.68705541]\n",
      " [-0.97800963 -0.86702107]]\n",
      "X_test: [[-0.13142006 -1.103624  ]\n",
      " [ 1.61355157 -0.85648298]]\n",
      "y_train: [ 1.42336933 -0.96985024  1.23425518 -1.7446092  -0.59256053 -0.86067531\n",
      "  1.42658778 -1.27378158]\n",
      "y_test: [ 1.55206656 -0.97541507]\n",
      "\n",
      "train_index: [0 1 3 4 5 6 8 9], test_index: [2 7]\n",
      "X_train: [[-0.13142006 -1.103624  ]\n",
      " [ 1.61355157 -0.85648298]\n",
      " [ 0.09398976 -1.44216527]\n",
      " [-0.61928145 -0.03120723]\n",
      " [-2.40913437  1.07881622]\n",
      " [ 0.74034353 -0.74790364]\n",
      " [ 0.28362705 -0.68705541]\n",
      " [-0.97800963 -0.86702107]]\n",
      "X_test: [[-0.33949855 -1.81100534]\n",
      " [-0.13310375  0.9710488 ]]\n",
      "y_train: [ 1.55206656 -0.97541507 -0.96985024  1.23425518 -1.7446092  -0.59256053\n",
      "  1.42658778 -1.27378158]\n",
      "y_test: [ 1.42336933 -0.86067531]\n",
      "\n",
      "train_index: [0 1 2 4 5 6 7 8], test_index: [3 9]\n",
      "X_train: [[-0.13142006 -1.103624  ]\n",
      " [ 1.61355157 -0.85648298]\n",
      " [-0.33949855 -1.81100534]\n",
      " [-0.61928145 -0.03120723]\n",
      " [-2.40913437  1.07881622]\n",
      " [ 0.74034353 -0.74790364]\n",
      " [-0.13310375  0.9710488 ]\n",
      " [ 0.28362705 -0.68705541]]\n",
      "X_test: [[ 0.09398976 -1.44216527]\n",
      " [-0.97800963 -0.86702107]]\n",
      "y_train: [ 1.55206656 -0.97541507  1.42336933  1.23425518 -1.7446092  -0.59256053\n",
      " -0.86067531  1.42658778]\n",
      "y_test: [-0.96985024 -1.27378158]\n",
      "\n",
      "train_index: [0 1 2 3 4 6 7 9], test_index: [5 8]\n",
      "X_train: [[-0.13142006 -1.103624  ]\n",
      " [ 1.61355157 -0.85648298]\n",
      " [-0.33949855 -1.81100534]\n",
      " [ 0.09398976 -1.44216527]\n",
      " [-0.61928145 -0.03120723]\n",
      " [ 0.74034353 -0.74790364]\n",
      " [-0.13310375  0.9710488 ]\n",
      " [-0.97800963 -0.86702107]]\n",
      "X_test: [[-2.40913437  1.07881622]\n",
      " [ 0.28362705 -0.68705541]]\n",
      "y_train: [ 1.55206656 -0.97541507  1.42336933 -0.96985024  1.23425518 -0.59256053\n",
      " -0.86067531 -1.27378158]\n",
      "y_test: [-1.7446092   1.42658778]\n",
      "\n",
      "train_index: [0 1 2 3 5 7 8 9], test_index: [4 6]\n",
      "X_train: [[-0.13142006 -1.103624  ]\n",
      " [ 1.61355157 -0.85648298]\n",
      " [-0.33949855 -1.81100534]\n",
      " [ 0.09398976 -1.44216527]\n",
      " [-2.40913437  1.07881622]\n",
      " [-0.13310375  0.9710488 ]\n",
      " [ 0.28362705 -0.68705541]\n",
      " [-0.97800963 -0.86702107]]\n",
      "X_test: [[-0.61928145 -0.03120723]\n",
      " [ 0.74034353 -0.74790364]]\n",
      "y_train: [ 1.55206656 -0.97541507  1.42336933 -0.96985024 -1.7446092  -0.86067531\n",
      "  1.42658778 -1.27378158]\n",
      "y_test: [ 1.23425518 -0.59256053]\n",
      "\n"
     ]
    }
   ],
   "source": [
    "for train_index, test_index in kf2.split(X):\n",
    "    X_train, X_test = X[train_index], X[test_index]\n",
    "    y_train, y_test = y[train_index], y[test_index]\n",
    "    print(f\"train_index: {train_index}, test_index: {test_index}\")\n",
    "    print(f\"X_train: {X_train}\") \n",
    "    print(f\"X_test: {X_test}\") \n",
    "    print(f\"y_train: {y_train}\") \n",
    "    print(f\"y_test: {y_test}\\n\")    "
   ]
  },
  {
   "cell_type": "markdown",
   "metadata": {
    "ExecuteTime": {
     "end_time": "2020-02-25T10:20:50.997776Z",
     "start_time": "2020-02-25T10:20:50.991967Z"
    }
   },
   "source": [
    "## LEAVE-ONE-OUT split\n",
    "this is a similar technique like the Leave-p-out in the previous readings, with p=1. Each observation is used as test set separately.\n",
    "- it's popular method for very small datasets\n",
    "- takes a lot of time for bigger data and can lead to overfitting of a final model."
   ]
  },
  {
   "cell_type": "code",
   "execution_count": null,
   "metadata": {},
   "outputs": [],
   "source": []
  },
  {
   "cell_type": "markdown",
   "metadata": {},
   "source": [
    "* import LeaveOneOut from sklearn"
   ]
  },
  {
   "cell_type": "code",
   "execution_count": 28,
   "metadata": {
    "ExecuteTime": {
     "end_time": "2020-04-27T07:22:57.562338Z",
     "start_time": "2020-04-27T07:22:57.557038Z"
    }
   },
   "outputs": [],
   "source": [
    "from sklearn.model_selection import LeaveOneOut"
   ]
  },
  {
   "cell_type": "markdown",
   "metadata": {},
   "source": [
    "* instantiate LeaveOneOut"
   ]
  },
  {
   "cell_type": "code",
   "execution_count": 29,
   "metadata": {
    "ExecuteTime": {
     "end_time": "2020-04-27T07:22:58.073776Z",
     "start_time": "2020-04-27T07:22:58.069381Z"
    }
   },
   "outputs": [],
   "source": [
    "loo = LeaveOneOut()"
   ]
  },
  {
   "cell_type": "markdown",
   "metadata": {},
   "source": [
    "* iterate over train_index and test_index in loo.split(X) and print them"
   ]
  },
  {
   "cell_type": "code",
   "execution_count": 30,
   "metadata": {
    "ExecuteTime": {
     "end_time": "2020-04-27T07:23:15.893291Z",
     "start_time": "2020-04-27T07:23:15.882373Z"
    }
   },
   "outputs": [
    {
     "name": "stdout",
     "output_type": "stream",
     "text": [
      "train_index: [1 2 3 4 5 6 7 8 9], test_index: [0]\n",
      "X_train: [[ 1.61355157 -0.85648298]\n",
      " [-0.33949855 -1.81100534]\n",
      " [ 0.09398976 -1.44216527]\n",
      " [-0.61928145 -0.03120723]\n",
      " [-2.40913437  1.07881622]\n",
      " [ 0.74034353 -0.74790364]\n",
      " [-0.13310375  0.9710488 ]\n",
      " [ 0.28362705 -0.68705541]\n",
      " [-0.97800963 -0.86702107]]\n",
      "X_test: [[-0.13142006 -1.103624  ]]\n",
      "y_train: [-0.97541507  1.42336933 -0.96985024  1.23425518 -1.7446092  -0.59256053\n",
      " -0.86067531  1.42658778 -1.27378158]\n",
      "y_test: [1.55206656]\n",
      "\n",
      "train_index: [0 2 3 4 5 6 7 8 9], test_index: [1]\n",
      "X_train: [[-0.13142006 -1.103624  ]\n",
      " [-0.33949855 -1.81100534]\n",
      " [ 0.09398976 -1.44216527]\n",
      " [-0.61928145 -0.03120723]\n",
      " [-2.40913437  1.07881622]\n",
      " [ 0.74034353 -0.74790364]\n",
      " [-0.13310375  0.9710488 ]\n",
      " [ 0.28362705 -0.68705541]\n",
      " [-0.97800963 -0.86702107]]\n",
      "X_test: [[ 1.61355157 -0.85648298]]\n",
      "y_train: [ 1.55206656  1.42336933 -0.96985024  1.23425518 -1.7446092  -0.59256053\n",
      " -0.86067531  1.42658778 -1.27378158]\n",
      "y_test: [-0.97541507]\n",
      "\n",
      "train_index: [0 1 3 4 5 6 7 8 9], test_index: [2]\n",
      "X_train: [[-0.13142006 -1.103624  ]\n",
      " [ 1.61355157 -0.85648298]\n",
      " [ 0.09398976 -1.44216527]\n",
      " [-0.61928145 -0.03120723]\n",
      " [-2.40913437  1.07881622]\n",
      " [ 0.74034353 -0.74790364]\n",
      " [-0.13310375  0.9710488 ]\n",
      " [ 0.28362705 -0.68705541]\n",
      " [-0.97800963 -0.86702107]]\n",
      "X_test: [[-0.33949855 -1.81100534]]\n",
      "y_train: [ 1.55206656 -0.97541507 -0.96985024  1.23425518 -1.7446092  -0.59256053\n",
      " -0.86067531  1.42658778 -1.27378158]\n",
      "y_test: [1.42336933]\n",
      "\n",
      "train_index: [0 1 2 4 5 6 7 8 9], test_index: [3]\n",
      "X_train: [[-0.13142006 -1.103624  ]\n",
      " [ 1.61355157 -0.85648298]\n",
      " [-0.33949855 -1.81100534]\n",
      " [-0.61928145 -0.03120723]\n",
      " [-2.40913437  1.07881622]\n",
      " [ 0.74034353 -0.74790364]\n",
      " [-0.13310375  0.9710488 ]\n",
      " [ 0.28362705 -0.68705541]\n",
      " [-0.97800963 -0.86702107]]\n",
      "X_test: [[ 0.09398976 -1.44216527]]\n",
      "y_train: [ 1.55206656 -0.97541507  1.42336933  1.23425518 -1.7446092  -0.59256053\n",
      " -0.86067531  1.42658778 -1.27378158]\n",
      "y_test: [-0.96985024]\n",
      "\n",
      "train_index: [0 1 2 3 5 6 7 8 9], test_index: [4]\n",
      "X_train: [[-0.13142006 -1.103624  ]\n",
      " [ 1.61355157 -0.85648298]\n",
      " [-0.33949855 -1.81100534]\n",
      " [ 0.09398976 -1.44216527]\n",
      " [-2.40913437  1.07881622]\n",
      " [ 0.74034353 -0.74790364]\n",
      " [-0.13310375  0.9710488 ]\n",
      " [ 0.28362705 -0.68705541]\n",
      " [-0.97800963 -0.86702107]]\n",
      "X_test: [[-0.61928145 -0.03120723]]\n",
      "y_train: [ 1.55206656 -0.97541507  1.42336933 -0.96985024 -1.7446092  -0.59256053\n",
      " -0.86067531  1.42658778 -1.27378158]\n",
      "y_test: [1.23425518]\n",
      "\n",
      "train_index: [0 1 2 3 4 6 7 8 9], test_index: [5]\n",
      "X_train: [[-0.13142006 -1.103624  ]\n",
      " [ 1.61355157 -0.85648298]\n",
      " [-0.33949855 -1.81100534]\n",
      " [ 0.09398976 -1.44216527]\n",
      " [-0.61928145 -0.03120723]\n",
      " [ 0.74034353 -0.74790364]\n",
      " [-0.13310375  0.9710488 ]\n",
      " [ 0.28362705 -0.68705541]\n",
      " [-0.97800963 -0.86702107]]\n",
      "X_test: [[-2.40913437  1.07881622]]\n",
      "y_train: [ 1.55206656 -0.97541507  1.42336933 -0.96985024  1.23425518 -0.59256053\n",
      " -0.86067531  1.42658778 -1.27378158]\n",
      "y_test: [-1.7446092]\n",
      "\n",
      "train_index: [0 1 2 3 4 5 7 8 9], test_index: [6]\n",
      "X_train: [[-0.13142006 -1.103624  ]\n",
      " [ 1.61355157 -0.85648298]\n",
      " [-0.33949855 -1.81100534]\n",
      " [ 0.09398976 -1.44216527]\n",
      " [-0.61928145 -0.03120723]\n",
      " [-2.40913437  1.07881622]\n",
      " [-0.13310375  0.9710488 ]\n",
      " [ 0.28362705 -0.68705541]\n",
      " [-0.97800963 -0.86702107]]\n",
      "X_test: [[ 0.74034353 -0.74790364]]\n",
      "y_train: [ 1.55206656 -0.97541507  1.42336933 -0.96985024  1.23425518 -1.7446092\n",
      " -0.86067531  1.42658778 -1.27378158]\n",
      "y_test: [-0.59256053]\n",
      "\n",
      "train_index: [0 1 2 3 4 5 6 8 9], test_index: [7]\n",
      "X_train: [[-0.13142006 -1.103624  ]\n",
      " [ 1.61355157 -0.85648298]\n",
      " [-0.33949855 -1.81100534]\n",
      " [ 0.09398976 -1.44216527]\n",
      " [-0.61928145 -0.03120723]\n",
      " [-2.40913437  1.07881622]\n",
      " [ 0.74034353 -0.74790364]\n",
      " [ 0.28362705 -0.68705541]\n",
      " [-0.97800963 -0.86702107]]\n",
      "X_test: [[-0.13310375  0.9710488 ]]\n",
      "y_train: [ 1.55206656 -0.97541507  1.42336933 -0.96985024  1.23425518 -1.7446092\n",
      " -0.59256053  1.42658778 -1.27378158]\n",
      "y_test: [-0.86067531]\n",
      "\n",
      "train_index: [0 1 2 3 4 5 6 7 9], test_index: [8]\n",
      "X_train: [[-0.13142006 -1.103624  ]\n",
      " [ 1.61355157 -0.85648298]\n",
      " [-0.33949855 -1.81100534]\n",
      " [ 0.09398976 -1.44216527]\n",
      " [-0.61928145 -0.03120723]\n",
      " [-2.40913437  1.07881622]\n",
      " [ 0.74034353 -0.74790364]\n",
      " [-0.13310375  0.9710488 ]\n",
      " [-0.97800963 -0.86702107]]\n",
      "X_test: [[ 0.28362705 -0.68705541]]\n",
      "y_train: [ 1.55206656 -0.97541507  1.42336933 -0.96985024  1.23425518 -1.7446092\n",
      " -0.59256053 -0.86067531 -1.27378158]\n",
      "y_test: [1.42658778]\n",
      "\n",
      "train_index: [0 1 2 3 4 5 6 7 8], test_index: [9]\n",
      "X_train: [[-0.13142006 -1.103624  ]\n",
      " [ 1.61355157 -0.85648298]\n",
      " [-0.33949855 -1.81100534]\n",
      " [ 0.09398976 -1.44216527]\n",
      " [-0.61928145 -0.03120723]\n",
      " [-2.40913437  1.07881622]\n",
      " [ 0.74034353 -0.74790364]\n",
      " [-0.13310375  0.9710488 ]\n",
      " [ 0.28362705 -0.68705541]]\n",
      "X_test: [[-0.97800963 -0.86702107]]\n",
      "y_train: [ 1.55206656 -0.97541507  1.42336933 -0.96985024  1.23425518 -1.7446092\n",
      " -0.59256053 -0.86067531  1.42658778]\n",
      "y_test: [-1.27378158]\n",
      "\n"
     ]
    }
   ],
   "source": [
    "for train_index, test_index in loo.split(X):\n",
    "    X_train, X_test = X[train_index], X[test_index]\n",
    "    y_train, y_test = y[train_index], y[test_index]\n",
    "    print(f\"train_index: {train_index}, test_index: {test_index}\")\n",
    "    print(f\"X_train: {X_train}\") \n",
    "    print(f\"X_test: {X_test}\") \n",
    "    print(f\"y_train: {y_train}\") \n",
    "    print(f\"y_test: {y_test}\\n\")  "
   ]
  },
  {
   "cell_type": "markdown",
   "metadata": {
    "ExecuteTime": {
     "end_time": "2020-04-27T07:23:32.091854Z",
     "start_time": "2020-04-27T07:23:32.084557Z"
    }
   },
   "source": [
    "* print the number of splits"
   ]
  },
  {
   "cell_type": "code",
   "execution_count": 31,
   "metadata": {
    "ExecuteTime": {
     "end_time": "2020-04-27T07:23:44.088113Z",
     "start_time": "2020-04-27T07:23:44.079901Z"
    }
   },
   "outputs": [
    {
     "name": "stdout",
     "output_type": "stream",
     "text": [
      "10\n"
     ]
    }
   ],
   "source": [
    "print(loo.get_n_splits(X))"
   ]
  },
  {
   "cell_type": "code",
   "execution_count": null,
   "metadata": {},
   "outputs": [],
   "source": []
  }
 ],
 "metadata": {
  "kernelspec": {
   "display_name": "Python 3",
   "language": "python",
   "name": "python3"
  },
  "language_info": {
   "codemirror_mode": {
    "name": "ipython",
    "version": 3
   },
   "file_extension": ".py",
   "mimetype": "text/x-python",
   "name": "python",
   "nbconvert_exporter": "python",
   "pygments_lexer": "ipython3",
   "version": "3.8.3"
  },
  "toc": {
   "base_numbering": 1,
   "nav_menu": {},
   "number_sections": true,
   "sideBar": true,
   "skip_h1_title": false,
   "title_cell": "Table of Contents",
   "title_sidebar": "Contents",
   "toc_cell": false,
   "toc_position": {},
   "toc_section_display": true,
   "toc_window_display": false
  },
  "varInspector": {
   "cols": {
    "lenName": 16,
    "lenType": 16,
    "lenVar": 40
   },
   "kernels_config": {
    "python": {
     "delete_cmd_postfix": "",
     "delete_cmd_prefix": "del ",
     "library": "var_list.py",
     "varRefreshCmd": "print(var_dic_list())"
    },
    "r": {
     "delete_cmd_postfix": ") ",
     "delete_cmd_prefix": "rm(",
     "library": "var_list.r",
     "varRefreshCmd": "cat(var_dic_list()) "
    }
   },
   "types_to_exclude": [
    "module",
    "function",
    "builtin_function_or_method",
    "instance",
    "_Feature"
   ],
   "window_display": false
  }
 },
 "nbformat": 4,
 "nbformat_minor": 4
}
