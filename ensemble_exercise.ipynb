{
 "cells": [
  {
   "cell_type": "markdown",
   "metadata": {},
   "source": [
    "# Perdiction of sales\n",
    "\n",
    "### Problem Statement\n",
    "The dataset represents sales data for 1559 products across 10 stores in different cities. Also, certain attributes of each product and store are available. The aim is to build a predictive model and find out the sales of each product at a particular store.\n",
    "\n",
    "|Variable|Description|\n",
    "|: ------------- |:-------------|\n",
    "|Item_Identifier|Unique product ID|\n",
    "|Item_Weight|Weight of product|\n",
    "|Item_Fat_Content|Whether the product is low fat or not|\n",
    "|Item_Visibility|The % of total display area of all products in a store allocated to the particular product|\n",
    "|Item_Type|The category to which the product belongs|\n",
    "|Item_MRP|Maximum Retail Price (list price) of the product|\n",
    "|Outlet_Identifier|Unique store ID|\n",
    "|Outlet_Establishment_Year|The year in which store was established|\n",
    "|Outlet_Size|The size of the store in terms of ground area covered|\n",
    "|Outlet_Location_Type|The type of city in which the store is located|\n",
    "|Outlet_Type|Whether the outlet is just a grocery store or some sort of supermarket|\n",
    "|Item_Outlet_Sales|Sales of the product in the particulat store. This is the outcome variable to be predicted.|\n",
    "\n",
    "Please note that the data may have missing values as some stores might not report all the data due to technical glitches. Hence, it will be required to treat them accordingly.\n",
    "\n",
    "\n",
    "\n",
    "### Explore the problem in following stages:\n",
    "\n",
    "1. Hypothesis Generation – understanding the problem better by brainstorming possible factors that can impact the outcome\n",
    "2. Data Exploration – looking at categorical and continuous feature summaries and making inferences about the data.\n",
    "3. Data Cleaning – imputing missing values in the data and checking for outliers\n",
    "4. Feature Engineering – modifying existing variables and creating new ones for analysis\n",
    "5. Model Building – making predictive models on the data"
   ]
  },
  {
   "cell_type": "code",
   "execution_count": 1,
   "metadata": {},
   "outputs": [],
   "source": [
    "import pandas as pd\n",
    "import numpy as np"
   ]
  },
  {
   "cell_type": "code",
   "execution_count": 2,
   "metadata": {},
   "outputs": [],
   "source": [
    "# Load the data.\n",
    "\n",
    "data = pd.read_csv(\"../DS_auticon_week_3/data_feature_engineering_exercise.csv\", delimiter=',')"
   ]
  },
  {
   "cell_type": "code",
   "execution_count": 3,
   "metadata": {},
   "outputs": [
    {
     "data": {
      "text/plain": [
       "(8523, 44)"
      ]
     },
     "execution_count": 3,
     "metadata": {},
     "output_type": "execute_result"
    }
   ],
   "source": [
    "data.shape"
   ]
  },
  {
   "cell_type": "code",
   "execution_count": 4,
   "metadata": {},
   "outputs": [
    {
     "data": {
      "text/html": [
       "<div>\n",
       "<style scoped>\n",
       "    .dataframe tbody tr th:only-of-type {\n",
       "        vertical-align: middle;\n",
       "    }\n",
       "\n",
       "    .dataframe tbody tr th {\n",
       "        vertical-align: top;\n",
       "    }\n",
       "\n",
       "    .dataframe thead th {\n",
       "        text-align: right;\n",
       "    }\n",
       "</style>\n",
       "<table border=\"1\" class=\"dataframe\">\n",
       "  <thead>\n",
       "    <tr style=\"text-align: right;\">\n",
       "      <th></th>\n",
       "      <th>Item_Weight</th>\n",
       "      <th>Item_Fat_Content</th>\n",
       "      <th>Item_Visibility</th>\n",
       "      <th>Item_MRP</th>\n",
       "      <th>Outlet_Establishment_Year</th>\n",
       "      <th>Outlet_Size</th>\n",
       "      <th>Outlet_Location_Type</th>\n",
       "      <th>Item_Outlet_Sales</th>\n",
       "      <th>Item_Weight_missing_ind</th>\n",
       "      <th>Outlet_Size_missing_ind</th>\n",
       "      <th>...</th>\n",
       "      <th>Outlet_Identifier_OUT045</th>\n",
       "      <th>Outlet_Identifier_OUT046</th>\n",
       "      <th>Outlet_Identifier_OUT049</th>\n",
       "      <th>Outlet_Type_Grocery Store</th>\n",
       "      <th>Outlet_Type_Supermarket Type1</th>\n",
       "      <th>Outlet_Type_Supermarket Type2</th>\n",
       "      <th>Outlet_Type_Supermarket Type3</th>\n",
       "      <th>Item_Identifier_Category_DR</th>\n",
       "      <th>Item_Identifier_Category_FD</th>\n",
       "      <th>Item_Identifier_Category_NC</th>\n",
       "    </tr>\n",
       "  </thead>\n",
       "  <tbody>\n",
       "    <tr>\n",
       "      <th>0</th>\n",
       "      <td>9.300</td>\n",
       "      <td>1</td>\n",
       "      <td>0.016047</td>\n",
       "      <td>249.8092</td>\n",
       "      <td>1999</td>\n",
       "      <td>2</td>\n",
       "      <td>3</td>\n",
       "      <td>3735.1380</td>\n",
       "      <td>0</td>\n",
       "      <td>0</td>\n",
       "      <td>...</td>\n",
       "      <td>0</td>\n",
       "      <td>0</td>\n",
       "      <td>1</td>\n",
       "      <td>0</td>\n",
       "      <td>1</td>\n",
       "      <td>0</td>\n",
       "      <td>0</td>\n",
       "      <td>0</td>\n",
       "      <td>1</td>\n",
       "      <td>0</td>\n",
       "    </tr>\n",
       "    <tr>\n",
       "      <th>1</th>\n",
       "      <td>5.920</td>\n",
       "      <td>2</td>\n",
       "      <td>0.019278</td>\n",
       "      <td>48.2692</td>\n",
       "      <td>2009</td>\n",
       "      <td>2</td>\n",
       "      <td>1</td>\n",
       "      <td>443.4228</td>\n",
       "      <td>0</td>\n",
       "      <td>0</td>\n",
       "      <td>...</td>\n",
       "      <td>0</td>\n",
       "      <td>0</td>\n",
       "      <td>0</td>\n",
       "      <td>0</td>\n",
       "      <td>0</td>\n",
       "      <td>1</td>\n",
       "      <td>0</td>\n",
       "      <td>1</td>\n",
       "      <td>0</td>\n",
       "      <td>0</td>\n",
       "    </tr>\n",
       "    <tr>\n",
       "      <th>2</th>\n",
       "      <td>17.500</td>\n",
       "      <td>1</td>\n",
       "      <td>0.016760</td>\n",
       "      <td>141.6180</td>\n",
       "      <td>1999</td>\n",
       "      <td>2</td>\n",
       "      <td>3</td>\n",
       "      <td>2097.2700</td>\n",
       "      <td>0</td>\n",
       "      <td>0</td>\n",
       "      <td>...</td>\n",
       "      <td>0</td>\n",
       "      <td>0</td>\n",
       "      <td>1</td>\n",
       "      <td>0</td>\n",
       "      <td>1</td>\n",
       "      <td>0</td>\n",
       "      <td>0</td>\n",
       "      <td>0</td>\n",
       "      <td>1</td>\n",
       "      <td>0</td>\n",
       "    </tr>\n",
       "    <tr>\n",
       "      <th>3</th>\n",
       "      <td>19.200</td>\n",
       "      <td>2</td>\n",
       "      <td>0.000000</td>\n",
       "      <td>182.0950</td>\n",
       "      <td>1998</td>\n",
       "      <td>0</td>\n",
       "      <td>1</td>\n",
       "      <td>732.3800</td>\n",
       "      <td>0</td>\n",
       "      <td>1</td>\n",
       "      <td>...</td>\n",
       "      <td>0</td>\n",
       "      <td>0</td>\n",
       "      <td>0</td>\n",
       "      <td>1</td>\n",
       "      <td>0</td>\n",
       "      <td>0</td>\n",
       "      <td>0</td>\n",
       "      <td>0</td>\n",
       "      <td>1</td>\n",
       "      <td>0</td>\n",
       "    </tr>\n",
       "    <tr>\n",
       "      <th>4</th>\n",
       "      <td>8.930</td>\n",
       "      <td>0</td>\n",
       "      <td>0.000000</td>\n",
       "      <td>53.8614</td>\n",
       "      <td>1987</td>\n",
       "      <td>3</td>\n",
       "      <td>1</td>\n",
       "      <td>994.7052</td>\n",
       "      <td>0</td>\n",
       "      <td>0</td>\n",
       "      <td>...</td>\n",
       "      <td>0</td>\n",
       "      <td>0</td>\n",
       "      <td>0</td>\n",
       "      <td>0</td>\n",
       "      <td>1</td>\n",
       "      <td>0</td>\n",
       "      <td>0</td>\n",
       "      <td>0</td>\n",
       "      <td>0</td>\n",
       "      <td>1</td>\n",
       "    </tr>\n",
       "    <tr>\n",
       "      <th>5</th>\n",
       "      <td>10.395</td>\n",
       "      <td>2</td>\n",
       "      <td>0.000000</td>\n",
       "      <td>51.4008</td>\n",
       "      <td>2009</td>\n",
       "      <td>2</td>\n",
       "      <td>1</td>\n",
       "      <td>556.6088</td>\n",
       "      <td>0</td>\n",
       "      <td>0</td>\n",
       "      <td>...</td>\n",
       "      <td>0</td>\n",
       "      <td>0</td>\n",
       "      <td>0</td>\n",
       "      <td>0</td>\n",
       "      <td>0</td>\n",
       "      <td>1</td>\n",
       "      <td>0</td>\n",
       "      <td>0</td>\n",
       "      <td>1</td>\n",
       "      <td>0</td>\n",
       "    </tr>\n",
       "    <tr>\n",
       "      <th>6</th>\n",
       "      <td>13.650</td>\n",
       "      <td>2</td>\n",
       "      <td>0.012741</td>\n",
       "      <td>57.6588</td>\n",
       "      <td>1987</td>\n",
       "      <td>3</td>\n",
       "      <td>1</td>\n",
       "      <td>343.5528</td>\n",
       "      <td>0</td>\n",
       "      <td>0</td>\n",
       "      <td>...</td>\n",
       "      <td>0</td>\n",
       "      <td>0</td>\n",
       "      <td>0</td>\n",
       "      <td>0</td>\n",
       "      <td>1</td>\n",
       "      <td>0</td>\n",
       "      <td>0</td>\n",
       "      <td>0</td>\n",
       "      <td>1</td>\n",
       "      <td>0</td>\n",
       "    </tr>\n",
       "    <tr>\n",
       "      <th>7</th>\n",
       "      <td>19.000</td>\n",
       "      <td>1</td>\n",
       "      <td>0.127470</td>\n",
       "      <td>107.7622</td>\n",
       "      <td>1985</td>\n",
       "      <td>2</td>\n",
       "      <td>1</td>\n",
       "      <td>4022.7636</td>\n",
       "      <td>1</td>\n",
       "      <td>0</td>\n",
       "      <td>...</td>\n",
       "      <td>0</td>\n",
       "      <td>0</td>\n",
       "      <td>0</td>\n",
       "      <td>0</td>\n",
       "      <td>0</td>\n",
       "      <td>0</td>\n",
       "      <td>1</td>\n",
       "      <td>0</td>\n",
       "      <td>1</td>\n",
       "      <td>0</td>\n",
       "    </tr>\n",
       "    <tr>\n",
       "      <th>8</th>\n",
       "      <td>16.200</td>\n",
       "      <td>2</td>\n",
       "      <td>0.016687</td>\n",
       "      <td>96.9726</td>\n",
       "      <td>2002</td>\n",
       "      <td>0</td>\n",
       "      <td>2</td>\n",
       "      <td>1076.5986</td>\n",
       "      <td>0</td>\n",
       "      <td>1</td>\n",
       "      <td>...</td>\n",
       "      <td>1</td>\n",
       "      <td>0</td>\n",
       "      <td>0</td>\n",
       "      <td>0</td>\n",
       "      <td>1</td>\n",
       "      <td>0</td>\n",
       "      <td>0</td>\n",
       "      <td>0</td>\n",
       "      <td>1</td>\n",
       "      <td>0</td>\n",
       "    </tr>\n",
       "    <tr>\n",
       "      <th>9</th>\n",
       "      <td>19.200</td>\n",
       "      <td>2</td>\n",
       "      <td>0.094450</td>\n",
       "      <td>187.8214</td>\n",
       "      <td>2007</td>\n",
       "      <td>0</td>\n",
       "      <td>2</td>\n",
       "      <td>4710.5350</td>\n",
       "      <td>0</td>\n",
       "      <td>1</td>\n",
       "      <td>...</td>\n",
       "      <td>0</td>\n",
       "      <td>0</td>\n",
       "      <td>0</td>\n",
       "      <td>0</td>\n",
       "      <td>1</td>\n",
       "      <td>0</td>\n",
       "      <td>0</td>\n",
       "      <td>0</td>\n",
       "      <td>1</td>\n",
       "      <td>0</td>\n",
       "    </tr>\n",
       "  </tbody>\n",
       "</table>\n",
       "<p>10 rows × 44 columns</p>\n",
       "</div>"
      ],
      "text/plain": [
       "   Item_Weight  Item_Fat_Content  Item_Visibility  Item_MRP  \\\n",
       "0        9.300                 1         0.016047  249.8092   \n",
       "1        5.920                 2         0.019278   48.2692   \n",
       "2       17.500                 1         0.016760  141.6180   \n",
       "3       19.200                 2         0.000000  182.0950   \n",
       "4        8.930                 0         0.000000   53.8614   \n",
       "5       10.395                 2         0.000000   51.4008   \n",
       "6       13.650                 2         0.012741   57.6588   \n",
       "7       19.000                 1         0.127470  107.7622   \n",
       "8       16.200                 2         0.016687   96.9726   \n",
       "9       19.200                 2         0.094450  187.8214   \n",
       "\n",
       "   Outlet_Establishment_Year  Outlet_Size  Outlet_Location_Type  \\\n",
       "0                       1999            2                     3   \n",
       "1                       2009            2                     1   \n",
       "2                       1999            2                     3   \n",
       "3                       1998            0                     1   \n",
       "4                       1987            3                     1   \n",
       "5                       2009            2                     1   \n",
       "6                       1987            3                     1   \n",
       "7                       1985            2                     1   \n",
       "8                       2002            0                     2   \n",
       "9                       2007            0                     2   \n",
       "\n",
       "   Item_Outlet_Sales  Item_Weight_missing_ind  Outlet_Size_missing_ind  ...  \\\n",
       "0          3735.1380                        0                        0  ...   \n",
       "1           443.4228                        0                        0  ...   \n",
       "2          2097.2700                        0                        0  ...   \n",
       "3           732.3800                        0                        1  ...   \n",
       "4           994.7052                        0                        0  ...   \n",
       "5           556.6088                        0                        0  ...   \n",
       "6           343.5528                        0                        0  ...   \n",
       "7          4022.7636                        1                        0  ...   \n",
       "8          1076.5986                        0                        1  ...   \n",
       "9          4710.5350                        0                        1  ...   \n",
       "\n",
       "   Outlet_Identifier_OUT045  Outlet_Identifier_OUT046  \\\n",
       "0                         0                         0   \n",
       "1                         0                         0   \n",
       "2                         0                         0   \n",
       "3                         0                         0   \n",
       "4                         0                         0   \n",
       "5                         0                         0   \n",
       "6                         0                         0   \n",
       "7                         0                         0   \n",
       "8                         1                         0   \n",
       "9                         0                         0   \n",
       "\n",
       "   Outlet_Identifier_OUT049  Outlet_Type_Grocery Store  \\\n",
       "0                         1                          0   \n",
       "1                         0                          0   \n",
       "2                         1                          0   \n",
       "3                         0                          1   \n",
       "4                         0                          0   \n",
       "5                         0                          0   \n",
       "6                         0                          0   \n",
       "7                         0                          0   \n",
       "8                         0                          0   \n",
       "9                         0                          0   \n",
       "\n",
       "   Outlet_Type_Supermarket Type1  Outlet_Type_Supermarket Type2  \\\n",
       "0                              1                              0   \n",
       "1                              0                              1   \n",
       "2                              1                              0   \n",
       "3                              0                              0   \n",
       "4                              1                              0   \n",
       "5                              0                              1   \n",
       "6                              1                              0   \n",
       "7                              0                              0   \n",
       "8                              1                              0   \n",
       "9                              1                              0   \n",
       "\n",
       "   Outlet_Type_Supermarket Type3  Item_Identifier_Category_DR  \\\n",
       "0                              0                            0   \n",
       "1                              0                            1   \n",
       "2                              0                            0   \n",
       "3                              0                            0   \n",
       "4                              0                            0   \n",
       "5                              0                            0   \n",
       "6                              0                            0   \n",
       "7                              1                            0   \n",
       "8                              0                            0   \n",
       "9                              0                            0   \n",
       "\n",
       "   Item_Identifier_Category_FD  Item_Identifier_Category_NC  \n",
       "0                            1                            0  \n",
       "1                            0                            0  \n",
       "2                            1                            0  \n",
       "3                            1                            0  \n",
       "4                            0                            1  \n",
       "5                            1                            0  \n",
       "6                            1                            0  \n",
       "7                            1                            0  \n",
       "8                            1                            0  \n",
       "9                            1                            0  \n",
       "\n",
       "[10 rows x 44 columns]"
      ]
     },
     "execution_count": 4,
     "metadata": {},
     "output_type": "execute_result"
    }
   ],
   "source": [
    "data.head(10)"
   ]
  },
  {
   "cell_type": "code",
   "execution_count": 5,
   "metadata": {},
   "outputs": [],
   "source": [
    "# Identify the features X and target variable y.\n",
    "\n",
    "y = data[\"Item_Outlet_Sales\"]\n",
    "X = data.drop(\"Item_Outlet_Sales\", axis=1)"
   ]
  },
  {
   "cell_type": "code",
   "execution_count": 6,
   "metadata": {},
   "outputs": [
    {
     "data": {
      "text/html": [
       "<div>\n",
       "<style scoped>\n",
       "    .dataframe tbody tr th:only-of-type {\n",
       "        vertical-align: middle;\n",
       "    }\n",
       "\n",
       "    .dataframe tbody tr th {\n",
       "        vertical-align: top;\n",
       "    }\n",
       "\n",
       "    .dataframe thead th {\n",
       "        text-align: right;\n",
       "    }\n",
       "</style>\n",
       "<table border=\"1\" class=\"dataframe\">\n",
       "  <thead>\n",
       "    <tr style=\"text-align: right;\">\n",
       "      <th></th>\n",
       "      <th>Item_Weight</th>\n",
       "      <th>Item_Fat_Content</th>\n",
       "      <th>Item_Visibility</th>\n",
       "      <th>Item_MRP</th>\n",
       "      <th>Outlet_Establishment_Year</th>\n",
       "      <th>Outlet_Size</th>\n",
       "      <th>Outlet_Location_Type</th>\n",
       "      <th>Item_Weight_missing_ind</th>\n",
       "      <th>Outlet_Size_missing_ind</th>\n",
       "      <th>Outlet_Operating_Year</th>\n",
       "      <th>...</th>\n",
       "      <th>Outlet_Identifier_OUT045</th>\n",
       "      <th>Outlet_Identifier_OUT046</th>\n",
       "      <th>Outlet_Identifier_OUT049</th>\n",
       "      <th>Outlet_Type_Grocery Store</th>\n",
       "      <th>Outlet_Type_Supermarket Type1</th>\n",
       "      <th>Outlet_Type_Supermarket Type2</th>\n",
       "      <th>Outlet_Type_Supermarket Type3</th>\n",
       "      <th>Item_Identifier_Category_DR</th>\n",
       "      <th>Item_Identifier_Category_FD</th>\n",
       "      <th>Item_Identifier_Category_NC</th>\n",
       "    </tr>\n",
       "  </thead>\n",
       "  <tbody>\n",
       "    <tr>\n",
       "      <th>0</th>\n",
       "      <td>9.300</td>\n",
       "      <td>1</td>\n",
       "      <td>0.016047</td>\n",
       "      <td>249.8092</td>\n",
       "      <td>1999</td>\n",
       "      <td>2</td>\n",
       "      <td>3</td>\n",
       "      <td>0</td>\n",
       "      <td>0</td>\n",
       "      <td>21</td>\n",
       "      <td>...</td>\n",
       "      <td>0</td>\n",
       "      <td>0</td>\n",
       "      <td>1</td>\n",
       "      <td>0</td>\n",
       "      <td>1</td>\n",
       "      <td>0</td>\n",
       "      <td>0</td>\n",
       "      <td>0</td>\n",
       "      <td>1</td>\n",
       "      <td>0</td>\n",
       "    </tr>\n",
       "    <tr>\n",
       "      <th>1</th>\n",
       "      <td>5.920</td>\n",
       "      <td>2</td>\n",
       "      <td>0.019278</td>\n",
       "      <td>48.2692</td>\n",
       "      <td>2009</td>\n",
       "      <td>2</td>\n",
       "      <td>1</td>\n",
       "      <td>0</td>\n",
       "      <td>0</td>\n",
       "      <td>11</td>\n",
       "      <td>...</td>\n",
       "      <td>0</td>\n",
       "      <td>0</td>\n",
       "      <td>0</td>\n",
       "      <td>0</td>\n",
       "      <td>0</td>\n",
       "      <td>1</td>\n",
       "      <td>0</td>\n",
       "      <td>1</td>\n",
       "      <td>0</td>\n",
       "      <td>0</td>\n",
       "    </tr>\n",
       "    <tr>\n",
       "      <th>2</th>\n",
       "      <td>17.500</td>\n",
       "      <td>1</td>\n",
       "      <td>0.016760</td>\n",
       "      <td>141.6180</td>\n",
       "      <td>1999</td>\n",
       "      <td>2</td>\n",
       "      <td>3</td>\n",
       "      <td>0</td>\n",
       "      <td>0</td>\n",
       "      <td>21</td>\n",
       "      <td>...</td>\n",
       "      <td>0</td>\n",
       "      <td>0</td>\n",
       "      <td>1</td>\n",
       "      <td>0</td>\n",
       "      <td>1</td>\n",
       "      <td>0</td>\n",
       "      <td>0</td>\n",
       "      <td>0</td>\n",
       "      <td>1</td>\n",
       "      <td>0</td>\n",
       "    </tr>\n",
       "    <tr>\n",
       "      <th>3</th>\n",
       "      <td>19.200</td>\n",
       "      <td>2</td>\n",
       "      <td>0.000000</td>\n",
       "      <td>182.0950</td>\n",
       "      <td>1998</td>\n",
       "      <td>0</td>\n",
       "      <td>1</td>\n",
       "      <td>0</td>\n",
       "      <td>1</td>\n",
       "      <td>22</td>\n",
       "      <td>...</td>\n",
       "      <td>0</td>\n",
       "      <td>0</td>\n",
       "      <td>0</td>\n",
       "      <td>1</td>\n",
       "      <td>0</td>\n",
       "      <td>0</td>\n",
       "      <td>0</td>\n",
       "      <td>0</td>\n",
       "      <td>1</td>\n",
       "      <td>0</td>\n",
       "    </tr>\n",
       "    <tr>\n",
       "      <th>4</th>\n",
       "      <td>8.930</td>\n",
       "      <td>0</td>\n",
       "      <td>0.000000</td>\n",
       "      <td>53.8614</td>\n",
       "      <td>1987</td>\n",
       "      <td>3</td>\n",
       "      <td>1</td>\n",
       "      <td>0</td>\n",
       "      <td>0</td>\n",
       "      <td>33</td>\n",
       "      <td>...</td>\n",
       "      <td>0</td>\n",
       "      <td>0</td>\n",
       "      <td>0</td>\n",
       "      <td>0</td>\n",
       "      <td>1</td>\n",
       "      <td>0</td>\n",
       "      <td>0</td>\n",
       "      <td>0</td>\n",
       "      <td>0</td>\n",
       "      <td>1</td>\n",
       "    </tr>\n",
       "    <tr>\n",
       "      <th>5</th>\n",
       "      <td>10.395</td>\n",
       "      <td>2</td>\n",
       "      <td>0.000000</td>\n",
       "      <td>51.4008</td>\n",
       "      <td>2009</td>\n",
       "      <td>2</td>\n",
       "      <td>1</td>\n",
       "      <td>0</td>\n",
       "      <td>0</td>\n",
       "      <td>11</td>\n",
       "      <td>...</td>\n",
       "      <td>0</td>\n",
       "      <td>0</td>\n",
       "      <td>0</td>\n",
       "      <td>0</td>\n",
       "      <td>0</td>\n",
       "      <td>1</td>\n",
       "      <td>0</td>\n",
       "      <td>0</td>\n",
       "      <td>1</td>\n",
       "      <td>0</td>\n",
       "    </tr>\n",
       "    <tr>\n",
       "      <th>6</th>\n",
       "      <td>13.650</td>\n",
       "      <td>2</td>\n",
       "      <td>0.012741</td>\n",
       "      <td>57.6588</td>\n",
       "      <td>1987</td>\n",
       "      <td>3</td>\n",
       "      <td>1</td>\n",
       "      <td>0</td>\n",
       "      <td>0</td>\n",
       "      <td>33</td>\n",
       "      <td>...</td>\n",
       "      <td>0</td>\n",
       "      <td>0</td>\n",
       "      <td>0</td>\n",
       "      <td>0</td>\n",
       "      <td>1</td>\n",
       "      <td>0</td>\n",
       "      <td>0</td>\n",
       "      <td>0</td>\n",
       "      <td>1</td>\n",
       "      <td>0</td>\n",
       "    </tr>\n",
       "    <tr>\n",
       "      <th>7</th>\n",
       "      <td>19.000</td>\n",
       "      <td>1</td>\n",
       "      <td>0.127470</td>\n",
       "      <td>107.7622</td>\n",
       "      <td>1985</td>\n",
       "      <td>2</td>\n",
       "      <td>1</td>\n",
       "      <td>1</td>\n",
       "      <td>0</td>\n",
       "      <td>35</td>\n",
       "      <td>...</td>\n",
       "      <td>0</td>\n",
       "      <td>0</td>\n",
       "      <td>0</td>\n",
       "      <td>0</td>\n",
       "      <td>0</td>\n",
       "      <td>0</td>\n",
       "      <td>1</td>\n",
       "      <td>0</td>\n",
       "      <td>1</td>\n",
       "      <td>0</td>\n",
       "    </tr>\n",
       "    <tr>\n",
       "      <th>8</th>\n",
       "      <td>16.200</td>\n",
       "      <td>2</td>\n",
       "      <td>0.016687</td>\n",
       "      <td>96.9726</td>\n",
       "      <td>2002</td>\n",
       "      <td>0</td>\n",
       "      <td>2</td>\n",
       "      <td>0</td>\n",
       "      <td>1</td>\n",
       "      <td>18</td>\n",
       "      <td>...</td>\n",
       "      <td>1</td>\n",
       "      <td>0</td>\n",
       "      <td>0</td>\n",
       "      <td>0</td>\n",
       "      <td>1</td>\n",
       "      <td>0</td>\n",
       "      <td>0</td>\n",
       "      <td>0</td>\n",
       "      <td>1</td>\n",
       "      <td>0</td>\n",
       "    </tr>\n",
       "    <tr>\n",
       "      <th>9</th>\n",
       "      <td>19.200</td>\n",
       "      <td>2</td>\n",
       "      <td>0.094450</td>\n",
       "      <td>187.8214</td>\n",
       "      <td>2007</td>\n",
       "      <td>0</td>\n",
       "      <td>2</td>\n",
       "      <td>0</td>\n",
       "      <td>1</td>\n",
       "      <td>13</td>\n",
       "      <td>...</td>\n",
       "      <td>0</td>\n",
       "      <td>0</td>\n",
       "      <td>0</td>\n",
       "      <td>0</td>\n",
       "      <td>1</td>\n",
       "      <td>0</td>\n",
       "      <td>0</td>\n",
       "      <td>0</td>\n",
       "      <td>1</td>\n",
       "      <td>0</td>\n",
       "    </tr>\n",
       "  </tbody>\n",
       "</table>\n",
       "<p>10 rows × 43 columns</p>\n",
       "</div>"
      ],
      "text/plain": [
       "   Item_Weight  Item_Fat_Content  Item_Visibility  Item_MRP  \\\n",
       "0        9.300                 1         0.016047  249.8092   \n",
       "1        5.920                 2         0.019278   48.2692   \n",
       "2       17.500                 1         0.016760  141.6180   \n",
       "3       19.200                 2         0.000000  182.0950   \n",
       "4        8.930                 0         0.000000   53.8614   \n",
       "5       10.395                 2         0.000000   51.4008   \n",
       "6       13.650                 2         0.012741   57.6588   \n",
       "7       19.000                 1         0.127470  107.7622   \n",
       "8       16.200                 2         0.016687   96.9726   \n",
       "9       19.200                 2         0.094450  187.8214   \n",
       "\n",
       "   Outlet_Establishment_Year  Outlet_Size  Outlet_Location_Type  \\\n",
       "0                       1999            2                     3   \n",
       "1                       2009            2                     1   \n",
       "2                       1999            2                     3   \n",
       "3                       1998            0                     1   \n",
       "4                       1987            3                     1   \n",
       "5                       2009            2                     1   \n",
       "6                       1987            3                     1   \n",
       "7                       1985            2                     1   \n",
       "8                       2002            0                     2   \n",
       "9                       2007            0                     2   \n",
       "\n",
       "   Item_Weight_missing_ind  Outlet_Size_missing_ind  Outlet_Operating_Year  \\\n",
       "0                        0                        0                     21   \n",
       "1                        0                        0                     11   \n",
       "2                        0                        0                     21   \n",
       "3                        0                        1                     22   \n",
       "4                        0                        0                     33   \n",
       "5                        0                        0                     11   \n",
       "6                        0                        0                     33   \n",
       "7                        1                        0                     35   \n",
       "8                        0                        1                     18   \n",
       "9                        0                        1                     13   \n",
       "\n",
       "   ...  Outlet_Identifier_OUT045  Outlet_Identifier_OUT046  \\\n",
       "0  ...                         0                         0   \n",
       "1  ...                         0                         0   \n",
       "2  ...                         0                         0   \n",
       "3  ...                         0                         0   \n",
       "4  ...                         0                         0   \n",
       "5  ...                         0                         0   \n",
       "6  ...                         0                         0   \n",
       "7  ...                         0                         0   \n",
       "8  ...                         1                         0   \n",
       "9  ...                         0                         0   \n",
       "\n",
       "   Outlet_Identifier_OUT049  Outlet_Type_Grocery Store  \\\n",
       "0                         1                          0   \n",
       "1                         0                          0   \n",
       "2                         1                          0   \n",
       "3                         0                          1   \n",
       "4                         0                          0   \n",
       "5                         0                          0   \n",
       "6                         0                          0   \n",
       "7                         0                          0   \n",
       "8                         0                          0   \n",
       "9                         0                          0   \n",
       "\n",
       "   Outlet_Type_Supermarket Type1  Outlet_Type_Supermarket Type2  \\\n",
       "0                              1                              0   \n",
       "1                              0                              1   \n",
       "2                              1                              0   \n",
       "3                              0                              0   \n",
       "4                              1                              0   \n",
       "5                              0                              1   \n",
       "6                              1                              0   \n",
       "7                              0                              0   \n",
       "8                              1                              0   \n",
       "9                              1                              0   \n",
       "\n",
       "   Outlet_Type_Supermarket Type3  Item_Identifier_Category_DR  \\\n",
       "0                              0                            0   \n",
       "1                              0                            1   \n",
       "2                              0                            0   \n",
       "3                              0                            0   \n",
       "4                              0                            0   \n",
       "5                              0                            0   \n",
       "6                              0                            0   \n",
       "7                              1                            0   \n",
       "8                              0                            0   \n",
       "9                              0                            0   \n",
       "\n",
       "   Item_Identifier_Category_FD  Item_Identifier_Category_NC  \n",
       "0                            1                            0  \n",
       "1                            0                            0  \n",
       "2                            1                            0  \n",
       "3                            1                            0  \n",
       "4                            0                            1  \n",
       "5                            1                            0  \n",
       "6                            1                            0  \n",
       "7                            1                            0  \n",
       "8                            1                            0  \n",
       "9                            1                            0  \n",
       "\n",
       "[10 rows x 43 columns]"
      ]
     },
     "execution_count": 6,
     "metadata": {},
     "output_type": "execute_result"
    }
   ],
   "source": [
    "X.head(10)"
   ]
  },
  {
   "cell_type": "code",
   "execution_count": 7,
   "metadata": {},
   "outputs": [
    {
     "data": {
      "text/plain": [
       "0    3735.1380\n",
       "1     443.4228\n",
       "2    2097.2700\n",
       "3     732.3800\n",
       "4     994.7052\n",
       "5     556.6088\n",
       "6     343.5528\n",
       "7    4022.7636\n",
       "8    1076.5986\n",
       "9    4710.5350\n",
       "Name: Item_Outlet_Sales, dtype: float64"
      ]
     },
     "execution_count": 7,
     "metadata": {},
     "output_type": "execute_result"
    }
   ],
   "source": [
    "y.head(10)"
   ]
  },
  {
   "cell_type": "markdown",
   "metadata": {},
   "source": [
    "Split the data in 80% train set and 20% test set."
   ]
  },
  {
   "cell_type": "code",
   "execution_count": 8,
   "metadata": {},
   "outputs": [],
   "source": [
    "from sklearn.model_selection import train_test_split"
   ]
  },
  {
   "cell_type": "code",
   "execution_count": 9,
   "metadata": {},
   "outputs": [],
   "source": [
    "X_train, X_test, y_train, y_test = train_test_split(X, y, train_size=0.8,\n",
    "                                                    test_size=0.2)"
   ]
  },
  {
   "cell_type": "code",
   "execution_count": 10,
   "metadata": {},
   "outputs": [
    {
     "name": "stdout",
     "output_type": "stream",
     "text": [
      "Shape of X_train: (6818, 43)\n",
      "Shape of X_test: (1705, 43)\n",
      "Shape of y_train: (6818,)\n",
      "Shape of y_test: (1705,)\n"
     ]
    }
   ],
   "source": [
    "print(\"Shape of X_train:\", X_train.shape)\n",
    "print(\"Shape of X_test:\", X_test.shape)\n",
    "print(\"Shape of y_train:\", y_train.shape)\n",
    "print(\"Shape of y_test:\", y_test.shape)"
   ]
  },
  {
   "cell_type": "markdown",
   "metadata": {},
   "source": [
    "First, we will make a baseline model."
   ]
  },
  {
   "cell_type": "code",
   "execution_count": 11,
   "metadata": {},
   "outputs": [],
   "source": [
    "from sklearn.dummy import DummyRegressor\n",
    "from sklearn.metrics import mean_squared_error, r2_score"
   ]
  },
  {
   "cell_type": "code",
   "execution_count": 12,
   "metadata": {},
   "outputs": [],
   "source": [
    "base = DummyRegressor(strategy = 'mean')"
   ]
  },
  {
   "cell_type": "code",
   "execution_count": 13,
   "metadata": {},
   "outputs": [
    {
     "data": {
      "text/plain": [
       "DummyRegressor()"
      ]
     },
     "execution_count": 13,
     "metadata": {},
     "output_type": "execute_result"
    }
   ],
   "source": [
    "base.fit(X_train, y_train)"
   ]
  },
  {
   "cell_type": "code",
   "execution_count": 14,
   "metadata": {},
   "outputs": [],
   "source": [
    "y_base = base.predict(X_test)"
   ]
  },
  {
   "cell_type": "code",
   "execution_count": 15,
   "metadata": {},
   "outputs": [
    {
     "data": {
      "text/plain": [
       "array([2196.06698586, 2196.06698586, 2196.06698586, ..., 2196.06698586,\n",
       "       2196.06698586, 2196.06698586])"
      ]
     },
     "execution_count": 15,
     "metadata": {},
     "output_type": "execute_result"
    }
   ],
   "source": [
    "y_base"
   ]
  },
  {
   "cell_type": "code",
   "execution_count": 16,
   "metadata": {},
   "outputs": [
    {
     "name": "stdout",
     "output_type": "stream",
     "text": [
      "MSE_b : 2814642.398833209\n"
     ]
    }
   ],
   "source": [
    "MSE_b = mean_squared_error(y_test, y_base)\n",
    "print(f\"MSE_b : {MSE_b}\")"
   ]
  },
  {
   "cell_type": "code",
   "execution_count": 17,
   "metadata": {},
   "outputs": [
    {
     "name": "stdout",
     "output_type": "stream",
     "text": [
      "r2_b : -0.0019426359235656943\n"
     ]
    }
   ],
   "source": [
    "r2_b = r2_score(y_test, y_base)\n",
    "print(f\"r2_b : {r2_b}\")"
   ]
  },
  {
   "cell_type": "markdown",
   "metadata": {},
   "source": [
    "Now, we will recreate the Linear Regression model from Tuesday."
   ]
  },
  {
   "cell_type": "code",
   "execution_count": 18,
   "metadata": {},
   "outputs": [],
   "source": [
    "from sklearn.linear_model import LinearRegression\n",
    "from sklearn.model_selection import GridSearchCV"
   ]
  },
  {
   "cell_type": "code",
   "execution_count": 19,
   "metadata": {},
   "outputs": [],
   "source": [
    "model = LinearRegression()"
   ]
  },
  {
   "cell_type": "code",
   "execution_count": 20,
   "metadata": {},
   "outputs": [],
   "source": [
    "param_grid = {'normalize': [False, True]}"
   ]
  },
  {
   "cell_type": "code",
   "execution_count": 21,
   "metadata": {},
   "outputs": [
    {
     "data": {
      "text/plain": [
       "GridSearchCV(cv=10, estimator=LinearRegression(), n_jobs=-1,\n",
       "             param_grid={'normalize': [False, True]})"
      ]
     },
     "execution_count": 21,
     "metadata": {},
     "output_type": "execute_result"
    }
   ],
   "source": [
    "grid_search = GridSearchCV(model, param_grid, cv=10, n_jobs=-1)\n",
    "grid_search.fit(X_train, y_train)"
   ]
  },
  {
   "cell_type": "code",
   "execution_count": 22,
   "metadata": {},
   "outputs": [
    {
     "data": {
      "text/plain": [
       "{'normalize': False}"
      ]
     },
     "execution_count": 22,
     "metadata": {},
     "output_type": "execute_result"
    }
   ],
   "source": [
    "grid_search.best_params_"
   ]
  },
  {
   "cell_type": "code",
   "execution_count": 23,
   "metadata": {},
   "outputs": [
    {
     "data": {
      "text/plain": [
       "0.5557042362110336"
      ]
     },
     "execution_count": 23,
     "metadata": {},
     "output_type": "execute_result"
    }
   ],
   "source": [
    "grid_search.best_score_"
   ]
  },
  {
   "cell_type": "code",
   "execution_count": 24,
   "metadata": {},
   "outputs": [],
   "source": [
    "y_pred = grid_search.predict(X_test)"
   ]
  },
  {
   "cell_type": "code",
   "execution_count": 25,
   "metadata": {},
   "outputs": [
    {
     "name": "stdout",
     "output_type": "stream",
     "text": [
      "MSE : 1210903.0275359943\n"
     ]
    }
   ],
   "source": [
    "MSE = mean_squared_error(y_test, y_pred)\n",
    "print(f\"MSE : {MSE}\")"
   ]
  },
  {
   "cell_type": "code",
   "execution_count": 26,
   "metadata": {},
   "outputs": [
    {
     "name": "stdout",
     "output_type": "stream",
     "text": [
      "r2 : 0.5689486622669413\n"
     ]
    }
   ],
   "source": [
    "r2 = r2_score(y_test, y_pred)\n",
    "print(f\"r2 : {r2}\")"
   ]
  },
  {
   "cell_type": "markdown",
   "metadata": {},
   "source": [
    "For my own interest, I will also create a Decision Tree model with Randomized Search for comparison."
   ]
  },
  {
   "cell_type": "code",
   "execution_count": 27,
   "metadata": {},
   "outputs": [],
   "source": [
    "from sklearn.tree import DecisionTreeRegressor\n",
    "from sklearn.model_selection import RandomizedSearchCV\n",
    "from scipy.stats import randint"
   ]
  },
  {
   "cell_type": "code",
   "execution_count": 28,
   "metadata": {},
   "outputs": [],
   "source": [
    "tree = DecisionTreeRegressor()"
   ]
  },
  {
   "cell_type": "code",
   "execution_count": 29,
   "metadata": {},
   "outputs": [],
   "source": [
    "param_grid = {'max_depth': randint(1, 8)}"
   ]
  },
  {
   "cell_type": "code",
   "execution_count": 30,
   "metadata": {},
   "outputs": [
    {
     "data": {
      "text/plain": [
       "RandomizedSearchCV(cv=10, estimator=DecisionTreeRegressor(), n_jobs=-1,\n",
       "                   param_distributions={'max_depth': <scipy.stats._distn_infrastructure.rv_frozen object at 0x7ffcf3187af0>})"
      ]
     },
     "execution_count": 30,
     "metadata": {},
     "output_type": "execute_result"
    }
   ],
   "source": [
    "rand_search = RandomizedSearchCV(tree, param_grid, cv=10, n_jobs=-1)\n",
    "rand_search.fit(X_train, y_train)"
   ]
  },
  {
   "cell_type": "code",
   "execution_count": 31,
   "metadata": {},
   "outputs": [
    {
     "data": {
      "text/plain": [
       "{'max_depth': 5}"
      ]
     },
     "execution_count": 31,
     "metadata": {},
     "output_type": "execute_result"
    }
   ],
   "source": [
    "rand_search.best_params_"
   ]
  },
  {
   "cell_type": "code",
   "execution_count": 32,
   "metadata": {},
   "outputs": [
    {
     "data": {
      "text/plain": [
       "0.5838334717533259"
      ]
     },
     "execution_count": 32,
     "metadata": {},
     "output_type": "execute_result"
    }
   ],
   "source": [
    "# Note that the default score for the Sklearn Decision Tree \n",
    "# model is the R-squared value.\n",
    "\n",
    "rand_search.best_score_"
   ]
  },
  {
   "cell_type": "code",
   "execution_count": 33,
   "metadata": {},
   "outputs": [],
   "source": [
    "y_tree = rand_search.predict(X_test)"
   ]
  },
  {
   "cell_type": "code",
   "execution_count": 34,
   "metadata": {},
   "outputs": [
    {
     "name": "stdout",
     "output_type": "stream",
     "text": [
      "MSE_tree : 1116932.3160924471\n"
     ]
    }
   ],
   "source": [
    "MSE_tree = mean_squared_error(y_test, y_tree)\n",
    "print(f\"MSE_tree : {MSE_tree}\")"
   ]
  },
  {
   "cell_type": "code",
   "execution_count": 35,
   "metadata": {},
   "outputs": [
    {
     "name": "stdout",
     "output_type": "stream",
     "text": [
      "r2_tree : 0.6023998965560258\n"
     ]
    }
   ],
   "source": [
    "r2_tree = r2_score(y_test, y_tree)\n",
    "print(f\"r2_tree : {r2_tree}\")"
   ]
  },
  {
   "cell_type": "code",
   "execution_count": 36,
   "metadata": {},
   "outputs": [
    {
     "data": {
      "text/plain": [
       "{'mean_fit_time': array([0.02610602, 0.0171011 , 0.01947124, 0.02762282, 0.03145616,\n",
       "        0.01745467, 0.0242451 , 0.01259711, 0.01420963, 0.01170228]),\n",
       " 'std_fit_time': array([0.00449534, 0.0034551 , 0.0018479 , 0.00222019, 0.00468356,\n",
       "        0.00261664, 0.00319121, 0.00217036, 0.00288345, 0.00137279]),\n",
       " 'mean_score_time': array([0.00377002, 0.00245547, 0.00225182, 0.00252521, 0.00312071,\n",
       "        0.00291476, 0.00303938, 0.0035243 , 0.003193  , 0.00261786]),\n",
       " 'std_score_time': array([0.00206578, 0.00040675, 0.00027482, 0.00048556, 0.00093594,\n",
       "        0.00086182, 0.00068492, 0.00128277, 0.00146521, 0.00070661]),\n",
       " 'param_max_depth': masked_array(data=[5, 3, 4, 7, 7, 3, 5, 2, 2, 1],\n",
       "              mask=[False, False, False, False, False, False, False, False,\n",
       "                    False, False],\n",
       "        fill_value='?',\n",
       "             dtype=object),\n",
       " 'params': [{'max_depth': 5},\n",
       "  {'max_depth': 3},\n",
       "  {'max_depth': 4},\n",
       "  {'max_depth': 7},\n",
       "  {'max_depth': 7},\n",
       "  {'max_depth': 3},\n",
       "  {'max_depth': 5},\n",
       "  {'max_depth': 2},\n",
       "  {'max_depth': 2},\n",
       "  {'max_depth': 1}],\n",
       " 'split0_test_score': array([0.59162981, 0.55183865, 0.57790342, 0.58497816, 0.58490789,\n",
       "        0.55183865, 0.59162981, 0.43217634, 0.43217634, 0.24726754]),\n",
       " 'split1_test_score': array([0.56008067, 0.53527395, 0.57799955, 0.54182455, 0.54239125,\n",
       "        0.53527395, 0.56008067, 0.42378748, 0.42378748, 0.25410247]),\n",
       " 'split2_test_score': array([0.53278455, 0.48580265, 0.52835537, 0.53380591, 0.53380591,\n",
       "        0.48580265, 0.53278455, 0.39864708, 0.39864708, 0.20294976]),\n",
       " 'split3_test_score': array([0.62051692, 0.55135603, 0.60417014, 0.61373223, 0.61373223,\n",
       "        0.55135603, 0.62051692, 0.44730247, 0.44730247, 0.25242891]),\n",
       " 'split4_test_score': array([0.61136567, 0.51325001, 0.5956294 , 0.5907159 , 0.5907159 ,\n",
       "        0.51325001, 0.61136567, 0.41154274, 0.41154274, 0.20602956]),\n",
       " 'split5_test_score': array([0.58740367, 0.50832248, 0.58183173, 0.57970552, 0.5797072 ,\n",
       "        0.50832248, 0.58740367, 0.41134909, 0.41134909, 0.23719743]),\n",
       " 'split6_test_score': array([0.54369476, 0.48688489, 0.53430008, 0.5395015 , 0.5393171 ,\n",
       "        0.48688489, 0.54369476, 0.43825336, 0.43825336, 0.26707001]),\n",
       " 'split7_test_score': array([0.60957656, 0.53277457, 0.59525858, 0.61310638, 0.61313737,\n",
       "        0.53277457, 0.60957656, 0.46417853, 0.46417853, 0.23620152]),\n",
       " 'split8_test_score': array([0.61552118, 0.53757359, 0.60916013, 0.58091388, 0.5809132 ,\n",
       "        0.53757359, 0.61552118, 0.44997256, 0.44997256, 0.2385835 ]),\n",
       " 'split9_test_score': array([0.56576094, 0.50107401, 0.56152585, 0.55440198, 0.53862466,\n",
       "        0.50107401, 0.56576094, 0.39727649, 0.39727649, 0.2332108 ]),\n",
       " 'mean_test_score': array([0.58383347, 0.52041508, 0.57661342, 0.5732686 , 0.57172527,\n",
       "        0.52041508, 0.58383347, 0.42744861, 0.42744861, 0.23750415]),\n",
       " 'std_test_score': array([0.02991983, 0.02346632, 0.02627854, 0.02794273, 0.02933667,\n",
       "        0.02346632, 0.02991983, 0.02157583, 0.02157583, 0.01916706]),\n",
       " 'rank_test_score': array([ 2,  6,  3,  4,  5,  7,  1,  8,  8, 10], dtype=int32)}"
      ]
     },
     "execution_count": 36,
     "metadata": {},
     "output_type": "execute_result"
    }
   ],
   "source": [
    "rand_search.cv_results_"
   ]
  },
  {
   "cell_type": "markdown",
   "metadata": {},
   "source": [
    "We have covered data preparation and feature engineering last week. Now, it's time to do some predictive models."
   ]
  },
  {
   "cell_type": "markdown",
   "metadata": {},
   "source": [
    "## Model Building"
   ]
  },
  {
   "cell_type": "markdown",
   "metadata": {},
   "source": [
    "### Ensemble Models\n",
    "\n",
    "Try different  ensemble models (Random Forest Regressor, Gradient Boosting, XGBoost)\n",
    "\n",
    "Calculate the mean squared error on the test set. Explore how different parameters of the model affect the results and the performance of the model\n",
    "\n",
    "- Use GridSearchCV to find optimal paramaters of models.\n",
    "- Compare agains the Linear Regression model from Tuesday."
   ]
  },
  {
   "cell_type": "markdown",
   "metadata": {},
   "source": [
    "We may use Randomized Search instead of Grid Search."
   ]
  },
  {
   "cell_type": "markdown",
   "metadata": {},
   "source": [
    "# Case 1: Random Forest Model"
   ]
  },
  {
   "cell_type": "code",
   "execution_count": 37,
   "metadata": {},
   "outputs": [],
   "source": [
    "from sklearn.ensemble import RandomForestRegressor"
   ]
  },
  {
   "cell_type": "code",
   "execution_count": 38,
   "metadata": {},
   "outputs": [],
   "source": [
    "model_1 = RandomForestRegressor()"
   ]
  },
  {
   "cell_type": "code",
   "execution_count": 39,
   "metadata": {},
   "outputs": [],
   "source": [
    "param_grid_1 = {'max_depth': randint(1, 8),\n",
    "                'min_samples_split': randint(2, 11),\n",
    "                'n_estimators': randint(100, 150)}"
   ]
  },
  {
   "cell_type": "code",
   "execution_count": 40,
   "metadata": {},
   "outputs": [
    {
     "data": {
      "text/plain": [
       "RandomizedSearchCV(cv=10, estimator=RandomForestRegressor(), n_jobs=-1,\n",
       "                   param_distributions={'max_depth': <scipy.stats._distn_infrastructure.rv_frozen object at 0x7ffcf667d610>,\n",
       "                                        'min_samples_split': <scipy.stats._distn_infrastructure.rv_frozen object at 0x7ffcf6676e80>,\n",
       "                                        'n_estimators': <scipy.stats._distn_infrastructure.rv_frozen object at 0x7ffcf667da60>})"
      ]
     },
     "execution_count": 40,
     "metadata": {},
     "output_type": "execute_result"
    }
   ],
   "source": [
    "rand_search_1 = RandomizedSearchCV(model_1, param_grid_1, cv=10, n_jobs=-1)\n",
    "rand_search_1.fit(X_train, y_train)"
   ]
  },
  {
   "cell_type": "code",
   "execution_count": 41,
   "metadata": {},
   "outputs": [
    {
     "data": {
      "text/plain": [
       "{'max_depth': 5, 'min_samples_split': 2, 'n_estimators': 135}"
      ]
     },
     "execution_count": 41,
     "metadata": {},
     "output_type": "execute_result"
    }
   ],
   "source": [
    "rand_search_1.best_params_"
   ]
  },
  {
   "cell_type": "code",
   "execution_count": 42,
   "metadata": {},
   "outputs": [
    {
     "data": {
      "text/plain": [
       "0.593019845757611"
      ]
     },
     "execution_count": 42,
     "metadata": {},
     "output_type": "execute_result"
    }
   ],
   "source": [
    "# Note that the default score for the Sklearn Random Forest \n",
    "# model is the R-squared value.\n",
    "\n",
    "rand_search_1.best_score_"
   ]
  },
  {
   "cell_type": "code",
   "execution_count": 43,
   "metadata": {},
   "outputs": [],
   "source": [
    "y_pred_1 = rand_search_1.predict(X_test)"
   ]
  },
  {
   "cell_type": "code",
   "execution_count": 44,
   "metadata": {},
   "outputs": [
    {
     "name": "stdout",
     "output_type": "stream",
     "text": [
      "MSE_1 : 1101998.0976432804\n"
     ]
    }
   ],
   "source": [
    "MSE_1 = mean_squared_error(y_test, y_pred_1)\n",
    "print(f\"MSE_1 : {MSE_1}\")"
   ]
  },
  {
   "cell_type": "code",
   "execution_count": 45,
   "metadata": {},
   "outputs": [
    {
     "name": "stdout",
     "output_type": "stream",
     "text": [
      "r2_1 : 0.6077161066026802\n"
     ]
    }
   ],
   "source": [
    "r2_1 = r2_score(y_test, y_pred_1)\n",
    "print(f\"r2_1 : {r2_1}\")"
   ]
  },
  {
   "cell_type": "markdown",
   "metadata": {},
   "source": [
    "I will ask for mentor help about putting bounds on hyperparameters."
   ]
  },
  {
   "cell_type": "markdown",
   "metadata": {},
   "source": [
    "On January 27, 2021, I received mentor help from Socorro at 1 PM.  My questions \n",
    "and answers are in my copybook."
   ]
  },
  {
   "cell_type": "code",
   "execution_count": 46,
   "metadata": {},
   "outputs": [
    {
     "data": {
      "text/plain": [
       "{'mean_fit_time': array([0.41111963, 1.49857628, 0.36526594, 1.28292553, 1.47448843,\n",
       "        0.91506474, 0.68065536, 1.37162733, 1.23482766, 1.06427019]),\n",
       " 'std_fit_time': array([0.01714252, 0.01405528, 0.03772989, 0.01381563, 0.01273497,\n",
       "        0.01828139, 0.00332788, 0.01344336, 0.00987215, 0.03459095]),\n",
       " 'mean_score_time': array([0.01214879, 0.01457248, 0.00956872, 0.01238499, 0.01255031,\n",
       "        0.01107187, 0.01095381, 0.0133466 , 0.01085989, 0.01118209]),\n",
       " 'std_score_time': array([0.00307944, 0.00270235, 0.00151413, 0.00031417, 0.00018188,\n",
       "        0.00021399, 0.00030081, 0.00071708, 0.00014556, 0.00131394]),\n",
       " 'param_max_depth': masked_array(data=[1, 5, 1, 5, 7, 3, 2, 5, 7, 5],\n",
       "              mask=[False, False, False, False, False, False, False, False,\n",
       "                    False, False],\n",
       "        fill_value='?',\n",
       "             dtype=object),\n",
       " 'param_min_samples_split': masked_array(data=[3, 8, 7, 2, 2, 9, 8, 6, 2, 10],\n",
       "              mask=[False, False, False, False, False, False, False, False,\n",
       "                    False, False],\n",
       "        fill_value='?',\n",
       "             dtype=object),\n",
       " 'param_n_estimators': masked_array(data=[112, 125, 112, 135, 118, 144, 149, 147, 100, 116],\n",
       "              mask=[False, False, False, False, False, False, False, False,\n",
       "                    False, False],\n",
       "        fill_value='?',\n",
       "             dtype=object),\n",
       " 'params': [{'max_depth': 1, 'min_samples_split': 3, 'n_estimators': 112},\n",
       "  {'max_depth': 5, 'min_samples_split': 8, 'n_estimators': 125},\n",
       "  {'max_depth': 1, 'min_samples_split': 7, 'n_estimators': 112},\n",
       "  {'max_depth': 5, 'min_samples_split': 2, 'n_estimators': 135},\n",
       "  {'max_depth': 7, 'min_samples_split': 2, 'n_estimators': 118},\n",
       "  {'max_depth': 3, 'min_samples_split': 9, 'n_estimators': 144},\n",
       "  {'max_depth': 2, 'min_samples_split': 8, 'n_estimators': 149},\n",
       "  {'max_depth': 5, 'min_samples_split': 6, 'n_estimators': 147},\n",
       "  {'max_depth': 7, 'min_samples_split': 2, 'n_estimators': 100},\n",
       "  {'max_depth': 5, 'min_samples_split': 10, 'n_estimators': 116}],\n",
       " 'split0_test_score': array([0.25711777, 0.60473244, 0.25380315, 0.60254031, 0.60908196,\n",
       "        0.56181439, 0.45865492, 0.60239452, 0.60937787, 0.60345735]),\n",
       " 'split1_test_score': array([0.26919298, 0.59620133, 0.2680276 , 0.59738153, 0.59429039,\n",
       "        0.55371167, 0.45136128, 0.59533224, 0.59284694, 0.59790085]),\n",
       " 'split2_test_score': array([0.21445114, 0.54609632, 0.21703065, 0.54410556, 0.55087302,\n",
       "        0.50332764, 0.42633172, 0.54426963, 0.54803791, 0.54567757]),\n",
       " 'split3_test_score': array([0.26161647, 0.62472298, 0.26305698, 0.62529599, 0.62890764,\n",
       "        0.5676988 , 0.47597147, 0.62509365, 0.62580573, 0.62427438]),\n",
       " 'split4_test_score': array([0.21359955, 0.60906936, 0.21443323, 0.61281637, 0.60546729,\n",
       "        0.52120118, 0.43572592, 0.61055872, 0.60411538, 0.6104137 ]),\n",
       " 'split5_test_score': array([0.24807261, 0.59721026, 0.25263457, 0.5972271 , 0.59372557,\n",
       "        0.52162662, 0.44133839, 0.59766232, 0.59235427, 0.59651577]),\n",
       " 'split6_test_score': array([0.27449769, 0.54582133, 0.27483943, 0.54854254, 0.54269031,\n",
       "        0.50296618, 0.46393445, 0.54746248, 0.54339147, 0.54993306]),\n",
       " 'split7_test_score': array([0.24927915, 0.60586307, 0.25060948, 0.60709188, 0.6100055 ,\n",
       "        0.54445228, 0.4964541 , 0.60807874, 0.6092026 , 0.60819747]),\n",
       " 'split8_test_score': array([0.23962199, 0.62061132, 0.24045711, 0.62142515, 0.6179524 ,\n",
       "        0.5532718 , 0.47448214, 0.62017403, 0.6179393 , 0.62095019]),\n",
       " 'split9_test_score': array([0.24399834, 0.57285772, 0.24480732, 0.57377201, 0.57122541,\n",
       "        0.51966119, 0.42667476, 0.57436122, 0.57180099, 0.57242917]),\n",
       " 'mean_test_score': array([0.24714477, 0.59231861, 0.24796995, 0.59301985, 0.59242195,\n",
       "        0.53497317, 0.45509291, 0.59253876, 0.59148725, 0.59297495]),\n",
       " 'std_test_score': array([0.01951733, 0.02680465, 0.01887603, 0.02703186, 0.02719184,\n",
       "        0.02279339, 0.02196919, 0.02685727, 0.02694818, 0.0263753 ]),\n",
       " 'rank_test_score': array([10,  5,  9,  1,  4,  7,  8,  3,  6,  2], dtype=int32)}"
      ]
     },
     "execution_count": 46,
     "metadata": {},
     "output_type": "execute_result"
    }
   ],
   "source": [
    "rand_search_1.cv_results_"
   ]
  },
  {
   "cell_type": "markdown",
   "metadata": {},
   "source": [
    "It seems that the 'max_depth' hyperparameter is best at around a value of 5.  \n",
    "The optimal values for the other hyperparameters seems random."
   ]
  },
  {
   "cell_type": "markdown",
   "metadata": {},
   "source": [
    "# Case 2: Gradient Boosting Model"
   ]
  },
  {
   "cell_type": "code",
   "execution_count": 47,
   "metadata": {},
   "outputs": [],
   "source": [
    "from sklearn.ensemble import GradientBoostingRegressor\n",
    "from scipy.stats import uniform"
   ]
  },
  {
   "cell_type": "code",
   "execution_count": 48,
   "metadata": {},
   "outputs": [],
   "source": [
    "model_2 = GradientBoostingRegressor()"
   ]
  },
  {
   "cell_type": "code",
   "execution_count": 49,
   "metadata": {},
   "outputs": [],
   "source": [
    "param_grid_2 = {'max_depth': randint(2, 4),\n",
    "                'min_samples_split': randint(2, 11),\n",
    "                'n_estimators': randint(100, 150),\n",
    "                'learning_rate': uniform(0.01, 0.1),\n",
    "                'subsample': uniform(0, 1)}\n",
    "                #'min_samples_leaf': randint(2, 11)}"
   ]
  },
  {
   "cell_type": "code",
   "execution_count": 50,
   "metadata": {},
   "outputs": [
    {
     "data": {
      "text/plain": [
       "RandomizedSearchCV(cv=10, estimator=GradientBoostingRegressor(), n_jobs=-1,\n",
       "                   param_distributions={'learning_rate': <scipy.stats._distn_infrastructure.rv_frozen object at 0x7ffcf66851c0>,\n",
       "                                        'max_depth': <scipy.stats._distn_infrastructure.rv_frozen object at 0x7ffcf668f610>,\n",
       "                                        'min_samples_split': <scipy.stats._distn_infrastructure.rv_frozen object at 0x7ffcf668f700>,\n",
       "                                        'n_estimators': <scipy.stats._distn_infrastructure.rv_frozen object at 0x7ffcf66b05b0>,\n",
       "                                        'subsample': <scipy.stats._distn_infrastructure.rv_frozen object at 0x7ffcf66b0850>})"
      ]
     },
     "execution_count": 50,
     "metadata": {},
     "output_type": "execute_result"
    }
   ],
   "source": [
    "rand_search_2 = RandomizedSearchCV(model_2, param_grid_2, cv=10, n_jobs=-1)\n",
    "rand_search_2.fit(X_train, y_train)"
   ]
  },
  {
   "cell_type": "code",
   "execution_count": 51,
   "metadata": {},
   "outputs": [
    {
     "data": {
      "text/plain": [
       "{'learning_rate': 0.046463936194195005,\n",
       " 'max_depth': 3,\n",
       " 'min_samples_split': 10,\n",
       " 'n_estimators': 104,\n",
       " 'subsample': 0.5330193347150157}"
      ]
     },
     "execution_count": 51,
     "metadata": {},
     "output_type": "execute_result"
    }
   ],
   "source": [
    "rand_search_2.best_params_"
   ]
  },
  {
   "cell_type": "code",
   "execution_count": 52,
   "metadata": {},
   "outputs": [
    {
     "data": {
      "text/plain": [
       "0.5957921468690431"
      ]
     },
     "execution_count": 52,
     "metadata": {},
     "output_type": "execute_result"
    }
   ],
   "source": [
    "# Note that the default score for the Sklearn GradientBoostingRegressor \n",
    "# model is the R-squared value.\n",
    "\n",
    "rand_search_2.best_score_"
   ]
  },
  {
   "cell_type": "code",
   "execution_count": 53,
   "metadata": {},
   "outputs": [],
   "source": [
    "y_pred_2 = rand_search_2.predict(X_test)"
   ]
  },
  {
   "cell_type": "code",
   "execution_count": 54,
   "metadata": {},
   "outputs": [
    {
     "name": "stdout",
     "output_type": "stream",
     "text": [
      "MSE_2 : 1093088.496465865\n"
     ]
    }
   ],
   "source": [
    "MSE_2 = mean_squared_error(y_test, y_pred_2)\n",
    "print(f\"MSE_2 : {MSE_2}\")"
   ]
  },
  {
   "cell_type": "code",
   "execution_count": 55,
   "metadata": {},
   "outputs": [
    {
     "name": "stdout",
     "output_type": "stream",
     "text": [
      "r2_2 : 0.6108877028567647\n"
     ]
    }
   ],
   "source": [
    "r2_2 = r2_score(y_test, y_pred_2)\n",
    "print(f\"r2_2 : {r2_2}\")"
   ]
  },
  {
   "cell_type": "code",
   "execution_count": 56,
   "metadata": {},
   "outputs": [
    {
     "data": {
      "text/plain": [
       "{'mean_fit_time': array([0.59992981, 0.65045288, 0.69661813, 0.57618792, 0.63430462,\n",
       "        0.25197239, 1.15607378, 0.72255447, 0.36580439, 0.31783812]),\n",
       " 'std_fit_time': array([0.02858804, 0.00410898, 0.00289435, 0.00137995, 0.00769285,\n",
       "        0.0051149 , 0.00520083, 0.00646523, 0.00640807, 0.01574404]),\n",
       " 'mean_score_time': array([0.00327263, 0.00303812, 0.00276985, 0.0028481 , 0.00295529,\n",
       "        0.00273359, 0.00337718, 0.00286593, 0.00338404, 0.00312157]),\n",
       " 'std_score_time': array([2.10859127e-04, 1.25373212e-04, 7.45395165e-05, 1.36852131e-04,\n",
       "        4.05899438e-04, 1.29664038e-04, 2.07778460e-04, 1.53554270e-04,\n",
       "        1.53193429e-04, 2.18177044e-04]),\n",
       " 'param_learning_rate': masked_array(data=[0.046463936194195005, 0.09315323901722865,\n",
       "                    0.08996559434259963, 0.020497215979996736,\n",
       "                    0.02828635492269295, 0.05489320746058423,\n",
       "                    0.08810518468335497, 0.06089902960831619,\n",
       "                    0.030446319695151505, 0.07262690601366188],\n",
       "              mask=[False, False, False, False, False, False, False, False,\n",
       "                    False, False],\n",
       "        fill_value='?',\n",
       "             dtype=object),\n",
       " 'param_max_depth': masked_array(data=[3, 3, 2, 2, 2, 2, 3, 2, 3, 3],\n",
       "              mask=[False, False, False, False, False, False, False, False,\n",
       "                    False, False],\n",
       "        fill_value='?',\n",
       "             dtype=object),\n",
       " 'param_min_samples_split': masked_array(data=[10, 3, 6, 9, 2, 4, 9, 3, 9, 7],\n",
       "              mask=[False, False, False, False, False, False, False, False,\n",
       "                    False, False],\n",
       "        fill_value='?',\n",
       "             dtype=object),\n",
       " 'param_n_estimators': masked_array(data=[104, 108, 135, 102, 112, 113, 146, 129, 113, 114],\n",
       "              mask=[False, False, False, False, False, False, False, False,\n",
       "                    False, False],\n",
       "        fill_value='?',\n",
       "             dtype=object),\n",
       " 'param_subsample': masked_array(data=[0.5330193347150157, 0.6223678945913247,\n",
       "                    0.8214069777911934, 0.9299198725397231,\n",
       "                    0.931457748357231, 0.22339913509540654,\n",
       "                    0.923214299000753, 0.9259625660091735,\n",
       "                    0.26051954722716264, 0.21607729979208523],\n",
       "              mask=[False, False, False, False, False, False, False, False,\n",
       "                    False, False],\n",
       "        fill_value='?',\n",
       "             dtype=object),\n",
       " 'params': [{'learning_rate': 0.046463936194195005,\n",
       "   'max_depth': 3,\n",
       "   'min_samples_split': 10,\n",
       "   'n_estimators': 104,\n",
       "   'subsample': 0.5330193347150157},\n",
       "  {'learning_rate': 0.09315323901722865,\n",
       "   'max_depth': 3,\n",
       "   'min_samples_split': 3,\n",
       "   'n_estimators': 108,\n",
       "   'subsample': 0.6223678945913247},\n",
       "  {'learning_rate': 0.08996559434259963,\n",
       "   'max_depth': 2,\n",
       "   'min_samples_split': 6,\n",
       "   'n_estimators': 135,\n",
       "   'subsample': 0.8214069777911934},\n",
       "  {'learning_rate': 0.020497215979996736,\n",
       "   'max_depth': 2,\n",
       "   'min_samples_split': 9,\n",
       "   'n_estimators': 102,\n",
       "   'subsample': 0.9299198725397231},\n",
       "  {'learning_rate': 0.02828635492269295,\n",
       "   'max_depth': 2,\n",
       "   'min_samples_split': 2,\n",
       "   'n_estimators': 112,\n",
       "   'subsample': 0.931457748357231},\n",
       "  {'learning_rate': 0.05489320746058423,\n",
       "   'max_depth': 2,\n",
       "   'min_samples_split': 4,\n",
       "   'n_estimators': 113,\n",
       "   'subsample': 0.22339913509540654},\n",
       "  {'learning_rate': 0.08810518468335497,\n",
       "   'max_depth': 3,\n",
       "   'min_samples_split': 9,\n",
       "   'n_estimators': 146,\n",
       "   'subsample': 0.923214299000753},\n",
       "  {'learning_rate': 0.06089902960831619,\n",
       "   'max_depth': 2,\n",
       "   'min_samples_split': 3,\n",
       "   'n_estimators': 129,\n",
       "   'subsample': 0.9259625660091735},\n",
       "  {'learning_rate': 0.030446319695151505,\n",
       "   'max_depth': 3,\n",
       "   'min_samples_split': 9,\n",
       "   'n_estimators': 113,\n",
       "   'subsample': 0.26051954722716264},\n",
       "  {'learning_rate': 0.07262690601366188,\n",
       "   'max_depth': 3,\n",
       "   'min_samples_split': 7,\n",
       "   'n_estimators': 114,\n",
       "   'subsample': 0.21607729979208523}],\n",
       " 'split0_test_score': array([0.61039866, 0.60837401, 0.60485389, 0.55202699, 0.59030458,\n",
       "        0.60319842, 0.60395853, 0.60644038, 0.60482802, 0.60604804]),\n",
       " 'split1_test_score': array([0.60644246, 0.595402  , 0.60739006, 0.55897874, 0.59638667,\n",
       "        0.60276833, 0.58963142, 0.61108698, 0.60123868, 0.59011989]),\n",
       " 'split2_test_score': array([0.54727339, 0.54836207, 0.54191883, 0.51601464, 0.54540567,\n",
       "        0.55209851, 0.54329305, 0.55157352, 0.54811796, 0.52737153]),\n",
       " 'split3_test_score': array([0.63458454, 0.63022508, 0.63140306, 0.56448807, 0.60756502,\n",
       "        0.63091527, 0.63340385, 0.63359655, 0.63221166, 0.63444034]),\n",
       " 'split4_test_score': array([0.60061662, 0.58515604, 0.59153493, 0.52516745, 0.57542686,\n",
       "        0.59368119, 0.59022826, 0.59689192, 0.59417842, 0.59921196]),\n",
       " 'split5_test_score': array([0.60003243, 0.59975872, 0.59743037, 0.54107167, 0.57862493,\n",
       "        0.59943313, 0.59883237, 0.59978816, 0.59779598, 0.60200543]),\n",
       " 'split6_test_score': array([0.55142677, 0.54511012, 0.54803467, 0.51474786, 0.54572125,\n",
       "        0.54998979, 0.54349542, 0.5516822 , 0.54971967, 0.53357966]),\n",
       " 'split7_test_score': array([0.61496158, 0.60450253, 0.60544703, 0.55773902, 0.59328022,\n",
       "        0.60234067, 0.60234307, 0.607161  , 0.60710442, 0.60200548]),\n",
       " 'split8_test_score': array([0.61590583, 0.60847367, 0.61299124, 0.55647537, 0.59846346,\n",
       "        0.61086077, 0.60708457, 0.61268048, 0.61497679, 0.60706783]),\n",
       " 'split9_test_score': array([0.57627918, 0.57238733, 0.57780539, 0.53211178, 0.56555927,\n",
       "        0.56647311, 0.57425889, 0.57786552, 0.57504265, 0.57254859]),\n",
       " 'mean_test_score': array([0.59579215, 0.58977516, 0.59188095, 0.54188216, 0.57967379,\n",
       "        0.59117592, 0.58865294, 0.59487667, 0.59252143, 0.58743988]),\n",
       " 'std_test_score': array([0.02710724, 0.02591073, 0.02692259, 0.01775257, 0.02062493,\n",
       "        0.02505656, 0.02678623, 0.02534185, 0.02580581, 0.03200237]),\n",
       " 'rank_test_score': array([ 1,  6,  4, 10,  9,  5,  7,  2,  3,  8], dtype=int32)}"
      ]
     },
     "execution_count": 56,
     "metadata": {},
     "output_type": "execute_result"
    }
   ],
   "source": [
    "rand_search_2.cv_results_"
   ]
  },
  {
   "cell_type": "markdown",
   "metadata": {},
   "source": [
    "Note that I tried Grid Search with cv equal to 2 but it ran longer than \n",
    "Randomized Search and the results from Randomized Search were better."
   ]
  },
  {
   "cell_type": "markdown",
   "metadata": {},
   "source": [
    "It seems that the 'max_depth' hyperparameter is best at around a value of 2.  \n",
    "Adding in the 'subsample' hyperparameter to Randomized Search seems to help.\n",
    "Adding in the 'min_samples_leaf' hyperparameter to Randomized Search seemed to \n",
    "worsen the results so it was removed.\n",
    "The optimal values for the other hyperparameters seems random."
   ]
  },
  {
   "cell_type": "markdown",
   "metadata": {},
   "source": [
    "# Case 3: XGBBoost Model"
   ]
  },
  {
   "cell_type": "code",
   "execution_count": 57,
   "metadata": {},
   "outputs": [],
   "source": [
    "from xgboost import XGBRegressor\n",
    "from scipy.stats import expon"
   ]
  },
  {
   "cell_type": "code",
   "execution_count": 58,
   "metadata": {},
   "outputs": [],
   "source": [
    "model_3 = XGBRegressor()"
   ]
  },
  {
   "cell_type": "code",
   "execution_count": 59,
   "metadata": {},
   "outputs": [],
   "source": [
    "param_grid_3 = {'max_depth': randint(2, 4), \n",
    "                'n_estimators': randint(100, 150),\n",
    "                'learning_rate': uniform(0, 0.1),\n",
    "                'colsample_bytree': uniform(0.5, 0.5)}\n",
    "                #'lambda': uniform(0, 1)}\n",
    "                #'gamma': expon()}\n",
    "                #'subsample': uniform(0, 1)}\n"
   ]
  },
  {
   "cell_type": "code",
   "execution_count": 60,
   "metadata": {},
   "outputs": [
    {
     "data": {
      "text/plain": [
       "RandomizedSearchCV(cv=10,\n",
       "                   estimator=XGBRegressor(base_score=None, booster=None,\n",
       "                                          colsample_bylevel=None,\n",
       "                                          colsample_bynode=None,\n",
       "                                          colsample_bytree=None, gamma=None,\n",
       "                                          gpu_id=None, importance_type='gain',\n",
       "                                          interaction_constraints=None,\n",
       "                                          learning_rate=None,\n",
       "                                          max_delta_step=None, max_depth=None,\n",
       "                                          min_child_weight=None, missing=nan,\n",
       "                                          monotone_constraints=None,\n",
       "                                          n_estimators=100,...\n",
       "                   param_distributions={'colsample_bytree': <scipy.stats._distn_infrastructure.rv_frozen object at 0x7ffcf6b56760>,\n",
       "                                        'learning_rate': <scipy.stats._distn_infrastructure.rv_frozen object at 0x7ffcf6b56490>,\n",
       "                                        'max_depth': <scipy.stats._distn_infrastructure.rv_frozen object at 0x7ffcf6b44ee0>,\n",
       "                                        'n_estimators': <scipy.stats._distn_infrastructure.rv_frozen object at 0x7ffcf6b44a30>})"
      ]
     },
     "execution_count": 60,
     "metadata": {},
     "output_type": "execute_result"
    }
   ],
   "source": [
    "rand_search_3 = RandomizedSearchCV(model_3, param_grid_3, cv=10, n_jobs=-1)\n",
    "rand_search_3.fit(X_train, y_train)"
   ]
  },
  {
   "cell_type": "code",
   "execution_count": 61,
   "metadata": {},
   "outputs": [
    {
     "data": {
      "text/plain": [
       "{'colsample_bytree': 0.7708588895245256,\n",
       " 'learning_rate': 0.042137166825637465,\n",
       " 'max_depth': 3,\n",
       " 'n_estimators': 121}"
      ]
     },
     "execution_count": 61,
     "metadata": {},
     "output_type": "execute_result"
    }
   ],
   "source": [
    "rand_search_3.best_params_"
   ]
  },
  {
   "cell_type": "code",
   "execution_count": 62,
   "metadata": {},
   "outputs": [
    {
     "data": {
      "text/plain": [
       "0.5945070866960854"
      ]
     },
     "execution_count": 62,
     "metadata": {},
     "output_type": "execute_result"
    }
   ],
   "source": [
    "# Note that the default score for the XGBoost model is the R-squared value.\n",
    "\n",
    "rand_search_3.best_score_"
   ]
  },
  {
   "cell_type": "code",
   "execution_count": 63,
   "metadata": {},
   "outputs": [],
   "source": [
    "y_pred_3 = rand_search_3.predict(X_test)"
   ]
  },
  {
   "cell_type": "code",
   "execution_count": 64,
   "metadata": {},
   "outputs": [
    {
     "name": "stdout",
     "output_type": "stream",
     "text": [
      "MSE_3 : 1097042.6685464024\n"
     ]
    }
   ],
   "source": [
    "MSE_3 = mean_squared_error(y_test, y_pred_3)\n",
    "print(f\"MSE_3 : {MSE_3}\")"
   ]
  },
  {
   "cell_type": "code",
   "execution_count": 65,
   "metadata": {},
   "outputs": [
    {
     "name": "stdout",
     "output_type": "stream",
     "text": [
      "r2_3 : 0.6094801160177009\n"
     ]
    }
   ],
   "source": [
    "r2_3 = r2_score(y_test, y_pred_3)\n",
    "print(f\"r2_3 : {r2_3}\")"
   ]
  },
  {
   "cell_type": "code",
   "execution_count": 66,
   "metadata": {},
   "outputs": [
    {
     "data": {
      "text/plain": [
       "{'mean_fit_time': array([1.03909032, 0.75282083, 1.1732182 , 0.73367538, 1.30316644,\n",
       "        0.75279679, 0.79344692, 0.52200768, 0.62364178, 0.92010496]),\n",
       " 'std_fit_time': array([0.04928776, 0.03947182, 0.02958573, 0.02581402, 0.09083802,\n",
       "        0.05041996, 0.02968441, 0.02987651, 0.02844588, 0.0682257 ]),\n",
       " 'mean_score_time': array([0.00430787, 0.00392137, 0.00411148, 0.00416772, 0.00479288,\n",
       "        0.00406423, 0.00407586, 0.00375559, 0.00364935, 0.00387771]),\n",
       " 'std_score_time': array([0.00068195, 0.0004672 , 0.00036276, 0.00031356, 0.00101031,\n",
       "        0.00071641, 0.00058502, 0.00070301, 0.00043084, 0.00089873]),\n",
       " 'param_colsample_bytree': masked_array(data=[0.5413543709979404, 0.7810439171291317,\n",
       "                    0.9119472197771517, 0.6879092711399353,\n",
       "                    0.9820101786352733, 0.6066027042083559,\n",
       "                    0.8663415011079529, 0.5200399370924953,\n",
       "                    0.5537953271314802, 0.7708588895245256],\n",
       "              mask=[False, False, False, False, False, False, False, False,\n",
       "                    False, False],\n",
       "        fill_value='?',\n",
       "             dtype=object),\n",
       " 'param_learning_rate': masked_array(data=[0.025069998793615822, 0.08483640753880647,\n",
       "                    0.029877565947303755, 0.043626005165897944,\n",
       "                    0.06880595543292536, 0.0841336545140665,\n",
       "                    0.07237374437242734, 0.0106630616636622,\n",
       "                    0.04698561929151989, 0.042137166825637465],\n",
       "              mask=[False, False, False, False, False, False, False, False,\n",
       "                    False, False],\n",
       "        fill_value='?',\n",
       "             dtype=object),\n",
       " 'param_max_depth': masked_array(data=[3, 2, 3, 2, 3, 2, 2, 2, 2, 3],\n",
       "              mask=[False, False, False, False, False, False, False, False,\n",
       "                    False, False],\n",
       "        fill_value='?',\n",
       "             dtype=object),\n",
       " 'param_n_estimators': masked_array(data=[149, 137, 133, 136, 147, 144, 135, 106, 127, 121],\n",
       "              mask=[False, False, False, False, False, False, False, False,\n",
       "                    False, False],\n",
       "        fill_value='?',\n",
       "             dtype=object),\n",
       " 'params': [{'colsample_bytree': 0.5413543709979404,\n",
       "   'learning_rate': 0.025069998793615822,\n",
       "   'max_depth': 3,\n",
       "   'n_estimators': 149},\n",
       "  {'colsample_bytree': 0.7810439171291317,\n",
       "   'learning_rate': 0.08483640753880647,\n",
       "   'max_depth': 2,\n",
       "   'n_estimators': 137},\n",
       "  {'colsample_bytree': 0.9119472197771517,\n",
       "   'learning_rate': 0.029877565947303755,\n",
       "   'max_depth': 3,\n",
       "   'n_estimators': 133},\n",
       "  {'colsample_bytree': 0.6879092711399353,\n",
       "   'learning_rate': 0.043626005165897944,\n",
       "   'max_depth': 2,\n",
       "   'n_estimators': 136},\n",
       "  {'colsample_bytree': 0.9820101786352733,\n",
       "   'learning_rate': 0.06880595543292536,\n",
       "   'max_depth': 3,\n",
       "   'n_estimators': 147},\n",
       "  {'colsample_bytree': 0.6066027042083559,\n",
       "   'learning_rate': 0.0841336545140665,\n",
       "   'max_depth': 2,\n",
       "   'n_estimators': 144},\n",
       "  {'colsample_bytree': 0.8663415011079529,\n",
       "   'learning_rate': 0.07237374437242734,\n",
       "   'max_depth': 2,\n",
       "   'n_estimators': 135},\n",
       "  {'colsample_bytree': 0.5200399370924953,\n",
       "   'learning_rate': 0.0106630616636622,\n",
       "   'max_depth': 2,\n",
       "   'n_estimators': 106},\n",
       "  {'colsample_bytree': 0.5537953271314802,\n",
       "   'learning_rate': 0.04698561929151989,\n",
       "   'max_depth': 2,\n",
       "   'n_estimators': 127},\n",
       "  {'colsample_bytree': 0.7708588895245256,\n",
       "   'learning_rate': 0.042137166825637465,\n",
       "   'max_depth': 3,\n",
       "   'n_estimators': 121}],\n",
       " 'split0_test_score': array([0.59817067, 0.60516707, 0.60667593, 0.60203649, 0.61014466,\n",
       "        0.60350638, 0.60753987, 0.22313275, 0.59929179, 0.60937577]),\n",
       " 'split1_test_score': array([0.60559003, 0.60783053, 0.61129765, 0.60477567, 0.60588795,\n",
       "        0.60539438, 0.60874436, 0.27451272, 0.60402216, 0.60999685]),\n",
       " 'split2_test_score': array([0.55324845, 0.5479252 , 0.55284672, 0.54857505, 0.54412824,\n",
       "        0.5488556 , 0.54841761, 0.23826408, 0.54483212, 0.55072605]),\n",
       " 'split3_test_score': array([0.61219414, 0.63372521, 0.62954017, 0.62533677, 0.63608357,\n",
       "        0.63267727, 0.63398924, 0.25144405, 0.62047166, 0.63030989]),\n",
       " 'split4_test_score': array([0.57214593, 0.59199798, 0.59292822, 0.5906438 , 0.58861288,\n",
       "        0.59286287, 0.59357201, 0.15580574, 0.58559221, 0.59324314]),\n",
       " 'split5_test_score': array([0.58214088, 0.59520213, 0.59516485, 0.59171552, 0.60086636,\n",
       "        0.59486048, 0.59440355, 0.20904769, 0.58679629, 0.59506315]),\n",
       " 'split6_test_score': array([0.54466857, 0.55231027, 0.55050744, 0.54942498, 0.54971196,\n",
       "        0.55134729, 0.5504118 , 0.18156495, 0.5495809 , 0.55193619]),\n",
       " 'split7_test_score': array([0.59859199, 0.60629126, 0.60865238, 0.60358336, 0.60620429,\n",
       "        0.60629565, 0.60766515, 0.24386751, 0.59930317, 0.60853988]),\n",
       " 'split8_test_score': array([0.60653187, 0.61248661, 0.61220707, 0.61177509, 0.61561754,\n",
       "        0.61355651, 0.61630181, 0.23145925, 0.6087852 , 0.61549033]),\n",
       " 'split9_test_score': array([0.57639575, 0.57754231, 0.57985567, 0.57332818, 0.5771054 ,\n",
       "        0.57588841, 0.57849742, 0.20900414, 0.57085787, 0.58038959]),\n",
       " 'mean_test_score': array([0.58496783, 0.59304785, 0.59396761, 0.59011949, 0.59343628,\n",
       "        0.59252448, 0.59395428, 0.22181029, 0.58695334, 0.59450709]),\n",
       " 'std_test_score': array([0.02206243, 0.02552464, 0.02461084, 0.02431886, 0.02756139,\n",
       "        0.02532851, 0.02627225, 0.03288005, 0.0237235 , 0.02512039]),\n",
       " 'rank_test_score': array([ 9,  5,  2,  7,  4,  6,  3, 10,  8,  1], dtype=int32)}"
      ]
     },
     "execution_count": 66,
     "metadata": {},
     "output_type": "execute_result"
    }
   ],
   "source": [
    "rand_search_3.cv_results_"
   ]
  },
  {
   "cell_type": "markdown",
   "metadata": {},
   "source": [
    "It seems that the 'max_depth' hyperparameter is best at around a value of 2 or 3.  \n",
    "Adding in the 'subsample' hyperparameter to Randomized Search seemed to worsen \n",
    "the results so it was removed.  \n",
    "Adding in the 'colsample_bytree' hyperparameter sampled from a continuous \n",
    "uniform distribution on [0.5, 1] to Randomized Search seemed to improve the \n",
    "results.  The optimal values for the other hyperparameters seems random.  \n",
    "Adding in the 'gamma' hyperparameter to Randomized Search seemed to worsen \n",
    "the results so it was removed.  \n",
    "Adding in the 'lambda' hyperparameter to Randomized Search seemed to worsen \n",
    "the results so it was removed.  "
   ]
  },
  {
   "cell_type": "code",
   "execution_count": 67,
   "metadata": {},
   "outputs": [
    {
     "name": "stdout",
     "output_type": "stream",
     "text": [
      "MSE_b : 2814642.398833209\n",
      "MSE : 1210903.0275359943\n",
      "MSE_tree : 1116932.3160924471\n",
      "MSE_1 : 1101998.0976432804\n",
      "MSE_2 : 1093088.496465865\n",
      "MSE_3 : 1097042.6685464024\n"
     ]
    }
   ],
   "source": [
    "print(f\"MSE_b : {MSE_b}\")\n",
    "print(f\"MSE : {MSE}\")\n",
    "print(f\"MSE_tree : {MSE_tree}\")\n",
    "print(f\"MSE_1 : {MSE_1}\")\n",
    "print(f\"MSE_2 : {MSE_2}\")\n",
    "print(f\"MSE_3 : {MSE_3}\")"
   ]
  },
  {
   "cell_type": "markdown",
   "metadata": {},
   "source": [
    "It seems that all 3 ensemble models perform better than the Linear Model.  \n",
    "The 2 Boosting models (Cases 2 and 3) seem to work best.  \n",
    "The Decision Tree model seems to work as well as the ensemble models."
   ]
  },
  {
   "cell_type": "code",
   "execution_count": null,
   "metadata": {},
   "outputs": [],
   "source": []
  }
 ],
 "metadata": {
  "anaconda-cloud": {},
  "kernelspec": {
   "display_name": "Python 3",
   "language": "python",
   "name": "python3"
  },
  "language_info": {
   "codemirror_mode": {
    "name": "ipython",
    "version": 3
   },
   "file_extension": ".py",
   "mimetype": "text/x-python",
   "name": "python",
   "nbconvert_exporter": "python",
   "pygments_lexer": "ipython3",
   "version": "3.8.3"
  }
 },
 "nbformat": 4,
 "nbformat_minor": 4
}
