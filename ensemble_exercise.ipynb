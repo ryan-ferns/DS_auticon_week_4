{
 "cells": [
  {
   "cell_type": "markdown",
   "metadata": {},
   "source": [
    "# Perdiction of sales\n",
    "\n",
    "### Problem Statement\n",
    "The dataset represents sales data for 1559 products across 10 stores in different cities. Also, certain attributes of each product and store are available. The aim is to build a predictive model and find out the sales of each product at a particular store.\n",
    "\n",
    "|Variable|Description|\n",
    "|: ------------- |:-------------|\n",
    "|Item_Identifier|Unique product ID|\n",
    "|Item_Weight|Weight of product|\n",
    "|Item_Fat_Content|Whether the product is low fat or not|\n",
    "|Item_Visibility|The % of total display area of all products in a store allocated to the particular product|\n",
    "|Item_Type|The category to which the product belongs|\n",
    "|Item_MRP|Maximum Retail Price (list price) of the product|\n",
    "|Outlet_Identifier|Unique store ID|\n",
    "|Outlet_Establishment_Year|The year in which store was established|\n",
    "|Outlet_Size|The size of the store in terms of ground area covered|\n",
    "|Outlet_Location_Type|The type of city in which the store is located|\n",
    "|Outlet_Type|Whether the outlet is just a grocery store or some sort of supermarket|\n",
    "|Item_Outlet_Sales|Sales of the product in the particulat store. This is the outcome variable to be predicted.|\n",
    "\n",
    "Please note that the data may have missing values as some stores might not report all the data due to technical glitches. Hence, it will be required to treat them accordingly.\n",
    "\n",
    "\n",
    "\n",
    "### Explore the problem in following stages:\n",
    "\n",
    "1. Hypothesis Generation – understanding the problem better by brainstorming possible factors that can impact the outcome\n",
    "2. Data Exploration – looking at categorical and continuous feature summaries and making inferences about the data.\n",
    "3. Data Cleaning – imputing missing values in the data and checking for outliers\n",
    "4. Feature Engineering – modifying existing variables and creating new ones for analysis\n",
    "5. Model Building – making predictive models on the data"
   ]
  },
  {
   "cell_type": "code",
   "execution_count": 1,
   "metadata": {},
   "outputs": [],
   "source": [
    "import pandas as pd\n",
    "import numpy as np"
   ]
  },
  {
   "cell_type": "code",
   "execution_count": 2,
   "metadata": {},
   "outputs": [],
   "source": [
    "# Load the data.\n",
    "\n",
    "data = pd.read_csv(\"../DS_auticon_week_3/data_feature_engineering_exercise.csv\", delimiter=',')"
   ]
  },
  {
   "cell_type": "code",
   "execution_count": 3,
   "metadata": {},
   "outputs": [
    {
     "data": {
      "text/plain": [
       "(8523, 44)"
      ]
     },
     "execution_count": 3,
     "metadata": {},
     "output_type": "execute_result"
    }
   ],
   "source": [
    "data.shape"
   ]
  },
  {
   "cell_type": "code",
   "execution_count": 4,
   "metadata": {},
   "outputs": [
    {
     "data": {
      "text/html": [
       "<div>\n",
       "<style scoped>\n",
       "    .dataframe tbody tr th:only-of-type {\n",
       "        vertical-align: middle;\n",
       "    }\n",
       "\n",
       "    .dataframe tbody tr th {\n",
       "        vertical-align: top;\n",
       "    }\n",
       "\n",
       "    .dataframe thead th {\n",
       "        text-align: right;\n",
       "    }\n",
       "</style>\n",
       "<table border=\"1\" class=\"dataframe\">\n",
       "  <thead>\n",
       "    <tr style=\"text-align: right;\">\n",
       "      <th></th>\n",
       "      <th>Item_Weight</th>\n",
       "      <th>Item_Fat_Content</th>\n",
       "      <th>Item_Visibility</th>\n",
       "      <th>Item_MRP</th>\n",
       "      <th>Outlet_Establishment_Year</th>\n",
       "      <th>Outlet_Size</th>\n",
       "      <th>Outlet_Location_Type</th>\n",
       "      <th>Item_Outlet_Sales</th>\n",
       "      <th>Item_Weight_missing_ind</th>\n",
       "      <th>Outlet_Size_missing_ind</th>\n",
       "      <th>...</th>\n",
       "      <th>Outlet_Identifier_OUT045</th>\n",
       "      <th>Outlet_Identifier_OUT046</th>\n",
       "      <th>Outlet_Identifier_OUT049</th>\n",
       "      <th>Outlet_Type_Grocery Store</th>\n",
       "      <th>Outlet_Type_Supermarket Type1</th>\n",
       "      <th>Outlet_Type_Supermarket Type2</th>\n",
       "      <th>Outlet_Type_Supermarket Type3</th>\n",
       "      <th>Item_Identifier_Category_DR</th>\n",
       "      <th>Item_Identifier_Category_FD</th>\n",
       "      <th>Item_Identifier_Category_NC</th>\n",
       "    </tr>\n",
       "  </thead>\n",
       "  <tbody>\n",
       "    <tr>\n",
       "      <th>0</th>\n",
       "      <td>9.300</td>\n",
       "      <td>1</td>\n",
       "      <td>0.016047</td>\n",
       "      <td>249.8092</td>\n",
       "      <td>1999</td>\n",
       "      <td>2</td>\n",
       "      <td>3</td>\n",
       "      <td>3735.1380</td>\n",
       "      <td>0</td>\n",
       "      <td>0</td>\n",
       "      <td>...</td>\n",
       "      <td>0</td>\n",
       "      <td>0</td>\n",
       "      <td>1</td>\n",
       "      <td>0</td>\n",
       "      <td>1</td>\n",
       "      <td>0</td>\n",
       "      <td>0</td>\n",
       "      <td>0</td>\n",
       "      <td>1</td>\n",
       "      <td>0</td>\n",
       "    </tr>\n",
       "    <tr>\n",
       "      <th>1</th>\n",
       "      <td>5.920</td>\n",
       "      <td>2</td>\n",
       "      <td>0.019278</td>\n",
       "      <td>48.2692</td>\n",
       "      <td>2009</td>\n",
       "      <td>2</td>\n",
       "      <td>1</td>\n",
       "      <td>443.4228</td>\n",
       "      <td>0</td>\n",
       "      <td>0</td>\n",
       "      <td>...</td>\n",
       "      <td>0</td>\n",
       "      <td>0</td>\n",
       "      <td>0</td>\n",
       "      <td>0</td>\n",
       "      <td>0</td>\n",
       "      <td>1</td>\n",
       "      <td>0</td>\n",
       "      <td>1</td>\n",
       "      <td>0</td>\n",
       "      <td>0</td>\n",
       "    </tr>\n",
       "    <tr>\n",
       "      <th>2</th>\n",
       "      <td>17.500</td>\n",
       "      <td>1</td>\n",
       "      <td>0.016760</td>\n",
       "      <td>141.6180</td>\n",
       "      <td>1999</td>\n",
       "      <td>2</td>\n",
       "      <td>3</td>\n",
       "      <td>2097.2700</td>\n",
       "      <td>0</td>\n",
       "      <td>0</td>\n",
       "      <td>...</td>\n",
       "      <td>0</td>\n",
       "      <td>0</td>\n",
       "      <td>1</td>\n",
       "      <td>0</td>\n",
       "      <td>1</td>\n",
       "      <td>0</td>\n",
       "      <td>0</td>\n",
       "      <td>0</td>\n",
       "      <td>1</td>\n",
       "      <td>0</td>\n",
       "    </tr>\n",
       "    <tr>\n",
       "      <th>3</th>\n",
       "      <td>19.200</td>\n",
       "      <td>2</td>\n",
       "      <td>0.000000</td>\n",
       "      <td>182.0950</td>\n",
       "      <td>1998</td>\n",
       "      <td>0</td>\n",
       "      <td>1</td>\n",
       "      <td>732.3800</td>\n",
       "      <td>0</td>\n",
       "      <td>1</td>\n",
       "      <td>...</td>\n",
       "      <td>0</td>\n",
       "      <td>0</td>\n",
       "      <td>0</td>\n",
       "      <td>1</td>\n",
       "      <td>0</td>\n",
       "      <td>0</td>\n",
       "      <td>0</td>\n",
       "      <td>0</td>\n",
       "      <td>1</td>\n",
       "      <td>0</td>\n",
       "    </tr>\n",
       "    <tr>\n",
       "      <th>4</th>\n",
       "      <td>8.930</td>\n",
       "      <td>0</td>\n",
       "      <td>0.000000</td>\n",
       "      <td>53.8614</td>\n",
       "      <td>1987</td>\n",
       "      <td>3</td>\n",
       "      <td>1</td>\n",
       "      <td>994.7052</td>\n",
       "      <td>0</td>\n",
       "      <td>0</td>\n",
       "      <td>...</td>\n",
       "      <td>0</td>\n",
       "      <td>0</td>\n",
       "      <td>0</td>\n",
       "      <td>0</td>\n",
       "      <td>1</td>\n",
       "      <td>0</td>\n",
       "      <td>0</td>\n",
       "      <td>0</td>\n",
       "      <td>0</td>\n",
       "      <td>1</td>\n",
       "    </tr>\n",
       "    <tr>\n",
       "      <th>5</th>\n",
       "      <td>10.395</td>\n",
       "      <td>2</td>\n",
       "      <td>0.000000</td>\n",
       "      <td>51.4008</td>\n",
       "      <td>2009</td>\n",
       "      <td>2</td>\n",
       "      <td>1</td>\n",
       "      <td>556.6088</td>\n",
       "      <td>0</td>\n",
       "      <td>0</td>\n",
       "      <td>...</td>\n",
       "      <td>0</td>\n",
       "      <td>0</td>\n",
       "      <td>0</td>\n",
       "      <td>0</td>\n",
       "      <td>0</td>\n",
       "      <td>1</td>\n",
       "      <td>0</td>\n",
       "      <td>0</td>\n",
       "      <td>1</td>\n",
       "      <td>0</td>\n",
       "    </tr>\n",
       "    <tr>\n",
       "      <th>6</th>\n",
       "      <td>13.650</td>\n",
       "      <td>2</td>\n",
       "      <td>0.012741</td>\n",
       "      <td>57.6588</td>\n",
       "      <td>1987</td>\n",
       "      <td>3</td>\n",
       "      <td>1</td>\n",
       "      <td>343.5528</td>\n",
       "      <td>0</td>\n",
       "      <td>0</td>\n",
       "      <td>...</td>\n",
       "      <td>0</td>\n",
       "      <td>0</td>\n",
       "      <td>0</td>\n",
       "      <td>0</td>\n",
       "      <td>1</td>\n",
       "      <td>0</td>\n",
       "      <td>0</td>\n",
       "      <td>0</td>\n",
       "      <td>1</td>\n",
       "      <td>0</td>\n",
       "    </tr>\n",
       "    <tr>\n",
       "      <th>7</th>\n",
       "      <td>19.000</td>\n",
       "      <td>1</td>\n",
       "      <td>0.127470</td>\n",
       "      <td>107.7622</td>\n",
       "      <td>1985</td>\n",
       "      <td>2</td>\n",
       "      <td>1</td>\n",
       "      <td>4022.7636</td>\n",
       "      <td>1</td>\n",
       "      <td>0</td>\n",
       "      <td>...</td>\n",
       "      <td>0</td>\n",
       "      <td>0</td>\n",
       "      <td>0</td>\n",
       "      <td>0</td>\n",
       "      <td>0</td>\n",
       "      <td>0</td>\n",
       "      <td>1</td>\n",
       "      <td>0</td>\n",
       "      <td>1</td>\n",
       "      <td>0</td>\n",
       "    </tr>\n",
       "    <tr>\n",
       "      <th>8</th>\n",
       "      <td>16.200</td>\n",
       "      <td>2</td>\n",
       "      <td>0.016687</td>\n",
       "      <td>96.9726</td>\n",
       "      <td>2002</td>\n",
       "      <td>0</td>\n",
       "      <td>2</td>\n",
       "      <td>1076.5986</td>\n",
       "      <td>0</td>\n",
       "      <td>1</td>\n",
       "      <td>...</td>\n",
       "      <td>1</td>\n",
       "      <td>0</td>\n",
       "      <td>0</td>\n",
       "      <td>0</td>\n",
       "      <td>1</td>\n",
       "      <td>0</td>\n",
       "      <td>0</td>\n",
       "      <td>0</td>\n",
       "      <td>1</td>\n",
       "      <td>0</td>\n",
       "    </tr>\n",
       "    <tr>\n",
       "      <th>9</th>\n",
       "      <td>19.200</td>\n",
       "      <td>2</td>\n",
       "      <td>0.094450</td>\n",
       "      <td>187.8214</td>\n",
       "      <td>2007</td>\n",
       "      <td>0</td>\n",
       "      <td>2</td>\n",
       "      <td>4710.5350</td>\n",
       "      <td>0</td>\n",
       "      <td>1</td>\n",
       "      <td>...</td>\n",
       "      <td>0</td>\n",
       "      <td>0</td>\n",
       "      <td>0</td>\n",
       "      <td>0</td>\n",
       "      <td>1</td>\n",
       "      <td>0</td>\n",
       "      <td>0</td>\n",
       "      <td>0</td>\n",
       "      <td>1</td>\n",
       "      <td>0</td>\n",
       "    </tr>\n",
       "  </tbody>\n",
       "</table>\n",
       "<p>10 rows × 44 columns</p>\n",
       "</div>"
      ],
      "text/plain": [
       "   Item_Weight  Item_Fat_Content  Item_Visibility  Item_MRP  \\\n",
       "0        9.300                 1         0.016047  249.8092   \n",
       "1        5.920                 2         0.019278   48.2692   \n",
       "2       17.500                 1         0.016760  141.6180   \n",
       "3       19.200                 2         0.000000  182.0950   \n",
       "4        8.930                 0         0.000000   53.8614   \n",
       "5       10.395                 2         0.000000   51.4008   \n",
       "6       13.650                 2         0.012741   57.6588   \n",
       "7       19.000                 1         0.127470  107.7622   \n",
       "8       16.200                 2         0.016687   96.9726   \n",
       "9       19.200                 2         0.094450  187.8214   \n",
       "\n",
       "   Outlet_Establishment_Year  Outlet_Size  Outlet_Location_Type  \\\n",
       "0                       1999            2                     3   \n",
       "1                       2009            2                     1   \n",
       "2                       1999            2                     3   \n",
       "3                       1998            0                     1   \n",
       "4                       1987            3                     1   \n",
       "5                       2009            2                     1   \n",
       "6                       1987            3                     1   \n",
       "7                       1985            2                     1   \n",
       "8                       2002            0                     2   \n",
       "9                       2007            0                     2   \n",
       "\n",
       "   Item_Outlet_Sales  Item_Weight_missing_ind  Outlet_Size_missing_ind  ...  \\\n",
       "0          3735.1380                        0                        0  ...   \n",
       "1           443.4228                        0                        0  ...   \n",
       "2          2097.2700                        0                        0  ...   \n",
       "3           732.3800                        0                        1  ...   \n",
       "4           994.7052                        0                        0  ...   \n",
       "5           556.6088                        0                        0  ...   \n",
       "6           343.5528                        0                        0  ...   \n",
       "7          4022.7636                        1                        0  ...   \n",
       "8          1076.5986                        0                        1  ...   \n",
       "9          4710.5350                        0                        1  ...   \n",
       "\n",
       "   Outlet_Identifier_OUT045  Outlet_Identifier_OUT046  \\\n",
       "0                         0                         0   \n",
       "1                         0                         0   \n",
       "2                         0                         0   \n",
       "3                         0                         0   \n",
       "4                         0                         0   \n",
       "5                         0                         0   \n",
       "6                         0                         0   \n",
       "7                         0                         0   \n",
       "8                         1                         0   \n",
       "9                         0                         0   \n",
       "\n",
       "   Outlet_Identifier_OUT049  Outlet_Type_Grocery Store  \\\n",
       "0                         1                          0   \n",
       "1                         0                          0   \n",
       "2                         1                          0   \n",
       "3                         0                          1   \n",
       "4                         0                          0   \n",
       "5                         0                          0   \n",
       "6                         0                          0   \n",
       "7                         0                          0   \n",
       "8                         0                          0   \n",
       "9                         0                          0   \n",
       "\n",
       "   Outlet_Type_Supermarket Type1  Outlet_Type_Supermarket Type2  \\\n",
       "0                              1                              0   \n",
       "1                              0                              1   \n",
       "2                              1                              0   \n",
       "3                              0                              0   \n",
       "4                              1                              0   \n",
       "5                              0                              1   \n",
       "6                              1                              0   \n",
       "7                              0                              0   \n",
       "8                              1                              0   \n",
       "9                              1                              0   \n",
       "\n",
       "   Outlet_Type_Supermarket Type3  Item_Identifier_Category_DR  \\\n",
       "0                              0                            0   \n",
       "1                              0                            1   \n",
       "2                              0                            0   \n",
       "3                              0                            0   \n",
       "4                              0                            0   \n",
       "5                              0                            0   \n",
       "6                              0                            0   \n",
       "7                              1                            0   \n",
       "8                              0                            0   \n",
       "9                              0                            0   \n",
       "\n",
       "   Item_Identifier_Category_FD  Item_Identifier_Category_NC  \n",
       "0                            1                            0  \n",
       "1                            0                            0  \n",
       "2                            1                            0  \n",
       "3                            1                            0  \n",
       "4                            0                            1  \n",
       "5                            1                            0  \n",
       "6                            1                            0  \n",
       "7                            1                            0  \n",
       "8                            1                            0  \n",
       "9                            1                            0  \n",
       "\n",
       "[10 rows x 44 columns]"
      ]
     },
     "execution_count": 4,
     "metadata": {},
     "output_type": "execute_result"
    }
   ],
   "source": [
    "data.head(10)"
   ]
  },
  {
   "cell_type": "code",
   "execution_count": 5,
   "metadata": {},
   "outputs": [],
   "source": [
    "# Identify the features X and target variable y.\n",
    "\n",
    "y = data[\"Item_Outlet_Sales\"]\n",
    "X = data.drop(\"Item_Outlet_Sales\", axis=1)"
   ]
  },
  {
   "cell_type": "code",
   "execution_count": 6,
   "metadata": {},
   "outputs": [
    {
     "data": {
      "text/html": [
       "<div>\n",
       "<style scoped>\n",
       "    .dataframe tbody tr th:only-of-type {\n",
       "        vertical-align: middle;\n",
       "    }\n",
       "\n",
       "    .dataframe tbody tr th {\n",
       "        vertical-align: top;\n",
       "    }\n",
       "\n",
       "    .dataframe thead th {\n",
       "        text-align: right;\n",
       "    }\n",
       "</style>\n",
       "<table border=\"1\" class=\"dataframe\">\n",
       "  <thead>\n",
       "    <tr style=\"text-align: right;\">\n",
       "      <th></th>\n",
       "      <th>Item_Weight</th>\n",
       "      <th>Item_Fat_Content</th>\n",
       "      <th>Item_Visibility</th>\n",
       "      <th>Item_MRP</th>\n",
       "      <th>Outlet_Establishment_Year</th>\n",
       "      <th>Outlet_Size</th>\n",
       "      <th>Outlet_Location_Type</th>\n",
       "      <th>Item_Weight_missing_ind</th>\n",
       "      <th>Outlet_Size_missing_ind</th>\n",
       "      <th>Outlet_Operating_Year</th>\n",
       "      <th>...</th>\n",
       "      <th>Outlet_Identifier_OUT045</th>\n",
       "      <th>Outlet_Identifier_OUT046</th>\n",
       "      <th>Outlet_Identifier_OUT049</th>\n",
       "      <th>Outlet_Type_Grocery Store</th>\n",
       "      <th>Outlet_Type_Supermarket Type1</th>\n",
       "      <th>Outlet_Type_Supermarket Type2</th>\n",
       "      <th>Outlet_Type_Supermarket Type3</th>\n",
       "      <th>Item_Identifier_Category_DR</th>\n",
       "      <th>Item_Identifier_Category_FD</th>\n",
       "      <th>Item_Identifier_Category_NC</th>\n",
       "    </tr>\n",
       "  </thead>\n",
       "  <tbody>\n",
       "    <tr>\n",
       "      <th>0</th>\n",
       "      <td>9.300</td>\n",
       "      <td>1</td>\n",
       "      <td>0.016047</td>\n",
       "      <td>249.8092</td>\n",
       "      <td>1999</td>\n",
       "      <td>2</td>\n",
       "      <td>3</td>\n",
       "      <td>0</td>\n",
       "      <td>0</td>\n",
       "      <td>21</td>\n",
       "      <td>...</td>\n",
       "      <td>0</td>\n",
       "      <td>0</td>\n",
       "      <td>1</td>\n",
       "      <td>0</td>\n",
       "      <td>1</td>\n",
       "      <td>0</td>\n",
       "      <td>0</td>\n",
       "      <td>0</td>\n",
       "      <td>1</td>\n",
       "      <td>0</td>\n",
       "    </tr>\n",
       "    <tr>\n",
       "      <th>1</th>\n",
       "      <td>5.920</td>\n",
       "      <td>2</td>\n",
       "      <td>0.019278</td>\n",
       "      <td>48.2692</td>\n",
       "      <td>2009</td>\n",
       "      <td>2</td>\n",
       "      <td>1</td>\n",
       "      <td>0</td>\n",
       "      <td>0</td>\n",
       "      <td>11</td>\n",
       "      <td>...</td>\n",
       "      <td>0</td>\n",
       "      <td>0</td>\n",
       "      <td>0</td>\n",
       "      <td>0</td>\n",
       "      <td>0</td>\n",
       "      <td>1</td>\n",
       "      <td>0</td>\n",
       "      <td>1</td>\n",
       "      <td>0</td>\n",
       "      <td>0</td>\n",
       "    </tr>\n",
       "    <tr>\n",
       "      <th>2</th>\n",
       "      <td>17.500</td>\n",
       "      <td>1</td>\n",
       "      <td>0.016760</td>\n",
       "      <td>141.6180</td>\n",
       "      <td>1999</td>\n",
       "      <td>2</td>\n",
       "      <td>3</td>\n",
       "      <td>0</td>\n",
       "      <td>0</td>\n",
       "      <td>21</td>\n",
       "      <td>...</td>\n",
       "      <td>0</td>\n",
       "      <td>0</td>\n",
       "      <td>1</td>\n",
       "      <td>0</td>\n",
       "      <td>1</td>\n",
       "      <td>0</td>\n",
       "      <td>0</td>\n",
       "      <td>0</td>\n",
       "      <td>1</td>\n",
       "      <td>0</td>\n",
       "    </tr>\n",
       "    <tr>\n",
       "      <th>3</th>\n",
       "      <td>19.200</td>\n",
       "      <td>2</td>\n",
       "      <td>0.000000</td>\n",
       "      <td>182.0950</td>\n",
       "      <td>1998</td>\n",
       "      <td>0</td>\n",
       "      <td>1</td>\n",
       "      <td>0</td>\n",
       "      <td>1</td>\n",
       "      <td>22</td>\n",
       "      <td>...</td>\n",
       "      <td>0</td>\n",
       "      <td>0</td>\n",
       "      <td>0</td>\n",
       "      <td>1</td>\n",
       "      <td>0</td>\n",
       "      <td>0</td>\n",
       "      <td>0</td>\n",
       "      <td>0</td>\n",
       "      <td>1</td>\n",
       "      <td>0</td>\n",
       "    </tr>\n",
       "    <tr>\n",
       "      <th>4</th>\n",
       "      <td>8.930</td>\n",
       "      <td>0</td>\n",
       "      <td>0.000000</td>\n",
       "      <td>53.8614</td>\n",
       "      <td>1987</td>\n",
       "      <td>3</td>\n",
       "      <td>1</td>\n",
       "      <td>0</td>\n",
       "      <td>0</td>\n",
       "      <td>33</td>\n",
       "      <td>...</td>\n",
       "      <td>0</td>\n",
       "      <td>0</td>\n",
       "      <td>0</td>\n",
       "      <td>0</td>\n",
       "      <td>1</td>\n",
       "      <td>0</td>\n",
       "      <td>0</td>\n",
       "      <td>0</td>\n",
       "      <td>0</td>\n",
       "      <td>1</td>\n",
       "    </tr>\n",
       "    <tr>\n",
       "      <th>5</th>\n",
       "      <td>10.395</td>\n",
       "      <td>2</td>\n",
       "      <td>0.000000</td>\n",
       "      <td>51.4008</td>\n",
       "      <td>2009</td>\n",
       "      <td>2</td>\n",
       "      <td>1</td>\n",
       "      <td>0</td>\n",
       "      <td>0</td>\n",
       "      <td>11</td>\n",
       "      <td>...</td>\n",
       "      <td>0</td>\n",
       "      <td>0</td>\n",
       "      <td>0</td>\n",
       "      <td>0</td>\n",
       "      <td>0</td>\n",
       "      <td>1</td>\n",
       "      <td>0</td>\n",
       "      <td>0</td>\n",
       "      <td>1</td>\n",
       "      <td>0</td>\n",
       "    </tr>\n",
       "    <tr>\n",
       "      <th>6</th>\n",
       "      <td>13.650</td>\n",
       "      <td>2</td>\n",
       "      <td>0.012741</td>\n",
       "      <td>57.6588</td>\n",
       "      <td>1987</td>\n",
       "      <td>3</td>\n",
       "      <td>1</td>\n",
       "      <td>0</td>\n",
       "      <td>0</td>\n",
       "      <td>33</td>\n",
       "      <td>...</td>\n",
       "      <td>0</td>\n",
       "      <td>0</td>\n",
       "      <td>0</td>\n",
       "      <td>0</td>\n",
       "      <td>1</td>\n",
       "      <td>0</td>\n",
       "      <td>0</td>\n",
       "      <td>0</td>\n",
       "      <td>1</td>\n",
       "      <td>0</td>\n",
       "    </tr>\n",
       "    <tr>\n",
       "      <th>7</th>\n",
       "      <td>19.000</td>\n",
       "      <td>1</td>\n",
       "      <td>0.127470</td>\n",
       "      <td>107.7622</td>\n",
       "      <td>1985</td>\n",
       "      <td>2</td>\n",
       "      <td>1</td>\n",
       "      <td>1</td>\n",
       "      <td>0</td>\n",
       "      <td>35</td>\n",
       "      <td>...</td>\n",
       "      <td>0</td>\n",
       "      <td>0</td>\n",
       "      <td>0</td>\n",
       "      <td>0</td>\n",
       "      <td>0</td>\n",
       "      <td>0</td>\n",
       "      <td>1</td>\n",
       "      <td>0</td>\n",
       "      <td>1</td>\n",
       "      <td>0</td>\n",
       "    </tr>\n",
       "    <tr>\n",
       "      <th>8</th>\n",
       "      <td>16.200</td>\n",
       "      <td>2</td>\n",
       "      <td>0.016687</td>\n",
       "      <td>96.9726</td>\n",
       "      <td>2002</td>\n",
       "      <td>0</td>\n",
       "      <td>2</td>\n",
       "      <td>0</td>\n",
       "      <td>1</td>\n",
       "      <td>18</td>\n",
       "      <td>...</td>\n",
       "      <td>1</td>\n",
       "      <td>0</td>\n",
       "      <td>0</td>\n",
       "      <td>0</td>\n",
       "      <td>1</td>\n",
       "      <td>0</td>\n",
       "      <td>0</td>\n",
       "      <td>0</td>\n",
       "      <td>1</td>\n",
       "      <td>0</td>\n",
       "    </tr>\n",
       "    <tr>\n",
       "      <th>9</th>\n",
       "      <td>19.200</td>\n",
       "      <td>2</td>\n",
       "      <td>0.094450</td>\n",
       "      <td>187.8214</td>\n",
       "      <td>2007</td>\n",
       "      <td>0</td>\n",
       "      <td>2</td>\n",
       "      <td>0</td>\n",
       "      <td>1</td>\n",
       "      <td>13</td>\n",
       "      <td>...</td>\n",
       "      <td>0</td>\n",
       "      <td>0</td>\n",
       "      <td>0</td>\n",
       "      <td>0</td>\n",
       "      <td>1</td>\n",
       "      <td>0</td>\n",
       "      <td>0</td>\n",
       "      <td>0</td>\n",
       "      <td>1</td>\n",
       "      <td>0</td>\n",
       "    </tr>\n",
       "  </tbody>\n",
       "</table>\n",
       "<p>10 rows × 43 columns</p>\n",
       "</div>"
      ],
      "text/plain": [
       "   Item_Weight  Item_Fat_Content  Item_Visibility  Item_MRP  \\\n",
       "0        9.300                 1         0.016047  249.8092   \n",
       "1        5.920                 2         0.019278   48.2692   \n",
       "2       17.500                 1         0.016760  141.6180   \n",
       "3       19.200                 2         0.000000  182.0950   \n",
       "4        8.930                 0         0.000000   53.8614   \n",
       "5       10.395                 2         0.000000   51.4008   \n",
       "6       13.650                 2         0.012741   57.6588   \n",
       "7       19.000                 1         0.127470  107.7622   \n",
       "8       16.200                 2         0.016687   96.9726   \n",
       "9       19.200                 2         0.094450  187.8214   \n",
       "\n",
       "   Outlet_Establishment_Year  Outlet_Size  Outlet_Location_Type  \\\n",
       "0                       1999            2                     3   \n",
       "1                       2009            2                     1   \n",
       "2                       1999            2                     3   \n",
       "3                       1998            0                     1   \n",
       "4                       1987            3                     1   \n",
       "5                       2009            2                     1   \n",
       "6                       1987            3                     1   \n",
       "7                       1985            2                     1   \n",
       "8                       2002            0                     2   \n",
       "9                       2007            0                     2   \n",
       "\n",
       "   Item_Weight_missing_ind  Outlet_Size_missing_ind  Outlet_Operating_Year  \\\n",
       "0                        0                        0                     21   \n",
       "1                        0                        0                     11   \n",
       "2                        0                        0                     21   \n",
       "3                        0                        1                     22   \n",
       "4                        0                        0                     33   \n",
       "5                        0                        0                     11   \n",
       "6                        0                        0                     33   \n",
       "7                        1                        0                     35   \n",
       "8                        0                        1                     18   \n",
       "9                        0                        1                     13   \n",
       "\n",
       "   ...  Outlet_Identifier_OUT045  Outlet_Identifier_OUT046  \\\n",
       "0  ...                         0                         0   \n",
       "1  ...                         0                         0   \n",
       "2  ...                         0                         0   \n",
       "3  ...                         0                         0   \n",
       "4  ...                         0                         0   \n",
       "5  ...                         0                         0   \n",
       "6  ...                         0                         0   \n",
       "7  ...                         0                         0   \n",
       "8  ...                         1                         0   \n",
       "9  ...                         0                         0   \n",
       "\n",
       "   Outlet_Identifier_OUT049  Outlet_Type_Grocery Store  \\\n",
       "0                         1                          0   \n",
       "1                         0                          0   \n",
       "2                         1                          0   \n",
       "3                         0                          1   \n",
       "4                         0                          0   \n",
       "5                         0                          0   \n",
       "6                         0                          0   \n",
       "7                         0                          0   \n",
       "8                         0                          0   \n",
       "9                         0                          0   \n",
       "\n",
       "   Outlet_Type_Supermarket Type1  Outlet_Type_Supermarket Type2  \\\n",
       "0                              1                              0   \n",
       "1                              0                              1   \n",
       "2                              1                              0   \n",
       "3                              0                              0   \n",
       "4                              1                              0   \n",
       "5                              0                              1   \n",
       "6                              1                              0   \n",
       "7                              0                              0   \n",
       "8                              1                              0   \n",
       "9                              1                              0   \n",
       "\n",
       "   Outlet_Type_Supermarket Type3  Item_Identifier_Category_DR  \\\n",
       "0                              0                            0   \n",
       "1                              0                            1   \n",
       "2                              0                            0   \n",
       "3                              0                            0   \n",
       "4                              0                            0   \n",
       "5                              0                            0   \n",
       "6                              0                            0   \n",
       "7                              1                            0   \n",
       "8                              0                            0   \n",
       "9                              0                            0   \n",
       "\n",
       "   Item_Identifier_Category_FD  Item_Identifier_Category_NC  \n",
       "0                            1                            0  \n",
       "1                            0                            0  \n",
       "2                            1                            0  \n",
       "3                            1                            0  \n",
       "4                            0                            1  \n",
       "5                            1                            0  \n",
       "6                            1                            0  \n",
       "7                            1                            0  \n",
       "8                            1                            0  \n",
       "9                            1                            0  \n",
       "\n",
       "[10 rows x 43 columns]"
      ]
     },
     "execution_count": 6,
     "metadata": {},
     "output_type": "execute_result"
    }
   ],
   "source": [
    "X.head(10)"
   ]
  },
  {
   "cell_type": "code",
   "execution_count": 7,
   "metadata": {},
   "outputs": [
    {
     "data": {
      "text/plain": [
       "0    3735.1380\n",
       "1     443.4228\n",
       "2    2097.2700\n",
       "3     732.3800\n",
       "4     994.7052\n",
       "5     556.6088\n",
       "6     343.5528\n",
       "7    4022.7636\n",
       "8    1076.5986\n",
       "9    4710.5350\n",
       "Name: Item_Outlet_Sales, dtype: float64"
      ]
     },
     "execution_count": 7,
     "metadata": {},
     "output_type": "execute_result"
    }
   ],
   "source": [
    "y.head(10)"
   ]
  },
  {
   "cell_type": "markdown",
   "metadata": {},
   "source": [
    "Split the data in 80% train set and 20% test set."
   ]
  },
  {
   "cell_type": "code",
   "execution_count": 8,
   "metadata": {},
   "outputs": [],
   "source": [
    "from sklearn.model_selection import train_test_split"
   ]
  },
  {
   "cell_type": "code",
   "execution_count": 9,
   "metadata": {},
   "outputs": [],
   "source": [
    "X_train, X_test, y_train, y_test = train_test_split(X, y, train_size=0.8,\n",
    "                                                    test_size=0.2)"
   ]
  },
  {
   "cell_type": "code",
   "execution_count": 10,
   "metadata": {},
   "outputs": [
    {
     "name": "stdout",
     "output_type": "stream",
     "text": [
      "Shape of X_train: (6818, 43)\n",
      "Shape of X_test: (1705, 43)\n",
      "Shape of y_train: (6818,)\n",
      "Shape of y_test: (1705,)\n"
     ]
    }
   ],
   "source": [
    "print(\"Shape of X_train:\", X_train.shape)\n",
    "print(\"Shape of X_test:\", X_test.shape)\n",
    "print(\"Shape of y_train:\", y_train.shape)\n",
    "print(\"Shape of y_test:\", y_test.shape)"
   ]
  },
  {
   "cell_type": "markdown",
   "metadata": {},
   "source": [
    "First, we will make a baseline model."
   ]
  },
  {
   "cell_type": "code",
   "execution_count": 11,
   "metadata": {},
   "outputs": [],
   "source": [
    "from sklearn.dummy import DummyRegressor\n",
    "from sklearn.metrics import mean_squared_error, r2_score"
   ]
  },
  {
   "cell_type": "code",
   "execution_count": 12,
   "metadata": {},
   "outputs": [],
   "source": [
    "base = DummyRegressor(strategy = 'mean')"
   ]
  },
  {
   "cell_type": "code",
   "execution_count": 13,
   "metadata": {},
   "outputs": [
    {
     "data": {
      "text/plain": [
       "DummyRegressor()"
      ]
     },
     "execution_count": 13,
     "metadata": {},
     "output_type": "execute_result"
    }
   ],
   "source": [
    "base.fit(X_train, y_train)"
   ]
  },
  {
   "cell_type": "code",
   "execution_count": 14,
   "metadata": {},
   "outputs": [],
   "source": [
    "y_base = base.predict(X_test)"
   ]
  },
  {
   "cell_type": "code",
   "execution_count": 15,
   "metadata": {},
   "outputs": [
    {
     "data": {
      "text/plain": [
       "array([2182.13049698, 2182.13049698, 2182.13049698, ..., 2182.13049698,\n",
       "       2182.13049698, 2182.13049698])"
      ]
     },
     "execution_count": 15,
     "metadata": {},
     "output_type": "execute_result"
    }
   ],
   "source": [
    "y_base"
   ]
  },
  {
   "cell_type": "code",
   "execution_count": 16,
   "metadata": {},
   "outputs": [
    {
     "name": "stdout",
     "output_type": "stream",
     "text": [
      "MSE_b : 2936287.9236949654\n"
     ]
    }
   ],
   "source": [
    "MSE_b = mean_squared_error(y_test, y_base)\n",
    "print(f\"MSE_b : {MSE_b}\")"
   ]
  },
  {
   "cell_type": "code",
   "execution_count": 17,
   "metadata": {},
   "outputs": [
    {
     "name": "stdout",
     "output_type": "stream",
     "text": [
      "r2_b : -6.027462453372934e-06\n"
     ]
    }
   ],
   "source": [
    "r2_b = r2_score(y_test, y_base)\n",
    "print(f\"r2_b : {r2_b}\")"
   ]
  },
  {
   "cell_type": "markdown",
   "metadata": {},
   "source": [
    "Now, we will recreate the Linear Regression model from Tuesday."
   ]
  },
  {
   "cell_type": "code",
   "execution_count": 18,
   "metadata": {},
   "outputs": [],
   "source": [
    "from sklearn.linear_model import LinearRegression\n",
    "from sklearn.model_selection import GridSearchCV"
   ]
  },
  {
   "cell_type": "code",
   "execution_count": 19,
   "metadata": {},
   "outputs": [],
   "source": [
    "model = LinearRegression()"
   ]
  },
  {
   "cell_type": "code",
   "execution_count": 20,
   "metadata": {},
   "outputs": [],
   "source": [
    "param_grid = {'normalize': [False, True]}"
   ]
  },
  {
   "cell_type": "code",
   "execution_count": 21,
   "metadata": {},
   "outputs": [
    {
     "data": {
      "text/plain": [
       "GridSearchCV(cv=10, estimator=LinearRegression(), n_jobs=-1,\n",
       "             param_grid={'normalize': [False, True]})"
      ]
     },
     "execution_count": 21,
     "metadata": {},
     "output_type": "execute_result"
    }
   ],
   "source": [
    "grid_search = GridSearchCV(model, param_grid, cv=10, n_jobs=-1)\n",
    "grid_search.fit(X_train, y_train)"
   ]
  },
  {
   "cell_type": "code",
   "execution_count": 22,
   "metadata": {},
   "outputs": [
    {
     "data": {
      "text/plain": [
       "{'normalize': False}"
      ]
     },
     "execution_count": 22,
     "metadata": {},
     "output_type": "execute_result"
    }
   ],
   "source": [
    "grid_search.best_params_"
   ]
  },
  {
   "cell_type": "code",
   "execution_count": 23,
   "metadata": {},
   "outputs": [
    {
     "data": {
      "text/plain": [
       "0.5590678052936487"
      ]
     },
     "execution_count": 23,
     "metadata": {},
     "output_type": "execute_result"
    }
   ],
   "source": [
    "grid_search.best_score_"
   ]
  },
  {
   "cell_type": "code",
   "execution_count": 24,
   "metadata": {},
   "outputs": [],
   "source": [
    "y_pred = grid_search.predict(X_test)"
   ]
  },
  {
   "cell_type": "code",
   "execution_count": 25,
   "metadata": {},
   "outputs": [
    {
     "name": "stdout",
     "output_type": "stream",
     "text": [
      "MSE : 1291684.6549837454\n"
     ]
    }
   ],
   "source": [
    "MSE = mean_squared_error(y_test, y_pred)\n",
    "print(f\"MSE : {MSE}\")"
   ]
  },
  {
   "cell_type": "code",
   "execution_count": 26,
   "metadata": {},
   "outputs": [
    {
     "name": "stdout",
     "output_type": "stream",
     "text": [
      "r2 : 0.5600933988315882\n"
     ]
    }
   ],
   "source": [
    "r2 = r2_score(y_test, y_pred)\n",
    "print(f\"r2 : {r2}\")"
   ]
  },
  {
   "cell_type": "markdown",
   "metadata": {},
   "source": [
    "For my own interest, I will also create a Decision Tree model with Randomized Search for comparison."
   ]
  },
  {
   "cell_type": "code",
   "execution_count": 27,
   "metadata": {},
   "outputs": [],
   "source": [
    "from sklearn.tree import DecisionTreeRegressor\n",
    "from sklearn.model_selection import RandomizedSearchCV\n",
    "from scipy.stats import randint"
   ]
  },
  {
   "cell_type": "code",
   "execution_count": 28,
   "metadata": {},
   "outputs": [],
   "source": [
    "tree = DecisionTreeRegressor()"
   ]
  },
  {
   "cell_type": "code",
   "execution_count": 29,
   "metadata": {},
   "outputs": [],
   "source": [
    "param_grid = {'max_depth': randint(1, 8)}"
   ]
  },
  {
   "cell_type": "code",
   "execution_count": 30,
   "metadata": {},
   "outputs": [
    {
     "data": {
      "text/plain": [
       "RandomizedSearchCV(cv=10, estimator=DecisionTreeRegressor(), n_jobs=-1,\n",
       "                   param_distributions={'max_depth': <scipy.stats._distn_infrastructure.rv_frozen object at 0x7f8a8ccc4880>})"
      ]
     },
     "execution_count": 30,
     "metadata": {},
     "output_type": "execute_result"
    }
   ],
   "source": [
    "rand_search = RandomizedSearchCV(tree, param_grid, cv=10, n_jobs=-1)\n",
    "rand_search.fit(X_train, y_train)"
   ]
  },
  {
   "cell_type": "code",
   "execution_count": 31,
   "metadata": {},
   "outputs": [
    {
     "data": {
      "text/plain": [
       "{'max_depth': 5}"
      ]
     },
     "execution_count": 31,
     "metadata": {},
     "output_type": "execute_result"
    }
   ],
   "source": [
    "rand_search.best_params_"
   ]
  },
  {
   "cell_type": "code",
   "execution_count": 32,
   "metadata": {},
   "outputs": [
    {
     "data": {
      "text/plain": [
       "0.584209333496771"
      ]
     },
     "execution_count": 32,
     "metadata": {},
     "output_type": "execute_result"
    }
   ],
   "source": [
    "# Note that the default score for the Sklearn Decision Tree \n",
    "# model is the R-squared value.\n",
    "\n",
    "rand_search.best_score_"
   ]
  },
  {
   "cell_type": "code",
   "execution_count": 33,
   "metadata": {},
   "outputs": [],
   "source": [
    "y_tree = rand_search.predict(X_test)"
   ]
  },
  {
   "cell_type": "code",
   "execution_count": 34,
   "metadata": {},
   "outputs": [
    {
     "name": "stdout",
     "output_type": "stream",
     "text": [
      "MSE_tree : 1170882.1635574733\n"
     ]
    }
   ],
   "source": [
    "MSE_tree = mean_squared_error(y_test, y_tree)\n",
    "print(f\"MSE_tree : {MSE_tree}\")"
   ]
  },
  {
   "cell_type": "code",
   "execution_count": 35,
   "metadata": {},
   "outputs": [
    {
     "name": "stdout",
     "output_type": "stream",
     "text": [
      "r2_tree : 0.6012348749735932\n"
     ]
    }
   ],
   "source": [
    "r2_tree = r2_score(y_test, y_tree)\n",
    "print(f\"r2_tree : {r2_tree}\")"
   ]
  },
  {
   "cell_type": "code",
   "execution_count": 36,
   "metadata": {},
   "outputs": [
    {
     "data": {
      "text/plain": [
       "{'mean_fit_time': array([0.02268949, 0.01092403, 0.00832596, 0.01862173, 0.02087927,\n",
       "        0.01007688, 0.01348097, 0.02246566, 0.00817056, 0.01904771]),\n",
       " 'std_fit_time': array([0.00113894, 0.00093334, 0.00189362, 0.00147438, 0.00142158,\n",
       "        0.00122568, 0.00163738, 0.00159237, 0.00205464, 0.00158407]),\n",
       " 'mean_score_time': array([0.00278664, 0.00201802, 0.00198467, 0.00197303, 0.00206256,\n",
       "        0.00195262, 0.00193529, 0.00210321, 0.00211966, 0.00272202]),\n",
       " 'std_score_time': array([1.52357202e-03, 1.10590442e-04, 1.15474713e-04, 1.12304325e-04,\n",
       "        1.28027003e-04, 5.43824835e-05, 6.51743951e-05, 1.88597121e-04,\n",
       "        4.36298707e-04, 6.39638880e-04]),\n",
       " 'param_max_depth': masked_array(data=[6, 2, 1, 5, 6, 2, 3, 6, 1, 4],\n",
       "              mask=[False, False, False, False, False, False, False, False,\n",
       "                    False, False],\n",
       "        fill_value='?',\n",
       "             dtype=object),\n",
       " 'params': [{'max_depth': 6},\n",
       "  {'max_depth': 2},\n",
       "  {'max_depth': 1},\n",
       "  {'max_depth': 5},\n",
       "  {'max_depth': 6},\n",
       "  {'max_depth': 2},\n",
       "  {'max_depth': 3},\n",
       "  {'max_depth': 6},\n",
       "  {'max_depth': 1},\n",
       "  {'max_depth': 4}],\n",
       " 'split0_test_score': array([0.60856623, 0.42219072, 0.21913469, 0.61299173, 0.60856623,\n",
       "        0.42219072, 0.52440482, 0.60856623, 0.21913469, 0.59531788]),\n",
       " 'split1_test_score': array([0.53666949, 0.39482325, 0.22462271, 0.54829251, 0.53666949,\n",
       "        0.39482325, 0.47852634, 0.53666949, 0.22462271, 0.54385952]),\n",
       " 'split2_test_score': array([0.55595342, 0.40913426, 0.22172526, 0.56002088, 0.55595342,\n",
       "        0.40913426, 0.50436264, 0.55595342, 0.22172526, 0.55180125]),\n",
       " 'split3_test_score': array([0.61595932, 0.41473763, 0.21361863, 0.61277573, 0.61595932,\n",
       "        0.41473763, 0.53051249, 0.61595932, 0.21361863, 0.61171987]),\n",
       " 'split4_test_score': array([0.61461659, 0.46806562, 0.25934843, 0.61733612, 0.61461659,\n",
       "        0.46806562, 0.54425657, 0.61461659, 0.25934843, 0.61304787]),\n",
       " 'split5_test_score': array([0.5365953 , 0.42960531, 0.21973175, 0.54952659, 0.5366063 ,\n",
       "        0.42960531, 0.49367319, 0.5365953 , 0.21973175, 0.54232443]),\n",
       " 'split6_test_score': array([0.54176201, 0.42722104, 0.25202726, 0.55239678, 0.54189436,\n",
       "        0.42722104, 0.52945564, 0.54189436, 0.25202726, 0.576776  ]),\n",
       " 'split7_test_score': array([0.62902531, 0.48577069, 0.27842111, 0.62099746, 0.62902531,\n",
       "        0.48577069, 0.56626654, 0.62902531, 0.27842111, 0.61459214]),\n",
       " 'split8_test_score': array([0.60185439, 0.45799133, 0.25287817, 0.6090616 , 0.60185439,\n",
       "        0.45799133, 0.54986719, 0.60185439, 0.25287817, 0.59481008]),\n",
       " 'split9_test_score': array([0.54519387, 0.40304492, 0.21982085, 0.55869394, 0.54522061,\n",
       "        0.40304492, 0.48274587, 0.54519387, 0.21982085, 0.52859087]),\n",
       " 'mean_test_score': array([0.57861959, 0.43125848, 0.23613289, 0.58420933, 0.5786366 ,\n",
       "        0.43125848, 0.52040713, 0.57863283, 0.23613289, 0.57728399]),\n",
       " 'std_test_score': array([0.03630813, 0.02833408, 0.02128677, 0.03074722, 0.03629097,\n",
       "        0.02833408, 0.02807891, 0.03629471, 0.02128677, 0.03138341]),\n",
       " 'rank_test_score': array([ 4,  7, 10,  1,  2,  8,  6,  3,  9,  5], dtype=int32)}"
      ]
     },
     "execution_count": 36,
     "metadata": {},
     "output_type": "execute_result"
    }
   ],
   "source": [
    "rand_search.cv_results_"
   ]
  },
  {
   "cell_type": "markdown",
   "metadata": {},
   "source": [
    "We have covered data preparation and feature engineering last week. Now, it's time to do some predictive models."
   ]
  },
  {
   "cell_type": "markdown",
   "metadata": {},
   "source": [
    "## Model Building"
   ]
  },
  {
   "cell_type": "markdown",
   "metadata": {},
   "source": [
    "### Ensemble Models\n",
    "\n",
    "Try different  ensemble models (Random Forest Regressor, Gradient Boosting, XGBoost)\n",
    "\n",
    "Calculate the mean squared error on the test set. Explore how different parameters of the model affect the results and the performance of the model\n",
    "\n",
    "- Use GridSearchCV to find optimal paramaters of models.\n",
    "- Compare agains the Linear Regression model from Tuesday."
   ]
  },
  {
   "cell_type": "markdown",
   "metadata": {},
   "source": [
    "We may use Randomized Search instead of Grid Search."
   ]
  },
  {
   "cell_type": "markdown",
   "metadata": {},
   "source": [
    "# Case 1: Random Forest Model"
   ]
  },
  {
   "cell_type": "code",
   "execution_count": 37,
   "metadata": {},
   "outputs": [],
   "source": [
    "from sklearn.ensemble import RandomForestRegressor"
   ]
  },
  {
   "cell_type": "code",
   "execution_count": 38,
   "metadata": {},
   "outputs": [],
   "source": [
    "model_1 = RandomForestRegressor()"
   ]
  },
  {
   "cell_type": "code",
   "execution_count": 39,
   "metadata": {},
   "outputs": [],
   "source": [
    "param_grid_1 = {'max_depth': randint(5, 7),\n",
    "                'min_samples_split': randint(2, 11),\n",
    "                'n_estimators': randint(100, 150)}"
   ]
  },
  {
   "cell_type": "code",
   "execution_count": 40,
   "metadata": {},
   "outputs": [
    {
     "data": {
      "text/plain": [
       "RandomizedSearchCV(cv=10, estimator=RandomForestRegressor(), n_jobs=-1,\n",
       "                   param_distributions={'max_depth': <scipy.stats._distn_infrastructure.rv_frozen object at 0x7f8a899d35e0>,\n",
       "                                        'min_samples_split': <scipy.stats._distn_infrastructure.rv_frozen object at 0x7f8a899d3910>,\n",
       "                                        'n_estimators': <scipy.stats._distn_infrastructure.rv_frozen object at 0x7f8a899d3850>})"
      ]
     },
     "execution_count": 40,
     "metadata": {},
     "output_type": "execute_result"
    }
   ],
   "source": [
    "rand_search_1 = RandomizedSearchCV(model_1, param_grid_1, cv=10, n_jobs=-1)\n",
    "rand_search_1.fit(X_train, y_train)"
   ]
  },
  {
   "cell_type": "code",
   "execution_count": 41,
   "metadata": {},
   "outputs": [
    {
     "data": {
      "text/plain": [
       "{'max_depth': 5, 'min_samples_split': 7, 'n_estimators': 137}"
      ]
     },
     "execution_count": 41,
     "metadata": {},
     "output_type": "execute_result"
    }
   ],
   "source": [
    "rand_search_1.best_params_"
   ]
  },
  {
   "cell_type": "code",
   "execution_count": 42,
   "metadata": {},
   "outputs": [
    {
     "data": {
      "text/plain": [
       "0.5950101966395361"
      ]
     },
     "execution_count": 42,
     "metadata": {},
     "output_type": "execute_result"
    }
   ],
   "source": [
    "# Note that the default score for the Sklearn Random Forest \n",
    "# model is the R-squared value.\n",
    "\n",
    "rand_search_1.best_score_"
   ]
  },
  {
   "cell_type": "code",
   "execution_count": 43,
   "metadata": {},
   "outputs": [],
   "source": [
    "y_pred_1 = rand_search_1.predict(X_test)"
   ]
  },
  {
   "cell_type": "code",
   "execution_count": 44,
   "metadata": {},
   "outputs": [
    {
     "name": "stdout",
     "output_type": "stream",
     "text": [
      "MSE_1 : 1162023.7454943722\n"
     ]
    }
   ],
   "source": [
    "MSE_1 = mean_squared_error(y_test, y_pred_1)\n",
    "print(f\"MSE_1 : {MSE_1}\")"
   ]
  },
  {
   "cell_type": "code",
   "execution_count": 45,
   "metadata": {},
   "outputs": [
    {
     "name": "stdout",
     "output_type": "stream",
     "text": [
      "r2_1 : 0.6042517696675358\n"
     ]
    }
   ],
   "source": [
    "r2_1 = r2_score(y_test, y_pred_1)\n",
    "print(f\"r2_1 : {r2_1}\")"
   ]
  },
  {
   "cell_type": "markdown",
   "metadata": {},
   "source": [
    "I will ask for mentor help about putting bounds on hyperparameters."
   ]
  },
  {
   "cell_type": "markdown",
   "metadata": {},
   "source": [
    "On January 27, 2021, I received mentor help from Socorro at 1 PM.  My questions \n",
    "and answers are in my copybook."
   ]
  },
  {
   "cell_type": "code",
   "execution_count": 46,
   "metadata": {},
   "outputs": [
    {
     "data": {
      "text/plain": [
       "{'mean_fit_time': array([1.62313588, 1.01547337, 1.24892569, 1.36835306, 1.40013597,\n",
       "        1.05551167, 1.35125673, 1.19309118, 1.36727667, 1.40882213]),\n",
       " 'std_fit_time': array([0.02487504, 0.0063711 , 0.0527874 , 0.07553921, 0.00958761,\n",
       "        0.00802106, 0.01444976, 0.01353514, 0.07400479, 0.02434636]),\n",
       " 'mean_score_time': array([0.01442261, 0.01017711, 0.01251714, 0.01275613, 0.01275415,\n",
       "        0.01051559, 0.01274304, 0.01157579, 0.01232021, 0.0121676 ]),\n",
       " 'std_score_time': array([0.000364  , 0.00016011, 0.00148096, 0.00084708, 0.00022324,\n",
       "        0.00015073, 0.00026388, 0.00047937, 0.00059586, 0.00052956]),\n",
       " 'param_max_depth': masked_array(data=[6, 5, 6, 5, 6, 5, 5, 5, 6, 5],\n",
       "              mask=[False, False, False, False, False, False, False, False,\n",
       "                    False, False],\n",
       "        fill_value='?',\n",
       "             dtype=object),\n",
       " 'param_min_samples_split': masked_array(data=[4, 3, 2, 7, 5, 3, 6, 4, 5, 9],\n",
       "              mask=[False, False, False, False, False, False, False, False,\n",
       "                    False, False],\n",
       "        fill_value='?',\n",
       "             dtype=object),\n",
       " 'param_n_estimators': masked_array(data=[149, 109, 107, 137, 130, 113, 145, 127, 121, 132],\n",
       "              mask=[False, False, False, False, False, False, False, False,\n",
       "                    False, False],\n",
       "        fill_value='?',\n",
       "             dtype=object),\n",
       " 'params': [{'max_depth': 6, 'min_samples_split': 4, 'n_estimators': 149},\n",
       "  {'max_depth': 5, 'min_samples_split': 3, 'n_estimators': 109},\n",
       "  {'max_depth': 6, 'min_samples_split': 2, 'n_estimators': 107},\n",
       "  {'max_depth': 5, 'min_samples_split': 7, 'n_estimators': 137},\n",
       "  {'max_depth': 6, 'min_samples_split': 5, 'n_estimators': 130},\n",
       "  {'max_depth': 5, 'min_samples_split': 3, 'n_estimators': 113},\n",
       "  {'max_depth': 5, 'min_samples_split': 6, 'n_estimators': 145},\n",
       "  {'max_depth': 5, 'min_samples_split': 4, 'n_estimators': 127},\n",
       "  {'max_depth': 6, 'min_samples_split': 5, 'n_estimators': 121},\n",
       "  {'max_depth': 5, 'min_samples_split': 9, 'n_estimators': 132}],\n",
       " 'split0_test_score': array([0.61801567, 0.62186362, 0.61985613, 0.62139808, 0.61910432,\n",
       "        0.62101538, 0.62089322, 0.6213333 , 0.62022501, 0.62204948]),\n",
       " 'split1_test_score': array([0.55317774, 0.55599207, 0.55424389, 0.55625275, 0.5549529 ,\n",
       "        0.55294724, 0.55404442, 0.55522699, 0.55214031, 0.55502908]),\n",
       " 'split2_test_score': array([0.57381257, 0.57266792, 0.57235844, 0.57316762, 0.57343757,\n",
       "        0.57301064, 0.57290896, 0.5731695 , 0.57383737, 0.57392353]),\n",
       " 'split3_test_score': array([0.62438218, 0.62379228, 0.62334989, 0.62314213, 0.6251451 ,\n",
       "        0.62266065, 0.62198325, 0.62276975, 0.62450903, 0.62235702]),\n",
       " 'split4_test_score': array([0.6236883 , 0.62512329, 0.62170845, 0.62328393, 0.62439962,\n",
       "        0.62413665, 0.62432563, 0.62468387, 0.62481836, 0.6238157 ]),\n",
       " 'split5_test_score': array([0.54890766, 0.5502078 , 0.55013366, 0.549254  , 0.54838585,\n",
       "        0.54971557, 0.54903778, 0.55040749, 0.54754196, 0.54852785]),\n",
       " 'split6_test_score': array([0.58757603, 0.59361433, 0.58770806, 0.59435742, 0.58652618,\n",
       "        0.59368365, 0.58998751, 0.59238836, 0.58678474, 0.59398337]),\n",
       " 'split7_test_score': array([0.63126383, 0.62825615, 0.63153114, 0.62890024, 0.62996605,\n",
       "        0.62839857, 0.62875289, 0.62840554, 0.63051549, 0.62776457]),\n",
       " 'split8_test_score': array([0.62230439, 0.62315464, 0.62316613, 0.62410756, 0.62355911,\n",
       "        0.62392654, 0.62486112, 0.62443655, 0.62383923, 0.62386708]),\n",
       " 'split9_test_score': array([0.55746698, 0.55405258, 0.55619966, 0.55623823, 0.55431887,\n",
       "        0.55295819, 0.55426612, 0.55338006, 0.55648244, 0.55425472]),\n",
       " 'mean_test_score': array([0.59405954, 0.59487247, 0.59402554, 0.5950102 , 0.59397956,\n",
       "        0.59424531, 0.59410609, 0.59462014, 0.59406939, 0.59455724]),\n",
       " 'std_test_score': array([0.03170829, 0.03172042, 0.03162052, 0.03139886, 0.03217183,\n",
       "        0.03210804, 0.03200589, 0.03180051, 0.03250966, 0.03174595]),\n",
       " 'rank_test_score': array([ 8,  2,  9,  1, 10,  5,  6,  3,  7,  4], dtype=int32)}"
      ]
     },
     "execution_count": 46,
     "metadata": {},
     "output_type": "execute_result"
    }
   ],
   "source": [
    "rand_search_1.cv_results_"
   ]
  },
  {
   "cell_type": "markdown",
   "metadata": {},
   "source": [
    "It seems that the 'max_depth' hyperparameter is best at around a value of 5.  \n",
    "The optimal values for the other hyperparameters seems random."
   ]
  },
  {
   "cell_type": "markdown",
   "metadata": {},
   "source": [
    "# Case 2: Gradient Boosting Model"
   ]
  },
  {
   "cell_type": "code",
   "execution_count": 47,
   "metadata": {},
   "outputs": [],
   "source": [
    "from sklearn.ensemble import GradientBoostingRegressor\n",
    "from scipy.stats import uniform"
   ]
  },
  {
   "cell_type": "code",
   "execution_count": 48,
   "metadata": {},
   "outputs": [],
   "source": [
    "model_2 = GradientBoostingRegressor()"
   ]
  },
  {
   "cell_type": "code",
   "execution_count": 49,
   "metadata": {},
   "outputs": [],
   "source": [
    "param_grid_2 = {'max_depth': randint(2, 4),\n",
    "                'min_samples_split': randint(2, 11),\n",
    "                'n_estimators': randint(100, 150),\n",
    "                'learning_rate': uniform(0.01, 0.1),\n",
    "                'subsample': uniform(0, 1)}\n",
    "                #'min_samples_leaf': randint(2, 11)}"
   ]
  },
  {
   "cell_type": "code",
   "execution_count": 50,
   "metadata": {},
   "outputs": [
    {
     "data": {
      "text/plain": [
       "RandomizedSearchCV(cv=10, estimator=GradientBoostingRegressor(), n_jobs=-1,\n",
       "                   param_distributions={'learning_rate': <scipy.stats._distn_infrastructure.rv_frozen object at 0x7f8a899e6e50>,\n",
       "                                        'max_depth': <scipy.stats._distn_infrastructure.rv_frozen object at 0x7f8a8cf13550>,\n",
       "                                        'min_samples_split': <scipy.stats._distn_infrastructure.rv_frozen object at 0x7f8a899e61f0>,\n",
       "                                        'n_estimators': <scipy.stats._distn_infrastructure.rv_frozen object at 0x7f8a89a8ef40>,\n",
       "                                        'subsample': <scipy.stats._distn_infrastructure.rv_frozen object at 0x7f8a899e6b80>})"
      ]
     },
     "execution_count": 50,
     "metadata": {},
     "output_type": "execute_result"
    }
   ],
   "source": [
    "rand_search_2 = RandomizedSearchCV(model_2, param_grid_2, cv=10, n_jobs=-1)\n",
    "rand_search_2.fit(X_train, y_train)"
   ]
  },
  {
   "cell_type": "code",
   "execution_count": 51,
   "metadata": {},
   "outputs": [
    {
     "data": {
      "text/plain": [
       "{'learning_rate': 0.04634554097276373,\n",
       " 'max_depth': 2,\n",
       " 'min_samples_split': 4,\n",
       " 'n_estimators': 140,\n",
       " 'subsample': 0.9090431586326877}"
      ]
     },
     "execution_count": 51,
     "metadata": {},
     "output_type": "execute_result"
    }
   ],
   "source": [
    "rand_search_2.best_params_"
   ]
  },
  {
   "cell_type": "code",
   "execution_count": 52,
   "metadata": {},
   "outputs": [
    {
     "data": {
      "text/plain": [
       "0.5972017776157801"
      ]
     },
     "execution_count": 52,
     "metadata": {},
     "output_type": "execute_result"
    }
   ],
   "source": [
    "# Note that the default score for the Sklearn GradientBoostingRegressor \n",
    "# model is the R-squared value.\n",
    "\n",
    "rand_search_2.best_score_"
   ]
  },
  {
   "cell_type": "code",
   "execution_count": 53,
   "metadata": {},
   "outputs": [],
   "source": [
    "y_pred_2 = rand_search_2.predict(X_test)"
   ]
  },
  {
   "cell_type": "code",
   "execution_count": 54,
   "metadata": {},
   "outputs": [
    {
     "name": "stdout",
     "output_type": "stream",
     "text": [
      "MSE_2 : 1156605.057788428\n"
     ]
    }
   ],
   "source": [
    "MSE_2 = mean_squared_error(y_test, y_pred_2)\n",
    "print(f\"MSE_2 : {MSE_2}\")"
   ]
  },
  {
   "cell_type": "code",
   "execution_count": 55,
   "metadata": {},
   "outputs": [
    {
     "name": "stdout",
     "output_type": "stream",
     "text": [
      "r2_2 : 0.6060972018961512\n"
     ]
    }
   ],
   "source": [
    "r2_2 = r2_score(y_test, y_pred_2)\n",
    "print(f\"r2_2 : {r2_2}\")"
   ]
  },
  {
   "cell_type": "code",
   "execution_count": 56,
   "metadata": {},
   "outputs": [
    {
     "data": {
      "text/plain": [
       "{'mean_fit_time': array([0.31973617, 0.68302219, 0.8185509 , 0.50844073, 0.54572222,\n",
       "        0.31283934, 0.11216178, 0.25887923, 0.57497835, 0.88707361]),\n",
       " 'std_fit_time': array([0.00969105, 0.00945327, 0.01963141, 0.01541329, 0.00977021,\n",
       "        0.02718302, 0.00272342, 0.01269476, 0.03203303, 0.02781488]),\n",
       " 'mean_score_time': array([0.00304732, 0.00387919, 0.00356357, 0.00292382, 0.0031533 ,\n",
       "        0.0035825 , 0.0044229 , 0.00327804, 0.00346222, 0.00327628]),\n",
       " 'std_score_time': array([0.00041156, 0.00090494, 0.00042412, 0.00015587, 0.00018084,\n",
       "        0.00064437, 0.00146648, 0.00036558, 0.00067343, 0.00067103]),\n",
       " 'param_learning_rate': masked_array(data=[0.08477888132427576, 0.02407443992262292,\n",
       "                    0.08019536581033582, 0.04838739032826756,\n",
       "                    0.06644192852557367, 0.017208636423399374,\n",
       "                    0.0683922121809434, 0.09156803834806808,\n",
       "                    0.10914837462045224, 0.04634554097276373],\n",
       "              mask=[False, False, False, False, False, False, False, False,\n",
       "                    False, False],\n",
       "        fill_value='?',\n",
       "             dtype=object),\n",
       " 'param_max_depth': masked_array(data=[2, 2, 3, 2, 3, 2, 2, 3, 3, 2],\n",
       "              mask=[False, False, False, False, False, False, False, False,\n",
       "                    False, False],\n",
       "        fill_value='?',\n",
       "             dtype=object),\n",
       " 'param_min_samples_split': masked_array(data=[8, 2, 5, 9, 3, 2, 2, 8, 4, 4],\n",
       "              mask=[False, False, False, False, False, False, False, False,\n",
       "                    False, False],\n",
       "        fill_value='?',\n",
       "             dtype=object),\n",
       " 'param_n_estimators': masked_array(data=[105, 122, 129, 139, 108, 130, 143, 105, 119, 140],\n",
       "              mask=[False, False, False, False, False, False, False, False,\n",
       "                    False, False],\n",
       "        fill_value='?',\n",
       "             dtype=object),\n",
       " 'param_subsample': masked_array(data=[0.27832270923112157, 0.7217952701376382,\n",
       "                    0.5841700963165806, 0.44482108296841505,\n",
       "                    0.48557535742798463, 0.19728178008546604,\n",
       "                    0.004306510680044395, 0.1307419981383653,\n",
       "                    0.41998954003696576, 0.9090431586326877],\n",
       "              mask=[False, False, False, False, False, False, False, False,\n",
       "                    False, False],\n",
       "        fill_value='?',\n",
       "             dtype=object),\n",
       " 'params': [{'learning_rate': 0.08477888132427576,\n",
       "   'max_depth': 2,\n",
       "   'min_samples_split': 8,\n",
       "   'n_estimators': 105,\n",
       "   'subsample': 0.27832270923112157},\n",
       "  {'learning_rate': 0.02407443992262292,\n",
       "   'max_depth': 2,\n",
       "   'min_samples_split': 2,\n",
       "   'n_estimators': 122,\n",
       "   'subsample': 0.7217952701376382},\n",
       "  {'learning_rate': 0.08019536581033582,\n",
       "   'max_depth': 3,\n",
       "   'min_samples_split': 5,\n",
       "   'n_estimators': 129,\n",
       "   'subsample': 0.5841700963165806},\n",
       "  {'learning_rate': 0.04838739032826756,\n",
       "   'max_depth': 2,\n",
       "   'min_samples_split': 9,\n",
       "   'n_estimators': 139,\n",
       "   'subsample': 0.44482108296841505},\n",
       "  {'learning_rate': 0.06644192852557367,\n",
       "   'max_depth': 3,\n",
       "   'min_samples_split': 3,\n",
       "   'n_estimators': 108,\n",
       "   'subsample': 0.48557535742798463},\n",
       "  {'learning_rate': 0.017208636423399374,\n",
       "   'max_depth': 2,\n",
       "   'min_samples_split': 2,\n",
       "   'n_estimators': 130,\n",
       "   'subsample': 0.19728178008546604},\n",
       "  {'learning_rate': 0.0683922121809434,\n",
       "   'max_depth': 2,\n",
       "   'min_samples_split': 2,\n",
       "   'n_estimators': 143,\n",
       "   'subsample': 0.004306510680044395},\n",
       "  {'learning_rate': 0.09156803834806808,\n",
       "   'max_depth': 3,\n",
       "   'min_samples_split': 8,\n",
       "   'n_estimators': 105,\n",
       "   'subsample': 0.1307419981383653},\n",
       "  {'learning_rate': 0.10914837462045224,\n",
       "   'max_depth': 3,\n",
       "   'min_samples_split': 4,\n",
       "   'n_estimators': 119,\n",
       "   'subsample': 0.41998954003696576},\n",
       "  {'learning_rate': 0.04634554097276373,\n",
       "   'max_depth': 2,\n",
       "   'min_samples_split': 4,\n",
       "   'n_estimators': 140,\n",
       "   'subsample': 0.9090431586326877}],\n",
       " 'split0_test_score': array([0.62300446, 0.5969275 , 0.62404468, 0.62719441, 0.62683353,\n",
       "        0.57164831, 0.48637426, 0.60791178, 0.60899979, 0.62519515]),\n",
       " 'split1_test_score': array([0.55780228, 0.5474583 , 0.54652185, 0.55505851, 0.54702262,\n",
       "        0.52872978, 0.46169306, 0.53023263, 0.54048791, 0.55978774]),\n",
       " 'split2_test_score': array([0.57208657, 0.55710131, 0.56734155, 0.57552812, 0.56888828,\n",
       "        0.53978021, 0.49750683, 0.56176402, 0.54554104, 0.5739932 ]),\n",
       " 'split3_test_score': array([0.61752859, 0.59228811, 0.61351466, 0.61611641, 0.61197845,\n",
       "        0.56803376, 0.50672749, 0.62753945, 0.623144  , 0.61850108]),\n",
       " 'split4_test_score': array([0.61829389, 0.59764161, 0.6179114 , 0.62554762, 0.61970724,\n",
       "        0.57540182, 0.51157307, 0.5974187 , 0.60922187, 0.62248111]),\n",
       " 'split5_test_score': array([0.54360487, 0.5434664 , 0.53497799, 0.55339105, 0.54167789,\n",
       "        0.52912928, 0.47547456, 0.53300369, 0.52714246, 0.55485495]),\n",
       " 'split6_test_score': array([0.5880647 , 0.59076397, 0.58812792, 0.60728562, 0.58666057,\n",
       "        0.57460398, 0.52876331, 0.57697187, 0.56523263, 0.60324255]),\n",
       " 'split7_test_score': array([0.62667244, 0.60650069, 0.62350301, 0.62459656, 0.61831914,\n",
       "        0.5837683 , 0.50747926, 0.60526134, 0.62942245, 0.62780346]),\n",
       " 'split8_test_score': array([0.61543972, 0.60545653, 0.61410465, 0.62127045, 0.62082016,\n",
       "        0.58346765, 0.54708885, 0.60930231, 0.606538  , 0.62508   ]),\n",
       " 'split9_test_score': array([0.56148582, 0.53923007, 0.55447497, 0.55785827, 0.55996934,\n",
       "        0.51833407, 0.44316909, 0.54385194, 0.56276466, 0.56107854]),\n",
       " 'mean_test_score': array([0.59239833, 0.57768345, 0.58845227, 0.5963847 , 0.59018772,\n",
       "        0.55728972, 0.49658498, 0.57932577, 0.58184948, 0.59720178]),\n",
       " 'std_test_score': array([0.02984809, 0.02596438, 0.03296554, 0.03032933, 0.03164579,\n",
       "        0.02401799, 0.02941725, 0.03341936, 0.0356744 , 0.0294331 ]),\n",
       " 'rank_test_score': array([ 3,  8,  5,  2,  4,  9, 10,  7,  6,  1], dtype=int32)}"
      ]
     },
     "execution_count": 56,
     "metadata": {},
     "output_type": "execute_result"
    }
   ],
   "source": [
    "rand_search_2.cv_results_"
   ]
  },
  {
   "cell_type": "markdown",
   "metadata": {},
   "source": [
    "Note that I tried Grid Search with cv equal to 2 but it ran longer than \n",
    "Randomized Search and the results from Randomized Search were better."
   ]
  },
  {
   "cell_type": "markdown",
   "metadata": {},
   "source": [
    "It seems that the 'max_depth' hyperparameter is best at around a value of 2.  \n",
    "Adding in the 'subsample' hyperparameter to Randomized Search seems to help.\n",
    "Adding in the 'min_samples_leaf' hyperparameter to Randomized Search seemed to \n",
    "worsen the results so it was removed.\n",
    "The optimal values for the other hyperparameters seems random."
   ]
  },
  {
   "cell_type": "markdown",
   "metadata": {},
   "source": [
    "# Case 3: XGBBoost Model"
   ]
  },
  {
   "cell_type": "code",
   "execution_count": 57,
   "metadata": {},
   "outputs": [],
   "source": [
    "from xgboost import XGBRegressor\n",
    "from scipy.stats import expon"
   ]
  },
  {
   "cell_type": "code",
   "execution_count": 58,
   "metadata": {},
   "outputs": [],
   "source": [
    "model_3 = XGBRegressor()"
   ]
  },
  {
   "cell_type": "code",
   "execution_count": 59,
   "metadata": {},
   "outputs": [],
   "source": [
    "param_grid_3 = {'max_depth': randint(2, 4), \n",
    "                'n_estimators': randint(100, 150),\n",
    "                'learning_rate': uniform(0, 0.1),\n",
    "                'colsample_bytree': uniform(0.5, 0.5)}\n",
    "                #'lambda': uniform(0, 1)}\n",
    "                #'gamma': expon()}\n",
    "                #'subsample': uniform(0, 1)}\n"
   ]
  },
  {
   "cell_type": "code",
   "execution_count": 60,
   "metadata": {},
   "outputs": [
    {
     "data": {
      "text/plain": [
       "RandomizedSearchCV(cv=10,\n",
       "                   estimator=XGBRegressor(base_score=None, booster=None,\n",
       "                                          colsample_bylevel=None,\n",
       "                                          colsample_bynode=None,\n",
       "                                          colsample_bytree=None, gamma=None,\n",
       "                                          gpu_id=None, importance_type='gain',\n",
       "                                          interaction_constraints=None,\n",
       "                                          learning_rate=None,\n",
       "                                          max_delta_step=None, max_depth=None,\n",
       "                                          min_child_weight=None, missing=nan,\n",
       "                                          monotone_constraints=None,\n",
       "                                          n_estimators=100,...\n",
       "                   param_distributions={'colsample_bytree': <scipy.stats._distn_infrastructure.rv_frozen object at 0x7f8a8d483670>,\n",
       "                                        'learning_rate': <scipy.stats._distn_infrastructure.rv_frozen object at 0x7f8a8d4833a0>,\n",
       "                                        'max_depth': <scipy.stats._distn_infrastructure.rv_frozen object at 0x7f8a8d473df0>,\n",
       "                                        'n_estimators': <scipy.stats._distn_infrastructure.rv_frozen object at 0x7f8a8d473d30>})"
      ]
     },
     "execution_count": 60,
     "metadata": {},
     "output_type": "execute_result"
    }
   ],
   "source": [
    "rand_search_3 = RandomizedSearchCV(model_3, param_grid_3, cv=10, n_jobs=-1)\n",
    "rand_search_3.fit(X_train, y_train)"
   ]
  },
  {
   "cell_type": "code",
   "execution_count": 61,
   "metadata": {},
   "outputs": [
    {
     "data": {
      "text/plain": [
       "{'colsample_bytree': 0.8912210916706643,\n",
       " 'learning_rate': 0.05679670474973517,\n",
       " 'max_depth': 2,\n",
       " 'n_estimators': 131}"
      ]
     },
     "execution_count": 61,
     "metadata": {},
     "output_type": "execute_result"
    }
   ],
   "source": [
    "rand_search_3.best_params_"
   ]
  },
  {
   "cell_type": "code",
   "execution_count": 62,
   "metadata": {},
   "outputs": [
    {
     "data": {
      "text/plain": [
       "0.597266843598183"
      ]
     },
     "execution_count": 62,
     "metadata": {},
     "output_type": "execute_result"
    }
   ],
   "source": [
    "# Note that the default score for the XGBoost model is the R-squared value.\n",
    "\n",
    "rand_search_3.best_score_"
   ]
  },
  {
   "cell_type": "code",
   "execution_count": 63,
   "metadata": {},
   "outputs": [],
   "source": [
    "y_pred_3 = rand_search_3.predict(X_test)"
   ]
  },
  {
   "cell_type": "code",
   "execution_count": 64,
   "metadata": {},
   "outputs": [
    {
     "name": "stdout",
     "output_type": "stream",
     "text": [
      "MSE_3 : 1160073.5248812167\n"
     ]
    }
   ],
   "source": [
    "MSE_3 = mean_squared_error(y_test, y_pred_3)\n",
    "print(f\"MSE_3 : {MSE_3}\")"
   ]
  },
  {
   "cell_type": "code",
   "execution_count": 65,
   "metadata": {},
   "outputs": [
    {
     "name": "stdout",
     "output_type": "stream",
     "text": [
      "r2_3 : 0.6049159526150932\n"
     ]
    }
   ],
   "source": [
    "r2_3 = r2_score(y_test, y_pred_3)\n",
    "print(f\"r2_3 : {r2_3}\")"
   ]
  },
  {
   "cell_type": "code",
   "execution_count": 66,
   "metadata": {},
   "outputs": [
    {
     "data": {
      "text/plain": [
       "{'mean_fit_time': array([0.62325201, 0.64959438, 0.76644573, 0.92232895, 0.84989266,\n",
       "        0.72423356, 0.60058713, 0.61549513, 0.61118762, 0.73147058]),\n",
       " 'std_fit_time': array([0.03801657, 0.03247576, 0.04620511, 0.03200696, 0.05120935,\n",
       "        0.0224101 , 0.03172412, 0.02597211, 0.02311299, 0.09291206]),\n",
       " 'mean_score_time': array([0.0043303 , 0.00441606, 0.00430689, 0.0041934 , 0.00466993,\n",
       "        0.00465193, 0.00396867, 0.00448618, 0.00360906, 0.00364094]),\n",
       " 'std_score_time': array([0.00061387, 0.0005286 , 0.0005401 , 0.0007186 , 0.00077485,\n",
       "        0.00077197, 0.00061395, 0.00055283, 0.0005065 , 0.00071052]),\n",
       " 'param_colsample_bytree': masked_array(data=[0.7035202163422261, 0.8521224661841749,\n",
       "                    0.8457319731576225, 0.7513272083944118,\n",
       "                    0.8912210916706643, 0.7534496194855722,\n",
       "                    0.5790655148269472, 0.8025272258583427,\n",
       "                    0.5901643021317555, 0.5338622254034191],\n",
       "              mask=[False, False, False, False, False, False, False, False,\n",
       "                    False, False],\n",
       "        fill_value='?',\n",
       "             dtype=object),\n",
       " 'param_learning_rate': masked_array(data=[0.09793579923149992, 0.08020095851672379,\n",
       "                    0.06662609330378462, 0.06531388437305262,\n",
       "                    0.05679670474973517, 0.017459288705232445,\n",
       "                    0.05763620023267632, 0.09849349689277377,\n",
       "                    0.046302524652138126, 0.007510096062629235],\n",
       "              mask=[False, False, False, False, False, False, False, False,\n",
       "                    False, False],\n",
       "        fill_value='?',\n",
       "             dtype=object),\n",
       " 'param_max_depth': masked_array(data=[2, 2, 2, 3, 2, 2, 2, 2, 2, 3],\n",
       "              mask=[False, False, False, False, False, False, False, False,\n",
       "                    False, False],\n",
       "        fill_value='?',\n",
       "             dtype=object),\n",
       " 'param_n_estimators': masked_array(data=[104, 110, 120, 116, 131, 112, 112, 106, 122, 118],\n",
       "              mask=[False, False, False, False, False, False, False, False,\n",
       "                    False, False],\n",
       "        fill_value='?',\n",
       "             dtype=object),\n",
       " 'params': [{'colsample_bytree': 0.7035202163422261,\n",
       "   'learning_rate': 0.09793579923149992,\n",
       "   'max_depth': 2,\n",
       "   'n_estimators': 104},\n",
       "  {'colsample_bytree': 0.8521224661841749,\n",
       "   'learning_rate': 0.08020095851672379,\n",
       "   'max_depth': 2,\n",
       "   'n_estimators': 110},\n",
       "  {'colsample_bytree': 0.8457319731576225,\n",
       "   'learning_rate': 0.06662609330378462,\n",
       "   'max_depth': 2,\n",
       "   'n_estimators': 120},\n",
       "  {'colsample_bytree': 0.7513272083944118,\n",
       "   'learning_rate': 0.06531388437305262,\n",
       "   'max_depth': 3,\n",
       "   'n_estimators': 116},\n",
       "  {'colsample_bytree': 0.8912210916706643,\n",
       "   'learning_rate': 0.05679670474973517,\n",
       "   'max_depth': 2,\n",
       "   'n_estimators': 131},\n",
       "  {'colsample_bytree': 0.7534496194855722,\n",
       "   'learning_rate': 0.017459288705232445,\n",
       "   'max_depth': 2,\n",
       "   'n_estimators': 112},\n",
       "  {'colsample_bytree': 0.5790655148269472,\n",
       "   'learning_rate': 0.05763620023267632,\n",
       "   'max_depth': 2,\n",
       "   'n_estimators': 112},\n",
       "  {'colsample_bytree': 0.8025272258583427,\n",
       "   'learning_rate': 0.09849349689277377,\n",
       "   'max_depth': 2,\n",
       "   'n_estimators': 106},\n",
       "  {'colsample_bytree': 0.5901643021317555,\n",
       "   'learning_rate': 0.046302524652138126,\n",
       "   'max_depth': 2,\n",
       "   'n_estimators': 122},\n",
       "  {'colsample_bytree': 0.5338622254034191,\n",
       "   'learning_rate': 0.007510096062629235,\n",
       "   'max_depth': 3,\n",
       "   'n_estimators': 118}],\n",
       " 'split0_test_score': array([0.6219166 , 0.62223944, 0.62433599, 0.62251782, 0.62283379,\n",
       "        0.49314231, 0.61518411, 0.62250102, 0.61408353, 0.07215094]),\n",
       " 'split1_test_score': array([0.55861149, 0.56000005, 0.56003982, 0.55849883, 0.56089875,\n",
       "        0.47498796, 0.55792938, 0.55878159, 0.55834328, 0.07050049]),\n",
       " 'split2_test_score': array([0.57273539, 0.57600748, 0.57439866, 0.57403948, 0.57476246,\n",
       "        0.48232748, 0.56936112, 0.57381698, 0.56894912, 0.12303368]),\n",
       " 'split3_test_score': array([0.61592637, 0.61756364, 0.61666729, 0.61791728, 0.6179306 ,\n",
       "        0.49019324, 0.61132386, 0.61542724, 0.60887106, 0.10189718]),\n",
       " 'split4_test_score': array([0.61883805, 0.62225576, 0.62109685, 0.62208312, 0.62135311,\n",
       "        0.49508824, 0.61291099, 0.62132595, 0.61140611, 0.08139953]),\n",
       " 'split5_test_score': array([0.54906319, 0.55435679, 0.55402094, 0.55142037, 0.55796912,\n",
       "        0.48483859, 0.55035306, 0.55150172, 0.54751424, 0.11712985]),\n",
       " 'split6_test_score': array([0.60105885, 0.60273973, 0.60462242, 0.59890103, 0.60529229,\n",
       "        0.50858668, 0.60229049, 0.60012831, 0.60248205, 0.12234196]),\n",
       " 'split7_test_score': array([0.62236283, 0.62578535, 0.62485266, 0.62591869, 0.62709371,\n",
       "        0.51665101, 0.61613371, 0.62533228, 0.61377913, 0.11462023]),\n",
       " 'split8_test_score': array([0.62207703, 0.62417072, 0.62378556, 0.62295001, 0.624322  ,\n",
       "        0.52052642, 0.61871908, 0.62222642, 0.61636085, 0.12890688]),\n",
       " 'split9_test_score': array([0.55552609, 0.55935588, 0.55986914, 0.56280451, 0.56021261,\n",
       "        0.44797812, 0.55593599, 0.55986785, 0.55471341, 0.0678894 ]),\n",
       " 'mean_test_score': array([0.59381159, 0.59644748, 0.59636893, 0.59570511, 0.59726684,\n",
       "        0.491432  , 0.59101418, 0.59509094, 0.58965028, 0.09998701]),\n",
       " 'std_test_score': array([0.02953534, 0.02887852, 0.02892205, 0.02910456, 0.02844864,\n",
       "        0.02019804, 0.02729306, 0.02905346, 0.02702729, 0.02323566]),\n",
       " 'rank_test_score': array([ 6,  2,  3,  4,  1,  9,  7,  5,  8, 10], dtype=int32)}"
      ]
     },
     "execution_count": 66,
     "metadata": {},
     "output_type": "execute_result"
    }
   ],
   "source": [
    "rand_search_3.cv_results_"
   ]
  },
  {
   "cell_type": "markdown",
   "metadata": {},
   "source": [
    "It seems that the 'max_depth' hyperparameter is best at around a value of 2 or 3.  \n",
    "Adding in the 'subsample' hyperparameter to Randomized Search seemed to worsen \n",
    "the results so it was removed.  \n",
    "Adding in the 'colsample_bytree' hyperparameter sampled from a continuous \n",
    "uniform distribution on [0.5, 1] to Randomized Search seemed to improve the \n",
    "results.  The optimal values for the other hyperparameters seems random.  \n",
    "Adding in the 'gamma' hyperparameter to Randomized Search seemed to worsen \n",
    "the results so it was removed.  \n",
    "Adding in the 'lambda' hyperparameter to Randomized Search seemed to worsen \n",
    "the results so it was removed.  "
   ]
  },
  {
   "cell_type": "code",
   "execution_count": 67,
   "metadata": {},
   "outputs": [
    {
     "name": "stdout",
     "output_type": "stream",
     "text": [
      "MSE_b : 2936287.9236949654\n",
      "MSE : 1291684.6549837454\n",
      "MSE_tree : 1170882.1635574733\n",
      "MSE_1 : 1162023.7454943722\n",
      "MSE_2 : 1156605.057788428\n",
      "MSE_3 : 1160073.5248812167\n"
     ]
    }
   ],
   "source": [
    "print(f\"MSE_b : {MSE_b}\")\n",
    "print(f\"MSE : {MSE}\")\n",
    "print(f\"MSE_tree : {MSE_tree}\")\n",
    "print(f\"MSE_1 : {MSE_1}\")\n",
    "print(f\"MSE_2 : {MSE_2}\")\n",
    "print(f\"MSE_3 : {MSE_3}\")"
   ]
  },
  {
   "cell_type": "markdown",
   "metadata": {},
   "source": [
    "It seems that all 3 ensemble models perform better than the Linear Model.  \n",
    "The 2 Boosting models (Cases 2 and 3) seem to work best.  \n",
    "The Decision Tree model seems to work as well as the ensemble models."
   ]
  },
  {
   "cell_type": "markdown",
   "metadata": {},
   "source": [
    "# Update\n",
    "\n",
    "The Random Forest Model was improved by reducing the range of the 'max_depth' \n",
    "hyperpararmeter in Randomized Search to be just {5, 6}."
   ]
  },
  {
   "cell_type": "code",
   "execution_count": null,
   "metadata": {},
   "outputs": [],
   "source": []
  }
 ],
 "metadata": {
  "anaconda-cloud": {},
  "kernelspec": {
   "display_name": "Python 3",
   "language": "python",
   "name": "python3"
  },
  "language_info": {
   "codemirror_mode": {
    "name": "ipython",
    "version": 3
   },
   "file_extension": ".py",
   "mimetype": "text/x-python",
   "name": "python",
   "nbconvert_exporter": "python",
   "pygments_lexer": "ipython3",
   "version": "3.8.3"
  }
 },
 "nbformat": 4,
 "nbformat_minor": 4
}
