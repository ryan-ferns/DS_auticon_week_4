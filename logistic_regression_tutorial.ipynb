{
 "cells": [
  {
   "cell_type": "code",
   "execution_count": 1,
   "metadata": {},
   "outputs": [],
   "source": [
    "#import pandas\n",
    "import pandas as pd\n",
    "col_names = ['pregnant', 'glucose', 'bp', 'skin', 'insulin', 'bmi', 'pedigree', 'age', 'label']\n",
    "# load dataset\n",
    "pima = pd.read_csv(\"pima-indians-diabetes.csv\", header=None, names=col_names)"
   ]
  },
  {
   "cell_type": "code",
   "execution_count": 2,
   "metadata": {},
   "outputs": [
    {
     "data": {
      "text/html": [
       "<div>\n",
       "<style scoped>\n",
       "    .dataframe tbody tr th:only-of-type {\n",
       "        vertical-align: middle;\n",
       "    }\n",
       "\n",
       "    .dataframe tbody tr th {\n",
       "        vertical-align: top;\n",
       "    }\n",
       "\n",
       "    .dataframe thead th {\n",
       "        text-align: right;\n",
       "    }\n",
       "</style>\n",
       "<table border=\"1\" class=\"dataframe\">\n",
       "  <thead>\n",
       "    <tr style=\"text-align: right;\">\n",
       "      <th></th>\n",
       "      <th>pregnant</th>\n",
       "      <th>glucose</th>\n",
       "      <th>bp</th>\n",
       "      <th>skin</th>\n",
       "      <th>insulin</th>\n",
       "      <th>bmi</th>\n",
       "      <th>pedigree</th>\n",
       "      <th>age</th>\n",
       "      <th>label</th>\n",
       "    </tr>\n",
       "  </thead>\n",
       "  <tbody>\n",
       "    <tr>\n",
       "      <th>0</th>\n",
       "      <td>Pregnancies</td>\n",
       "      <td>Glucose</td>\n",
       "      <td>BloodPressure</td>\n",
       "      <td>SkinThickness</td>\n",
       "      <td>Insulin</td>\n",
       "      <td>BMI</td>\n",
       "      <td>DiabetesPedigreeFunction</td>\n",
       "      <td>Age</td>\n",
       "      <td>Outcome</td>\n",
       "    </tr>\n",
       "    <tr>\n",
       "      <th>1</th>\n",
       "      <td>6</td>\n",
       "      <td>148</td>\n",
       "      <td>72</td>\n",
       "      <td>35</td>\n",
       "      <td>0</td>\n",
       "      <td>33.6</td>\n",
       "      <td>0.627</td>\n",
       "      <td>50</td>\n",
       "      <td>1</td>\n",
       "    </tr>\n",
       "    <tr>\n",
       "      <th>2</th>\n",
       "      <td>1</td>\n",
       "      <td>85</td>\n",
       "      <td>66</td>\n",
       "      <td>29</td>\n",
       "      <td>0</td>\n",
       "      <td>26.6</td>\n",
       "      <td>0.351</td>\n",
       "      <td>31</td>\n",
       "      <td>0</td>\n",
       "    </tr>\n",
       "    <tr>\n",
       "      <th>3</th>\n",
       "      <td>8</td>\n",
       "      <td>183</td>\n",
       "      <td>64</td>\n",
       "      <td>0</td>\n",
       "      <td>0</td>\n",
       "      <td>23.3</td>\n",
       "      <td>0.672</td>\n",
       "      <td>32</td>\n",
       "      <td>1</td>\n",
       "    </tr>\n",
       "    <tr>\n",
       "      <th>4</th>\n",
       "      <td>1</td>\n",
       "      <td>89</td>\n",
       "      <td>66</td>\n",
       "      <td>23</td>\n",
       "      <td>94</td>\n",
       "      <td>28.1</td>\n",
       "      <td>0.167</td>\n",
       "      <td>21</td>\n",
       "      <td>0</td>\n",
       "    </tr>\n",
       "  </tbody>\n",
       "</table>\n",
       "</div>"
      ],
      "text/plain": [
       "      pregnant  glucose             bp           skin  insulin   bmi  \\\n",
       "0  Pregnancies  Glucose  BloodPressure  SkinThickness  Insulin   BMI   \n",
       "1            6      148             72             35        0  33.6   \n",
       "2            1       85             66             29        0  26.6   \n",
       "3            8      183             64              0        0  23.3   \n",
       "4            1       89             66             23       94  28.1   \n",
       "\n",
       "                   pedigree  age    label  \n",
       "0  DiabetesPedigreeFunction  Age  Outcome  \n",
       "1                     0.627   50        1  \n",
       "2                     0.351   31        0  \n",
       "3                     0.672   32        1  \n",
       "4                     0.167   21        0  "
      ]
     },
     "execution_count": 2,
     "metadata": {},
     "output_type": "execute_result"
    }
   ],
   "source": [
    "pima.head()"
   ]
  },
  {
   "cell_type": "code",
   "execution_count": 3,
   "metadata": {},
   "outputs": [],
   "source": [
    "pima.drop(0, inplace=True)"
   ]
  },
  {
   "cell_type": "code",
   "execution_count": 4,
   "metadata": {},
   "outputs": [
    {
     "data": {
      "text/html": [
       "<div>\n",
       "<style scoped>\n",
       "    .dataframe tbody tr th:only-of-type {\n",
       "        vertical-align: middle;\n",
       "    }\n",
       "\n",
       "    .dataframe tbody tr th {\n",
       "        vertical-align: top;\n",
       "    }\n",
       "\n",
       "    .dataframe thead th {\n",
       "        text-align: right;\n",
       "    }\n",
       "</style>\n",
       "<table border=\"1\" class=\"dataframe\">\n",
       "  <thead>\n",
       "    <tr style=\"text-align: right;\">\n",
       "      <th></th>\n",
       "      <th>pregnant</th>\n",
       "      <th>glucose</th>\n",
       "      <th>bp</th>\n",
       "      <th>skin</th>\n",
       "      <th>insulin</th>\n",
       "      <th>bmi</th>\n",
       "      <th>pedigree</th>\n",
       "      <th>age</th>\n",
       "      <th>label</th>\n",
       "    </tr>\n",
       "  </thead>\n",
       "  <tbody>\n",
       "    <tr>\n",
       "      <th>1</th>\n",
       "      <td>6</td>\n",
       "      <td>148</td>\n",
       "      <td>72</td>\n",
       "      <td>35</td>\n",
       "      <td>0</td>\n",
       "      <td>33.6</td>\n",
       "      <td>0.627</td>\n",
       "      <td>50</td>\n",
       "      <td>1</td>\n",
       "    </tr>\n",
       "    <tr>\n",
       "      <th>2</th>\n",
       "      <td>1</td>\n",
       "      <td>85</td>\n",
       "      <td>66</td>\n",
       "      <td>29</td>\n",
       "      <td>0</td>\n",
       "      <td>26.6</td>\n",
       "      <td>0.351</td>\n",
       "      <td>31</td>\n",
       "      <td>0</td>\n",
       "    </tr>\n",
       "    <tr>\n",
       "      <th>3</th>\n",
       "      <td>8</td>\n",
       "      <td>183</td>\n",
       "      <td>64</td>\n",
       "      <td>0</td>\n",
       "      <td>0</td>\n",
       "      <td>23.3</td>\n",
       "      <td>0.672</td>\n",
       "      <td>32</td>\n",
       "      <td>1</td>\n",
       "    </tr>\n",
       "    <tr>\n",
       "      <th>4</th>\n",
       "      <td>1</td>\n",
       "      <td>89</td>\n",
       "      <td>66</td>\n",
       "      <td>23</td>\n",
       "      <td>94</td>\n",
       "      <td>28.1</td>\n",
       "      <td>0.167</td>\n",
       "      <td>21</td>\n",
       "      <td>0</td>\n",
       "    </tr>\n",
       "    <tr>\n",
       "      <th>5</th>\n",
       "      <td>0</td>\n",
       "      <td>137</td>\n",
       "      <td>40</td>\n",
       "      <td>35</td>\n",
       "      <td>168</td>\n",
       "      <td>43.1</td>\n",
       "      <td>2.288</td>\n",
       "      <td>33</td>\n",
       "      <td>1</td>\n",
       "    </tr>\n",
       "    <tr>\n",
       "      <th>...</th>\n",
       "      <td>...</td>\n",
       "      <td>...</td>\n",
       "      <td>...</td>\n",
       "      <td>...</td>\n",
       "      <td>...</td>\n",
       "      <td>...</td>\n",
       "      <td>...</td>\n",
       "      <td>...</td>\n",
       "      <td>...</td>\n",
       "    </tr>\n",
       "    <tr>\n",
       "      <th>764</th>\n",
       "      <td>10</td>\n",
       "      <td>101</td>\n",
       "      <td>76</td>\n",
       "      <td>48</td>\n",
       "      <td>180</td>\n",
       "      <td>32.9</td>\n",
       "      <td>0.171</td>\n",
       "      <td>63</td>\n",
       "      <td>0</td>\n",
       "    </tr>\n",
       "    <tr>\n",
       "      <th>765</th>\n",
       "      <td>2</td>\n",
       "      <td>122</td>\n",
       "      <td>70</td>\n",
       "      <td>27</td>\n",
       "      <td>0</td>\n",
       "      <td>36.8</td>\n",
       "      <td>0.34</td>\n",
       "      <td>27</td>\n",
       "      <td>0</td>\n",
       "    </tr>\n",
       "    <tr>\n",
       "      <th>766</th>\n",
       "      <td>5</td>\n",
       "      <td>121</td>\n",
       "      <td>72</td>\n",
       "      <td>23</td>\n",
       "      <td>112</td>\n",
       "      <td>26.2</td>\n",
       "      <td>0.245</td>\n",
       "      <td>30</td>\n",
       "      <td>0</td>\n",
       "    </tr>\n",
       "    <tr>\n",
       "      <th>767</th>\n",
       "      <td>1</td>\n",
       "      <td>126</td>\n",
       "      <td>60</td>\n",
       "      <td>0</td>\n",
       "      <td>0</td>\n",
       "      <td>30.1</td>\n",
       "      <td>0.349</td>\n",
       "      <td>47</td>\n",
       "      <td>1</td>\n",
       "    </tr>\n",
       "    <tr>\n",
       "      <th>768</th>\n",
       "      <td>1</td>\n",
       "      <td>93</td>\n",
       "      <td>70</td>\n",
       "      <td>31</td>\n",
       "      <td>0</td>\n",
       "      <td>30.4</td>\n",
       "      <td>0.315</td>\n",
       "      <td>23</td>\n",
       "      <td>0</td>\n",
       "    </tr>\n",
       "  </tbody>\n",
       "</table>\n",
       "<p>768 rows × 9 columns</p>\n",
       "</div>"
      ],
      "text/plain": [
       "    pregnant glucose  bp skin insulin   bmi pedigree age label\n",
       "1          6     148  72   35       0  33.6    0.627  50     1\n",
       "2          1      85  66   29       0  26.6    0.351  31     0\n",
       "3          8     183  64    0       0  23.3    0.672  32     1\n",
       "4          1      89  66   23      94  28.1    0.167  21     0\n",
       "5          0     137  40   35     168  43.1    2.288  33     1\n",
       "..       ...     ...  ..  ...     ...   ...      ...  ..   ...\n",
       "764       10     101  76   48     180  32.9    0.171  63     0\n",
       "765        2     122  70   27       0  36.8     0.34  27     0\n",
       "766        5     121  72   23     112  26.2    0.245  30     0\n",
       "767        1     126  60    0       0  30.1    0.349  47     1\n",
       "768        1      93  70   31       0  30.4    0.315  23     0\n",
       "\n",
       "[768 rows x 9 columns]"
      ]
     },
     "execution_count": 4,
     "metadata": {},
     "output_type": "execute_result"
    }
   ],
   "source": [
    "pima"
   ]
  },
  {
   "cell_type": "code",
   "execution_count": 5,
   "metadata": {},
   "outputs": [],
   "source": [
    "pima.reset_index(drop=True, inplace=True)"
   ]
  },
  {
   "cell_type": "code",
   "execution_count": 6,
   "metadata": {},
   "outputs": [
    {
     "data": {
      "text/html": [
       "<div>\n",
       "<style scoped>\n",
       "    .dataframe tbody tr th:only-of-type {\n",
       "        vertical-align: middle;\n",
       "    }\n",
       "\n",
       "    .dataframe tbody tr th {\n",
       "        vertical-align: top;\n",
       "    }\n",
       "\n",
       "    .dataframe thead th {\n",
       "        text-align: right;\n",
       "    }\n",
       "</style>\n",
       "<table border=\"1\" class=\"dataframe\">\n",
       "  <thead>\n",
       "    <tr style=\"text-align: right;\">\n",
       "      <th></th>\n",
       "      <th>pregnant</th>\n",
       "      <th>glucose</th>\n",
       "      <th>bp</th>\n",
       "      <th>skin</th>\n",
       "      <th>insulin</th>\n",
       "      <th>bmi</th>\n",
       "      <th>pedigree</th>\n",
       "      <th>age</th>\n",
       "      <th>label</th>\n",
       "    </tr>\n",
       "  </thead>\n",
       "  <tbody>\n",
       "    <tr>\n",
       "      <th>0</th>\n",
       "      <td>6</td>\n",
       "      <td>148</td>\n",
       "      <td>72</td>\n",
       "      <td>35</td>\n",
       "      <td>0</td>\n",
       "      <td>33.6</td>\n",
       "      <td>0.627</td>\n",
       "      <td>50</td>\n",
       "      <td>1</td>\n",
       "    </tr>\n",
       "    <tr>\n",
       "      <th>1</th>\n",
       "      <td>1</td>\n",
       "      <td>85</td>\n",
       "      <td>66</td>\n",
       "      <td>29</td>\n",
       "      <td>0</td>\n",
       "      <td>26.6</td>\n",
       "      <td>0.351</td>\n",
       "      <td>31</td>\n",
       "      <td>0</td>\n",
       "    </tr>\n",
       "    <tr>\n",
       "      <th>2</th>\n",
       "      <td>8</td>\n",
       "      <td>183</td>\n",
       "      <td>64</td>\n",
       "      <td>0</td>\n",
       "      <td>0</td>\n",
       "      <td>23.3</td>\n",
       "      <td>0.672</td>\n",
       "      <td>32</td>\n",
       "      <td>1</td>\n",
       "    </tr>\n",
       "    <tr>\n",
       "      <th>3</th>\n",
       "      <td>1</td>\n",
       "      <td>89</td>\n",
       "      <td>66</td>\n",
       "      <td>23</td>\n",
       "      <td>94</td>\n",
       "      <td>28.1</td>\n",
       "      <td>0.167</td>\n",
       "      <td>21</td>\n",
       "      <td>0</td>\n",
       "    </tr>\n",
       "    <tr>\n",
       "      <th>4</th>\n",
       "      <td>0</td>\n",
       "      <td>137</td>\n",
       "      <td>40</td>\n",
       "      <td>35</td>\n",
       "      <td>168</td>\n",
       "      <td>43.1</td>\n",
       "      <td>2.288</td>\n",
       "      <td>33</td>\n",
       "      <td>1</td>\n",
       "    </tr>\n",
       "  </tbody>\n",
       "</table>\n",
       "</div>"
      ],
      "text/plain": [
       "  pregnant glucose  bp skin insulin   bmi pedigree age label\n",
       "0        6     148  72   35       0  33.6    0.627  50     1\n",
       "1        1      85  66   29       0  26.6    0.351  31     0\n",
       "2        8     183  64    0       0  23.3    0.672  32     1\n",
       "3        1      89  66   23      94  28.1    0.167  21     0\n",
       "4        0     137  40   35     168  43.1    2.288  33     1"
      ]
     },
     "execution_count": 6,
     "metadata": {},
     "output_type": "execute_result"
    }
   ],
   "source": [
    "pima.head()"
   ]
  },
  {
   "cell_type": "code",
   "execution_count": 7,
   "metadata": {},
   "outputs": [
    {
     "data": {
      "text/plain": [
       "pregnant    object\n",
       "glucose     object\n",
       "bp          object\n",
       "skin        object\n",
       "insulin     object\n",
       "bmi         object\n",
       "pedigree    object\n",
       "age         object\n",
       "label       object\n",
       "dtype: object"
      ]
     },
     "execution_count": 7,
     "metadata": {},
     "output_type": "execute_result"
    }
   ],
   "source": [
    "pima.dtypes"
   ]
  },
  {
   "cell_type": "code",
   "execution_count": 8,
   "metadata": {},
   "outputs": [],
   "source": [
    "#split dataset in features and target variable\n",
    "feature_cols = ['pregnant', 'insulin', 'bmi', 'age','glucose','bp','pedigree']\n",
    "X = pima[feature_cols] # Features\n",
    "y = pima.label # Target variable"
   ]
  },
  {
   "cell_type": "code",
   "execution_count": 9,
   "metadata": {},
   "outputs": [
    {
     "data": {
      "text/html": [
       "<div>\n",
       "<style scoped>\n",
       "    .dataframe tbody tr th:only-of-type {\n",
       "        vertical-align: middle;\n",
       "    }\n",
       "\n",
       "    .dataframe tbody tr th {\n",
       "        vertical-align: top;\n",
       "    }\n",
       "\n",
       "    .dataframe thead th {\n",
       "        text-align: right;\n",
       "    }\n",
       "</style>\n",
       "<table border=\"1\" class=\"dataframe\">\n",
       "  <thead>\n",
       "    <tr style=\"text-align: right;\">\n",
       "      <th></th>\n",
       "      <th>pregnant</th>\n",
       "      <th>insulin</th>\n",
       "      <th>bmi</th>\n",
       "      <th>age</th>\n",
       "      <th>glucose</th>\n",
       "      <th>bp</th>\n",
       "      <th>pedigree</th>\n",
       "    </tr>\n",
       "  </thead>\n",
       "  <tbody>\n",
       "    <tr>\n",
       "      <th>0</th>\n",
       "      <td>6</td>\n",
       "      <td>0</td>\n",
       "      <td>33.6</td>\n",
       "      <td>50</td>\n",
       "      <td>148</td>\n",
       "      <td>72</td>\n",
       "      <td>0.627</td>\n",
       "    </tr>\n",
       "    <tr>\n",
       "      <th>1</th>\n",
       "      <td>1</td>\n",
       "      <td>0</td>\n",
       "      <td>26.6</td>\n",
       "      <td>31</td>\n",
       "      <td>85</td>\n",
       "      <td>66</td>\n",
       "      <td>0.351</td>\n",
       "    </tr>\n",
       "    <tr>\n",
       "      <th>2</th>\n",
       "      <td>8</td>\n",
       "      <td>0</td>\n",
       "      <td>23.3</td>\n",
       "      <td>32</td>\n",
       "      <td>183</td>\n",
       "      <td>64</td>\n",
       "      <td>0.672</td>\n",
       "    </tr>\n",
       "    <tr>\n",
       "      <th>3</th>\n",
       "      <td>1</td>\n",
       "      <td>94</td>\n",
       "      <td>28.1</td>\n",
       "      <td>21</td>\n",
       "      <td>89</td>\n",
       "      <td>66</td>\n",
       "      <td>0.167</td>\n",
       "    </tr>\n",
       "    <tr>\n",
       "      <th>4</th>\n",
       "      <td>0</td>\n",
       "      <td>168</td>\n",
       "      <td>43.1</td>\n",
       "      <td>33</td>\n",
       "      <td>137</td>\n",
       "      <td>40</td>\n",
       "      <td>2.288</td>\n",
       "    </tr>\n",
       "    <tr>\n",
       "      <th>...</th>\n",
       "      <td>...</td>\n",
       "      <td>...</td>\n",
       "      <td>...</td>\n",
       "      <td>...</td>\n",
       "      <td>...</td>\n",
       "      <td>...</td>\n",
       "      <td>...</td>\n",
       "    </tr>\n",
       "    <tr>\n",
       "      <th>763</th>\n",
       "      <td>10</td>\n",
       "      <td>180</td>\n",
       "      <td>32.9</td>\n",
       "      <td>63</td>\n",
       "      <td>101</td>\n",
       "      <td>76</td>\n",
       "      <td>0.171</td>\n",
       "    </tr>\n",
       "    <tr>\n",
       "      <th>764</th>\n",
       "      <td>2</td>\n",
       "      <td>0</td>\n",
       "      <td>36.8</td>\n",
       "      <td>27</td>\n",
       "      <td>122</td>\n",
       "      <td>70</td>\n",
       "      <td>0.34</td>\n",
       "    </tr>\n",
       "    <tr>\n",
       "      <th>765</th>\n",
       "      <td>5</td>\n",
       "      <td>112</td>\n",
       "      <td>26.2</td>\n",
       "      <td>30</td>\n",
       "      <td>121</td>\n",
       "      <td>72</td>\n",
       "      <td>0.245</td>\n",
       "    </tr>\n",
       "    <tr>\n",
       "      <th>766</th>\n",
       "      <td>1</td>\n",
       "      <td>0</td>\n",
       "      <td>30.1</td>\n",
       "      <td>47</td>\n",
       "      <td>126</td>\n",
       "      <td>60</td>\n",
       "      <td>0.349</td>\n",
       "    </tr>\n",
       "    <tr>\n",
       "      <th>767</th>\n",
       "      <td>1</td>\n",
       "      <td>0</td>\n",
       "      <td>30.4</td>\n",
       "      <td>23</td>\n",
       "      <td>93</td>\n",
       "      <td>70</td>\n",
       "      <td>0.315</td>\n",
       "    </tr>\n",
       "  </tbody>\n",
       "</table>\n",
       "<p>768 rows × 7 columns</p>\n",
       "</div>"
      ],
      "text/plain": [
       "    pregnant insulin   bmi age glucose  bp pedigree\n",
       "0          6       0  33.6  50     148  72    0.627\n",
       "1          1       0  26.6  31      85  66    0.351\n",
       "2          8       0  23.3  32     183  64    0.672\n",
       "3          1      94  28.1  21      89  66    0.167\n",
       "4          0     168  43.1  33     137  40    2.288\n",
       "..       ...     ...   ...  ..     ...  ..      ...\n",
       "763       10     180  32.9  63     101  76    0.171\n",
       "764        2       0  36.8  27     122  70     0.34\n",
       "765        5     112  26.2  30     121  72    0.245\n",
       "766        1       0  30.1  47     126  60    0.349\n",
       "767        1       0  30.4  23      93  70    0.315\n",
       "\n",
       "[768 rows x 7 columns]"
      ]
     },
     "execution_count": 9,
     "metadata": {},
     "output_type": "execute_result"
    }
   ],
   "source": [
    "X\n"
   ]
  },
  {
   "cell_type": "code",
   "execution_count": 10,
   "metadata": {},
   "outputs": [
    {
     "data": {
      "text/plain": [
       "0      1\n",
       "1      0\n",
       "2      1\n",
       "3      0\n",
       "4      1\n",
       "      ..\n",
       "763    0\n",
       "764    0\n",
       "765    0\n",
       "766    1\n",
       "767    0\n",
       "Name: label, Length: 768, dtype: object"
      ]
     },
     "execution_count": 10,
     "metadata": {},
     "output_type": "execute_result"
    }
   ],
   "source": [
    "y"
   ]
  },
  {
   "cell_type": "code",
   "execution_count": 11,
   "metadata": {},
   "outputs": [],
   "source": [
    "# split X and y into training and testing sets\n",
    "# from sklearn.cross_validation import train_test_split\n",
    "# X_train,X_test,y_train,y_test=train_test_split(X,y,test_size=0.25,random_state=0)\n",
    "\n",
    "# This does not work because sklearn.cross_validation has been removed."
   ]
  },
  {
   "cell_type": "code",
   "execution_count": 12,
   "metadata": {},
   "outputs": [],
   "source": [
    "# split X and y into training and testing sets\n",
    "from sklearn.model_selection import train_test_split\n",
    "X_train,X_test,y_train,y_test=train_test_split(X,y,test_size=0.25,random_state=0)"
   ]
  },
  {
   "cell_type": "code",
   "execution_count": 13,
   "metadata": {},
   "outputs": [
    {
     "data": {
      "text/plain": [
       "(    pregnant insulin   bmi age glucose  bp pedigree\n",
       " 762        9       0  22.5  33      89  62    0.142\n",
       " 127        1      94  33.3  23     118  58    0.261\n",
       " 564        0       0  32.4  27      91  80    0.601\n",
       " 375       12     325  39.2  58     140  82    0.528\n",
       " 663        9     130  37.9  40     145  80    0.637\n",
       " ..       ...     ...   ...  ..     ...  ..      ...\n",
       " 763       10     180  32.9  63     101  76    0.171\n",
       " 192        7       0  30.4  36     159  66    0.383\n",
       " 629        4       0  24.7  21      94  65    0.148\n",
       " 559       11       0  30.1  35      85  74      0.3\n",
       " 684        5       0     0  69     136  82     0.64\n",
       " \n",
       " [576 rows x 7 columns],\n",
       " 762    0\n",
       " 127    0\n",
       " 564    0\n",
       " 375    1\n",
       " 663    1\n",
       "       ..\n",
       " 763    0\n",
       " 192    1\n",
       " 629    0\n",
       " 559    0\n",
       " 684    0\n",
       " Name: label, Length: 576, dtype: object)"
      ]
     },
     "execution_count": 13,
     "metadata": {},
     "output_type": "execute_result"
    }
   ],
   "source": [
    "X_train, y_train"
   ]
  },
  {
   "cell_type": "code",
   "execution_count": 14,
   "metadata": {},
   "outputs": [
    {
     "data": {
      "text/plain": [
       "(    pregnant insulin   bmi age glucose  bp pedigree\n",
       " 661        1       0  42.9  22     199  76    1.394\n",
       " 122        2     100  33.6  23     107  74    0.404\n",
       " 113        4       0    34  25      76  62    0.391\n",
       " 14         5     175  25.8  51     166  72    0.587\n",
       " 529        0       0  24.6  31     111  65     0.66\n",
       " ..       ...     ...   ...  ..     ...  ..      ...\n",
       " 366        6       0  27.6  29     124  72    0.368\n",
       " 301        2     135  31.6  25     144  58    0.422\n",
       " 382        1     182  25.4  21     109  60    0.947\n",
       " 140        3       0  21.1  55     128  78    0.268\n",
       " 463        5       0  27.6  37      88  78    0.258\n",
       " \n",
       " [192 rows x 7 columns],\n",
       " 661    1\n",
       " 122    0\n",
       " 113    0\n",
       " 14     1\n",
       " 529    0\n",
       "       ..\n",
       " 366    1\n",
       " 301    1\n",
       " 382    0\n",
       " 140    0\n",
       " 463    0\n",
       " Name: label, Length: 192, dtype: object)"
      ]
     },
     "execution_count": 14,
     "metadata": {},
     "output_type": "execute_result"
    }
   ],
   "source": [
    "X_test, y_test"
   ]
  },
  {
   "cell_type": "code",
   "execution_count": 15,
   "metadata": {},
   "outputs": [],
   "source": [
    "# import the class\n",
    "from sklearn.linear_model import LogisticRegression\n",
    "\n",
    "# instantiate the model (using the default parameters)\n",
    "logreg = LogisticRegression(max_iter=200)\n"
   ]
  },
  {
   "cell_type": "markdown",
   "metadata": {},
   "source": [
    "I needed to increase max_iter to 200 because the Logistic Regression classifier\n",
    "would not converge when fitting the model."
   ]
  },
  {
   "cell_type": "code",
   "execution_count": 16,
   "metadata": {},
   "outputs": [
    {
     "data": {
      "text/plain": [
       "LogisticRegression(max_iter=200)"
      ]
     },
     "execution_count": 16,
     "metadata": {},
     "output_type": "execute_result"
    }
   ],
   "source": [
    "# fit the model with data\n",
    "logreg.fit(X_train,y_train)"
   ]
  },
  {
   "cell_type": "code",
   "execution_count": 17,
   "metadata": {},
   "outputs": [
    {
     "data": {
      "text/plain": [
       "array([[ 8.73300465e-02, -6.82011599e-04,  9.21573172e-02,\n",
       "         2.08861266e-02,  3.26117199e-02, -1.03339810e-02,\n",
       "         8.16983283e-01]])"
      ]
     },
     "execution_count": 17,
     "metadata": {},
     "output_type": "execute_result"
    }
   ],
   "source": [
    "logreg.coef_"
   ]
  },
  {
   "cell_type": "code",
   "execution_count": 18,
   "metadata": {},
   "outputs": [
    {
     "data": {
      "text/plain": [
       "array([-8.37688181])"
      ]
     },
     "execution_count": 18,
     "metadata": {},
     "output_type": "execute_result"
    }
   ],
   "source": [
    "logreg.intercept_"
   ]
  },
  {
   "cell_type": "code",
   "execution_count": 19,
   "metadata": {},
   "outputs": [
    {
     "data": {
      "text/plain": [
       "array([123], dtype=int32)"
      ]
     },
     "execution_count": 19,
     "metadata": {},
     "output_type": "execute_result"
    }
   ],
   "source": [
    "logreg.n_iter_"
   ]
  },
  {
   "cell_type": "code",
   "execution_count": 20,
   "metadata": {},
   "outputs": [
    {
     "data": {
      "text/plain": [
       "array(['0', '1'], dtype=object)"
      ]
     },
     "execution_count": 20,
     "metadata": {},
     "output_type": "execute_result"
    }
   ],
   "source": [
    "logreg.classes_"
   ]
  },
  {
   "cell_type": "code",
   "execution_count": 21,
   "metadata": {},
   "outputs": [],
   "source": [
    "y_pred=logreg.predict(X_test)"
   ]
  },
  {
   "cell_type": "code",
   "execution_count": 22,
   "metadata": {},
   "outputs": [
    {
     "data": {
      "text/plain": [
       "array(['1', '0', '0', '1', '0', '0', '1', '1', '0', '0', '1', '1', '0',\n",
       "       '0', '0', '0', '1', '0', '0', '0', '1', '0', '0', '0', '0', '0',\n",
       "       '0', '1', '0', '0', '0', '0', '0', '0', '0', '1', '0', '0', '0',\n",
       "       '1', '0', '0', '0', '1', '1', '0', '0', '0', '0', '0', '0', '0',\n",
       "       '1', '0', '0', '0', '0', '1', '0', '0', '1', '0', '0', '1', '1',\n",
       "       '1', '1', '0', '0', '0', '0', '0', '0', '1', '1', '0', '0', '1',\n",
       "       '0', '0', '0', '0', '0', '0', '0', '0', '0', '0', '1', '0', '0',\n",
       "       '0', '0', '0', '1', '0', '0', '1', '1', '0', '0', '0', '0', '0',\n",
       "       '1', '0', '0', '0', '0', '1', '0', '0', '1', '0', '1', '1', '0',\n",
       "       '1', '0', '1', '0', '0', '0', '0', '0', '0', '0', '0', '0', '0',\n",
       "       '0', '0', '0', '1', '0', '0', '0', '0', '1', '0', '0', '1', '0',\n",
       "       '0', '0', '0', '0', '0', '0', '0', '0', '1', '0', '0', '1', '0',\n",
       "       '1', '0', '0', '1', '1', '1', '0', '0', '1', '0', '0', '0', '0',\n",
       "       '0', '0', '0', '0', '0', '1', '0', '0', '0', '0', '0', '0', '1',\n",
       "       '0', '1', '0', '0', '1', '0', '0', '0', '0', '0'], dtype=object)"
      ]
     },
     "execution_count": 22,
     "metadata": {},
     "output_type": "execute_result"
    }
   ],
   "source": [
    "y_pred"
   ]
  },
  {
   "cell_type": "code",
   "execution_count": 23,
   "metadata": {},
   "outputs": [
    {
     "data": {
      "text/plain": [
       "array([[118,  12],\n",
       "       [ 26,  36]])"
      ]
     },
     "execution_count": 23,
     "metadata": {},
     "output_type": "execute_result"
    }
   ],
   "source": [
    "# import the metrics class\n",
    "from sklearn import metrics\n",
    "cnf_matrix = metrics.confusion_matrix(y_test, y_pred)\n",
    "cnf_matrix"
   ]
  },
  {
   "cell_type": "code",
   "execution_count": 24,
   "metadata": {},
   "outputs": [],
   "source": [
    "# import required modules\n",
    "import numpy as np\n",
    "import matplotlib.pyplot as plt\n",
    "import seaborn as sns\n",
    "%matplotlib inline"
   ]
  },
  {
   "cell_type": "code",
   "execution_count": 25,
   "metadata": {},
   "outputs": [
    {
     "data": {
      "text/plain": [
       "Text(0.5, 257.44, 'Predicted label')"
      ]
     },
     "execution_count": 25,
     "metadata": {},
     "output_type": "execute_result"
    },
    {
     "data": {
      "image/png": "[encoded data removed]",
      "text/plain": [
       "<Figure size 432x288 with 2 Axes>"
      ]
     },
     "metadata": {
      "needs_background": "light"
     },
     "output_type": "display_data"
    }
   ],
   "source": [
    "class_names=[0,1] # name  of classes\n",
    "fig, ax = plt.subplots()\n",
    "tick_marks = np.arange(len(class_names))\n",
    "plt.xticks(tick_marks, class_names)\n",
    "plt.yticks(tick_marks, class_names)\n",
    "# create heatmap\n",
    "sns.heatmap(pd.DataFrame(cnf_matrix), annot=True, cmap=\"YlGnBu\" ,fmt='g')\n",
    "ax.xaxis.set_label_position(\"top\")\n",
    "plt.tight_layout()\n",
    "plt.title('Confusion matrix', y=1.1)\n",
    "plt.ylabel('Actual label')\n",
    "plt.xlabel('Predicted label')"
   ]
  },
  {
   "cell_type": "code",
   "execution_count": 26,
   "metadata": {},
   "outputs": [
    {
     "data": {
      "text/html": [
       "<div>\n",
       "<style scoped>\n",
       "    .dataframe tbody tr th:only-of-type {\n",
       "        vertical-align: middle;\n",
       "    }\n",
       "\n",
       "    .dataframe tbody tr th {\n",
       "        vertical-align: top;\n",
       "    }\n",
       "\n",
       "    .dataframe thead th {\n",
       "        text-align: right;\n",
       "    }\n",
       "</style>\n",
       "<table border=\"1\" class=\"dataframe\">\n",
       "  <thead>\n",
       "    <tr style=\"text-align: right;\">\n",
       "      <th></th>\n",
       "      <th>0</th>\n",
       "      <th>1</th>\n",
       "    </tr>\n",
       "  </thead>\n",
       "  <tbody>\n",
       "    <tr>\n",
       "      <th>0</th>\n",
       "      <td>118</td>\n",
       "      <td>12</td>\n",
       "    </tr>\n",
       "    <tr>\n",
       "      <th>1</th>\n",
       "      <td>26</td>\n",
       "      <td>36</td>\n",
       "    </tr>\n",
       "  </tbody>\n",
       "</table>\n",
       "</div>"
      ],
      "text/plain": [
       "     0   1\n",
       "0  118  12\n",
       "1   26  36"
      ]
     },
     "execution_count": 26,
     "metadata": {},
     "output_type": "execute_result"
    }
   ],
   "source": [
    "pd.DataFrame(cnf_matrix)"
   ]
  },
  {
   "cell_type": "code",
   "execution_count": 27,
   "metadata": {},
   "outputs": [
    {
     "name": "stdout",
     "output_type": "stream",
     "text": [
      "Accuracy: 0.8020833333333334\n"
     ]
    }
   ],
   "source": [
    "print(\"Accuracy:\",metrics.accuracy_score(y_test, y_pred))"
   ]
  },
  {
   "cell_type": "code",
   "execution_count": 28,
   "metadata": {},
   "outputs": [],
   "source": [
    "# print(\"Precision:\",metrics.precision_score(y_test, y_pred))\n",
    "# This is fixed in the next line."
   ]
  },
  {
   "cell_type": "code",
   "execution_count": 29,
   "metadata": {},
   "outputs": [
    {
     "name": "stdout",
     "output_type": "stream",
     "text": [
      "Precision: 0.75\n"
     ]
    }
   ],
   "source": [
    "print(\"Precision:\",metrics.precision_score(y_test, y_pred, pos_label='1', average='binary'))"
   ]
  },
  {
   "cell_type": "code",
   "execution_count": 30,
   "metadata": {},
   "outputs": [
    {
     "name": "stdout",
     "output_type": "stream",
     "text": [
      "Recall: 0.5806451612903226\n"
     ]
    }
   ],
   "source": [
    "print(\"Recall:\",metrics.recall_score(y_test, y_pred, pos_label='1'))"
   ]
  },
  {
   "cell_type": "code",
   "execution_count": 31,
   "metadata": {},
   "outputs": [],
   "source": [
    "y_pred_proba = logreg.predict_proba(X_test)[::,1]"
   ]
  },
  {
   "cell_type": "code",
   "execution_count": 32,
   "metadata": {},
   "outputs": [
    {
     "data": {
      "text/plain": [
       "array([0.95104763, 0.16263448, 0.09842616, 0.63002771, 0.12185919,\n",
       "       0.03785247, 0.73379911, 0.84907581, 0.38571191, 0.3823105 ,\n",
       "       0.56893817, 0.96088638, 0.29025454, 0.16698221, 0.12067168,\n",
       "       0.15054792, 0.84282561, 0.02497089, 0.4078187 , 0.23890249,\n",
       "       0.64441801, 0.44462057, 0.17537902, 0.06639308, 0.05174361,\n",
       "       0.33004814, 0.04584582, 0.90537387, 0.10195048, 0.14253168,\n",
       "       0.45083616, 0.23511718, 0.10166301, 0.43017138, 0.09304278,\n",
       "       0.70594329, 0.4402646 , 0.08718963, 0.29236493, 0.71988533,\n",
       "       0.28267669, 0.23949181, 0.15087174, 0.80077228, 0.76412374,\n",
       "       0.00724903, 0.07631451, 0.18983205, 0.32909208, 0.31017414,\n",
       "       0.39445489, 0.17565295, 0.87427466, 0.46386546, 0.14872355,\n",
       "       0.00263713, 0.05657324, 0.60541252, 0.27506041, 0.05149428,\n",
       "       0.73360488, 0.4898089 , 0.10717433, 0.67988529, 0.68006746,\n",
       "       0.89622936, 0.72159028, 0.14433583, 0.35241129, 0.10771289,\n",
       "       0.12615482, 0.35003708, 0.09456248, 0.95422476, 0.85288739,\n",
       "       0.3273845 , 0.126891  , 0.61613562, 0.07308831, 0.17745098,\n",
       "       0.35353886, 0.38124297, 0.20671824, 0.02978928, 0.18689956,\n",
       "       0.23764391, 0.2703696 , 0.38508758, 0.87980042, 0.20064869,\n",
       "       0.14929292, 0.18437083, 0.2223175 , 0.04051585, 0.62512212,\n",
       "       0.16869117, 0.42543587, 0.53898212, 0.60620377, 0.25162459,\n",
       "       0.28771197, 0.08714207, 0.24172307, 0.03563682, 0.59814983,\n",
       "       0.35450501, 0.13541525, 0.27399442, 0.04231184, 0.72967274,\n",
       "       0.0962067 , 0.31237467, 0.61803218, 0.3893543 , 0.5734401 ,\n",
       "       0.62579655, 0.11924232, 0.65820884, 0.10090326, 0.75217671,\n",
       "       0.36271019, 0.38273646, 0.28424214, 0.44022567, 0.20260126,\n",
       "       0.0455071 , 0.34339971, 0.33735985, 0.46799462, 0.36162291,\n",
       "       0.34309315, 0.02683376, 0.05371379, 0.7837869 , 0.29168385,\n",
       "       0.37428743, 0.12399038, 0.36430121, 0.60676402, 0.19133152,\n",
       "       0.08878825, 0.52450889, 0.06698924, 0.08552079, 0.34998181,\n",
       "       0.08085399, 0.06827471, 0.08321556, 0.12258718, 0.19112767,\n",
       "       0.07645106, 0.68047405, 0.1037871 , 0.16943826, 0.76338775,\n",
       "       0.11264449, 0.77890322, 0.12759903, 0.48577015, 0.95745922,\n",
       "       0.63463784, 0.76334214, 0.01948193, 0.24520268, 0.85587496,\n",
       "       0.29034102, 0.20472975, 0.11637328, 0.24955354, 0.11576656,\n",
       "       0.10020951, 0.20131658, 0.18877467, 0.27466858, 0.53851698,\n",
       "       0.1224948 , 0.41434321, 0.10456841, 0.11750638, 0.06316263,\n",
       "       0.16294329, 0.85323414, 0.1411669 , 0.93994129, 0.49618281,\n",
       "       0.02632342, 0.65477027, 0.24913978, 0.39687929, 0.12719936,\n",
       "       0.19240873, 0.08711821])"
      ]
     },
     "execution_count": 32,
     "metadata": {},
     "output_type": "execute_result"
    }
   ],
   "source": [
    "y_pred_proba"
   ]
  },
  {
   "cell_type": "code",
   "execution_count": 33,
   "metadata": {},
   "outputs": [
    {
     "data": {
      "text/plain": [
       "array([[0.04895237, 0.95104763],\n",
       "       [0.83736552, 0.16263448],\n",
       "       [0.90157384, 0.09842616],\n",
       "       [0.36997229, 0.63002771],\n",
       "       [0.87814081, 0.12185919],\n",
       "       [0.96214753, 0.03785247],\n",
       "       [0.26620089, 0.73379911],\n",
       "       [0.15092419, 0.84907581],\n",
       "       [0.61428809, 0.38571191],\n",
       "       [0.6176895 , 0.3823105 ],\n",
       "       [0.43106183, 0.56893817],\n",
       "       [0.03911362, 0.96088638],\n",
       "       [0.70974546, 0.29025454],\n",
       "       [0.83301779, 0.16698221],\n",
       "       [0.87932832, 0.12067168],\n",
       "       [0.84945208, 0.15054792],\n",
       "       [0.15717439, 0.84282561],\n",
       "       [0.97502911, 0.02497089],\n",
       "       [0.5921813 , 0.4078187 ],\n",
       "       [0.76109751, 0.23890249],\n",
       "       [0.35558199, 0.64441801],\n",
       "       [0.55537943, 0.44462057],\n",
       "       [0.82462098, 0.17537902],\n",
       "       [0.93360692, 0.06639308],\n",
       "       [0.94825639, 0.05174361],\n",
       "       [0.66995186, 0.33004814],\n",
       "       [0.95415418, 0.04584582],\n",
       "       [0.09462613, 0.90537387],\n",
       "       [0.89804952, 0.10195048],\n",
       "       [0.85746832, 0.14253168],\n",
       "       [0.54916384, 0.45083616],\n",
       "       [0.76488282, 0.23511718],\n",
       "       [0.89833699, 0.10166301],\n",
       "       [0.56982862, 0.43017138],\n",
       "       [0.90695722, 0.09304278],\n",
       "       [0.29405671, 0.70594329],\n",
       "       [0.5597354 , 0.4402646 ],\n",
       "       [0.91281037, 0.08718963],\n",
       "       [0.70763507, 0.29236493],\n",
       "       [0.28011467, 0.71988533],\n",
       "       [0.71732331, 0.28267669],\n",
       "       [0.76050819, 0.23949181],\n",
       "       [0.84912826, 0.15087174],\n",
       "       [0.19922772, 0.80077228],\n",
       "       [0.23587626, 0.76412374],\n",
       "       [0.99275097, 0.00724903],\n",
       "       [0.92368549, 0.07631451],\n",
       "       [0.81016795, 0.18983205],\n",
       "       [0.67090792, 0.32909208],\n",
       "       [0.68982586, 0.31017414],\n",
       "       [0.60554511, 0.39445489],\n",
       "       [0.82434705, 0.17565295],\n",
       "       [0.12572534, 0.87427466],\n",
       "       [0.53613454, 0.46386546],\n",
       "       [0.85127645, 0.14872355],\n",
       "       [0.99736287, 0.00263713],\n",
       "       [0.94342676, 0.05657324],\n",
       "       [0.39458748, 0.60541252],\n",
       "       [0.72493959, 0.27506041],\n",
       "       [0.94850572, 0.05149428],\n",
       "       [0.26639512, 0.73360488],\n",
       "       [0.5101911 , 0.4898089 ],\n",
       "       [0.89282567, 0.10717433],\n",
       "       [0.32011471, 0.67988529],\n",
       "       [0.31993254, 0.68006746],\n",
       "       [0.10377064, 0.89622936],\n",
       "       [0.27840972, 0.72159028],\n",
       "       [0.85566417, 0.14433583],\n",
       "       [0.64758871, 0.35241129],\n",
       "       [0.89228711, 0.10771289],\n",
       "       [0.87384518, 0.12615482],\n",
       "       [0.64996292, 0.35003708],\n",
       "       [0.90543752, 0.09456248],\n",
       "       [0.04577524, 0.95422476],\n",
       "       [0.14711261, 0.85288739],\n",
       "       [0.6726155 , 0.3273845 ],\n",
       "       [0.873109  , 0.126891  ],\n",
       "       [0.38386438, 0.61613562],\n",
       "       [0.92691169, 0.07308831],\n",
       "       [0.82254902, 0.17745098],\n",
       "       [0.64646114, 0.35353886],\n",
       "       [0.61875703, 0.38124297],\n",
       "       [0.79328176, 0.20671824],\n",
       "       [0.97021072, 0.02978928],\n",
       "       [0.81310044, 0.18689956],\n",
       "       [0.76235609, 0.23764391],\n",
       "       [0.7296304 , 0.2703696 ],\n",
       "       [0.61491242, 0.38508758],\n",
       "       [0.12019958, 0.87980042],\n",
       "       [0.79935131, 0.20064869],\n",
       "       [0.85070708, 0.14929292],\n",
       "       [0.81562917, 0.18437083],\n",
       "       [0.7776825 , 0.2223175 ],\n",
       "       [0.95948415, 0.04051585],\n",
       "       [0.37487788, 0.62512212],\n",
       "       [0.83130883, 0.16869117],\n",
       "       [0.57456413, 0.42543587],\n",
       "       [0.46101788, 0.53898212],\n",
       "       [0.39379623, 0.60620377],\n",
       "       [0.74837541, 0.25162459],\n",
       "       [0.71228803, 0.28771197],\n",
       "       [0.91285793, 0.08714207],\n",
       "       [0.75827693, 0.24172307],\n",
       "       [0.96436318, 0.03563682],\n",
       "       [0.40185017, 0.59814983],\n",
       "       [0.64549499, 0.35450501],\n",
       "       [0.86458475, 0.13541525],\n",
       "       [0.72600558, 0.27399442],\n",
       "       [0.95768816, 0.04231184],\n",
       "       [0.27032726, 0.72967274],\n",
       "       [0.9037933 , 0.0962067 ],\n",
       "       [0.68762533, 0.31237467],\n",
       "       [0.38196782, 0.61803218],\n",
       "       [0.6106457 , 0.3893543 ],\n",
       "       [0.4265599 , 0.5734401 ],\n",
       "       [0.37420345, 0.62579655],\n",
       "       [0.88075768, 0.11924232],\n",
       "       [0.34179116, 0.65820884],\n",
       "       [0.89909674, 0.10090326],\n",
       "       [0.24782329, 0.75217671],\n",
       "       [0.63728981, 0.36271019],\n",
       "       [0.61726354, 0.38273646],\n",
       "       [0.71575786, 0.28424214],\n",
       "       [0.55977433, 0.44022567],\n",
       "       [0.79739874, 0.20260126],\n",
       "       [0.9544929 , 0.0455071 ],\n",
       "       [0.65660029, 0.34339971],\n",
       "       [0.66264015, 0.33735985],\n",
       "       [0.53200538, 0.46799462],\n",
       "       [0.63837709, 0.36162291],\n",
       "       [0.65690685, 0.34309315],\n",
       "       [0.97316624, 0.02683376],\n",
       "       [0.94628621, 0.05371379],\n",
       "       [0.2162131 , 0.7837869 ],\n",
       "       [0.70831615, 0.29168385],\n",
       "       [0.62571257, 0.37428743],\n",
       "       [0.87600962, 0.12399038],\n",
       "       [0.63569879, 0.36430121],\n",
       "       [0.39323598, 0.60676402],\n",
       "       [0.80866848, 0.19133152],\n",
       "       [0.91121175, 0.08878825],\n",
       "       [0.47549111, 0.52450889],\n",
       "       [0.93301076, 0.06698924],\n",
       "       [0.91447921, 0.08552079],\n",
       "       [0.65001819, 0.34998181],\n",
       "       [0.91914601, 0.08085399],\n",
       "       [0.93172529, 0.06827471],\n",
       "       [0.91678444, 0.08321556],\n",
       "       [0.87741282, 0.12258718],\n",
       "       [0.80887233, 0.19112767],\n",
       "       [0.92354894, 0.07645106],\n",
       "       [0.31952595, 0.68047405],\n",
       "       [0.8962129 , 0.1037871 ],\n",
       "       [0.83056174, 0.16943826],\n",
       "       [0.23661225, 0.76338775],\n",
       "       [0.88735551, 0.11264449],\n",
       "       [0.22109678, 0.77890322],\n",
       "       [0.87240097, 0.12759903],\n",
       "       [0.51422985, 0.48577015],\n",
       "       [0.04254078, 0.95745922],\n",
       "       [0.36536216, 0.63463784],\n",
       "       [0.23665786, 0.76334214],\n",
       "       [0.98051807, 0.01948193],\n",
       "       [0.75479732, 0.24520268],\n",
       "       [0.14412504, 0.85587496],\n",
       "       [0.70965898, 0.29034102],\n",
       "       [0.79527025, 0.20472975],\n",
       "       [0.88362672, 0.11637328],\n",
       "       [0.75044646, 0.24955354],\n",
       "       [0.88423344, 0.11576656],\n",
       "       [0.89979049, 0.10020951],\n",
       "       [0.79868342, 0.20131658],\n",
       "       [0.81122533, 0.18877467],\n",
       "       [0.72533142, 0.27466858],\n",
       "       [0.46148302, 0.53851698],\n",
       "       [0.8775052 , 0.1224948 ],\n",
       "       [0.58565679, 0.41434321],\n",
       "       [0.89543159, 0.10456841],\n",
       "       [0.88249362, 0.11750638],\n",
       "       [0.93683737, 0.06316263],\n",
       "       [0.83705671, 0.16294329],\n",
       "       [0.14676586, 0.85323414],\n",
       "       [0.8588331 , 0.1411669 ],\n",
       "       [0.06005871, 0.93994129],\n",
       "       [0.50381719, 0.49618281],\n",
       "       [0.97367658, 0.02632342],\n",
       "       [0.34522973, 0.65477027],\n",
       "       [0.75086022, 0.24913978],\n",
       "       [0.60312071, 0.39687929],\n",
       "       [0.87280064, 0.12719936],\n",
       "       [0.80759127, 0.19240873],\n",
       "       [0.91288179, 0.08711821]])"
      ]
     },
     "execution_count": 33,
     "metadata": {},
     "output_type": "execute_result"
    }
   ],
   "source": [
    "logreg.predict_proba(X_test)"
   ]
  },
  {
   "cell_type": "code",
   "execution_count": 34,
   "metadata": {},
   "outputs": [],
   "source": [
    "fpr, tpr, _ = metrics.roc_curve(y_test,  y_pred_proba, pos_label='1')"
   ]
  },
  {
   "cell_type": "code",
   "execution_count": 35,
   "metadata": {},
   "outputs": [
    {
     "data": {
      "text/plain": [
       "array([0.        , 0.        , 0.        , 0.00769231, 0.00769231,\n",
       "       0.01538462, 0.01538462, 0.02307692, 0.02307692, 0.03076923,\n",
       "       0.03076923, 0.03846154, 0.03846154, 0.04615385, 0.04615385,\n",
       "       0.05384615, 0.05384615, 0.06153846, 0.06153846, 0.06923077,\n",
       "       0.06923077, 0.09230769, 0.09230769, 0.1       , 0.1       ,\n",
       "       0.12307692, 0.12307692, 0.13846154, 0.13846154, 0.15384615,\n",
       "       0.15384615, 0.16153846, 0.16153846, 0.2       , 0.2       ,\n",
       "       0.21538462, 0.21538462, 0.23846154, 0.23846154, 0.25384615,\n",
       "       0.25384615, 0.26153846, 0.26153846, 0.26923077, 0.26923077,\n",
       "       0.28461538, 0.28461538, 0.31538462, 0.31538462, 0.32307692,\n",
       "       0.32307692, 0.33076923, 0.33076923, 0.43846154, 0.43846154,\n",
       "       0.5       , 0.5       , 0.9       , 0.9       , 1.        ])"
      ]
     },
     "execution_count": 35,
     "metadata": {},
     "output_type": "execute_result"
    }
   ],
   "source": [
    "fpr"
   ]
  },
  {
   "cell_type": "code",
   "execution_count": 36,
   "metadata": {},
   "outputs": [
    {
     "data": {
      "text/plain": [
       "array([0.        , 0.01612903, 0.03225806, 0.03225806, 0.06451613,\n",
       "       0.06451613, 0.11290323, 0.11290323, 0.20967742, 0.20967742,\n",
       "       0.33870968, 0.33870968, 0.40322581, 0.40322581, 0.48387097,\n",
       "       0.48387097, 0.5       , 0.5       , 0.5483871 , 0.5483871 ,\n",
       "       0.58064516, 0.58064516, 0.59677419, 0.59677419, 0.61290323,\n",
       "       0.61290323, 0.64516129, 0.64516129, 0.66129032, 0.66129032,\n",
       "       0.67741935, 0.67741935, 0.69354839, 0.69354839, 0.72580645,\n",
       "       0.72580645, 0.74193548, 0.74193548, 0.75806452, 0.75806452,\n",
       "       0.77419355, 0.77419355, 0.79032258, 0.79032258, 0.82258065,\n",
       "       0.82258065, 0.83870968, 0.83870968, 0.87096774, 0.87096774,\n",
       "       0.90322581, 0.90322581, 0.91935484, 0.91935484, 0.96774194,\n",
       "       0.96774194, 0.98387097, 0.98387097, 1.        , 1.        ])"
      ]
     },
     "execution_count": 36,
     "metadata": {},
     "output_type": "execute_result"
    }
   ],
   "source": [
    "tpr"
   ]
  },
  {
   "cell_type": "code",
   "execution_count": 37,
   "metadata": {},
   "outputs": [
    {
     "data": {
      "text/plain": [
       "array([1.96088638, 0.96088638, 0.95745922, 0.95422476, 0.93994129,\n",
       "       0.90537387, 0.87427466, 0.85587496, 0.7837869 , 0.77890322,\n",
       "       0.72159028, 0.71988533, 0.67988529, 0.65820884, 0.62579655,\n",
       "       0.62512212, 0.61803218, 0.61613562, 0.60541252, 0.59814983,\n",
       "       0.56893817, 0.52450889, 0.49618281, 0.4898089 , 0.48577015,\n",
       "       0.45083616, 0.4402646 , 0.43017138, 0.42543587, 0.4078187 ,\n",
       "       0.39687929, 0.39445489, 0.3893543 , 0.38124297, 0.36430121,\n",
       "       0.36162291, 0.35450501, 0.35003708, 0.34998181, 0.34309315,\n",
       "       0.33735985, 0.33004814, 0.32909208, 0.3273845 , 0.31017414,\n",
       "       0.29168385, 0.29034102, 0.28267669, 0.27466858, 0.27399442,\n",
       "       0.25162459, 0.24955354, 0.24913978, 0.19133152, 0.18877467,\n",
       "       0.16698221, 0.16294329, 0.05174361, 0.05149428, 0.00263713])"
      ]
     },
     "execution_count": 37,
     "metadata": {},
     "output_type": "execute_result"
    }
   ],
   "source": [
    "_"
   ]
  },
  {
   "cell_type": "code",
   "execution_count": 38,
   "metadata": {},
   "outputs": [],
   "source": [
    "auc = metrics.roc_auc_score(y_test, y_pred_proba)"
   ]
  },
  {
   "cell_type": "code",
   "execution_count": 39,
   "metadata": {},
   "outputs": [
    {
     "data": {
      "text/plain": [
       "0.8610421836228287"
      ]
     },
     "execution_count": 39,
     "metadata": {},
     "output_type": "execute_result"
    }
   ],
   "source": [
    "auc"
   ]
  },
  {
   "cell_type": "code",
   "execution_count": 40,
   "metadata": {},
   "outputs": [
    {
     "data": {
      "image/png": "[encoded data removed]",
      "text/plain": [
       "<Figure size 432x288 with 1 Axes>"
      ]
     },
     "metadata": {
      "needs_background": "light"
     },
     "output_type": "display_data"
    }
   ],
   "source": [
    "plt.plot(fpr,tpr,label=\"data 1, auc=\"+str(auc))\n",
    "plt.legend(loc=4)\n",
    "plt.show()"
   ]
  },
  {
   "cell_type": "markdown",
   "metadata": {},
   "source": [
    "In Tuesday's morning lecture, Marco from class said to check the comments of the article corresponding to this tutorial because there are different ways to fix the errors."
   ]
  },
  {
   "cell_type": "code",
   "execution_count": null,
   "metadata": {},
   "outputs": [],
   "source": []
  }
 ],
 "metadata": {
  "kernelspec": {
   "display_name": "Python 3",
   "language": "python",
   "name": "python3"
  },
  "language_info": {
   "codemirror_mode": {
    "name": "ipython",
    "version": 3
   },
   "file_extension": ".py",
   "mimetype": "text/x-python",
   "name": "python",
   "nbconvert_exporter": "python",
   "pygments_lexer": "ipython3",
   "version": "3.8.3"
  }
 },
 "nbformat": 4,
 "nbformat_minor": 4
}
