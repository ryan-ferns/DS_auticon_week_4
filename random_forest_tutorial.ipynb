{
 "cells": [
  {
   "cell_type": "code",
   "execution_count": 1,
   "metadata": {},
   "outputs": [],
   "source": [
    "#Import scikit-learn dataset library\n",
    "from sklearn import datasets"
   ]
  },
  {
   "cell_type": "code",
   "execution_count": 2,
   "metadata": {},
   "outputs": [],
   "source": [
    "#Load dataset\n",
    "iris = datasets.load_iris()"
   ]
  },
  {
   "cell_type": "code",
   "execution_count": 3,
   "metadata": {},
   "outputs": [
    {
     "name": "stdout",
     "output_type": "stream",
     "text": [
      "['setosa' 'versicolor' 'virginica']\n",
      "['sepal length (cm)', 'sepal width (cm)', 'petal length (cm)', 'petal width (cm)']\n"
     ]
    }
   ],
   "source": [
    "# print the label species(setosa, versicolor,virginica)\n",
    "print(iris.target_names)\n",
    "\n",
    "# print the names of the four features\n",
    "print(iris.feature_names)"
   ]
  },
  {
   "cell_type": "code",
   "execution_count": 4,
   "metadata": {},
   "outputs": [
    {
     "name": "stdout",
     "output_type": "stream",
     "text": [
      "[[5.1 3.5 1.4 0.2]\n",
      " [4.9 3.  1.4 0.2]\n",
      " [4.7 3.2 1.3 0.2]\n",
      " [4.6 3.1 1.5 0.2]\n",
      " [5.  3.6 1.4 0.2]]\n",
      "[0 0 0 0 0 0 0 0 0 0 0 0 0 0 0 0 0 0 0 0 0 0 0 0 0 0 0 0 0 0 0 0 0 0 0 0 0\n",
      " 0 0 0 0 0 0 0 0 0 0 0 0 0 1 1 1 1 1 1 1 1 1 1 1 1 1 1 1 1 1 1 1 1 1 1 1 1\n",
      " 1 1 1 1 1 1 1 1 1 1 1 1 1 1 1 1 1 1 1 1 1 1 1 1 1 1 2 2 2 2 2 2 2 2 2 2 2\n",
      " 2 2 2 2 2 2 2 2 2 2 2 2 2 2 2 2 2 2 2 2 2 2 2 2 2 2 2 2 2 2 2 2 2 2 2 2 2\n",
      " 2 2]\n"
     ]
    }
   ],
   "source": [
    "# print the iris data (top 5 records)\n",
    "print(iris.data[0:5])\n",
    "\n",
    "# print the iris labels (0:setosa, 1:versicolor, 2:virginica)\n",
    "print(iris.target)"
   ]
  },
  {
   "cell_type": "code",
   "execution_count": 5,
   "metadata": {},
   "outputs": [
    {
     "data": {
      "text/html": [
       "<div>\n",
       "<style scoped>\n",
       "    .dataframe tbody tr th:only-of-type {\n",
       "        vertical-align: middle;\n",
       "    }\n",
       "\n",
       "    .dataframe tbody tr th {\n",
       "        vertical-align: top;\n",
       "    }\n",
       "\n",
       "    .dataframe thead th {\n",
       "        text-align: right;\n",
       "    }\n",
       "</style>\n",
       "<table border=\"1\" class=\"dataframe\">\n",
       "  <thead>\n",
       "    <tr style=\"text-align: right;\">\n",
       "      <th></th>\n",
       "      <th>sepal length</th>\n",
       "      <th>sepal width</th>\n",
       "      <th>petal length</th>\n",
       "      <th>petal width</th>\n",
       "      <th>species</th>\n",
       "    </tr>\n",
       "  </thead>\n",
       "  <tbody>\n",
       "    <tr>\n",
       "      <th>0</th>\n",
       "      <td>5.1</td>\n",
       "      <td>3.5</td>\n",
       "      <td>1.4</td>\n",
       "      <td>0.2</td>\n",
       "      <td>0</td>\n",
       "    </tr>\n",
       "    <tr>\n",
       "      <th>1</th>\n",
       "      <td>4.9</td>\n",
       "      <td>3.0</td>\n",
       "      <td>1.4</td>\n",
       "      <td>0.2</td>\n",
       "      <td>0</td>\n",
       "    </tr>\n",
       "    <tr>\n",
       "      <th>2</th>\n",
       "      <td>4.7</td>\n",
       "      <td>3.2</td>\n",
       "      <td>1.3</td>\n",
       "      <td>0.2</td>\n",
       "      <td>0</td>\n",
       "    </tr>\n",
       "    <tr>\n",
       "      <th>3</th>\n",
       "      <td>4.6</td>\n",
       "      <td>3.1</td>\n",
       "      <td>1.5</td>\n",
       "      <td>0.2</td>\n",
       "      <td>0</td>\n",
       "    </tr>\n",
       "    <tr>\n",
       "      <th>4</th>\n",
       "      <td>5.0</td>\n",
       "      <td>3.6</td>\n",
       "      <td>1.4</td>\n",
       "      <td>0.2</td>\n",
       "      <td>0</td>\n",
       "    </tr>\n",
       "  </tbody>\n",
       "</table>\n",
       "</div>"
      ],
      "text/plain": [
       "   sepal length  sepal width  petal length  petal width  species\n",
       "0           5.1          3.5           1.4          0.2        0\n",
       "1           4.9          3.0           1.4          0.2        0\n",
       "2           4.7          3.2           1.3          0.2        0\n",
       "3           4.6          3.1           1.5          0.2        0\n",
       "4           5.0          3.6           1.4          0.2        0"
      ]
     },
     "execution_count": 5,
     "metadata": {},
     "output_type": "execute_result"
    }
   ],
   "source": [
    "# Creating a DataFrame of given iris dataset.\n",
    "import pandas as pd\n",
    "data=pd.DataFrame({\n",
    "    'sepal length':iris.data[:,0],\n",
    "    'sepal width':iris.data[:,1],\n",
    "    'petal length':iris.data[:,2],\n",
    "    'petal width':iris.data[:,3],\n",
    "    'species':iris.target\n",
    "})\n",
    "data.head()"
   ]
  },
  {
   "cell_type": "code",
   "execution_count": 6,
   "metadata": {},
   "outputs": [],
   "source": [
    "# Import train_test_split function\n",
    "from sklearn.model_selection import train_test_split\n",
    "\n",
    "X=data[['sepal length', 'sepal width', 'petal length', 'petal width']]  # Features\n",
    "y=data['species']  # Labels\n",
    "\n",
    "# Split dataset into training set and test set\n",
    "X_train, X_test, y_train, y_test = train_test_split(X, y, test_size=0.3) # 70% training and 30% test\n"
   ]
  },
  {
   "cell_type": "code",
   "execution_count": 7,
   "metadata": {},
   "outputs": [
    {
     "data": {
      "text/plain": [
       "(     sepal length  sepal width  petal length  petal width\n",
       " 47            4.6          3.2           1.4          0.2\n",
       " 96            5.7          2.9           4.2          1.3\n",
       " 67            5.8          2.7           4.1          1.0\n",
       " 140           6.7          3.1           5.6          2.4\n",
       " 121           5.6          2.8           4.9          2.0\n",
       " ..            ...          ...           ...          ...\n",
       " 73            6.1          2.8           4.7          1.2\n",
       " 29            4.7          3.2           1.6          0.2\n",
       " 114           5.8          2.8           5.1          2.4\n",
       " 69            5.6          2.5           3.9          1.1\n",
       " 57            4.9          2.4           3.3          1.0\n",
       " \n",
       " [105 rows x 4 columns],\n",
       " 47     0\n",
       " 96     1\n",
       " 67     1\n",
       " 140    2\n",
       " 121    2\n",
       "       ..\n",
       " 73     1\n",
       " 29     0\n",
       " 114    2\n",
       " 69     1\n",
       " 57     1\n",
       " Name: species, Length: 105, dtype: int64)"
      ]
     },
     "execution_count": 7,
     "metadata": {},
     "output_type": "execute_result"
    }
   ],
   "source": [
    "X_train, y_train"
   ]
  },
  {
   "cell_type": "code",
   "execution_count": 8,
   "metadata": {},
   "outputs": [
    {
     "data": {
      "text/plain": [
       "(     sepal length  sepal width  petal length  petal width\n",
       " 19            5.1          3.8           1.5          0.3\n",
       " 37            4.9          3.6           1.4          0.1\n",
       " 143           6.8          3.2           5.9          2.3\n",
       " 44            5.1          3.8           1.9          0.4\n",
       " 94            5.6          2.7           4.2          1.3\n",
       " 82            5.8          2.7           3.9          1.2\n",
       " 56            6.3          3.3           4.7          1.6\n",
       " 116           6.5          3.0           5.5          1.8\n",
       " 45            4.8          3.0           1.4          0.3\n",
       " 138           6.0          3.0           4.8          1.8\n",
       " 107           7.3          2.9           6.3          1.8\n",
       " 62            6.0          2.2           4.0          1.0\n",
       " 46            5.1          3.8           1.6          0.2\n",
       " 6             4.6          3.4           1.4          0.3\n",
       " 146           6.3          2.5           5.0          1.9\n",
       " 11            4.8          3.4           1.6          0.2\n",
       " 118           7.7          2.6           6.9          2.3\n",
       " 106           4.9          2.5           4.5          1.7\n",
       " 124           6.7          3.3           5.7          2.1\n",
       " 125           7.2          3.2           6.0          1.8\n",
       " 120           6.9          3.2           5.7          2.3\n",
       " 28            5.2          3.4           1.4          0.2\n",
       " 16            5.4          3.9           1.3          0.4\n",
       " 3             4.6          3.1           1.5          0.2\n",
       " 41            4.5          2.3           1.3          0.3\n",
       " 101           5.8          2.7           5.1          1.9\n",
       " 4             5.0          3.6           1.4          0.2\n",
       " 31            5.4          3.4           1.5          0.4\n",
       " 123           6.3          2.7           4.9          1.8\n",
       " 77            6.7          3.0           5.0          1.7\n",
       " 21            5.1          3.7           1.5          0.4\n",
       " 17            5.1          3.5           1.4          0.3\n",
       " 134           6.1          2.6           5.6          1.4\n",
       " 113           5.7          2.5           5.0          2.0\n",
       " 36            5.5          3.5           1.3          0.2\n",
       " 10            5.4          3.7           1.5          0.2\n",
       " 61            5.9          3.0           4.2          1.5\n",
       " 109           7.2          3.6           6.1          2.5\n",
       " 131           7.9          3.8           6.4          2.0\n",
       " 25            5.0          3.0           1.6          0.2\n",
       " 129           7.2          3.0           5.8          1.6\n",
       " 105           7.6          3.0           6.6          2.1\n",
       " 102           7.1          3.0           5.9          2.1\n",
       " 65            6.7          3.1           4.4          1.4\n",
       " 88            5.6          3.0           4.1          1.3,\n",
       " 19     0\n",
       " 37     0\n",
       " 143    2\n",
       " 44     0\n",
       " 94     1\n",
       " 82     1\n",
       " 56     1\n",
       " 116    2\n",
       " 45     0\n",
       " 138    2\n",
       " 107    2\n",
       " 62     1\n",
       " 46     0\n",
       " 6      0\n",
       " 146    2\n",
       " 11     0\n",
       " 118    2\n",
       " 106    2\n",
       " 124    2\n",
       " 125    2\n",
       " 120    2\n",
       " 28     0\n",
       " 16     0\n",
       " 3      0\n",
       " 41     0\n",
       " 101    2\n",
       " 4      0\n",
       " 31     0\n",
       " 123    2\n",
       " 77     1\n",
       " 21     0\n",
       " 17     0\n",
       " 134    2\n",
       " 113    2\n",
       " 36     0\n",
       " 10     0\n",
       " 61     1\n",
       " 109    2\n",
       " 131    2\n",
       " 25     0\n",
       " 129    2\n",
       " 105    2\n",
       " 102    2\n",
       " 65     1\n",
       " 88     1\n",
       " Name: species, dtype: int64)"
      ]
     },
     "execution_count": 8,
     "metadata": {},
     "output_type": "execute_result"
    }
   ],
   "source": [
    "X_test, y_test"
   ]
  },
  {
   "cell_type": "code",
   "execution_count": 9,
   "metadata": {},
   "outputs": [],
   "source": [
    "#Import Random Forest Model\n",
    "from sklearn.ensemble import RandomForestClassifier\n",
    "\n",
    "#Create a Gaussian Classifier\n",
    "clf=RandomForestClassifier(n_estimators=100)\n",
    "\n",
    "#Train the model using the training sets y_pred=clf.predict(X_test)\n",
    "clf.fit(X_train,y_train)\n",
    "\n",
    "y_pred=clf.predict(X_test)"
   ]
  },
  {
   "cell_type": "code",
   "execution_count": 10,
   "metadata": {},
   "outputs": [
    {
     "data": {
      "text/plain": [
       "(array([0, 0, 2, 0, 1, 1, 1, 2, 0, 2, 2, 1, 0, 0, 2, 0, 2, 1, 2, 2, 2, 0,\n",
       "        0, 0, 0, 2, 0, 0, 2, 2, 0, 0, 1, 2, 0, 0, 1, 2, 2, 0, 1, 2, 2, 1,\n",
       "        1]),\n",
       " 19     0\n",
       " 37     0\n",
       " 143    2\n",
       " 44     0\n",
       " 94     1\n",
       " 82     1\n",
       " 56     1\n",
       " 116    2\n",
       " 45     0\n",
       " 138    2\n",
       " 107    2\n",
       " 62     1\n",
       " 46     0\n",
       " 6      0\n",
       " 146    2\n",
       " 11     0\n",
       " 118    2\n",
       " 106    2\n",
       " 124    2\n",
       " 125    2\n",
       " 120    2\n",
       " 28     0\n",
       " 16     0\n",
       " 3      0\n",
       " 41     0\n",
       " 101    2\n",
       " 4      0\n",
       " 31     0\n",
       " 123    2\n",
       " 77     1\n",
       " 21     0\n",
       " 17     0\n",
       " 134    2\n",
       " 113    2\n",
       " 36     0\n",
       " 10     0\n",
       " 61     1\n",
       " 109    2\n",
       " 131    2\n",
       " 25     0\n",
       " 129    2\n",
       " 105    2\n",
       " 102    2\n",
       " 65     1\n",
       " 88     1\n",
       " Name: species, dtype: int64)"
      ]
     },
     "execution_count": 10,
     "metadata": {},
     "output_type": "execute_result"
    }
   ],
   "source": [
    "y_pred, y_test # Predicted and true classes."
   ]
  },
  {
   "cell_type": "code",
   "execution_count": 11,
   "metadata": {},
   "outputs": [
    {
     "name": "stdout",
     "output_type": "stream",
     "text": [
      "Accuracy: 0.9111111111111111\n"
     ]
    }
   ],
   "source": [
    "#Import scikit-learn metrics module for accuracy calculation\n",
    "from sklearn import metrics\n",
    "\n",
    "# Model Accuracy, how often is the classifier correct?\n",
    "print(\"Accuracy:\",metrics.accuracy_score(y_test, y_pred))"
   ]
  },
  {
   "cell_type": "code",
   "execution_count": 12,
   "metadata": {},
   "outputs": [
    {
     "data": {
      "text/plain": [
       "array([1])"
      ]
     },
     "execution_count": 12,
     "metadata": {},
     "output_type": "execute_result"
    }
   ],
   "source": [
    "clf.predict([[3, 5, 4, 2]])"
   ]
  },
  {
   "cell_type": "code",
   "execution_count": 13,
   "metadata": {},
   "outputs": [
    {
     "data": {
      "text/plain": [
       "RandomForestClassifier()"
      ]
     },
     "execution_count": 13,
     "metadata": {},
     "output_type": "execute_result"
    }
   ],
   "source": [
    "from sklearn.ensemble import RandomForestClassifier\n",
    "\n",
    "#Create a Gaussian Classifier\n",
    "clf=RandomForestClassifier(n_estimators=100)\n",
    "\n",
    "#Train the model using the training sets y_pred=clf.predict(X_test)\n",
    "clf.fit(X_train,y_train)"
   ]
  },
  {
   "cell_type": "code",
   "execution_count": 14,
   "metadata": {},
   "outputs": [
    {
     "data": {
      "text/plain": [
       "array([0.06919973, 0.02361464, 0.48013093, 0.4270547 ])"
      ]
     },
     "execution_count": 14,
     "metadata": {},
     "output_type": "execute_result"
    }
   ],
   "source": [
    "clf.feature_importances_"
   ]
  },
  {
   "cell_type": "code",
   "execution_count": 15,
   "metadata": {},
   "outputs": [
    {
     "data": {
      "text/plain": [
       "petal length (cm)    0.480131\n",
       "petal width (cm)     0.427055\n",
       "sepal length (cm)    0.069200\n",
       "sepal width (cm)     0.023615\n",
       "dtype: float64"
      ]
     },
     "execution_count": 15,
     "metadata": {},
     "output_type": "execute_result"
    }
   ],
   "source": [
    "import pandas as pd\n",
    "\n",
    "feature_imp = pd.Series(clf.feature_importances_,index=iris.feature_names).sort_values(ascending=False)\n",
    "feature_imp"
   ]
  },
  {
   "cell_type": "code",
   "execution_count": 16,
   "metadata": {},
   "outputs": [
    {
     "data": {
      "image/png": "[encoded data removed]",
      "text/plain": [
       "<Figure size 432x288 with 1 Axes>"
      ]
     },
     "metadata": {
      "needs_background": "light"
     },
     "output_type": "display_data"
    }
   ],
   "source": [
    "import matplotlib.pyplot as plt\n",
    "import seaborn as sns\n",
    "%matplotlib inline\n",
    "# Creating a bar plot\n",
    "sns.barplot(x=feature_imp, y=feature_imp.index)\n",
    "# Add labels to your graph\n",
    "plt.xlabel('Feature Importance Score')\n",
    "plt.ylabel('Features')\n",
    "plt.title(\"Visualizing Important Features\")\n",
    "#plt.legend()\n",
    "plt.show()"
   ]
  },
  {
   "cell_type": "code",
   "execution_count": 17,
   "metadata": {},
   "outputs": [],
   "source": [
    "# Import train_test_split function\n",
    "from sklearn.model_selection import train_test_split\n",
    "\n",
    "# Split dataset into features and labels\n",
    "X=data[['petal length', 'petal width','sepal length']]  # Removed feature \"sepal width\"\n",
    "y=data['species']\n",
    "\n",
    "# Split dataset into training set and test set\n",
    "X_train, X_test, y_train, y_test = train_test_split(X, y, test_size=0.30, random_state=5) # 70% training and 30% test\n"
   ]
  },
  {
   "cell_type": "code",
   "execution_count": 18,
   "metadata": {},
   "outputs": [
    {
     "data": {
      "text/plain": [
       "(     petal length  petal width  sepal length\n",
       " 126           4.8          1.8           6.2\n",
       " 61            4.2          1.5           5.9\n",
       " 124           5.7          2.1           6.7\n",
       " 117           6.7          2.2           7.7\n",
       " 20            1.7          0.2           5.4\n",
       " ..            ...          ...           ...\n",
       " 8             1.4          0.2           4.4\n",
       " 73            4.7          1.2           6.1\n",
       " 144           5.7          2.5           6.7\n",
       " 118           6.9          2.3           7.7\n",
       " 99            4.1          1.3           5.7\n",
       " \n",
       " [105 rows x 3 columns],\n",
       " 126    2\n",
       " 61     1\n",
       " 124    2\n",
       " 117    2\n",
       " 20     0\n",
       "       ..\n",
       " 8      0\n",
       " 73     1\n",
       " 144    2\n",
       " 118    2\n",
       " 99     1\n",
       " Name: species, Length: 105, dtype: int64)"
      ]
     },
     "execution_count": 18,
     "metadata": {},
     "output_type": "execute_result"
    }
   ],
   "source": [
    "X_train, y_train"
   ]
  },
  {
   "cell_type": "code",
   "execution_count": 19,
   "metadata": {},
   "outputs": [
    {
     "data": {
      "text/plain": [
       "(     petal length  petal width  sepal length\n",
       " 82            3.9          1.2           5.8\n",
       " 134           5.6          1.4           6.1\n",
       " 114           5.1          2.4           5.8\n",
       " 42            1.3          0.2           4.4\n",
       " 109           6.1          2.5           7.2\n",
       " 57            3.3          1.0           4.9\n",
       " 1             1.4          0.2           4.9\n",
       " 70            4.8          1.8           5.9\n",
       " 25            1.6          0.2           5.0\n",
       " 84            4.5          1.5           5.4\n",
       " 66            4.5          1.5           5.6\n",
       " 133           5.1          1.5           6.3\n",
       " 102           5.9          2.1           7.1\n",
       " 107           6.3          1.8           7.3\n",
       " 26            1.6          0.4           5.0\n",
       " 23            1.7          0.5           5.1\n",
       " 123           4.9          1.8           6.3\n",
       " 130           6.1          1.9           7.4\n",
       " 21            1.5          0.4           5.1\n",
       " 12            1.4          0.1           4.8\n",
       " 71            4.0          1.3           6.1\n",
       " 128           5.6          2.1           6.4\n",
       " 48            1.5          0.2           5.3\n",
       " 72            4.9          1.5           6.3\n",
       " 88            4.1          1.3           5.6\n",
       " 148           5.4          2.3           6.2\n",
       " 74            4.3          1.3           6.4\n",
       " 96            4.2          1.3           5.7\n",
       " 63            4.7          1.4           6.1\n",
       " 132           5.6          2.2           6.4\n",
       " 39            1.5          0.2           5.1\n",
       " 53            4.0          1.3           5.5\n",
       " 79            3.5          1.0           5.7\n",
       " 10            1.5          0.2           5.4\n",
       " 50            4.7          1.4           7.0\n",
       " 49            1.4          0.2           5.0\n",
       " 43            1.6          0.6           5.0\n",
       " 135           6.1          2.3           7.7\n",
       " 40            1.3          0.3           5.0\n",
       " 115           5.3          2.3           6.4\n",
       " 142           5.1          1.9           5.8\n",
       " 69            3.9          1.1           5.6\n",
       " 17            1.4          0.3           5.1\n",
       " 46            1.6          0.2           5.1\n",
       " 54            4.6          1.5           6.5,\n",
       " 82     1\n",
       " 134    2\n",
       " 114    2\n",
       " 42     0\n",
       " 109    2\n",
       " 57     1\n",
       " 1      0\n",
       " 70     1\n",
       " 25     0\n",
       " 84     1\n",
       " 66     1\n",
       " 133    2\n",
       " 102    2\n",
       " 107    2\n",
       " 26     0\n",
       " 23     0\n",
       " 123    2\n",
       " 130    2\n",
       " 21     0\n",
       " 12     0\n",
       " 71     1\n",
       " 128    2\n",
       " 48     0\n",
       " 72     1\n",
       " 88     1\n",
       " 148    2\n",
       " 74     1\n",
       " 96     1\n",
       " 63     1\n",
       " 132    2\n",
       " 39     0\n",
       " 53     1\n",
       " 79     1\n",
       " 10     0\n",
       " 50     1\n",
       " 49     0\n",
       " 43     0\n",
       " 135    2\n",
       " 40     0\n",
       " 115    2\n",
       " 142    2\n",
       " 69     1\n",
       " 17     0\n",
       " 46     0\n",
       " 54     1\n",
       " Name: species, dtype: int64)"
      ]
     },
     "execution_count": 19,
     "metadata": {},
     "output_type": "execute_result"
    }
   ],
   "source": [
    "X_test, y_test"
   ]
  },
  {
   "cell_type": "code",
   "execution_count": 20,
   "metadata": {},
   "outputs": [
    {
     "data": {
      "text/plain": [
       "RandomForestClassifier()"
      ]
     },
     "execution_count": 20,
     "metadata": {},
     "output_type": "execute_result"
    }
   ],
   "source": [
    "from sklearn.ensemble import RandomForestClassifier\n",
    "\n",
    "#Create a Gaussian Classifier\n",
    "clf=RandomForestClassifier(n_estimators=100)\n",
    "\n",
    "#Train the model using the training sets y_pred=clf.predict(X_test)\n",
    "clf.fit(X_train,y_train)"
   ]
  },
  {
   "cell_type": "code",
   "execution_count": 21,
   "metadata": {},
   "outputs": [],
   "source": [
    "# prediction on test set\n",
    "y_pred=clf.predict(X_test)"
   ]
  },
  {
   "cell_type": "code",
   "execution_count": 22,
   "metadata": {},
   "outputs": [
    {
     "data": {
      "text/plain": [
       "(array([1, 1, 2, 0, 2, 1, 0, 2, 0, 1, 1, 1, 2, 2, 0, 0, 2, 2, 0, 0, 1, 2,\n",
       "        0, 1, 1, 2, 1, 1, 1, 2, 0, 1, 1, 0, 1, 0, 0, 2, 0, 2, 2, 1, 0, 0,\n",
       "        1]),\n",
       " 82     1\n",
       " 134    2\n",
       " 114    2\n",
       " 42     0\n",
       " 109    2\n",
       " 57     1\n",
       " 1      0\n",
       " 70     1\n",
       " 25     0\n",
       " 84     1\n",
       " 66     1\n",
       " 133    2\n",
       " 102    2\n",
       " 107    2\n",
       " 26     0\n",
       " 23     0\n",
       " 123    2\n",
       " 130    2\n",
       " 21     0\n",
       " 12     0\n",
       " 71     1\n",
       " 128    2\n",
       " 48     0\n",
       " 72     1\n",
       " 88     1\n",
       " 148    2\n",
       " 74     1\n",
       " 96     1\n",
       " 63     1\n",
       " 132    2\n",
       " 39     0\n",
       " 53     1\n",
       " 79     1\n",
       " 10     0\n",
       " 50     1\n",
       " 49     0\n",
       " 43     0\n",
       " 135    2\n",
       " 40     0\n",
       " 115    2\n",
       " 142    2\n",
       " 69     1\n",
       " 17     0\n",
       " 46     0\n",
       " 54     1\n",
       " Name: species, dtype: int64)"
      ]
     },
     "execution_count": 22,
     "metadata": {},
     "output_type": "execute_result"
    }
   ],
   "source": [
    "y_pred, y_test # Predicted and true classes."
   ]
  },
  {
   "cell_type": "code",
   "execution_count": 23,
   "metadata": {},
   "outputs": [
    {
     "name": "stdout",
     "output_type": "stream",
     "text": [
      "Accuracy: 0.9333333333333333\n"
     ]
    }
   ],
   "source": [
    "#Import scikit-learn metrics module for accuracy calculation\n",
    "from sklearn import metrics\n",
    "\n",
    "# Model Accuracy, how often is the classifier correct?\n",
    "print(\"Accuracy:\",metrics.accuracy_score(y_test, y_pred))"
   ]
  },
  {
   "cell_type": "markdown",
   "metadata": {},
   "source": [
    "Note that in the example given in the website, the accuracy increased after \n",
    "removing the least important feature (sepal width).  For this notebook, I had \n",
    "to re-run the kernel a few times for this to happen.  Otherwise, the accuracy \n",
    "stayed the same."
   ]
  },
  {
   "cell_type": "code",
   "execution_count": null,
   "metadata": {},
   "outputs": [],
   "source": []
  }
 ],
 "metadata": {
  "kernelspec": {
   "display_name": "Python 3",
   "language": "python",
   "name": "python3"
  },
  "language_info": {
   "codemirror_mode": {
    "name": "ipython",
    "version": 3
   },
   "file_extension": ".py",
   "mimetype": "text/x-python",
   "name": "python",
   "nbconvert_exporter": "python",
   "pygments_lexer": "ipython3",
   "version": "3.8.3"
  }
 },
 "nbformat": 4,
 "nbformat_minor": 4
}
