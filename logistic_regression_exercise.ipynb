{
 "cells": [
  {
   "cell_type": "code",
   "execution_count": 1,
   "metadata": {},
   "outputs": [],
   "source": [
    "## load the packages here\n",
    "\n",
    "import numpy as np\n",
    "import pandas as pd\n",
    "import csv\n",
    "import re"
   ]
  },
  {
   "cell_type": "markdown",
   "metadata": {},
   "source": [
    "## Download your data and load them into the Python.\n",
    "You can find them [**here**](https://drive.google.com/file/d/0Bz9_0VdXvv9bX0MzUEhVdmpCc3c/view?usp=sharing).\n",
    "\n",
    "- Features and response variables are in different files\n",
    "- be careful about number of spaces between the values in the file"
   ]
  },
  {
   "cell_type": "code",
   "execution_count": 2,
   "metadata": {},
   "outputs": [],
   "source": [
    "# little help from us\n",
    "results = []\n",
    "with open('./Smartphone Sensor Data/train/X_train.txt') as inputfile:\n",
    "    for row in csv.reader(inputfile):\n",
    "        results.append([float(i) for i in re.sub(\"\\s+\",\",\",row[0].strip()).split(\",\")])"
   ]
  },
  {
   "cell_type": "code",
   "execution_count": 3,
   "metadata": {},
   "outputs": [],
   "source": [
    "X_train = pd.DataFrame(results)"
   ]
  },
  {
   "cell_type": "code",
   "execution_count": 4,
   "metadata": {},
   "outputs": [
    {
     "data": {
      "text/html": [
       "<div>\n",
       "<style scoped>\n",
       "    .dataframe tbody tr th:only-of-type {\n",
       "        vertical-align: middle;\n",
       "    }\n",
       "\n",
       "    .dataframe tbody tr th {\n",
       "        vertical-align: top;\n",
       "    }\n",
       "\n",
       "    .dataframe thead th {\n",
       "        text-align: right;\n",
       "    }\n",
       "</style>\n",
       "<table border=\"1\" class=\"dataframe\">\n",
       "  <thead>\n",
       "    <tr style=\"text-align: right;\">\n",
       "      <th></th>\n",
       "      <th>0</th>\n",
       "      <th>1</th>\n",
       "      <th>2</th>\n",
       "      <th>3</th>\n",
       "      <th>4</th>\n",
       "      <th>5</th>\n",
       "      <th>6</th>\n",
       "      <th>7</th>\n",
       "      <th>8</th>\n",
       "      <th>9</th>\n",
       "      <th>...</th>\n",
       "      <th>551</th>\n",
       "      <th>552</th>\n",
       "      <th>553</th>\n",
       "      <th>554</th>\n",
       "      <th>555</th>\n",
       "      <th>556</th>\n",
       "      <th>557</th>\n",
       "      <th>558</th>\n",
       "      <th>559</th>\n",
       "      <th>560</th>\n",
       "    </tr>\n",
       "  </thead>\n",
       "  <tbody>\n",
       "    <tr>\n",
       "      <th>0</th>\n",
       "      <td>0.288585</td>\n",
       "      <td>-0.020294</td>\n",
       "      <td>-0.132905</td>\n",
       "      <td>-0.995279</td>\n",
       "      <td>-0.983111</td>\n",
       "      <td>-0.913526</td>\n",
       "      <td>-0.995112</td>\n",
       "      <td>-0.983185</td>\n",
       "      <td>-0.923527</td>\n",
       "      <td>-0.934724</td>\n",
       "      <td>...</td>\n",
       "      <td>-0.074323</td>\n",
       "      <td>-0.298676</td>\n",
       "      <td>-0.710304</td>\n",
       "      <td>-0.112754</td>\n",
       "      <td>0.030400</td>\n",
       "      <td>-0.464761</td>\n",
       "      <td>-0.018446</td>\n",
       "      <td>-0.841247</td>\n",
       "      <td>0.179941</td>\n",
       "      <td>-0.058627</td>\n",
       "    </tr>\n",
       "    <tr>\n",
       "      <th>1</th>\n",
       "      <td>0.278419</td>\n",
       "      <td>-0.016411</td>\n",
       "      <td>-0.123520</td>\n",
       "      <td>-0.998245</td>\n",
       "      <td>-0.975300</td>\n",
       "      <td>-0.960322</td>\n",
       "      <td>-0.998807</td>\n",
       "      <td>-0.974914</td>\n",
       "      <td>-0.957686</td>\n",
       "      <td>-0.943068</td>\n",
       "      <td>...</td>\n",
       "      <td>0.158075</td>\n",
       "      <td>-0.595051</td>\n",
       "      <td>-0.861499</td>\n",
       "      <td>0.053477</td>\n",
       "      <td>-0.007435</td>\n",
       "      <td>-0.732626</td>\n",
       "      <td>0.703511</td>\n",
       "      <td>-0.844788</td>\n",
       "      <td>0.180289</td>\n",
       "      <td>-0.054317</td>\n",
       "    </tr>\n",
       "    <tr>\n",
       "      <th>2</th>\n",
       "      <td>0.279653</td>\n",
       "      <td>-0.019467</td>\n",
       "      <td>-0.113462</td>\n",
       "      <td>-0.995380</td>\n",
       "      <td>-0.967187</td>\n",
       "      <td>-0.978944</td>\n",
       "      <td>-0.996520</td>\n",
       "      <td>-0.963668</td>\n",
       "      <td>-0.977469</td>\n",
       "      <td>-0.938692</td>\n",
       "      <td>...</td>\n",
       "      <td>0.414503</td>\n",
       "      <td>-0.390748</td>\n",
       "      <td>-0.760104</td>\n",
       "      <td>-0.118559</td>\n",
       "      <td>0.177899</td>\n",
       "      <td>0.100699</td>\n",
       "      <td>0.808529</td>\n",
       "      <td>-0.848933</td>\n",
       "      <td>0.180637</td>\n",
       "      <td>-0.049118</td>\n",
       "    </tr>\n",
       "    <tr>\n",
       "      <th>3</th>\n",
       "      <td>0.279174</td>\n",
       "      <td>-0.026201</td>\n",
       "      <td>-0.123283</td>\n",
       "      <td>-0.996091</td>\n",
       "      <td>-0.983403</td>\n",
       "      <td>-0.990675</td>\n",
       "      <td>-0.997099</td>\n",
       "      <td>-0.982750</td>\n",
       "      <td>-0.989302</td>\n",
       "      <td>-0.938692</td>\n",
       "      <td>...</td>\n",
       "      <td>0.404573</td>\n",
       "      <td>-0.117290</td>\n",
       "      <td>-0.482845</td>\n",
       "      <td>-0.036788</td>\n",
       "      <td>-0.012892</td>\n",
       "      <td>0.640011</td>\n",
       "      <td>-0.485366</td>\n",
       "      <td>-0.848649</td>\n",
       "      <td>0.181935</td>\n",
       "      <td>-0.047663</td>\n",
       "    </tr>\n",
       "    <tr>\n",
       "      <th>4</th>\n",
       "      <td>0.276629</td>\n",
       "      <td>-0.016570</td>\n",
       "      <td>-0.115362</td>\n",
       "      <td>-0.998139</td>\n",
       "      <td>-0.980817</td>\n",
       "      <td>-0.990482</td>\n",
       "      <td>-0.998321</td>\n",
       "      <td>-0.979672</td>\n",
       "      <td>-0.990441</td>\n",
       "      <td>-0.942469</td>\n",
       "      <td>...</td>\n",
       "      <td>0.087753</td>\n",
       "      <td>-0.351471</td>\n",
       "      <td>-0.699205</td>\n",
       "      <td>0.123320</td>\n",
       "      <td>0.122542</td>\n",
       "      <td>0.693578</td>\n",
       "      <td>-0.615971</td>\n",
       "      <td>-0.847865</td>\n",
       "      <td>0.185151</td>\n",
       "      <td>-0.043892</td>\n",
       "    </tr>\n",
       "    <tr>\n",
       "      <th>5</th>\n",
       "      <td>0.277199</td>\n",
       "      <td>-0.010098</td>\n",
       "      <td>-0.105137</td>\n",
       "      <td>-0.997335</td>\n",
       "      <td>-0.990487</td>\n",
       "      <td>-0.995420</td>\n",
       "      <td>-0.997627</td>\n",
       "      <td>-0.990218</td>\n",
       "      <td>-0.995549</td>\n",
       "      <td>-0.942469</td>\n",
       "      <td>...</td>\n",
       "      <td>0.019953</td>\n",
       "      <td>-0.545410</td>\n",
       "      <td>-0.844619</td>\n",
       "      <td>0.082632</td>\n",
       "      <td>-0.143439</td>\n",
       "      <td>0.275041</td>\n",
       "      <td>-0.368224</td>\n",
       "      <td>-0.849632</td>\n",
       "      <td>0.184823</td>\n",
       "      <td>-0.042126</td>\n",
       "    </tr>\n",
       "    <tr>\n",
       "      <th>6</th>\n",
       "      <td>0.279454</td>\n",
       "      <td>-0.019641</td>\n",
       "      <td>-0.110022</td>\n",
       "      <td>-0.996921</td>\n",
       "      <td>-0.967186</td>\n",
       "      <td>-0.983118</td>\n",
       "      <td>-0.997003</td>\n",
       "      <td>-0.966097</td>\n",
       "      <td>-0.983116</td>\n",
       "      <td>-0.940987</td>\n",
       "      <td>...</td>\n",
       "      <td>0.145844</td>\n",
       "      <td>-0.217198</td>\n",
       "      <td>-0.564430</td>\n",
       "      <td>-0.212754</td>\n",
       "      <td>-0.230622</td>\n",
       "      <td>0.014637</td>\n",
       "      <td>-0.189512</td>\n",
       "      <td>-0.852150</td>\n",
       "      <td>0.182170</td>\n",
       "      <td>-0.043010</td>\n",
       "    </tr>\n",
       "    <tr>\n",
       "      <th>7</th>\n",
       "      <td>0.277432</td>\n",
       "      <td>-0.030488</td>\n",
       "      <td>-0.125360</td>\n",
       "      <td>-0.996559</td>\n",
       "      <td>-0.966728</td>\n",
       "      <td>-0.981585</td>\n",
       "      <td>-0.996485</td>\n",
       "      <td>-0.966313</td>\n",
       "      <td>-0.982982</td>\n",
       "      <td>-0.940987</td>\n",
       "      <td>...</td>\n",
       "      <td>0.136382</td>\n",
       "      <td>-0.082307</td>\n",
       "      <td>-0.421715</td>\n",
       "      <td>-0.020888</td>\n",
       "      <td>0.593996</td>\n",
       "      <td>-0.561871</td>\n",
       "      <td>0.467383</td>\n",
       "      <td>-0.851017</td>\n",
       "      <td>0.183779</td>\n",
       "      <td>-0.041976</td>\n",
       "    </tr>\n",
       "    <tr>\n",
       "      <th>8</th>\n",
       "      <td>0.277293</td>\n",
       "      <td>-0.021751</td>\n",
       "      <td>-0.120751</td>\n",
       "      <td>-0.997328</td>\n",
       "      <td>-0.961245</td>\n",
       "      <td>-0.983672</td>\n",
       "      <td>-0.997596</td>\n",
       "      <td>-0.957236</td>\n",
       "      <td>-0.984379</td>\n",
       "      <td>-0.940598</td>\n",
       "      <td>...</td>\n",
       "      <td>0.314038</td>\n",
       "      <td>-0.269401</td>\n",
       "      <td>-0.572995</td>\n",
       "      <td>0.012954</td>\n",
       "      <td>0.080936</td>\n",
       "      <td>-0.234313</td>\n",
       "      <td>0.117797</td>\n",
       "      <td>-0.847971</td>\n",
       "      <td>0.188982</td>\n",
       "      <td>-0.037364</td>\n",
       "    </tr>\n",
       "    <tr>\n",
       "      <th>9</th>\n",
       "      <td>0.280586</td>\n",
       "      <td>-0.009960</td>\n",
       "      <td>-0.106065</td>\n",
       "      <td>-0.994803</td>\n",
       "      <td>-0.972758</td>\n",
       "      <td>-0.986244</td>\n",
       "      <td>-0.995405</td>\n",
       "      <td>-0.973663</td>\n",
       "      <td>-0.985642</td>\n",
       "      <td>-0.940028</td>\n",
       "      <td>...</td>\n",
       "      <td>0.267383</td>\n",
       "      <td>0.339526</td>\n",
       "      <td>0.140452</td>\n",
       "      <td>-0.020590</td>\n",
       "      <td>-0.127730</td>\n",
       "      <td>-0.482871</td>\n",
       "      <td>-0.070670</td>\n",
       "      <td>-0.848294</td>\n",
       "      <td>0.190310</td>\n",
       "      <td>-0.034417</td>\n",
       "    </tr>\n",
       "  </tbody>\n",
       "</table>\n",
       "<p>10 rows × 561 columns</p>\n",
       "</div>"
      ],
      "text/plain": [
       "        0         1         2         3         4         5         6    \\\n",
       "0  0.288585 -0.020294 -0.132905 -0.995279 -0.983111 -0.913526 -0.995112   \n",
       "1  0.278419 -0.016411 -0.123520 -0.998245 -0.975300 -0.960322 -0.998807   \n",
       "2  0.279653 -0.019467 -0.113462 -0.995380 -0.967187 -0.978944 -0.996520   \n",
       "3  0.279174 -0.026201 -0.123283 -0.996091 -0.983403 -0.990675 -0.997099   \n",
       "4  0.276629 -0.016570 -0.115362 -0.998139 -0.980817 -0.990482 -0.998321   \n",
       "5  0.277199 -0.010098 -0.105137 -0.997335 -0.990487 -0.995420 -0.997627   \n",
       "6  0.279454 -0.019641 -0.110022 -0.996921 -0.967186 -0.983118 -0.997003   \n",
       "7  0.277432 -0.030488 -0.125360 -0.996559 -0.966728 -0.981585 -0.996485   \n",
       "8  0.277293 -0.021751 -0.120751 -0.997328 -0.961245 -0.983672 -0.997596   \n",
       "9  0.280586 -0.009960 -0.106065 -0.994803 -0.972758 -0.986244 -0.995405   \n",
       "\n",
       "        7         8         9    ...       551       552       553       554  \\\n",
       "0 -0.983185 -0.923527 -0.934724  ... -0.074323 -0.298676 -0.710304 -0.112754   \n",
       "1 -0.974914 -0.957686 -0.943068  ...  0.158075 -0.595051 -0.861499  0.053477   \n",
       "2 -0.963668 -0.977469 -0.938692  ...  0.414503 -0.390748 -0.760104 -0.118559   \n",
       "3 -0.982750 -0.989302 -0.938692  ...  0.404573 -0.117290 -0.482845 -0.036788   \n",
       "4 -0.979672 -0.990441 -0.942469  ...  0.087753 -0.351471 -0.699205  0.123320   \n",
       "5 -0.990218 -0.995549 -0.942469  ...  0.019953 -0.545410 -0.844619  0.082632   \n",
       "6 -0.966097 -0.983116 -0.940987  ...  0.145844 -0.217198 -0.564430 -0.212754   \n",
       "7 -0.966313 -0.982982 -0.940987  ...  0.136382 -0.082307 -0.421715 -0.020888   \n",
       "8 -0.957236 -0.984379 -0.940598  ...  0.314038 -0.269401 -0.572995  0.012954   \n",
       "9 -0.973663 -0.985642 -0.940028  ...  0.267383  0.339526  0.140452 -0.020590   \n",
       "\n",
       "        555       556       557       558       559       560  \n",
       "0  0.030400 -0.464761 -0.018446 -0.841247  0.179941 -0.058627  \n",
       "1 -0.007435 -0.732626  0.703511 -0.844788  0.180289 -0.054317  \n",
       "2  0.177899  0.100699  0.808529 -0.848933  0.180637 -0.049118  \n",
       "3 -0.012892  0.640011 -0.485366 -0.848649  0.181935 -0.047663  \n",
       "4  0.122542  0.693578 -0.615971 -0.847865  0.185151 -0.043892  \n",
       "5 -0.143439  0.275041 -0.368224 -0.849632  0.184823 -0.042126  \n",
       "6 -0.230622  0.014637 -0.189512 -0.852150  0.182170 -0.043010  \n",
       "7  0.593996 -0.561871  0.467383 -0.851017  0.183779 -0.041976  \n",
       "8  0.080936 -0.234313  0.117797 -0.847971  0.188982 -0.037364  \n",
       "9 -0.127730 -0.482871 -0.070670 -0.848294  0.190310 -0.034417  \n",
       "\n",
       "[10 rows x 561 columns]"
      ]
     },
     "execution_count": 4,
     "metadata": {},
     "output_type": "execute_result"
    }
   ],
   "source": [
    "X_train.head(10)"
   ]
  },
  {
   "cell_type": "code",
   "execution_count": 5,
   "metadata": {},
   "outputs": [
    {
     "data": {
      "text/plain": [
       "(7352, 561)"
      ]
     },
     "execution_count": 5,
     "metadata": {},
     "output_type": "execute_result"
    }
   ],
   "source": [
    "X_train.shape"
   ]
  },
  {
   "cell_type": "code",
   "execution_count": 6,
   "metadata": {},
   "outputs": [
    {
     "data": {
      "text/plain": [
       "0      float64\n",
       "1      float64\n",
       "2      float64\n",
       "3      float64\n",
       "4      float64\n",
       "        ...   \n",
       "556    float64\n",
       "557    float64\n",
       "558    float64\n",
       "559    float64\n",
       "560    float64\n",
       "Length: 561, dtype: object"
      ]
     },
     "execution_count": 6,
     "metadata": {},
     "output_type": "execute_result"
    }
   ],
   "source": [
    "X_train.dtypes"
   ]
  },
  {
   "cell_type": "code",
   "execution_count": 7,
   "metadata": {},
   "outputs": [],
   "source": [
    "results2 = []\n",
    "with open('./Smartphone Sensor Data/train/y_train.txt') as inputfile:\n",
    "    for row in csv.reader(inputfile):\n",
    "        results2.append(int(row[0]))"
   ]
  },
  {
   "cell_type": "code",
   "execution_count": 8,
   "metadata": {},
   "outputs": [],
   "source": [
    "y = pd.Series(results2)"
   ]
  },
  {
   "cell_type": "code",
   "execution_count": 9,
   "metadata": {},
   "outputs": [
    {
     "data": {
      "text/plain": [
       "0       5\n",
       "1       5\n",
       "2       5\n",
       "3       5\n",
       "4       5\n",
       "       ..\n",
       "7347    2\n",
       "7348    2\n",
       "7349    2\n",
       "7350    2\n",
       "7351    2\n",
       "Length: 7352, dtype: int64"
      ]
     },
     "execution_count": 9,
     "metadata": {},
     "output_type": "execute_result"
    }
   ],
   "source": [
    "y"
   ]
  },
  {
   "cell_type": "code",
   "execution_count": 10,
   "metadata": {},
   "outputs": [
    {
     "data": {
      "text/plain": [
       "0    5\n",
       "1    5\n",
       "2    5\n",
       "3    5\n",
       "4    5\n",
       "5    5\n",
       "6    5\n",
       "7    5\n",
       "8    5\n",
       "9    5\n",
       "dtype: int64"
      ]
     },
     "execution_count": 10,
     "metadata": {},
     "output_type": "execute_result"
    }
   ],
   "source": [
    "y.head(10)"
   ]
  },
  {
   "cell_type": "code",
   "execution_count": 11,
   "metadata": {},
   "outputs": [
    {
     "data": {
      "text/plain": [
       "(7352,)"
      ]
     },
     "execution_count": 11,
     "metadata": {},
     "output_type": "execute_result"
    }
   ],
   "source": [
    "y.shape"
   ]
  },
  {
   "cell_type": "code",
   "execution_count": 12,
   "metadata": {},
   "outputs": [
    {
     "data": {
      "text/plain": [
       "dtype('int64')"
      ]
     },
     "execution_count": 12,
     "metadata": {},
     "output_type": "execute_result"
    }
   ],
   "source": [
    "y.dtypes"
   ]
  },
  {
   "cell_type": "markdown",
   "metadata": {},
   "source": [
    "## Task 1: Create Binary target variable: categories 1,2,3 --> 1, categories 4,5,6 --> 0 \n",
    "This will represent binary variable indicating if person is walking or not"
   ]
  },
  {
   "cell_type": "code",
   "execution_count": 13,
   "metadata": {},
   "outputs": [],
   "source": [
    "y_train = y.replace({2: 1, 3: 1, 4: 0, 5: 0, 6: 0})"
   ]
  },
  {
   "cell_type": "code",
   "execution_count": 14,
   "metadata": {},
   "outputs": [
    {
     "data": {
      "text/plain": [
       "0    4067\n",
       "1    3285\n",
       "dtype: int64"
      ]
     },
     "execution_count": 14,
     "metadata": {},
     "output_type": "execute_result"
    }
   ],
   "source": [
    "y_train.value_counts()"
   ]
  },
  {
   "cell_type": "code",
   "execution_count": null,
   "metadata": {},
   "outputs": [],
   "source": []
  },
  {
   "cell_type": "code",
   "execution_count": null,
   "metadata": {},
   "outputs": [],
   "source": []
  },
  {
   "cell_type": "markdown",
   "metadata": {},
   "source": [
    "## Task 2\n",
    "\n",
    "+ Create Univariate Binary Logistic Regression with feature number 54, which represents `tGravityAcc-min()-Y`: gravity acceleration signals in direction of Y\n",
    "+ Compare the results of Logistic regressions from different Python packages (sklearn, statsmodel)\n",
    "+ Plot the FIT of predicted probabilities to the original values"
   ]
  },
  {
   "cell_type": "markdown",
   "metadata": {},
   "source": [
    "Note that since the dataframe columns are indexed from 0 to 560, then feature\n",
    "number 54 corresponds to column number 53. "
   ]
  },
  {
   "cell_type": "code",
   "execution_count": 15,
   "metadata": {},
   "outputs": [
    {
     "data": {
      "text/plain": [
       "(7352, 1)"
      ]
     },
     "execution_count": 15,
     "metadata": {},
     "output_type": "execute_result"
    }
   ],
   "source": [
    "X_train1 = X_train[53].to_frame()\n",
    "\n",
    "X_train1.shape"
   ]
  },
  {
   "cell_type": "code",
   "execution_count": 16,
   "metadata": {},
   "outputs": [
    {
     "data": {
      "text/html": [
       "<div>\n",
       "<style scoped>\n",
       "    .dataframe tbody tr th:only-of-type {\n",
       "        vertical-align: middle;\n",
       "    }\n",
       "\n",
       "    .dataframe tbody tr th {\n",
       "        vertical-align: top;\n",
       "    }\n",
       "\n",
       "    .dataframe thead th {\n",
       "        text-align: right;\n",
       "    }\n",
       "</style>\n",
       "<table border=\"1\" class=\"dataframe\">\n",
       "  <thead>\n",
       "    <tr style=\"text-align: right;\">\n",
       "      <th></th>\n",
       "      <th>53</th>\n",
       "    </tr>\n",
       "  </thead>\n",
       "  <tbody>\n",
       "    <tr>\n",
       "      <th>count</th>\n",
       "      <td>7352.000000</td>\n",
       "    </tr>\n",
       "    <tr>\n",
       "      <th>mean</th>\n",
       "      <td>0.023248</td>\n",
       "    </tr>\n",
       "    <tr>\n",
       "      <th>std</th>\n",
       "      <td>0.369737</td>\n",
       "    </tr>\n",
       "    <tr>\n",
       "      <th>min</th>\n",
       "      <td>-0.568157</td>\n",
       "    </tr>\n",
       "    <tr>\n",
       "      <th>25%</th>\n",
       "      <td>-0.225444</td>\n",
       "    </tr>\n",
       "    <tr>\n",
       "      <th>50%</th>\n",
       "      <td>-0.129279</td>\n",
       "    </tr>\n",
       "    <tr>\n",
       "      <th>75%</th>\n",
       "      <td>0.140694</td>\n",
       "    </tr>\n",
       "    <tr>\n",
       "      <th>max</th>\n",
       "      <td>1.000000</td>\n",
       "    </tr>\n",
       "  </tbody>\n",
       "</table>\n",
       "</div>"
      ],
      "text/plain": [
       "                53\n",
       "count  7352.000000\n",
       "mean      0.023248\n",
       "std       0.369737\n",
       "min      -0.568157\n",
       "25%      -0.225444\n",
       "50%      -0.129279\n",
       "75%       0.140694\n",
       "max       1.000000"
      ]
     },
     "execution_count": 16,
     "metadata": {},
     "output_type": "execute_result"
    }
   ],
   "source": [
    "X_train1.describe()"
   ]
  },
  {
   "cell_type": "code",
   "execution_count": 17,
   "metadata": {},
   "outputs": [
    {
     "data": {
      "text/html": [
       "<div>\n",
       "<style scoped>\n",
       "    .dataframe tbody tr th:only-of-type {\n",
       "        vertical-align: middle;\n",
       "    }\n",
       "\n",
       "    .dataframe tbody tr th {\n",
       "        vertical-align: top;\n",
       "    }\n",
       "\n",
       "    .dataframe thead th {\n",
       "        text-align: right;\n",
       "    }\n",
       "</style>\n",
       "<table border=\"1\" class=\"dataframe\">\n",
       "  <thead>\n",
       "    <tr style=\"text-align: right;\">\n",
       "      <th></th>\n",
       "      <th>53</th>\n",
       "    </tr>\n",
       "  </thead>\n",
       "  <tbody>\n",
       "    <tr>\n",
       "      <th>0</th>\n",
       "      <td>-0.123213</td>\n",
       "    </tr>\n",
       "    <tr>\n",
       "      <th>1</th>\n",
       "      <td>-0.114893</td>\n",
       "    </tr>\n",
       "    <tr>\n",
       "      <th>2</th>\n",
       "      <td>-0.114893</td>\n",
       "    </tr>\n",
       "    <tr>\n",
       "      <th>3</th>\n",
       "      <td>-0.121336</td>\n",
       "    </tr>\n",
       "    <tr>\n",
       "      <th>4</th>\n",
       "      <td>-0.121834</td>\n",
       "    </tr>\n",
       "    <tr>\n",
       "      <th>5</th>\n",
       "      <td>-0.121834</td>\n",
       "    </tr>\n",
       "    <tr>\n",
       "      <th>6</th>\n",
       "      <td>-0.120092</td>\n",
       "    </tr>\n",
       "    <tr>\n",
       "      <th>7</th>\n",
       "      <td>-0.128559</td>\n",
       "    </tr>\n",
       "    <tr>\n",
       "      <th>8</th>\n",
       "      <td>-0.129764</td>\n",
       "    </tr>\n",
       "    <tr>\n",
       "      <th>9</th>\n",
       "      <td>-0.129764</td>\n",
       "    </tr>\n",
       "  </tbody>\n",
       "</table>\n",
       "</div>"
      ],
      "text/plain": [
       "         53\n",
       "0 -0.123213\n",
       "1 -0.114893\n",
       "2 -0.114893\n",
       "3 -0.121336\n",
       "4 -0.121834\n",
       "5 -0.121834\n",
       "6 -0.120092\n",
       "7 -0.128559\n",
       "8 -0.129764\n",
       "9 -0.129764"
      ]
     },
     "execution_count": 17,
     "metadata": {},
     "output_type": "execute_result"
    }
   ],
   "source": [
    "X_train1.head(10)"
   ]
  },
  {
   "cell_type": "markdown",
   "metadata": {},
   "source": [
    "1) First, we will use sklearn to create the logistic regression model."
   ]
  },
  {
   "cell_type": "code",
   "execution_count": 18,
   "metadata": {},
   "outputs": [],
   "source": [
    "# import the class\n",
    "from sklearn.linear_model import LogisticRegression\n",
    "\n",
    "# instantiate the model (using the default parameters)\n",
    "logreg = LogisticRegression()\n"
   ]
  },
  {
   "cell_type": "code",
   "execution_count": 19,
   "metadata": {},
   "outputs": [
    {
     "data": {
      "text/plain": [
       "LogisticRegression()"
      ]
     },
     "execution_count": 19,
     "metadata": {},
     "output_type": "execute_result"
    }
   ],
   "source": [
    "# fit the model with data\n",
    "logreg.fit(X_train1, y_train)"
   ]
  },
  {
   "cell_type": "code",
   "execution_count": 20,
   "metadata": {},
   "outputs": [
    {
     "data": {
      "text/plain": [
       "array([0, 1])"
      ]
     },
     "execution_count": 20,
     "metadata": {},
     "output_type": "execute_result"
    }
   ],
   "source": [
    "logreg.classes_"
   ]
  },
  {
   "cell_type": "code",
   "execution_count": 21,
   "metadata": {},
   "outputs": [
    {
     "data": {
      "text/plain": [
       "array([[-7.26026603]])"
      ]
     },
     "execution_count": 21,
     "metadata": {},
     "output_type": "execute_result"
    }
   ],
   "source": [
    "logreg.coef_"
   ]
  },
  {
   "cell_type": "code",
   "execution_count": 22,
   "metadata": {},
   "outputs": [
    {
     "data": {
      "text/plain": [
       "array([-0.81110917])"
      ]
     },
     "execution_count": 22,
     "metadata": {},
     "output_type": "execute_result"
    }
   ],
   "source": [
    "logreg.intercept_"
   ]
  },
  {
   "cell_type": "code",
   "execution_count": 23,
   "metadata": {},
   "outputs": [
    {
     "data": {
      "text/plain": [
       "array([10], dtype=int32)"
      ]
     },
     "execution_count": 23,
     "metadata": {},
     "output_type": "execute_result"
    }
   ],
   "source": [
    "logreg.n_iter_"
   ]
  },
  {
   "cell_type": "code",
   "execution_count": 24,
   "metadata": {},
   "outputs": [],
   "source": [
    "y_pred1 = logreg.predict(X_train1)"
   ]
  },
  {
   "cell_type": "code",
   "execution_count": 25,
   "metadata": {},
   "outputs": [
    {
     "data": {
      "text/plain": [
       "array([1, 1, 1, ..., 1, 1, 1])"
      ]
     },
     "execution_count": 25,
     "metadata": {},
     "output_type": "execute_result"
    }
   ],
   "source": [
    "y_pred1"
   ]
  },
  {
   "cell_type": "code",
   "execution_count": 26,
   "metadata": {},
   "outputs": [
    {
     "data": {
      "text/plain": [
       "array([[2889, 1178],\n",
       "       [ 560, 2725]])"
      ]
     },
     "execution_count": 26,
     "metadata": {},
     "output_type": "execute_result"
    }
   ],
   "source": [
    "# import the metrics class\n",
    "from sklearn import metrics\n",
    "cnf_matrix = metrics.confusion_matrix(y_train, y_pred1)\n",
    "cnf_matrix"
   ]
  },
  {
   "cell_type": "code",
   "execution_count": 27,
   "metadata": {},
   "outputs": [
    {
     "name": "stdout",
     "output_type": "stream",
     "text": [
      "Accuracy: 0.7636017410228509\n"
     ]
    }
   ],
   "source": [
    "print(\"Accuracy:\",metrics.accuracy_score(y_train, y_pred1))"
   ]
  },
  {
   "cell_type": "code",
   "execution_count": 28,
   "metadata": {},
   "outputs": [
    {
     "name": "stdout",
     "output_type": "stream",
     "text": [
      "Precision: 0.6981808864975659\n"
     ]
    }
   ],
   "source": [
    "print(\"Precision:\",metrics.precision_score(y_train, y_pred1))"
   ]
  },
  {
   "cell_type": "code",
   "execution_count": 29,
   "metadata": {},
   "outputs": [
    {
     "name": "stdout",
     "output_type": "stream",
     "text": [
      "Recall: 0.8295281582952816\n"
     ]
    }
   ],
   "source": [
    "print(\"Recall:\",metrics.recall_score(y_train, y_pred1))"
   ]
  },
  {
   "cell_type": "code",
   "execution_count": 30,
   "metadata": {},
   "outputs": [
    {
     "data": {
      "text/plain": [
       "array([0.52085114, 0.50576151, 0.50576151, ..., 0.68073213, 0.67205298,\n",
       "       0.67461775])"
      ]
     },
     "execution_count": 30,
     "metadata": {},
     "output_type": "execute_result"
    }
   ],
   "source": [
    "y_pred_proba1 = logreg.predict_proba(X_train1)[::,1]\n",
    "y_pred_proba1"
   ]
  },
  {
   "cell_type": "code",
   "execution_count": 31,
   "metadata": {},
   "outputs": [
    {
     "data": {
      "text/plain": [
       "0.8410229118879768"
      ]
     },
     "execution_count": 31,
     "metadata": {},
     "output_type": "execute_result"
    }
   ],
   "source": [
    "auc = metrics.roc_auc_score(y_train, y_pred_proba1)\n",
    "auc"
   ]
  },
  {
   "cell_type": "markdown",
   "metadata": {},
   "source": [
    "2) Now, we will use statsmodel to create the logistic regression model."
   ]
  },
  {
   "cell_type": "code",
   "execution_count": 32,
   "metadata": {},
   "outputs": [],
   "source": [
    "X_train2 = X_train1.copy()"
   ]
  },
  {
   "cell_type": "code",
   "execution_count": 33,
   "metadata": {},
   "outputs": [],
   "source": [
    "import statsmodels.api as sm"
   ]
  },
  {
   "cell_type": "code",
   "execution_count": 34,
   "metadata": {},
   "outputs": [
    {
     "data": {
      "text/html": [
       "<div>\n",
       "<style scoped>\n",
       "    .dataframe tbody tr th:only-of-type {\n",
       "        vertical-align: middle;\n",
       "    }\n",
       "\n",
       "    .dataframe tbody tr th {\n",
       "        vertical-align: top;\n",
       "    }\n",
       "\n",
       "    .dataframe thead th {\n",
       "        text-align: right;\n",
       "    }\n",
       "</style>\n",
       "<table border=\"1\" class=\"dataframe\">\n",
       "  <thead>\n",
       "    <tr style=\"text-align: right;\">\n",
       "      <th></th>\n",
       "      <th>const</th>\n",
       "      <th>53</th>\n",
       "    </tr>\n",
       "  </thead>\n",
       "  <tbody>\n",
       "    <tr>\n",
       "      <th>0</th>\n",
       "      <td>1.0</td>\n",
       "      <td>-0.123213</td>\n",
       "    </tr>\n",
       "    <tr>\n",
       "      <th>1</th>\n",
       "      <td>1.0</td>\n",
       "      <td>-0.114893</td>\n",
       "    </tr>\n",
       "    <tr>\n",
       "      <th>2</th>\n",
       "      <td>1.0</td>\n",
       "      <td>-0.114893</td>\n",
       "    </tr>\n",
       "    <tr>\n",
       "      <th>3</th>\n",
       "      <td>1.0</td>\n",
       "      <td>-0.121336</td>\n",
       "    </tr>\n",
       "    <tr>\n",
       "      <th>4</th>\n",
       "      <td>1.0</td>\n",
       "      <td>-0.121834</td>\n",
       "    </tr>\n",
       "    <tr>\n",
       "      <th>5</th>\n",
       "      <td>1.0</td>\n",
       "      <td>-0.121834</td>\n",
       "    </tr>\n",
       "    <tr>\n",
       "      <th>6</th>\n",
       "      <td>1.0</td>\n",
       "      <td>-0.120092</td>\n",
       "    </tr>\n",
       "    <tr>\n",
       "      <th>7</th>\n",
       "      <td>1.0</td>\n",
       "      <td>-0.128559</td>\n",
       "    </tr>\n",
       "    <tr>\n",
       "      <th>8</th>\n",
       "      <td>1.0</td>\n",
       "      <td>-0.129764</td>\n",
       "    </tr>\n",
       "    <tr>\n",
       "      <th>9</th>\n",
       "      <td>1.0</td>\n",
       "      <td>-0.129764</td>\n",
       "    </tr>\n",
       "  </tbody>\n",
       "</table>\n",
       "</div>"
      ],
      "text/plain": [
       "   const        53\n",
       "0    1.0 -0.123213\n",
       "1    1.0 -0.114893\n",
       "2    1.0 -0.114893\n",
       "3    1.0 -0.121336\n",
       "4    1.0 -0.121834\n",
       "5    1.0 -0.121834\n",
       "6    1.0 -0.120092\n",
       "7    1.0 -0.128559\n",
       "8    1.0 -0.129764\n",
       "9    1.0 -0.129764"
      ]
     },
     "execution_count": 34,
     "metadata": {},
     "output_type": "execute_result"
    }
   ],
   "source": [
    "X_train2 = sm.add_constant(X_train2) # adding a constant\n",
    "X_train2.head(10)"
   ]
  },
  {
   "cell_type": "code",
   "execution_count": 35,
   "metadata": {},
   "outputs": [],
   "source": [
    "log_reg2 = sm.Logit(y_train, X_train2)"
   ]
  },
  {
   "cell_type": "code",
   "execution_count": 36,
   "metadata": {},
   "outputs": [
    {
     "name": "stdout",
     "output_type": "stream",
     "text": [
      "Optimization terminated successfully.\n",
      "         Current function value: 0.460220\n",
      "         Iterations 8\n"
     ]
    }
   ],
   "source": [
    "model = log_reg2.fit()"
   ]
  },
  {
   "cell_type": "code",
   "execution_count": 37,
   "metadata": {},
   "outputs": [
    {
     "name": "stdout",
     "output_type": "stream",
     "text": [
      "                           Logit Regression Results                           \n",
      "==============================================================================\n",
      "Dep. Variable:                      y   No. Observations:                 7352\n",
      "Model:                          Logit   Df Residuals:                     7350\n",
      "Method:                           MLE   Df Model:                            1\n",
      "Date:                Tue, 12 Jan 2021   Pseudo R-squ.:                  0.3306\n",
      "Time:                        12:46:33   Log-Likelihood:                -3383.5\n",
      "converged:                       True   LL-Null:                       -5054.4\n",
      "Covariance Type:            nonrobust   LLR p-value:                     0.000\n",
      "==============================================================================\n",
      "                 coef    std err          z      P>|z|      [0.025      0.975]\n",
      "------------------------------------------------------------------------------\n",
      "const         -0.8621      0.044    -19.534      0.000      -0.949      -0.776\n",
      "53            -7.6125      0.225    -33.829      0.000      -8.054      -7.171\n",
      "==============================================================================\n"
     ]
    }
   ],
   "source": [
    "print_model = model.summary()\n",
    "print(print_model)"
   ]
  },
  {
   "cell_type": "markdown",
   "metadata": {},
   "source": [
    "Note that the coefficients of the 2 models are different."
   ]
  },
  {
   "cell_type": "code",
   "execution_count": 38,
   "metadata": {},
   "outputs": [
    {
     "data": {
      "text/plain": [
       "0       0.518950\n",
       "1       0.503125\n",
       "2       0.503125\n",
       "3       0.515381\n",
       "4       0.516327\n",
       "          ...   \n",
       "7347    0.716425\n",
       "7348    0.716425\n",
       "7349    0.686154\n",
       "7350    0.677132\n",
       "7351    0.679800\n",
       "Length: 7352, dtype: float64"
      ]
     },
     "execution_count": 38,
     "metadata": {},
     "output_type": "execute_result"
    }
   ],
   "source": [
    "y_pred_proba2 = model.predict(X_train2)\n",
    "y_pred_proba2"
   ]
  },
  {
   "cell_type": "code",
   "execution_count": 39,
   "metadata": {},
   "outputs": [],
   "source": [
    "y_pred_proba2_np = y_pred_proba2.to_numpy()"
   ]
  },
  {
   "cell_type": "code",
   "execution_count": 40,
   "metadata": {},
   "outputs": [
    {
     "data": {
      "text/plain": [
       "False"
      ]
     },
     "execution_count": 40,
     "metadata": {},
     "output_type": "execute_result"
    }
   ],
   "source": [
    "np.array_equal(y_pred_proba1, y_pred_proba2_np)"
   ]
  },
  {
   "cell_type": "markdown",
   "metadata": {},
   "source": [
    "Note that the predicted probabilities from the 2 models are different."
   ]
  },
  {
   "cell_type": "code",
   "execution_count": 41,
   "metadata": {},
   "outputs": [
    {
     "data": {
      "text/plain": [
       "array([1, 1, 1, ..., 1, 1, 1])"
      ]
     },
     "execution_count": 41,
     "metadata": {},
     "output_type": "execute_result"
    }
   ],
   "source": [
    "y_pred2 = (y_pred_proba2_np >= 0.5).astype(int)\n",
    "y_pred2"
   ]
  },
  {
   "cell_type": "code",
   "execution_count": 42,
   "metadata": {},
   "outputs": [
    {
     "data": {
      "text/plain": [
       "False"
      ]
     },
     "execution_count": 42,
     "metadata": {},
     "output_type": "execute_result"
    }
   ],
   "source": [
    "np.array_equal(y_pred1, y_pred2)"
   ]
  },
  {
   "cell_type": "code",
   "execution_count": 43,
   "metadata": {},
   "outputs": [
    {
     "data": {
      "text/plain": [
       "21"
      ]
     },
     "execution_count": 43,
     "metadata": {},
     "output_type": "execute_result"
    }
   ],
   "source": [
    "# We will compute the number of unequal elements from both arrays.\n",
    "np.count_nonzero(y_pred1 != y_pred2)"
   ]
  },
  {
   "cell_type": "markdown",
   "metadata": {},
   "source": [
    "Note that the predicted classes from the 2 models are different."
   ]
  },
  {
   "cell_type": "code",
   "execution_count": 44,
   "metadata": {},
   "outputs": [
    {
     "data": {
      "text/plain": [
       "array([[2894, 1173],\n",
       "       [ 576, 2709]])"
      ]
     },
     "execution_count": 44,
     "metadata": {},
     "output_type": "execute_result"
    }
   ],
   "source": [
    "cnf_matrix2 = metrics.confusion_matrix(y_train, y_pred2)\n",
    "cnf_matrix2"
   ]
  },
  {
   "cell_type": "code",
   "execution_count": 45,
   "metadata": {},
   "outputs": [
    {
     "name": "stdout",
     "output_type": "stream",
     "text": [
      "Accuracy: 0.7621055495103374\n"
     ]
    }
   ],
   "source": [
    "print(\"Accuracy:\",metrics.accuracy_score(y_train, y_pred2))"
   ]
  },
  {
   "cell_type": "code",
   "execution_count": 46,
   "metadata": {},
   "outputs": [
    {
     "name": "stdout",
     "output_type": "stream",
     "text": [
      "Precision: 0.6978361669242659\n"
     ]
    }
   ],
   "source": [
    "print(\"Precision:\",metrics.precision_score(y_train, y_pred2))"
   ]
  },
  {
   "cell_type": "code",
   "execution_count": 47,
   "metadata": {},
   "outputs": [
    {
     "name": "stdout",
     "output_type": "stream",
     "text": [
      "Recall: 0.8246575342465754\n"
     ]
    }
   ],
   "source": [
    "print(\"Recall:\",metrics.recall_score(y_train, y_pred2))"
   ]
  },
  {
   "cell_type": "code",
   "execution_count": 48,
   "metadata": {},
   "outputs": [
    {
     "data": {
      "text/plain": [
       "0.8410229118879768"
      ]
     },
     "execution_count": 48,
     "metadata": {},
     "output_type": "execute_result"
    }
   ],
   "source": [
    "auc = metrics.roc_auc_score(y_train, y_pred_proba2_np)\n",
    "auc"
   ]
  },
  {
   "cell_type": "markdown",
   "metadata": {},
   "source": [
    "Note that the metrics for the 2 models are pretty similar."
   ]
  },
  {
   "cell_type": "markdown",
   "metadata": {},
   "source": [
    "I asked Socorro for assistance at 1 PM on January 11, 2021.  \n",
    "She said that the 2 models are similar but not the same because they use different solvers."
   ]
  },
  {
   "cell_type": "markdown",
   "metadata": {},
   "source": [
    "3) Now, we will plot the FIT of predicted probabilities to the original values."
   ]
  },
  {
   "cell_type": "code",
   "execution_count": 49,
   "metadata": {},
   "outputs": [],
   "source": [
    "# import matplotlib\n",
    "import matplotlib.pyplot as plt"
   ]
  },
  {
   "cell_type": "code",
   "execution_count": 50,
   "metadata": {},
   "outputs": [],
   "source": [
    "# set figure size\n",
    "plt.rcParams[\"figure.figsize\"] = (12, 8)"
   ]
  },
  {
   "cell_type": "markdown",
   "metadata": {},
   "source": [
    "First, we will do the plot for the sklearn model."
   ]
  },
  {
   "cell_type": "code",
   "execution_count": 51,
   "metadata": {},
   "outputs": [
    {
     "data": {
      "image/png": "[encoded data removed]",
      "text/plain": [
       "<Figure size 864x576 with 1 Axes>"
      ]
     },
     "metadata": {
      "needs_background": "light"
     },
     "output_type": "display_data"
    }
   ],
   "source": [
    "plt.scatter(X_train1, y_pred_proba1)\n",
    "plt.title(\"Feature Number 54 Versus Fitted Predicted Probabilities (Sklearn)\")\n",
    "plt.xlabel(\"Feature Number 54\")\n",
    "plt.ylabel(\"P(Y=1)\", rotation=0)\n",
    "plt.show()"
   ]
  },
  {
   "cell_type": "markdown",
   "metadata": {},
   "source": [
    "Now, we will do the plot for the statsmodel model."
   ]
  },
  {
   "cell_type": "code",
   "execution_count": 52,
   "metadata": {},
   "outputs": [
    {
     "data": {
      "image/png": "[encoded data removed]",
      "text/plain": [
       "<Figure size 864x576 with 1 Axes>"
      ]
     },
     "metadata": {
      "needs_background": "light"
     },
     "output_type": "display_data"
    }
   ],
   "source": [
    "plt.scatter(X_train1, y_pred_proba2, c='r')\n",
    "plt.title(\"Feature Number 54 Versus Fitted Predicted Probabilities (Statsmodel)\")\n",
    "plt.xlabel(\"Feature Number 54\")\n",
    "plt.ylabel(\"P(Y=1)\", rotation=0)\n",
    "plt.show()"
   ]
  },
  {
   "cell_type": "markdown",
   "metadata": {},
   "source": [
    "From the plots, the predicted probabilties look similar."
   ]
  },
  {
   "cell_type": "markdown",
   "metadata": {},
   "source": [
    "This is extra.  We are just doing alternate plots."
   ]
  },
  {
   "cell_type": "code",
   "execution_count": 53,
   "metadata": {},
   "outputs": [
    {
     "data": {
      "text/html": [
       "<div>\n",
       "<style scoped>\n",
       "    .dataframe tbody tr th:only-of-type {\n",
       "        vertical-align: middle;\n",
       "    }\n",
       "\n",
       "    .dataframe tbody tr th {\n",
       "        vertical-align: top;\n",
       "    }\n",
       "\n",
       "    .dataframe thead th {\n",
       "        text-align: right;\n",
       "    }\n",
       "</style>\n",
       "<table border=\"1\" class=\"dataframe\">\n",
       "  <thead>\n",
       "    <tr style=\"text-align: right;\">\n",
       "      <th></th>\n",
       "      <th>Feature 54</th>\n",
       "      <th>Sklearn</th>\n",
       "      <th>Statsmodels</th>\n",
       "    </tr>\n",
       "  </thead>\n",
       "  <tbody>\n",
       "    <tr>\n",
       "      <th>0</th>\n",
       "      <td>-0.123213</td>\n",
       "      <td>0.520851</td>\n",
       "      <td>0.518950</td>\n",
       "    </tr>\n",
       "    <tr>\n",
       "      <th>1</th>\n",
       "      <td>-0.114893</td>\n",
       "      <td>0.505762</td>\n",
       "      <td>0.503125</td>\n",
       "    </tr>\n",
       "    <tr>\n",
       "      <th>2</th>\n",
       "      <td>-0.114893</td>\n",
       "      <td>0.505762</td>\n",
       "      <td>0.503125</td>\n",
       "    </tr>\n",
       "    <tr>\n",
       "      <th>3</th>\n",
       "      <td>-0.121336</td>\n",
       "      <td>0.517448</td>\n",
       "      <td>0.515381</td>\n",
       "    </tr>\n",
       "    <tr>\n",
       "      <th>4</th>\n",
       "      <td>-0.121834</td>\n",
       "      <td>0.518350</td>\n",
       "      <td>0.516327</td>\n",
       "    </tr>\n",
       "    <tr>\n",
       "      <th>5</th>\n",
       "      <td>-0.121834</td>\n",
       "      <td>0.518350</td>\n",
       "      <td>0.516327</td>\n",
       "    </tr>\n",
       "    <tr>\n",
       "      <th>6</th>\n",
       "      <td>-0.120092</td>\n",
       "      <td>0.515194</td>\n",
       "      <td>0.513016</td>\n",
       "    </tr>\n",
       "    <tr>\n",
       "      <th>7</th>\n",
       "      <td>-0.128559</td>\n",
       "      <td>0.530527</td>\n",
       "      <td>0.529099</td>\n",
       "    </tr>\n",
       "    <tr>\n",
       "      <th>8</th>\n",
       "      <td>-0.129764</td>\n",
       "      <td>0.532706</td>\n",
       "      <td>0.531384</td>\n",
       "    </tr>\n",
       "    <tr>\n",
       "      <th>9</th>\n",
       "      <td>-0.129764</td>\n",
       "      <td>0.532706</td>\n",
       "      <td>0.531384</td>\n",
       "    </tr>\n",
       "  </tbody>\n",
       "</table>\n",
       "</div>"
      ],
      "text/plain": [
       "   Feature 54   Sklearn  Statsmodels\n",
       "0   -0.123213  0.520851     0.518950\n",
       "1   -0.114893  0.505762     0.503125\n",
       "2   -0.114893  0.505762     0.503125\n",
       "3   -0.121336  0.517448     0.515381\n",
       "4   -0.121834  0.518350     0.516327\n",
       "5   -0.121834  0.518350     0.516327\n",
       "6   -0.120092  0.515194     0.513016\n",
       "7   -0.128559  0.530527     0.529099\n",
       "8   -0.129764  0.532706     0.531384\n",
       "9   -0.129764  0.532706     0.531384"
      ]
     },
     "execution_count": 53,
     "metadata": {},
     "output_type": "execute_result"
    }
   ],
   "source": [
    "df = pd.DataFrame({\"Feature 54\": X_train[53], \"Sklearn\": y_pred_proba1, \"Statsmodels\": y_pred_proba2})\n",
    "df.head(10)"
   ]
  },
  {
   "cell_type": "code",
   "execution_count": 54,
   "metadata": {},
   "outputs": [
    {
     "data": {
      "text/html": [
       "<div>\n",
       "<style scoped>\n",
       "    .dataframe tbody tr th:only-of-type {\n",
       "        vertical-align: middle;\n",
       "    }\n",
       "\n",
       "    .dataframe tbody tr th {\n",
       "        vertical-align: top;\n",
       "    }\n",
       "\n",
       "    .dataframe thead th {\n",
       "        text-align: right;\n",
       "    }\n",
       "</style>\n",
       "<table border=\"1\" class=\"dataframe\">\n",
       "  <thead>\n",
       "    <tr style=\"text-align: right;\">\n",
       "      <th></th>\n",
       "      <th>Feature 54</th>\n",
       "      <th>Sklearn</th>\n",
       "      <th>Statsmodels</th>\n",
       "    </tr>\n",
       "  </thead>\n",
       "  <tbody>\n",
       "    <tr>\n",
       "      <th>5141</th>\n",
       "      <td>-0.568157</td>\n",
       "      <td>0.964901</td>\n",
       "      <td>0.969615</td>\n",
       "    </tr>\n",
       "    <tr>\n",
       "      <th>5140</th>\n",
       "      <td>-0.568157</td>\n",
       "      <td>0.964901</td>\n",
       "      <td>0.969615</td>\n",
       "    </tr>\n",
       "    <tr>\n",
       "      <th>5139</th>\n",
       "      <td>-0.557830</td>\n",
       "      <td>0.962272</td>\n",
       "      <td>0.967211</td>\n",
       "    </tr>\n",
       "    <tr>\n",
       "      <th>3130</th>\n",
       "      <td>-0.539622</td>\n",
       "      <td>0.957168</td>\n",
       "      <td>0.962519</td>\n",
       "    </tr>\n",
       "    <tr>\n",
       "      <th>3444</th>\n",
       "      <td>-0.517173</td>\n",
       "      <td>0.949965</td>\n",
       "      <td>0.955843</td>\n",
       "    </tr>\n",
       "    <tr>\n",
       "      <th>5352</th>\n",
       "      <td>-0.502745</td>\n",
       "      <td>0.944745</td>\n",
       "      <td>0.950968</td>\n",
       "    </tr>\n",
       "    <tr>\n",
       "      <th>5351</th>\n",
       "      <td>-0.502745</td>\n",
       "      <td>0.944745</td>\n",
       "      <td>0.950968</td>\n",
       "    </tr>\n",
       "    <tr>\n",
       "      <th>5142</th>\n",
       "      <td>-0.497643</td>\n",
       "      <td>0.942779</td>\n",
       "      <td>0.949125</td>\n",
       "    </tr>\n",
       "    <tr>\n",
       "      <th>4199</th>\n",
       "      <td>-0.485275</td>\n",
       "      <td>0.937738</td>\n",
       "      <td>0.944381</td>\n",
       "    </tr>\n",
       "    <tr>\n",
       "      <th>3150</th>\n",
       "      <td>-0.482211</td>\n",
       "      <td>0.936426</td>\n",
       "      <td>0.943143</td>\n",
       "    </tr>\n",
       "  </tbody>\n",
       "</table>\n",
       "</div>"
      ],
      "text/plain": [
       "      Feature 54   Sklearn  Statsmodels\n",
       "5141   -0.568157  0.964901     0.969615\n",
       "5140   -0.568157  0.964901     0.969615\n",
       "5139   -0.557830  0.962272     0.967211\n",
       "3130   -0.539622  0.957168     0.962519\n",
       "3444   -0.517173  0.949965     0.955843\n",
       "5352   -0.502745  0.944745     0.950968\n",
       "5351   -0.502745  0.944745     0.950968\n",
       "5142   -0.497643  0.942779     0.949125\n",
       "4199   -0.485275  0.937738     0.944381\n",
       "3150   -0.482211  0.936426     0.943143"
      ]
     },
     "execution_count": 54,
     "metadata": {},
     "output_type": "execute_result"
    }
   ],
   "source": [
    "df.sort_values(by = \"Feature 54\", inplace = True)\n",
    "df.head(10)"
   ]
  },
  {
   "cell_type": "code",
   "execution_count": 55,
   "metadata": {},
   "outputs": [
    {
     "data": {
      "image/png": "[encoded data removed]",
      "text/plain": [
       "<Figure size 864x576 with 1 Axes>"
      ]
     },
     "metadata": {
      "needs_background": "light"
     },
     "output_type": "display_data"
    }
   ],
   "source": [
    "plt.plot(df[\"Feature 54\"], df[\"Sklearn\"])\n",
    "plt.title(\"Feature Number 54 Versus Fitted Predicted Probabilities (Sklearn)\")\n",
    "plt.xlabel(\"Feature Number 54\")\n",
    "plt.ylabel(\"P(Y=1)\", rotation=0)\n",
    "plt.show()"
   ]
  },
  {
   "cell_type": "code",
   "execution_count": 56,
   "metadata": {},
   "outputs": [
    {
     "data": {
      "image/png": "[encoded data removed]",
      "text/plain": [
       "<Figure size 864x576 with 1 Axes>"
      ]
     },
     "metadata": {
      "needs_background": "light"
     },
     "output_type": "display_data"
    }
   ],
   "source": [
    "plt.plot(df[\"Feature 54\"], df[\"Statsmodels\"], c='r')\n",
    "plt.title(\"Feature Number 54 Versus Fitted Predicted Probabilities (Statsmodel)\")\n",
    "plt.xlabel(\"Feature Number 54\")\n",
    "plt.ylabel(\"P(Y=1)\", rotation=0)\n",
    "plt.show()"
   ]
  },
  {
   "cell_type": "code",
   "execution_count": null,
   "metadata": {},
   "outputs": [],
   "source": []
  },
  {
   "cell_type": "markdown",
   "metadata": {},
   "source": [
    "## Task 3\n",
    "- Try to fit Binary Logistic Regression with all the features? How many are significant?"
   ]
  },
  {
   "cell_type": "code",
   "execution_count": 57,
   "metadata": {},
   "outputs": [],
   "source": [
    "X_train3  = X_train.copy()"
   ]
  },
  {
   "cell_type": "code",
   "execution_count": 58,
   "metadata": {},
   "outputs": [
    {
     "data": {
      "text/plain": [
       "(7352, 561)"
      ]
     },
     "execution_count": 58,
     "metadata": {},
     "output_type": "execute_result"
    }
   ],
   "source": [
    "X_train3.shape"
   ]
  },
  {
   "cell_type": "code",
   "execution_count": 59,
   "metadata": {},
   "outputs": [
    {
     "data": {
      "text/plain": [
       "(7352,)"
      ]
     },
     "execution_count": 59,
     "metadata": {},
     "output_type": "execute_result"
    }
   ],
   "source": [
    "y_train.shape"
   ]
  },
  {
   "cell_type": "code",
   "execution_count": 60,
   "metadata": {},
   "outputs": [
    {
     "data": {
      "text/plain": [
       "'X_train3 = sm.add_constant(X_train3) # adding a constant\\nX_train3.head(10)\\n\\nlog_reg_all = sm.Logit(y_train, X_train3)\\nmodel_all = log_reg_all.fit()'"
      ]
     },
     "execution_count": 60,
     "metadata": {},
     "output_type": "execute_result"
    }
   ],
   "source": [
    "\"\"\"X_train3 = sm.add_constant(X_train3) # adding a constant\n",
    "X_train3.head(10)\n",
    "\n",
    "log_reg_all = sm.Logit(y_train, X_train3)\n",
    "model_all = log_reg_all.fit()\"\"\"\n"
   ]
  },
  {
   "cell_type": "markdown",
   "metadata": {},
   "source": [
    "I tried to use statsmodels to create the model but the solver for the model did not converge to a solution."
   ]
  },
  {
   "cell_type": "markdown",
   "metadata": {},
   "source": [
    "This did not work.  I will need to ask for help."
   ]
  },
  {
   "cell_type": "markdown",
   "metadata": {},
   "source": [
    "Later at 2:27 PM, Socorro contacted me on Slack.  She said the following.\n",
    "\n",
    "Ryan, it looks like this is not your fault.\n",
    "Try using sklearn instead of statsmodel\n",
    "It is a problem with statsmodel when you have too many features.\n",
    "\n",
    "Then I asked her the following.\n",
    "\n",
    "How do you get the p-values in Sklearn to determine which features are signifcant?\n",
    "\n",
    "Her response is below.\n",
    "\n",
    "you would need to get the parameters using\n",
    "params = np.append(lm.intercept_,lm.coef_)\n",
    "\n",
    "then get the predictions using predict and then use the MSE\n",
    "\n",
    "I found a post on that on stack overflow\n",
    "\n",
    "you can try checking it out\n",
    "\n",
    "https://stackoverflow.com/questions/27928275/find-p-value-significance-in-scikit-learn-linearregression"
   ]
  },
  {
   "cell_type": "markdown",
   "metadata": {},
   "source": [
    "Now, we will use sklearn instead of statsmodels."
   ]
  },
  {
   "cell_type": "code",
   "execution_count": 61,
   "metadata": {},
   "outputs": [],
   "source": [
    "# instantiate the model (using the default parameters)\n",
    "logreg_all = LogisticRegression()\n"
   ]
  },
  {
   "cell_type": "code",
   "execution_count": 62,
   "metadata": {},
   "outputs": [
    {
     "data": {
      "text/plain": [
       "LogisticRegression()"
      ]
     },
     "execution_count": 62,
     "metadata": {},
     "output_type": "execute_result"
    }
   ],
   "source": [
    "# fit the model with data\n",
    "logreg_all.fit(X_train3, y_train)"
   ]
  },
  {
   "cell_type": "code",
   "execution_count": 63,
   "metadata": {},
   "outputs": [
    {
     "data": {
      "text/plain": [
       "array([0, 1])"
      ]
     },
     "execution_count": 63,
     "metadata": {},
     "output_type": "execute_result"
    }
   ],
   "source": [
    "logreg_all.classes_"
   ]
  },
  {
   "cell_type": "code",
   "execution_count": 64,
   "metadata": {},
   "outputs": [
    {
     "data": {
      "text/plain": [
       "array([[ 1.59798107e-01,  3.44771022e-02, -1.17903905e-02,\n",
       "         2.97922359e-01,  1.52122082e-01,  9.76897267e-02,\n",
       "         2.77635233e-01,  1.50808997e-01,  8.76953845e-02,\n",
       "         5.06403948e-01,  9.80267589e-02,  3.83490413e-02,\n",
       "        -4.70810566e-02, -8.00759912e-02, -5.38816069e-02,\n",
       "         1.81754239e-01,  6.12056194e-02, -4.21376422e-02,\n",
       "        -8.20315387e-02,  2.28579505e-01,  1.10570142e-01,\n",
       "         9.05596295e-02,  2.85933530e-01,  2.08686689e-01,\n",
       "         7.35814807e-03, -1.72466972e-01,  1.16581504e-02,\n",
       "        -6.95416897e-03,  9.50162318e-02, -8.11371580e-02,\n",
       "         7.14996605e-02, -4.48141608e-02,  8.14858095e-02,\n",
       "        -1.87520989e-01,  1.68446522e-01, -8.29417930e-02,\n",
       "        -1.06068562e-02, -2.22819165e-01,  8.05112265e-02,\n",
       "        -1.75676848e-01,  3.14064205e-01, -2.89356498e-01,\n",
       "        -9.05914237e-02, -2.19037917e-01, -1.58157942e-01,\n",
       "        -2.18363690e-01, -2.14469585e-01, -1.51631025e-01,\n",
       "        -2.15739200e-01,  2.29432224e-01, -3.14681916e-01,\n",
       "        -1.39513465e-01,  3.73445736e-01, -2.24114257e-01,\n",
       "        -4.17486479e-02,  1.13073217e-01,  4.10870576e-01,\n",
       "        -2.55689550e-01, -1.41481179e-01, -1.96667334e-01,\n",
       "        -1.40710186e-01, -2.20268242e-01, -1.77600226e-02,\n",
       "        -6.62045829e-01, -8.20536595e-02, -1.64669957e-01,\n",
       "         1.73697826e-01, -1.81721788e-01,  1.88707998e-01,\n",
       "         7.49522614e-02, -6.17006930e-02,  4.31147742e-02,\n",
       "        -2.34248000e-02,  9.42071657e-02, -8.19157237e-02,\n",
       "         7.00452307e-02, -5.85364030e-02, -8.60419450e-02,\n",
       "        -2.21897176e-01, -1.56904329e-01, -7.75934308e-03,\n",
       "        -2.34324535e-03, -5.30477640e-02,  2.18148028e-01,\n",
       "         1.62602179e-01,  9.75515605e-02,  2.24775254e-01,\n",
       "         2.05212333e-01,  1.06182017e-01,  1.65961181e-01,\n",
       "         3.34625786e-02,  5.29999279e-02, -2.47446536e-01,\n",
       "        -1.36315447e-01, -8.27155347e-02,  1.91074824e-01,\n",
       "         6.05634371e-02,  4.96029130e-02,  2.05999901e-02,\n",
       "         2.33814376e-01,  2.16542264e-01,  1.05182182e-01,\n",
       "         4.25650082e-01,  3.11563804e-01,  3.48191187e-01,\n",
       "        -1.54282198e-01, -1.36255558e-01, -1.60770843e-01,\n",
       "        -4.47521316e-02, -1.15107749e-01,  3.27057111e-02,\n",
       "        -9.82920105e-02,  6.92330194e-02, -1.80888839e-01,\n",
       "         1.20925233e-01, -3.85214170e-02, -3.47964501e-02,\n",
       "         6.21976245e-02,  1.43735867e-01, -2.02470469e-01,\n",
       "         1.56089862e-02, -3.69201798e-02,  4.84277562e-02,\n",
       "         7.23480387e-02,  1.95183805e-01,  1.18457638e-01,\n",
       "         1.55187785e-01,  2.20611051e-01,  1.32331876e-01,\n",
       "         1.42362134e-02,  7.08725919e-02,  1.00819142e-01,\n",
       "         6.72461567e-02, -4.77955028e-02, -2.97956627e-02,\n",
       "         2.22225609e-01,  2.60433863e-02,  6.00592774e-02,\n",
       "        -2.37725135e-03,  2.54408853e-01,  2.74787956e-01,\n",
       "         1.38138441e-01,  6.02376455e-02,  4.46317799e-02,\n",
       "         2.25778300e-01, -1.61759083e-01,  1.54385856e-01,\n",
       "        -2.68167135e-02, -1.68948840e-01, -4.04950203e-02,\n",
       "         1.84801604e-02, -2.68531712e-02,  3.28417398e-02,\n",
       "        -1.25099337e-01,  1.30607660e-01, -2.05042028e-02,\n",
       "        -1.08899626e-01, -2.06825573e-01, -2.61071874e-01,\n",
       "         4.02107024e-01,  7.04375920e-02, -2.30667842e-02,\n",
       "         6.92181119e-03,  7.31347851e-02,  5.73712402e-02,\n",
       "         1.16361615e-01,  1.22406054e-01,  6.46384855e-02,\n",
       "         1.35749432e-01, -1.06074885e-02,  4.53952566e-02,\n",
       "         6.47899802e-02, -2.03150525e-02, -3.16646047e-02,\n",
       "        -5.76468850e-02,  9.73897630e-02,  1.03271594e-02,\n",
       "         8.94827546e-03,  2.59413426e-02,  1.84155703e-01,\n",
       "         7.64749290e-02,  1.57419873e-01,  2.81859340e-01,\n",
       "         1.76615946e-01,  2.75363295e-01, -1.03490907e-01,\n",
       "         1.22877688e-01,  4.37773431e-03,  3.43678049e-02,\n",
       "        -4.13037801e-02,  8.23245925e-03, -8.09073323e-02,\n",
       "         6.22893731e-02, -1.40345282e-01,  1.25242025e-01,\n",
       "        -5.54721538e-03,  6.36898889e-02, -6.10097353e-02,\n",
       "         9.66540570e-02,  5.34175707e-02,  1.83249802e-01,\n",
       "        -7.30579238e-02, -1.00936157e-01,  7.45433369e-02,\n",
       "         1.72722738e-01,  1.83249802e-01,  1.43863181e-03,\n",
       "        -1.49966442e-01,  1.70033770e-01, -3.58804645e-02,\n",
       "        -1.23666639e-03,  2.91828087e-03,  7.84635530e-02,\n",
       "         1.83249802e-01, -7.30579238e-02, -1.00936157e-01,\n",
       "         7.45433369e-02,  1.72722738e-01,  1.83249802e-01,\n",
       "         1.43863181e-03, -1.49966442e-01,  1.70033770e-01,\n",
       "        -3.58804645e-02, -1.23666639e-03,  2.91828087e-03,\n",
       "         7.84635530e-02,  1.92668284e-01,  1.47112420e-01,\n",
       "         1.49529918e-01,  1.42720111e-01,  1.34332662e-01,\n",
       "         1.92668284e-01,  5.20346077e-02,  1.53172642e-01,\n",
       "         3.49116336e-01, -1.66435319e-01,  1.66835794e-01,\n",
       "        -3.07901173e-02,  2.87437119e-02,  2.14915299e-01,\n",
       "        -4.42098060e-02,  2.49264638e-03, -2.16690096e-02,\n",
       "         1.94662618e-01,  2.14915299e-01,  5.12319151e-02,\n",
       "         4.92763144e-03,  1.25275560e-01, -3.62902125e-02,\n",
       "         6.67531643e-02, -5.45115935e-02, -2.49496453e-02,\n",
       "         9.54234222e-02,  1.33751539e-02,  2.25001059e-02,\n",
       "         2.06883158e-02,  1.45337711e-01,  9.54234222e-02,\n",
       "         1.15782483e-02,  4.35861219e-02,  1.86648383e-01,\n",
       "         7.25075372e-02, -3.26089247e-02, -1.36061234e-02,\n",
       "        -4.55226956e-02,  2.60465949e-01,  1.48593688e-01,\n",
       "         1.20829451e-01,  3.11716962e-01,  1.44770309e-01,\n",
       "         8.57815929e-02,  3.20255981e-01,  1.84403026e-01,\n",
       "         1.21633546e-01,  2.66742363e-01,  5.77190400e-02,\n",
       "         1.99280819e-02,  3.84948457e-02, -3.17376875e-02,\n",
       "        -7.17136389e-03,  2.19562224e-01,  8.83723105e-02,\n",
       "         1.12785630e-02, -3.87391934e-02,  1.75392772e-01,\n",
       "         1.66217575e-01,  1.27480220e-01,  4.04966352e-01,\n",
       "         2.49382972e-01,  2.58266467e-01, -3.27943006e-02,\n",
       "         6.09159222e-02,  6.14402573e-02, -2.45616555e-01,\n",
       "        -7.81518801e-02,  1.68121045e-02,  2.05217645e-01,\n",
       "         1.62888234e-01, -1.07556629e-01, -1.23086353e-01,\n",
       "        -6.58593761e-02, -1.25941922e-01,  1.00472369e-01,\n",
       "         4.45374041e-02,  5.16160277e-02,  2.00549088e-02,\n",
       "         3.04086561e-02,  3.41265557e-02,  1.42173308e-02,\n",
       "         8.95843968e-03,  9.33332603e-02,  5.02752799e-02,\n",
       "         3.18025683e-02,  1.24546863e-02,  9.03682233e-02,\n",
       "         2.96115091e-02, -3.88374567e-02,  6.46424559e-02,\n",
       "         5.21345919e-02,  1.27050295e-03, -4.08845337e-02,\n",
       "         2.24807682e-02, -7.81043901e-02, -3.35771574e-02,\n",
       "         3.49368986e-03,  5.07414212e-02, -2.12622669e-02,\n",
       "        -6.18502154e-02,  1.23872317e-02, -5.67509811e-03,\n",
       "        -7.09969713e-02,  2.51412790e-02,  2.92842716e-02,\n",
       "         6.93642989e-03,  7.14170951e-03,  1.26598430e-02,\n",
       "        -7.58763159e-03,  1.17316469e-02, -4.86502291e-02,\n",
       "         2.11889810e-02,  9.08308633e-03, -1.85969448e-03,\n",
       "        -4.08303664e-02,  7.54862427e-03,  2.05783754e-01,\n",
       "         1.40809073e-01,  9.90590079e-02,  2.11272535e-01,\n",
       "         1.77248530e-01,  9.61182279e-02,  2.31659862e-01,\n",
       "         1.62386941e-01,  1.00962934e-01,  1.97028783e-01,\n",
       "         1.49380825e-01,  9.37407608e-02,  1.04536122e-01,\n",
       "         1.26450543e-02,  6.44865016e-02,  1.80932383e-01,\n",
       "         6.06591639e-02,  4.96472486e-02,  2.05861457e-02,\n",
       "         1.99706440e-01,  9.83797778e-02,  9.93051673e-02,\n",
       "         4.72441797e-01,  3.04999126e-01,  2.72177240e-01,\n",
       "        -3.33226816e-01, -5.30826453e-02, -1.01489686e-01,\n",
       "        -2.25894863e-01, -1.37935206e-01, -1.56930340e-01,\n",
       "         2.10661243e-01,  1.58855627e-01,  6.42696417e-02,\n",
       "         3.85938758e-02,  1.00947130e-01,  5.86983248e-02,\n",
       "         7.28035585e-02,  4.80953224e-02,  4.49061581e-02,\n",
       "         1.58209316e-02,  3.00806984e-02,  4.21227642e-02,\n",
       "         1.89070314e-02,  8.90140007e-03,  6.33589086e-02,\n",
       "         4.25916529e-02,  3.75396474e-02,  2.02984518e-02,\n",
       "         6.78994558e-02,  3.69025375e-02,  4.05578189e-02,\n",
       "         5.76961581e-02,  6.08555430e-02,  5.26336255e-03,\n",
       "        -3.34765384e-02,  3.14325819e-02, -5.42151738e-02,\n",
       "         2.08261286e-03,  6.18720282e-02,  4.68862228e-02,\n",
       "        -1.38135238e-02, -4.71131231e-02,  7.17991449e-02,\n",
       "        -2.02978091e-03,  4.42669850e-02,  3.48492890e-02,\n",
       "         2.61384321e-02,  5.14057310e-03,  6.13997658e-03,\n",
       "         6.79264109e-03, -3.06364242e-02,  1.19087736e-02,\n",
       "         4.55339985e-02,  1.58722063e-02,  6.74787589e-03,\n",
       "        -2.77069268e-02,  3.80997710e-02,  5.77210637e-03,\n",
       "         4.27879812e-02,  1.28201663e-01,  1.30964054e-01,\n",
       "         7.85477711e-02,  2.26957291e-01,  1.04792823e-01,\n",
       "         4.83777151e-02,  1.45461769e-01,  1.32171412e-01,\n",
       "         1.30383830e-01,  2.32636481e-01,  9.81536213e-02,\n",
       "        -3.06460581e-02,  5.94813138e-02,  5.68943391e-02,\n",
       "         1.06076270e-01,  4.13602279e-03,  6.39038911e-02,\n",
       "         3.12242308e-02,  7.55767643e-02,  5.06869380e-02,\n",
       "         1.33157477e-01,  1.24755169e-01,  1.72595068e-01,\n",
       "         1.80128278e-01, -7.16618061e-02,  1.78284208e-02,\n",
       "         6.77823272e-02, -2.86204195e-02, -6.62169611e-02,\n",
       "         6.43177556e-02,  1.57609988e-01,  1.73185400e-01,\n",
       "         2.64414552e-01,  2.64071799e-01,  5.79201962e-02,\n",
       "         7.16683321e-02,  5.41447541e-04,  2.12708640e-02,\n",
       "         2.19178181e-02, -1.18694158e-02, -2.18158063e-02,\n",
       "        -1.56669367e-02, -7.65603245e-04, -9.57115443e-03,\n",
       "         3.61601915e-03,  1.27838742e-02, -2.15070592e-02,\n",
       "        -4.66192039e-03,  4.74990838e-03, -1.47812698e-02,\n",
       "         1.01197899e-01,  9.37712038e-03,  3.07855379e-03,\n",
       "         3.52339917e-03,  5.01176128e-03,  1.28749694e-02,\n",
       "         4.30813591e-03,  1.48965727e-02,  7.42348517e-02,\n",
       "         3.94381873e-03,  6.67775358e-03,  9.48132078e-03,\n",
       "         7.03891913e-02,  4.78512399e-03,  2.00887895e-02,\n",
       "         2.47504402e-02,  2.65032022e-02,  2.14520415e-03,\n",
       "         6.35007464e-03,  7.33812235e-03,  1.50558250e-02,\n",
       "         1.54932660e-02,  2.73997553e-02,  2.63064479e-02,\n",
       "         6.63880326e-03,  1.52460120e-02,  3.08305514e-02,\n",
       "         3.53946621e-03,  3.29865553e-02, -1.08108763e-01,\n",
       "         9.98496831e-03, -1.73286094e-01, -9.08681563e-02,\n",
       "         3.29865553e-02, -1.40885391e-01,  9.66095217e-02,\n",
       "         2.63285799e-01,  2.05423333e-01,  6.77561665e-02,\n",
       "        -3.38255275e-01, -3.59845495e-01,  1.55961236e-01,\n",
       "         1.33800158e-01,  1.53880506e-01,  1.30913801e-01,\n",
       "         1.17355660e-01,  1.55961236e-01,  3.86847945e-02,\n",
       "         1.48573386e-01,  2.51288131e-01,  5.98147546e-02,\n",
       "         5.91723459e-02,  5.29024648e-02,  1.00564516e-01,\n",
       "        -1.59424265e-02, -5.29498601e-02, -3.55835193e-02,\n",
       "        -6.76449115e-02, -8.85424875e-03, -1.59424265e-02,\n",
       "        -9.67735677e-02,  3.42926601e-02,  1.04991132e-01,\n",
       "         9.04830405e-02,  4.04867273e-02, -5.76262323e-02,\n",
       "        -8.04441107e-02,  2.72404555e-02, -4.17512629e-03,\n",
       "         6.83744531e-03, -8.88633624e-03,  3.36002574e-02,\n",
       "         2.72404555e-02, -3.27895904e-03,  3.93097387e-02,\n",
       "         1.10470513e-01,  6.91220117e-02,  2.19851800e-01,\n",
       "        -1.43806628e-01, -9.75424639e-02,  2.50862548e-02,\n",
       "        -8.10894299e-02,  7.84638310e-02, -7.80508347e-02,\n",
       "        -2.62409314e-01,  2.27456722e-01,  8.28565076e-02]])"
      ]
     },
     "execution_count": 64,
     "metadata": {},
     "output_type": "execute_result"
    }
   ],
   "source": [
    "logreg_all.coef_"
   ]
  },
  {
   "cell_type": "code",
   "execution_count": 65,
   "metadata": {},
   "outputs": [
    {
     "data": {
      "text/plain": [
       "array([10.30774672])"
      ]
     },
     "execution_count": 65,
     "metadata": {},
     "output_type": "execute_result"
    }
   ],
   "source": [
    "logreg_all.intercept_"
   ]
  },
  {
   "cell_type": "code",
   "execution_count": 66,
   "metadata": {},
   "outputs": [
    {
     "data": {
      "text/plain": [
       "array([90], dtype=int32)"
      ]
     },
     "execution_count": 66,
     "metadata": {},
     "output_type": "execute_result"
    }
   ],
   "source": [
    "logreg_all.n_iter_"
   ]
  },
  {
   "cell_type": "markdown",
   "metadata": {},
   "source": [
    "We will use the code from the website Socorro recommended."
   ]
  },
  {
   "cell_type": "code",
   "execution_count": 67,
   "metadata": {},
   "outputs": [
    {
     "data": {
      "text/plain": [
       "'X = X_train.copy()\\ny1 = y_train\\n\\nfrom scipy import stats\\n\\nparams = np.append(logreg_all2.intercept_,logreg_all2.coef_)\\npredictions = logreg_all2.predict(X)\\n\\nnewX = pd.DataFrame({\"Constant\":np.ones(len(X))}).join(pd.DataFrame(X))\\nMSE = (sum((y1-predictions)**2))/(len(newX)-len(newX.columns))\\n\\n# Note if you don\\'t want to use a DataFrame replace the two lines above with\\n# newX = np.append(np.ones((len(X),1)), X, axis=1)\\n# MSE = (sum((y-predictions)**2))/(len(newX)-len(newX[0]))\\n\\nvar_b = MSE*(np.linalg.inv(np.dot(newX.T,newX)).diagonal())\\nsd_b = np.sqrt(var_b)\\nts_b = params/ sd_b\\n\\np_values =[2*(1-stats.t.cdf(np.abs(i),(len(newX)-len(newX[0])))) for i in ts_b]\\n\\nsd_b = np.round(sd_b,3)\\nts_b = np.round(ts_b,3)\\np_values = np.round(p_values,3)\\nparams = np.round(params,4)\\n\\nmyDF3 = pd.DataFrame()\\nmyDF3[\"Coefficients\"],myDF3[\"Standard Errors\"],myDF3[\"t values\"],myDF3[\"p-values\"] = [params,sd_b,ts_b,p_values]\\nprint(myDF3)\\n\\n'"
      ]
     },
     "execution_count": 67,
     "metadata": {},
     "output_type": "execute_result"
    }
   ],
   "source": [
    "\"\"\"X = X_train.copy()\n",
    "y1 = y_train\n",
    "\n",
    "from scipy import stats\n",
    "\n",
    "params = np.append(logreg_all2.intercept_,logreg_all2.coef_)\n",
    "predictions = logreg_all2.predict(X)\n",
    "\n",
    "newX = pd.DataFrame({\"Constant\":np.ones(len(X))}).join(pd.DataFrame(X))\n",
    "MSE = (sum((y1-predictions)**2))/(len(newX)-len(newX.columns))\n",
    "\n",
    "# Note if you don't want to use a DataFrame replace the two lines above with\n",
    "# newX = np.append(np.ones((len(X),1)), X, axis=1)\n",
    "# MSE = (sum((y-predictions)**2))/(len(newX)-len(newX[0]))\n",
    "\n",
    "var_b = MSE*(np.linalg.inv(np.dot(newX.T,newX)).diagonal())\n",
    "sd_b = np.sqrt(var_b)\n",
    "ts_b = params/ sd_b\n",
    "\n",
    "p_values =[2*(1-stats.t.cdf(np.abs(i),(len(newX)-len(newX[0])))) for i in ts_b]\n",
    "\n",
    "sd_b = np.round(sd_b,3)\n",
    "ts_b = np.round(ts_b,3)\n",
    "p_values = np.round(p_values,3)\n",
    "params = np.round(params,4)\n",
    "\n",
    "myDF3 = pd.DataFrame()\n",
    "myDF3[\"Coefficients\"],myDF3[\"Standard Errors\"],myDF3[\"t values\"],myDF3[\"p-values\"] = [params,sd_b,ts_b,p_values]\n",
    "print(myDF3)\n",
    "\n",
    "\"\"\""
   ]
  },
  {
   "cell_type": "markdown",
   "metadata": {},
   "source": [
    "The above code does not work because y1 and predictions are equal which causes MSE to be 0."
   ]
  },
  {
   "cell_type": "markdown",
   "metadata": {},
   "source": [
    "Later at 3:30 PM, I spoke to the mentor Arshad Ahmed. He suggested that instead of using p-values, then use the absolute values of the coefficients to find the significant features.  The higher the absolute value of the coefficient, then the more significant it is.  He referred me to the following website https://stackoverflow.com/questions/24255723/sklearn-logistic-regression-important-features.\n",
    "\n",
    "He then went through the problem with me.\n",
    "\n",
    "I will go over it tomorrow."
   ]
  },
  {
   "cell_type": "code",
   "execution_count": 68,
   "metadata": {},
   "outputs": [
    {
     "data": {
      "text/plain": [
       "\"feature_importance = abs(logreg_all2.coef_[0])\\nfeature_importance = 100.0 * (feature_importance / feature_importance.max())\\nsorted_idx = np.argsort(feature_importance)\\npos = np.arange(sorted_idx.shape[0]) + .5\\n\\nfeatfig = plt.figure()\\nfeatax = featfig.add_subplot(1, 1, 1)\\nfeatax.barh(pos, feature_importance[sorted_idx], align='center')\\nfeatax.set_yticks(pos)\\nfeatax.set_yticklabels(np.array(X.columns)[sorted_idx], fontsize=8)\\nfeatax.set_xlabel('Relative Feature Importance')\\n\\nplt.tight_layout()   \\nplt.show() \""
      ]
     },
     "execution_count": 68,
     "metadata": {},
     "output_type": "execute_result"
    }
   ],
   "source": [
    "\"\"\"feature_importance = abs(logreg_all2.coef_[0])\n",
    "feature_importance = 100.0 * (feature_importance / feature_importance.max())\n",
    "sorted_idx = np.argsort(feature_importance)\n",
    "pos = np.arange(sorted_idx.shape[0]) + .5\n",
    "\n",
    "featfig = plt.figure()\n",
    "featax = featfig.add_subplot(1, 1, 1)\n",
    "featax.barh(pos, feature_importance[sorted_idx], align='center')\n",
    "featax.set_yticks(pos)\n",
    "featax.set_yticklabels(np.array(X.columns)[sorted_idx], fontsize=8)\n",
    "featax.set_xlabel('Relative Feature Importance')\n",
    "\n",
    "plt.tight_layout()   \n",
    "plt.show() \"\"\"\n",
    "\n"
   ]
  },
  {
   "cell_type": "markdown",
   "metadata": {},
   "source": [
    "The above cell contains code from the website Arshad recommended."
   ]
  },
  {
   "cell_type": "markdown",
   "metadata": {},
   "source": [
    "Below is how he went through thr problem with me."
   ]
  },
  {
   "cell_type": "code",
   "execution_count": 69,
   "metadata": {},
   "outputs": [
    {
     "data": {
      "text/plain": [
       "'\"sorted_index = np.argsort(logreg_all2.coef_[0])[::-1]\\n\\nX\\n\\nfeatures = np.array(X.columns)\\nfeatures\\nfeatures[sorted_index]\\nsorted_index_asc = np.argsort(logreg_all2.coef_[0])\\nsorted_index_asc\\n\\nlogreg_all2.coef_[0]\\nfeatures[sorted_index_asc]\\n\\nthresh = 0.1\\nnp.count_nonzero(logreg_all2.coef_[0] > thresh)\\nfeatures[logreg_all2.coef_[0] > thresh]\\nimportant_features_above_thresh_desc = np.argsort(logreg_all2.coef_[0])[::-1]\\nimportant_features_above_thresh_desc\\nfeatures[important_features_above_thresh_desc]\\n'"
      ]
     },
     "execution_count": 69,
     "metadata": {},
     "output_type": "execute_result"
    }
   ],
   "source": [
    "\"\"\"\"sorted_index = np.argsort(logreg_all2.coef_[0])[::-1]\n",
    "\n",
    "X\n",
    "\n",
    "features = np.array(X.columns)\n",
    "features\n",
    "features[sorted_index]\n",
    "sorted_index_asc = np.argsort(logreg_all2.coef_[0])\n",
    "sorted_index_asc\n",
    "\n",
    "logreg_all2.coef_[0]\n",
    "features[sorted_index_asc]\n",
    "\n",
    "thresh = 0.1\n",
    "np.count_nonzero(logreg_all2.coef_[0] > thresh)\n",
    "features[logreg_all2.coef_[0] > thresh]\n",
    "important_features_above_thresh_desc = np.argsort(logreg_all2.coef_[0])[::-1]\n",
    "important_features_above_thresh_desc\n",
    "features[important_features_above_thresh_desc]\n",
    "\"\"\""
   ]
  },
  {
   "cell_type": "markdown",
   "metadata": {},
   "source": [
    "Note that there may be errors in the above code.  Here is the idea for the above code. \n",
    "\n",
    "First, we sort the coefficients in descending order of magnitude (absolute value).  \n",
    "Then, we set an arbitrary positive value to be the threshold.  \n",
    "Then the significant features are those whose magnitude are greater than threshold.\n",
    "Arshad also wanted to show me how to get the list of siginicant features \n",
    "in order of importance.\n",
    "\n",
    "He said that this method is usually used to find the significant features \n",
    "instead of using the p-values."
   ]
  },
  {
   "cell_type": "markdown",
   "metadata": {},
   "source": [
    "Later at 4:19 PM, the mentor Arshad Ahmed contacted me on Slack.  He provided further explanation.\n",
    "\n",
    "Logistic Regression Feature Importance\n",
    "- Sort logistic regression coefficients by their values and use the indexes from this sorted values to sort the columns of feature dataframe (i.e. X)\n",
    "\n"
   ]
  },
  {
   "cell_type": "markdown",
   "metadata": {},
   "source": [
    "# Now, I will try to complete Task 3 using the above information."
   ]
  },
  {
   "cell_type": "code",
   "execution_count": 70,
   "metadata": {},
   "outputs": [
    {
     "data": {
      "text/plain": [
       "(1, 561)"
      ]
     },
     "execution_count": 70,
     "metadata": {},
     "output_type": "execute_result"
    }
   ],
   "source": [
    "logreg_all.coef_.shape"
   ]
  },
  {
   "cell_type": "code",
   "execution_count": 73,
   "metadata": {},
   "outputs": [],
   "source": [
    "coeffs = logreg_all.coef_[0]"
   ]
  },
  {
   "cell_type": "code",
   "execution_count": 74,
   "metadata": {},
   "outputs": [
    {
     "data": {
      "text/plain": [
       "array([1.59798107e-01, 3.44771022e-02, 1.17903905e-02, 2.97922359e-01,\n",
       "       1.52122082e-01, 9.76897267e-02, 2.77635233e-01, 1.50808997e-01,\n",
       "       8.76953845e-02, 5.06403948e-01, 9.80267589e-02, 3.83490413e-02,\n",
       "       4.70810566e-02, 8.00759912e-02, 5.38816069e-02, 1.81754239e-01,\n",
       "       6.12056194e-02, 4.21376422e-02, 8.20315387e-02, 2.28579505e-01,\n",
       "       1.10570142e-01, 9.05596295e-02, 2.85933530e-01, 2.08686689e-01,\n",
       "       7.35814807e-03, 1.72466972e-01, 1.16581504e-02, 6.95416897e-03,\n",
       "       9.50162318e-02, 8.11371580e-02, 7.14996605e-02, 4.48141608e-02,\n",
       "       8.14858095e-02, 1.87520989e-01, 1.68446522e-01, 8.29417930e-02,\n",
       "       1.06068562e-02, 2.22819165e-01, 8.05112265e-02, 1.75676848e-01,\n",
       "       3.14064205e-01, 2.89356498e-01, 9.05914237e-02, 2.19037917e-01,\n",
       "       1.58157942e-01, 2.18363690e-01, 2.14469585e-01, 1.51631025e-01,\n",
       "       2.15739200e-01, 2.29432224e-01, 3.14681916e-01, 1.39513465e-01,\n",
       "       3.73445736e-01, 2.24114257e-01, 4.17486479e-02, 1.13073217e-01,\n",
       "       4.10870576e-01, 2.55689550e-01, 1.41481179e-01, 1.96667334e-01,\n",
       "       1.40710186e-01, 2.20268242e-01, 1.77600226e-02, 6.62045829e-01,\n",
       "       8.20536595e-02, 1.64669957e-01, 1.73697826e-01, 1.81721788e-01,\n",
       "       1.88707998e-01, 7.49522614e-02, 6.17006930e-02, 4.31147742e-02,\n",
       "       2.34248000e-02, 9.42071657e-02, 8.19157237e-02, 7.00452307e-02,\n",
       "       5.85364030e-02, 8.60419450e-02, 2.21897176e-01, 1.56904329e-01,\n",
       "       7.75934308e-03, 2.34324535e-03, 5.30477640e-02, 2.18148028e-01,\n",
       "       1.62602179e-01, 9.75515605e-02, 2.24775254e-01, 2.05212333e-01,\n",
       "       1.06182017e-01, 1.65961181e-01, 3.34625786e-02, 5.29999279e-02,\n",
       "       2.47446536e-01, 1.36315447e-01, 8.27155347e-02, 1.91074824e-01,\n",
       "       6.05634371e-02, 4.96029130e-02, 2.05999901e-02, 2.33814376e-01,\n",
       "       2.16542264e-01, 1.05182182e-01, 4.25650082e-01, 3.11563804e-01,\n",
       "       3.48191187e-01, 1.54282198e-01, 1.36255558e-01, 1.60770843e-01,\n",
       "       4.47521316e-02, 1.15107749e-01, 3.27057111e-02, 9.82920105e-02,\n",
       "       6.92330194e-02, 1.80888839e-01, 1.20925233e-01, 3.85214170e-02,\n",
       "       3.47964501e-02, 6.21976245e-02, 1.43735867e-01, 2.02470469e-01,\n",
       "       1.56089862e-02, 3.69201798e-02, 4.84277562e-02, 7.23480387e-02,\n",
       "       1.95183805e-01, 1.18457638e-01, 1.55187785e-01, 2.20611051e-01,\n",
       "       1.32331876e-01, 1.42362134e-02, 7.08725919e-02, 1.00819142e-01,\n",
       "       6.72461567e-02, 4.77955028e-02, 2.97956627e-02, 2.22225609e-01,\n",
       "       2.60433863e-02, 6.00592774e-02, 2.37725135e-03, 2.54408853e-01,\n",
       "       2.74787956e-01, 1.38138441e-01, 6.02376455e-02, 4.46317799e-02,\n",
       "       2.25778300e-01, 1.61759083e-01, 1.54385856e-01, 2.68167135e-02,\n",
       "       1.68948840e-01, 4.04950203e-02, 1.84801604e-02, 2.68531712e-02,\n",
       "       3.28417398e-02, 1.25099337e-01, 1.30607660e-01, 2.05042028e-02,\n",
       "       1.08899626e-01, 2.06825573e-01, 2.61071874e-01, 4.02107024e-01,\n",
       "       7.04375920e-02, 2.30667842e-02, 6.92181119e-03, 7.31347851e-02,\n",
       "       5.73712402e-02, 1.16361615e-01, 1.22406054e-01, 6.46384855e-02,\n",
       "       1.35749432e-01, 1.06074885e-02, 4.53952566e-02, 6.47899802e-02,\n",
       "       2.03150525e-02, 3.16646047e-02, 5.76468850e-02, 9.73897630e-02,\n",
       "       1.03271594e-02, 8.94827546e-03, 2.59413426e-02, 1.84155703e-01,\n",
       "       7.64749290e-02, 1.57419873e-01, 2.81859340e-01, 1.76615946e-01,\n",
       "       2.75363295e-01, 1.03490907e-01, 1.22877688e-01, 4.37773431e-03,\n",
       "       3.43678049e-02, 4.13037801e-02, 8.23245925e-03, 8.09073323e-02,\n",
       "       6.22893731e-02, 1.40345282e-01, 1.25242025e-01, 5.54721538e-03,\n",
       "       6.36898889e-02, 6.10097353e-02, 9.66540570e-02, 5.34175707e-02,\n",
       "       1.83249802e-01, 7.30579238e-02, 1.00936157e-01, 7.45433369e-02,\n",
       "       1.72722738e-01, 1.83249802e-01, 1.43863181e-03, 1.49966442e-01,\n",
       "       1.70033770e-01, 3.58804645e-02, 1.23666639e-03, 2.91828087e-03,\n",
       "       7.84635530e-02, 1.83249802e-01, 7.30579238e-02, 1.00936157e-01,\n",
       "       7.45433369e-02, 1.72722738e-01, 1.83249802e-01, 1.43863181e-03,\n",
       "       1.49966442e-01, 1.70033770e-01, 3.58804645e-02, 1.23666639e-03,\n",
       "       2.91828087e-03, 7.84635530e-02, 1.92668284e-01, 1.47112420e-01,\n",
       "       1.49529918e-01, 1.42720111e-01, 1.34332662e-01, 1.92668284e-01,\n",
       "       5.20346077e-02, 1.53172642e-01, 3.49116336e-01, 1.66435319e-01,\n",
       "       1.66835794e-01, 3.07901173e-02, 2.87437119e-02, 2.14915299e-01,\n",
       "       4.42098060e-02, 2.49264638e-03, 2.16690096e-02, 1.94662618e-01,\n",
       "       2.14915299e-01, 5.12319151e-02, 4.92763144e-03, 1.25275560e-01,\n",
       "       3.62902125e-02, 6.67531643e-02, 5.45115935e-02, 2.49496453e-02,\n",
       "       9.54234222e-02, 1.33751539e-02, 2.25001059e-02, 2.06883158e-02,\n",
       "       1.45337711e-01, 9.54234222e-02, 1.15782483e-02, 4.35861219e-02,\n",
       "       1.86648383e-01, 7.25075372e-02, 3.26089247e-02, 1.36061234e-02,\n",
       "       4.55226956e-02, 2.60465949e-01, 1.48593688e-01, 1.20829451e-01,\n",
       "       3.11716962e-01, 1.44770309e-01, 8.57815929e-02, 3.20255981e-01,\n",
       "       1.84403026e-01, 1.21633546e-01, 2.66742363e-01, 5.77190400e-02,\n",
       "       1.99280819e-02, 3.84948457e-02, 3.17376875e-02, 7.17136389e-03,\n",
       "       2.19562224e-01, 8.83723105e-02, 1.12785630e-02, 3.87391934e-02,\n",
       "       1.75392772e-01, 1.66217575e-01, 1.27480220e-01, 4.04966352e-01,\n",
       "       2.49382972e-01, 2.58266467e-01, 3.27943006e-02, 6.09159222e-02,\n",
       "       6.14402573e-02, 2.45616555e-01, 7.81518801e-02, 1.68121045e-02,\n",
       "       2.05217645e-01, 1.62888234e-01, 1.07556629e-01, 1.23086353e-01,\n",
       "       6.58593761e-02, 1.25941922e-01, 1.00472369e-01, 4.45374041e-02,\n",
       "       5.16160277e-02, 2.00549088e-02, 3.04086561e-02, 3.41265557e-02,\n",
       "       1.42173308e-02, 8.95843968e-03, 9.33332603e-02, 5.02752799e-02,\n",
       "       3.18025683e-02, 1.24546863e-02, 9.03682233e-02, 2.96115091e-02,\n",
       "       3.88374567e-02, 6.46424559e-02, 5.21345919e-02, 1.27050295e-03,\n",
       "       4.08845337e-02, 2.24807682e-02, 7.81043901e-02, 3.35771574e-02,\n",
       "       3.49368986e-03, 5.07414212e-02, 2.12622669e-02, 6.18502154e-02,\n",
       "       1.23872317e-02, 5.67509811e-03, 7.09969713e-02, 2.51412790e-02,\n",
       "       2.92842716e-02, 6.93642989e-03, 7.14170951e-03, 1.26598430e-02,\n",
       "       7.58763159e-03, 1.17316469e-02, 4.86502291e-02, 2.11889810e-02,\n",
       "       9.08308633e-03, 1.85969448e-03, 4.08303664e-02, 7.54862427e-03,\n",
       "       2.05783754e-01, 1.40809073e-01, 9.90590079e-02, 2.11272535e-01,\n",
       "       1.77248530e-01, 9.61182279e-02, 2.31659862e-01, 1.62386941e-01,\n",
       "       1.00962934e-01, 1.97028783e-01, 1.49380825e-01, 9.37407608e-02,\n",
       "       1.04536122e-01, 1.26450543e-02, 6.44865016e-02, 1.80932383e-01,\n",
       "       6.06591639e-02, 4.96472486e-02, 2.05861457e-02, 1.99706440e-01,\n",
       "       9.83797778e-02, 9.93051673e-02, 4.72441797e-01, 3.04999126e-01,\n",
       "       2.72177240e-01, 3.33226816e-01, 5.30826453e-02, 1.01489686e-01,\n",
       "       2.25894863e-01, 1.37935206e-01, 1.56930340e-01, 2.10661243e-01,\n",
       "       1.58855627e-01, 6.42696417e-02, 3.85938758e-02, 1.00947130e-01,\n",
       "       5.86983248e-02, 7.28035585e-02, 4.80953224e-02, 4.49061581e-02,\n",
       "       1.58209316e-02, 3.00806984e-02, 4.21227642e-02, 1.89070314e-02,\n",
       "       8.90140007e-03, 6.33589086e-02, 4.25916529e-02, 3.75396474e-02,\n",
       "       2.02984518e-02, 6.78994558e-02, 3.69025375e-02, 4.05578189e-02,\n",
       "       5.76961581e-02, 6.08555430e-02, 5.26336255e-03, 3.34765384e-02,\n",
       "       3.14325819e-02, 5.42151738e-02, 2.08261286e-03, 6.18720282e-02,\n",
       "       4.68862228e-02, 1.38135238e-02, 4.71131231e-02, 7.17991449e-02,\n",
       "       2.02978091e-03, 4.42669850e-02, 3.48492890e-02, 2.61384321e-02,\n",
       "       5.14057310e-03, 6.13997658e-03, 6.79264109e-03, 3.06364242e-02,\n",
       "       1.19087736e-02, 4.55339985e-02, 1.58722063e-02, 6.74787589e-03,\n",
       "       2.77069268e-02, 3.80997710e-02, 5.77210637e-03, 4.27879812e-02,\n",
       "       1.28201663e-01, 1.30964054e-01, 7.85477711e-02, 2.26957291e-01,\n",
       "       1.04792823e-01, 4.83777151e-02, 1.45461769e-01, 1.32171412e-01,\n",
       "       1.30383830e-01, 2.32636481e-01, 9.81536213e-02, 3.06460581e-02,\n",
       "       5.94813138e-02, 5.68943391e-02, 1.06076270e-01, 4.13602279e-03,\n",
       "       6.39038911e-02, 3.12242308e-02, 7.55767643e-02, 5.06869380e-02,\n",
       "       1.33157477e-01, 1.24755169e-01, 1.72595068e-01, 1.80128278e-01,\n",
       "       7.16618061e-02, 1.78284208e-02, 6.77823272e-02, 2.86204195e-02,\n",
       "       6.62169611e-02, 6.43177556e-02, 1.57609988e-01, 1.73185400e-01,\n",
       "       2.64414552e-01, 2.64071799e-01, 5.79201962e-02, 7.16683321e-02,\n",
       "       5.41447541e-04, 2.12708640e-02, 2.19178181e-02, 1.18694158e-02,\n",
       "       2.18158063e-02, 1.56669367e-02, 7.65603245e-04, 9.57115443e-03,\n",
       "       3.61601915e-03, 1.27838742e-02, 2.15070592e-02, 4.66192039e-03,\n",
       "       4.74990838e-03, 1.47812698e-02, 1.01197899e-01, 9.37712038e-03,\n",
       "       3.07855379e-03, 3.52339917e-03, 5.01176128e-03, 1.28749694e-02,\n",
       "       4.30813591e-03, 1.48965727e-02, 7.42348517e-02, 3.94381873e-03,\n",
       "       6.67775358e-03, 9.48132078e-03, 7.03891913e-02, 4.78512399e-03,\n",
       "       2.00887895e-02, 2.47504402e-02, 2.65032022e-02, 2.14520415e-03,\n",
       "       6.35007464e-03, 7.33812235e-03, 1.50558250e-02, 1.54932660e-02,\n",
       "       2.73997553e-02, 2.63064479e-02, 6.63880326e-03, 1.52460120e-02,\n",
       "       3.08305514e-02, 3.53946621e-03, 3.29865553e-02, 1.08108763e-01,\n",
       "       9.98496831e-03, 1.73286094e-01, 9.08681563e-02, 3.29865553e-02,\n",
       "       1.40885391e-01, 9.66095217e-02, 2.63285799e-01, 2.05423333e-01,\n",
       "       6.77561665e-02, 3.38255275e-01, 3.59845495e-01, 1.55961236e-01,\n",
       "       1.33800158e-01, 1.53880506e-01, 1.30913801e-01, 1.17355660e-01,\n",
       "       1.55961236e-01, 3.86847945e-02, 1.48573386e-01, 2.51288131e-01,\n",
       "       5.98147546e-02, 5.91723459e-02, 5.29024648e-02, 1.00564516e-01,\n",
       "       1.59424265e-02, 5.29498601e-02, 3.55835193e-02, 6.76449115e-02,\n",
       "       8.85424875e-03, 1.59424265e-02, 9.67735677e-02, 3.42926601e-02,\n",
       "       1.04991132e-01, 9.04830405e-02, 4.04867273e-02, 5.76262323e-02,\n",
       "       8.04441107e-02, 2.72404555e-02, 4.17512629e-03, 6.83744531e-03,\n",
       "       8.88633624e-03, 3.36002574e-02, 2.72404555e-02, 3.27895904e-03,\n",
       "       3.93097387e-02, 1.10470513e-01, 6.91220117e-02, 2.19851800e-01,\n",
       "       1.43806628e-01, 9.75424639e-02, 2.50862548e-02, 8.10894299e-02,\n",
       "       7.84638310e-02, 7.80508347e-02, 2.62409314e-01, 2.27456722e-01,\n",
       "       8.28565076e-02])"
      ]
     },
     "execution_count": 74,
     "metadata": {},
     "output_type": "execute_result"
    }
   ],
   "source": [
    "coeffs2 = np.abs(coeffs)\n",
    "coeffs2"
   ]
  },
  {
   "cell_type": "code",
   "execution_count": 75,
   "metadata": {},
   "outputs": [
    {
     "data": {
      "text/plain": [
       "0.0005414475406833947"
      ]
     },
     "execution_count": 75,
     "metadata": {},
     "output_type": "execute_result"
    }
   ],
   "source": [
    "coeffs2.min()"
   ]
  },
  {
   "cell_type": "code",
   "execution_count": 76,
   "metadata": {},
   "outputs": [
    {
     "data": {
      "text/plain": [
       "0.6620458290785912"
      ]
     },
     "execution_count": 76,
     "metadata": {},
     "output_type": "execute_result"
    }
   ],
   "source": [
    "coeffs2.max()"
   ]
  },
  {
   "cell_type": "code",
   "execution_count": 77,
   "metadata": {},
   "outputs": [
    {
     "data": {
      "text/plain": [
       "array([ 63,   9, 366, 102,  56, 287, 159,  52, 514, 234, 104, 513, 369,\n",
       "       271,  50,  40, 268, 103, 367,   3,  41,  22, 182,   6, 184, 140,\n",
       "       368, 274, 456, 457, 510, 558, 158, 265, 289,  57, 139, 523, 288,\n",
       "        92, 293,  99, 433, 350,  49,  19, 559, 427, 372, 144,  86,  53,\n",
       "        37, 135,  78, 127,  61, 551, 280,  43,  45,  83, 100,  48, 239,\n",
       "       244,  46, 347, 375,  23, 157, 344, 511, 296,  87, 119, 363, 353,\n",
       "        59, 124, 243, 226, 231,  95,  68,  33, 260, 272, 179, 218, 213,\n",
       "       205, 200,  15,  67, 359, 113, 447, 348, 183,  39, 284,  66, 505,\n",
       "       455, 204, 217, 446,  25, 208, 221, 148,  34, 236, 235, 285,  89,\n",
       "        65, 297,  84, 351, 145, 107,   0, 376,  44, 454, 181, 374,  79,\n",
       "       515, 520, 126, 146, 105, 517, 233,   4,  47,   7, 207, 220, 228,\n",
       "       354, 266, 522, 227, 430, 256, 269, 552, 118, 229,  58, 508, 345,\n",
       "        60, 193,  51, 141, 373,  93, 106, 168, 230, 516, 444, 128, 431,\n",
       "       425, 518, 154, 432, 424, 286, 301, 247, 194, 153, 445, 299, 186,\n",
       "       166, 273, 114, 267, 125, 519, 165, 109,  55,  20, 549, 156, 503,\n",
       "       298,  88, 438, 101, 536, 428, 356, 185, 371, 474, 352, 379, 215,\n",
       "       202, 131, 527, 302, 365, 346, 364, 111, 434,  10,   5,  85, 553,\n",
       "       175, 534, 198, 509, 349, 257, 252,  28,  73, 355, 310, 506,  42,\n",
       "        21, 537, 314, 281,   8,  77, 270,  35, 560,  94,  64,  18,  74,\n",
       "        32,  29, 555, 191,  38, 540,  13, 426, 556, 212, 225, 294, 322,\n",
       "       557, 180, 442,  69, 203, 216, 482, 163, 214, 201, 381, 261, 123,\n",
       "       407, 459, 448,  30, 330, 130, 160, 486,  75, 112, 550, 393, 450,\n",
       "       512, 531, 132, 249, 452, 300, 171, 317, 167, 358, 453, 377, 440,\n",
       "       196, 389, 192, 117, 403, 327,  70, 292,  16, 197, 291, 397, 360,\n",
       "        96, 142, 137, 524, 436, 525, 380,  76, 458, 275, 396, 174, 539,\n",
       "       164, 437, 250, 401,  14, 199, 370,  82,  91, 529, 526, 318, 232,\n",
       "       304, 245, 325, 443, 311, 361,  97, 338, 122, 429, 382, 133, 406,\n",
       "        12, 404, 417, 264, 170, 383,  31, 108, 143, 303, 409, 240, 259,\n",
       "        71, 423, 390,  17, 386,  54, 189, 320, 342, 395, 149, 538, 548,\n",
       "       316, 283, 521, 378, 115, 277,  11, 421, 391, 121, 394, 248, 209,\n",
       "       222, 530, 410, 116,   1, 188, 535, 307, 545, 323, 399,  90, 502,\n",
       "       507, 152, 290, 110, 262, 312, 278, 173, 400, 441, 500, 237, 435,\n",
       "       415, 306, 385, 134, 315, 332, 238, 451, 420, 496, 541, 546, 151,\n",
       "       147, 490, 497, 411, 136, 178, 331, 554, 251, 489,  72, 161, 254,\n",
       "       321, 462, 464, 242, 470, 461, 326, 339, 255,  98, 362, 155, 172,\n",
       "       392, 488, 305, 276, 387, 150, 449,  62, 295, 533, 528, 418, 384,\n",
       "       465, 120, 495, 499, 494, 481, 473, 129, 308, 405, 263, 253, 479,\n",
       "       469, 335, 357, 313, 328, 416, 463,   2, 337,  26, 258, 282, 169,\n",
       "        36, 176, 504, 467, 485, 475, 340, 309, 177, 388, 544, 532, 190,\n",
       "        80, 336, 343,  24, 493, 279, 334,  27, 333, 162, 543, 414, 419,\n",
       "       484, 498, 492, 413, 422, 329, 195, 398, 412, 478, 246, 487, 472,\n",
       "       471, 187, 480, 542, 439, 483, 468, 501, 477, 324, 547, 476, 224,\n",
       "       211, 241, 138,  81, 491, 402, 408, 341, 219, 206, 319, 210, 223,\n",
       "       466, 460])"
      ]
     },
     "execution_count": 77,
     "metadata": {},
     "output_type": "execute_result"
    }
   ],
   "source": [
    "# Note that np.argsort returns the indices that would sort the array in \n",
    "# increasing order and we want the indices that would sort the array in\n",
    "# decreasing order.\n",
    "\n",
    "sorted_index = np.argsort(coeffs2)[::-1]\n",
    "sorted_index\n"
   ]
  },
  {
   "cell_type": "code",
   "execution_count": 79,
   "metadata": {},
   "outputs": [
    {
     "data": {
      "text/plain": [
       "0.6620458290785912"
      ]
     },
     "execution_count": 79,
     "metadata": {},
     "output_type": "execute_result"
    }
   ],
   "source": [
    "coeffs2[63] # This is just a check that we did the correct sort."
   ]
  },
  {
   "cell_type": "code",
   "execution_count": 80,
   "metadata": {},
   "outputs": [
    {
     "data": {
      "text/plain": [
       "array([  0,   1,   2,   3,   4,   5,   6,   7,   8,   9,  10,  11,  12,\n",
       "        13,  14,  15,  16,  17,  18,  19,  20,  21,  22,  23,  24,  25,\n",
       "        26,  27,  28,  29,  30,  31,  32,  33,  34,  35,  36,  37,  38,\n",
       "        39,  40,  41,  42,  43,  44,  45,  46,  47,  48,  49,  50,  51,\n",
       "        52,  53,  54,  55,  56,  57,  58,  59,  60,  61,  62,  63,  64,\n",
       "        65,  66,  67,  68,  69,  70,  71,  72,  73,  74,  75,  76,  77,\n",
       "        78,  79,  80,  81,  82,  83,  84,  85,  86,  87,  88,  89,  90,\n",
       "        91,  92,  93,  94,  95,  96,  97,  98,  99, 100, 101, 102, 103,\n",
       "       104, 105, 106, 107, 108, 109, 110, 111, 112, 113, 114, 115, 116,\n",
       "       117, 118, 119, 120, 121, 122, 123, 124, 125, 126, 127, 128, 129,\n",
       "       130, 131, 132, 133, 134, 135, 136, 137, 138, 139, 140, 141, 142,\n",
       "       143, 144, 145, 146, 147, 148, 149, 150, 151, 152, 153, 154, 155,\n",
       "       156, 157, 158, 159, 160, 161, 162, 163, 164, 165, 166, 167, 168,\n",
       "       169, 170, 171, 172, 173, 174, 175, 176, 177, 178, 179, 180, 181,\n",
       "       182, 183, 184, 185, 186, 187, 188, 189, 190, 191, 192, 193, 194,\n",
       "       195, 196, 197, 198, 199, 200, 201, 202, 203, 204, 205, 206, 207,\n",
       "       208, 209, 210, 211, 212, 213, 214, 215, 216, 217, 218, 219, 220,\n",
       "       221, 222, 223, 224, 225, 226, 227, 228, 229, 230, 231, 232, 233,\n",
       "       234, 235, 236, 237, 238, 239, 240, 241, 242, 243, 244, 245, 246,\n",
       "       247, 248, 249, 250, 251, 252, 253, 254, 255, 256, 257, 258, 259,\n",
       "       260, 261, 262, 263, 264, 265, 266, 267, 268, 269, 270, 271, 272,\n",
       "       273, 274, 275, 276, 277, 278, 279, 280, 281, 282, 283, 284, 285,\n",
       "       286, 287, 288, 289, 290, 291, 292, 293, 294, 295, 296, 297, 298,\n",
       "       299, 300, 301, 302, 303, 304, 305, 306, 307, 308, 309, 310, 311,\n",
       "       312, 313, 314, 315, 316, 317, 318, 319, 320, 321, 322, 323, 324,\n",
       "       325, 326, 327, 328, 329, 330, 331, 332, 333, 334, 335, 336, 337,\n",
       "       338, 339, 340, 341, 342, 343, 344, 345, 346, 347, 348, 349, 350,\n",
       "       351, 352, 353, 354, 355, 356, 357, 358, 359, 360, 361, 362, 363,\n",
       "       364, 365, 366, 367, 368, 369, 370, 371, 372, 373, 374, 375, 376,\n",
       "       377, 378, 379, 380, 381, 382, 383, 384, 385, 386, 387, 388, 389,\n",
       "       390, 391, 392, 393, 394, 395, 396, 397, 398, 399, 400, 401, 402,\n",
       "       403, 404, 405, 406, 407, 408, 409, 410, 411, 412, 413, 414, 415,\n",
       "       416, 417, 418, 419, 420, 421, 422, 423, 424, 425, 426, 427, 428,\n",
       "       429, 430, 431, 432, 433, 434, 435, 436, 437, 438, 439, 440, 441,\n",
       "       442, 443, 444, 445, 446, 447, 448, 449, 450, 451, 452, 453, 454,\n",
       "       455, 456, 457, 458, 459, 460, 461, 462, 463, 464, 465, 466, 467,\n",
       "       468, 469, 470, 471, 472, 473, 474, 475, 476, 477, 478, 479, 480,\n",
       "       481, 482, 483, 484, 485, 486, 487, 488, 489, 490, 491, 492, 493,\n",
       "       494, 495, 496, 497, 498, 499, 500, 501, 502, 503, 504, 505, 506,\n",
       "       507, 508, 509, 510, 511, 512, 513, 514, 515, 516, 517, 518, 519,\n",
       "       520, 521, 522, 523, 524, 525, 526, 527, 528, 529, 530, 531, 532,\n",
       "       533, 534, 535, 536, 537, 538, 539, 540, 541, 542, 543, 544, 545,\n",
       "       546, 547, 548, 549, 550, 551, 552, 553, 554, 555, 556, 557, 558,\n",
       "       559, 560])"
      ]
     },
     "execution_count": 80,
     "metadata": {},
     "output_type": "execute_result"
    }
   ],
   "source": [
    "features = np.array(X_train3.columns)\n",
    "features"
   ]
  },
  {
   "cell_type": "code",
   "execution_count": 81,
   "metadata": {},
   "outputs": [],
   "source": [
    "thresh = 0.1"
   ]
  },
  {
   "cell_type": "code",
   "execution_count": 82,
   "metadata": {},
   "outputs": [
    {
     "data": {
      "text/plain": [
       "212"
      ]
     },
     "execution_count": 82,
     "metadata": {},
     "output_type": "execute_result"
    }
   ],
   "source": [
    "total = np.count_nonzero(coeffs2 > thresh)\n",
    "total"
   ]
  },
  {
   "cell_type": "code",
   "execution_count": 83,
   "metadata": {},
   "outputs": [
    {
     "name": "stdout",
     "output_type": "stream",
     "text": [
      "The number of significant features is 212.\n"
     ]
    }
   ],
   "source": [
    "print(f\"The number of significant features is {total}.\")"
   ]
  },
  {
   "cell_type": "markdown",
   "metadata": {},
   "source": [
    "The following is extra.  We will extract the list of signicant features in order of importance."
   ]
  },
  {
   "cell_type": "code",
   "execution_count": 85,
   "metadata": {},
   "outputs": [
    {
     "data": {
      "text/plain": [
       "array([ 63, 102,  56, 159,  52, 234,  40,   3,  41, 182,   6, 140, 265,\n",
       "       289, 523,  92, 293,  99, 350,  49,  19, 559, 427, 372, 144,  86,\n",
       "        53,  37, 135, 127,  61, 551, 280,  43,  45,  83,  48, 244,  46,\n",
       "       347, 375,  59, 124,  95,  68, 260, 272, 179, 218, 200,  15, 359,\n",
       "       183,  39, 284,  66, 505, 455, 204, 217, 446, 208, 236, 235, 297,\n",
       "        84, 376,  44, 454, 181, 374, 520, 517,   7, 207, 220, 266, 522,\n",
       "       227, 256,  58, 508,  60, 193,  51, 141, 516, 444, 431, 445, 186,\n",
       "       166, 273, 114, 267, 125, 156, 503, 428, 185, 474, 352, 215, 202,\n",
       "       346, 111,  10,   5, 553, 175, 257, 252,  28,  73, 355, 310,  42,\n",
       "        21, 537, 314,  77,  94,  64,  32, 212, 557, 216, 482, 163, 214,\n",
       "       201, 261, 123, 407, 459, 486, 393, 450, 512, 531, 132, 249, 317,\n",
       "       453, 377, 440, 196, 192, 117,  97, 338, 429, 382, 406,  12, 404,\n",
       "       417, 264, 383, 143, 259, 390,  17, 386,  54, 320, 342, 395, 149,\n",
       "       538, 548, 521, 420, 496, 546, 151, 490, 497, 411, 136, 489, 464,\n",
       "       242, 470, 461, 172, 392, 488, 305, 473, 388, 532, 336,  24, 493,\n",
       "       334,  27, 333, 162, 543, 414, 419, 484, 492, 413, 398, 542,  81,\n",
       "       402, 408, 223, 466])"
      ]
     },
     "execution_count": 85,
     "metadata": {},
     "output_type": "execute_result"
    }
   ],
   "source": [
    "sorted_index2 = sorted_index[(coeffs2 > thresh)]\n",
    "sorted_index2"
   ]
  },
  {
   "cell_type": "code",
   "execution_count": 87,
   "metadata": {},
   "outputs": [
    {
     "data": {
      "text/plain": [
       "array([ 63, 102,  56, 159,  52, 234,  40,   3,  41, 182,   6, 140, 265,\n",
       "       289, 523,  92, 293,  99, 350,  49,  19, 559, 427, 372, 144,  86,\n",
       "        53,  37, 135, 127,  61, 551, 280,  43,  45,  83,  48, 244,  46,\n",
       "       347, 375,  59, 124,  95,  68, 260, 272, 179, 218, 200,  15, 359,\n",
       "       183,  39, 284,  66, 505, 455, 204, 217, 446, 208, 236, 235, 297,\n",
       "        84, 376,  44, 454, 181, 374, 520, 517,   7, 207, 220, 266, 522,\n",
       "       227, 256,  58, 508,  60, 193,  51, 141, 516, 444, 431, 445, 186,\n",
       "       166, 273, 114, 267, 125, 156, 503, 428, 185, 474, 352, 215, 202,\n",
       "       346, 111,  10,   5, 553, 175, 257, 252,  28,  73, 355, 310,  42,\n",
       "        21, 537, 314,  77,  94,  64,  32, 212, 557, 216, 482, 163, 214,\n",
       "       201, 261, 123, 407, 459, 486, 393, 450, 512, 531, 132, 249, 317,\n",
       "       453, 377, 440, 196, 192, 117,  97, 338, 429, 382, 406,  12, 404,\n",
       "       417, 264, 383, 143, 259, 390,  17, 386,  54, 320, 342, 395, 149,\n",
       "       538, 548, 521, 420, 496, 546, 151, 490, 497, 411, 136, 489, 464,\n",
       "       242, 470, 461, 172, 392, 488, 305, 473, 388, 532, 336,  24, 493,\n",
       "       334,  27, 333, 162, 543, 414, 419, 484, 492, 413, 398, 542,  81,\n",
       "       402, 408, 223, 466])"
      ]
     },
     "execution_count": 87,
     "metadata": {},
     "output_type": "execute_result"
    }
   ],
   "source": [
    "sig_features = features[sorted_index2]\n",
    "sig_features"
   ]
  },
  {
   "cell_type": "code",
   "execution_count": null,
   "metadata": {},
   "outputs": [],
   "source": []
  }
 ],
 "metadata": {
  "kernelspec": {
   "display_name": "Python 3",
   "language": "python",
   "name": "python3"
  },
  "language_info": {
   "codemirror_mode": {
    "name": "ipython",
    "version": 3
   },
   "file_extension": ".py",
   "mimetype": "text/x-python",
   "name": "python",
   "nbconvert_exporter": "python",
   "pygments_lexer": "ipython3",
   "version": "3.8.3"
  },
  "toc": {
   "base_numbering": 1,
   "nav_menu": {},
   "number_sections": true,
   "sideBar": true,
   "skip_h1_title": false,
   "title_cell": "Table of Contents",
   "title_sidebar": "Contents",
   "toc_cell": false,
   "toc_position": {},
   "toc_section_display": true,
   "toc_window_display": false
  },
  "varInspector": {
   "cols": {
    "lenName": 16,
    "lenType": 16,
    "lenVar": 40
   },
   "kernels_config": {
    "python": {
     "delete_cmd_postfix": "",
     "delete_cmd_prefix": "del ",
     "library": "var_list.py",
     "varRefreshCmd": "print(var_dic_list())"
    },
    "r": {
     "delete_cmd_postfix": ") ",
     "delete_cmd_prefix": "rm(",
     "library": "var_list.r",
     "varRefreshCmd": "cat(var_dic_list()) "
    }
   },
   "types_to_exclude": [
    "module",
    "function",
    "builtin_function_or_method",
    "instance",
    "_Feature"
   ],
   "window_display": false
  }
 },
 "nbformat": 4,
 "nbformat_minor": 4
}
